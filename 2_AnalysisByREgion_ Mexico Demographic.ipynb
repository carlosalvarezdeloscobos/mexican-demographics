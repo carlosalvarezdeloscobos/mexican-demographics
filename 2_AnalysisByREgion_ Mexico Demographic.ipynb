{
 "cells": [
  {
   "cell_type": "markdown",
   "metadata": {},
   "source": [
    "# Demographics in Mexico 2020"
   ]
  },
  {
   "cell_type": "markdown",
   "metadata": {},
   "source": [
    "## 1. Dependencies and set up"
   ]
  },
  {
   "cell_type": "code",
   "execution_count": 1,
   "metadata": {},
   "outputs": [],
   "source": [
    "%matplotlib inline\n",
    "import matplotlib.pyplot as plt\n",
    "import numpy as np\n",
    "import pandas as pd\n",
    "import os \n",
    "pd.set_option('display.float_format', lambda x: '%.2f' % x)\n",
    "import seaborn as sns\n",
    "import math\n",
    "import statistics\n",
    "import scipy.stats"
   ]
  },
  {
   "cell_type": "code",
   "execution_count": 2,
   "metadata": {},
   "outputs": [],
   "source": [
    "#Download from: https://www.inegi.org.mx/programas/ccpv/2020/#Datos_abiertos\n",
    "\n",
    "path_2020 = os.path.join('..', 'demographic info', '3_cleanDatabase.csv')"
   ]
  },
  {
   "cell_type": "code",
   "execution_count": 3,
   "metadata": {},
   "outputs": [],
   "source": [
    "df_semifinal= pd.read_csv(path_2020,low_memory=False,encoding='utf-8-sig')\n",
    "\n",
    "#note: use utf-8-sig beacuse of spanish characters\n",
    "#https://datascience.stackexchange.com/questions/12343/pandas-read-csv-with-spanish-characters"
   ]
  },
  {
   "cell_type": "code",
   "execution_count": 4,
   "metadata": {},
   "outputs": [],
   "source": [
    "path_timeseries = os.path.join('..', 'demographic info', '4_timeline.csv')\n",
    "df_timeseries= pd.read_csv(path_timeseries,low_memory=False,encoding='utf-8-sig')"
   ]
  },
  {
   "cell_type": "code",
   "execution_count": 5,
   "metadata": {},
   "outputs": [
    {
     "data": {
      "text/html": [
       "<div>\n",
       "<style scoped>\n",
       "    .dataframe tbody tr th:only-of-type {\n",
       "        vertical-align: middle;\n",
       "    }\n",
       "\n",
       "    .dataframe tbody tr th {\n",
       "        vertical-align: top;\n",
       "    }\n",
       "\n",
       "    .dataframe thead th {\n",
       "        text-align: right;\n",
       "    }\n",
       "</style>\n",
       "<table border=\"1\" class=\"dataframe\">\n",
       "  <thead>\n",
       "    <tr style=\"text-align: right;\">\n",
       "      <th></th>\n",
       "      <th>Unnamed: 0</th>\n",
       "      <th>REGION</th>\n",
       "      <th>NOM_ENT_MUN</th>\n",
       "      <th>ENTIDAD</th>\n",
       "      <th>NOM_ENT</th>\n",
       "      <th>MUN</th>\n",
       "      <th>NOM_MUN</th>\n",
       "      <th>LOC</th>\n",
       "      <th>NOM_LOC</th>\n",
       "      <th>NOM_ENT_MUN_LOC</th>\n",
       "      <th>...</th>\n",
       "      <th>VPH_CEL</th>\n",
       "      <th>VPH_INTER</th>\n",
       "      <th>VPH_STVP</th>\n",
       "      <th>VPH_SPMVPI</th>\n",
       "      <th>VPH_CVJ</th>\n",
       "      <th>VPH_SINRTV</th>\n",
       "      <th>VPH_SINLTC</th>\n",
       "      <th>VPH_SINCINT</th>\n",
       "      <th>VPH_SINTIC</th>\n",
       "      <th>TAMLOC</th>\n",
       "    </tr>\n",
       "  </thead>\n",
       "  <tbody>\n",
       "    <tr>\n",
       "      <th>0</th>\n",
       "      <td>0</td>\n",
       "      <td>CENTRO NORTE</td>\n",
       "      <td>Aguascalientes , Aguascalientes</td>\n",
       "      <td>1</td>\n",
       "      <td>Aguascalientes</td>\n",
       "      <td>1</td>\n",
       "      <td>Aguascalientes</td>\n",
       "      <td>1</td>\n",
       "      <td>Aguascalientes</td>\n",
       "      <td>Aguascalientes , Aguascalientes , Aguascalientes</td>\n",
       "      <td>...</td>\n",
       "      <td>232793</td>\n",
       "      <td>169675</td>\n",
       "      <td>123670</td>\n",
       "      <td>77719</td>\n",
       "      <td>53589</td>\n",
       "      <td>2995</td>\n",
       "      <td>5984</td>\n",
       "      <td>63661</td>\n",
       "      <td>595</td>\n",
       "      <td>13</td>\n",
       "    </tr>\n",
       "    <tr>\n",
       "      <th>1</th>\n",
       "      <td>1</td>\n",
       "      <td>CENTRO NORTE</td>\n",
       "      <td>Aguascalientes , Aguascalientes</td>\n",
       "      <td>1</td>\n",
       "      <td>Aguascalientes</td>\n",
       "      <td>1</td>\n",
       "      <td>Aguascalientes</td>\n",
       "      <td>94</td>\n",
       "      <td>Granja Adelita</td>\n",
       "      <td>Aguascalientes , Aguascalientes , Granja Adelita</td>\n",
       "      <td>...</td>\n",
       "      <td>0</td>\n",
       "      <td>0</td>\n",
       "      <td>0</td>\n",
       "      <td>0</td>\n",
       "      <td>0</td>\n",
       "      <td>0</td>\n",
       "      <td>0</td>\n",
       "      <td>0</td>\n",
       "      <td>0</td>\n",
       "      <td>1</td>\n",
       "    </tr>\n",
       "    <tr>\n",
       "      <th>2</th>\n",
       "      <td>2</td>\n",
       "      <td>CENTRO NORTE</td>\n",
       "      <td>Aguascalientes , Aguascalientes</td>\n",
       "      <td>1</td>\n",
       "      <td>Aguascalientes</td>\n",
       "      <td>1</td>\n",
       "      <td>Aguascalientes</td>\n",
       "      <td>96</td>\n",
       "      <td>Agua Azul</td>\n",
       "      <td>Aguascalientes , Aguascalientes , Agua Azul</td>\n",
       "      <td>...</td>\n",
       "      <td>11</td>\n",
       "      <td>4</td>\n",
       "      <td>5</td>\n",
       "      <td>2</td>\n",
       "      <td>1</td>\n",
       "      <td>0</td>\n",
       "      <td>1</td>\n",
       "      <td>6</td>\n",
       "      <td>0</td>\n",
       "      <td>1</td>\n",
       "    </tr>\n",
       "    <tr>\n",
       "      <th>3</th>\n",
       "      <td>3</td>\n",
       "      <td>CENTRO NORTE</td>\n",
       "      <td>Aguascalientes , Aguascalientes</td>\n",
       "      <td>1</td>\n",
       "      <td>Aguascalientes</td>\n",
       "      <td>1</td>\n",
       "      <td>Aguascalientes</td>\n",
       "      <td>102</td>\n",
       "      <td>Los Arbolitos [Rancho]</td>\n",
       "      <td>Aguascalientes , Aguascalientes , Los Arbolito...</td>\n",
       "      <td>...</td>\n",
       "      <td>0</td>\n",
       "      <td>0</td>\n",
       "      <td>0</td>\n",
       "      <td>0</td>\n",
       "      <td>0</td>\n",
       "      <td>0</td>\n",
       "      <td>0</td>\n",
       "      <td>0</td>\n",
       "      <td>0</td>\n",
       "      <td>1</td>\n",
       "    </tr>\n",
       "    <tr>\n",
       "      <th>4</th>\n",
       "      <td>4</td>\n",
       "      <td>CENTRO NORTE</td>\n",
       "      <td>Aguascalientes , Aguascalientes</td>\n",
       "      <td>1</td>\n",
       "      <td>Aguascalientes</td>\n",
       "      <td>1</td>\n",
       "      <td>Aguascalientes</td>\n",
       "      <td>104</td>\n",
       "      <td>Ardillas de Abajo (Las Ardillas)</td>\n",
       "      <td>Aguascalientes , Aguascalientes , Ardillas de ...</td>\n",
       "      <td>...</td>\n",
       "      <td>0</td>\n",
       "      <td>0</td>\n",
       "      <td>0</td>\n",
       "      <td>0</td>\n",
       "      <td>0</td>\n",
       "      <td>0</td>\n",
       "      <td>0</td>\n",
       "      <td>0</td>\n",
       "      <td>0</td>\n",
       "      <td>1</td>\n",
       "    </tr>\n",
       "  </tbody>\n",
       "</table>\n",
       "<p>5 rows × 173 columns</p>\n",
       "</div>"
      ],
      "text/plain": [
       "   Unnamed: 0        REGION                      NOM_ENT_MUN  ENTIDAD  \\\n",
       "0           0  CENTRO NORTE  Aguascalientes , Aguascalientes        1   \n",
       "1           1  CENTRO NORTE  Aguascalientes , Aguascalientes        1   \n",
       "2           2  CENTRO NORTE  Aguascalientes , Aguascalientes        1   \n",
       "3           3  CENTRO NORTE  Aguascalientes , Aguascalientes        1   \n",
       "4           4  CENTRO NORTE  Aguascalientes , Aguascalientes        1   \n",
       "\n",
       "          NOM_ENT  MUN         NOM_MUN  LOC                           NOM_LOC  \\\n",
       "0  Aguascalientes    1  Aguascalientes    1                    Aguascalientes   \n",
       "1  Aguascalientes    1  Aguascalientes   94                    Granja Adelita   \n",
       "2  Aguascalientes    1  Aguascalientes   96                         Agua Azul   \n",
       "3  Aguascalientes    1  Aguascalientes  102            Los Arbolitos [Rancho]   \n",
       "4  Aguascalientes    1  Aguascalientes  104  Ardillas de Abajo (Las Ardillas)   \n",
       "\n",
       "                                     NOM_ENT_MUN_LOC  ... VPH_CEL VPH_INTER  \\\n",
       "0   Aguascalientes , Aguascalientes , Aguascalientes  ...  232793    169675   \n",
       "1   Aguascalientes , Aguascalientes , Granja Adelita  ...       0         0   \n",
       "2        Aguascalientes , Aguascalientes , Agua Azul  ...      11         4   \n",
       "3  Aguascalientes , Aguascalientes , Los Arbolito...  ...       0         0   \n",
       "4  Aguascalientes , Aguascalientes , Ardillas de ...  ...       0         0   \n",
       "\n",
       "  VPH_STVP  VPH_SPMVPI  VPH_CVJ  VPH_SINRTV  VPH_SINLTC  VPH_SINCINT  \\\n",
       "0   123670       77719    53589        2995        5984        63661   \n",
       "1        0           0        0           0           0            0   \n",
       "2        5           2        1           0           1            6   \n",
       "3        0           0        0           0           0            0   \n",
       "4        0           0        0           0           0            0   \n",
       "\n",
       "   VPH_SINTIC  TAMLOC  \n",
       "0         595      13  \n",
       "1           0       1  \n",
       "2           0       1  \n",
       "3           0       1  \n",
       "4           0       1  \n",
       "\n",
       "[5 rows x 173 columns]"
      ]
     },
     "execution_count": 5,
     "metadata": {},
     "output_type": "execute_result"
    }
   ],
   "source": [
    "df_semifinal.head()"
   ]
  },
  {
   "cell_type": "markdown",
   "metadata": {},
   "source": [
    "# 3 Analysis"
   ]
  },
  {
   "cell_type": "markdown",
   "metadata": {},
   "source": [
    "## 3.1 By region"
   ]
  },
  {
   "cell_type": "markdown",
   "metadata": {},
   "source": [
    "#### The analysis will start by region. There are 4 main regions: North, Centre North, Centre, South"
   ]
  },
  {
   "cell_type": "code",
   "execution_count": 6,
   "metadata": {},
   "outputs": [],
   "source": [
    "# STYLiNG PANDAS  https://pbpython.com/styling-pandas.html"
   ]
  },
  {
   "cell_type": "code",
   "execution_count": 7,
   "metadata": {},
   "outputs": [
    {
     "data": {
      "text/plain": [
       "(126014024, 64382441, 61234104, 3148337)"
      ]
     },
     "execution_count": 7,
     "metadata": {},
     "output_type": "execute_result"
    }
   ],
   "source": [
    "TotalPopulation = df_semifinal['POBTOT'].sum()\n",
    "TotalPopulationFemales = df_semifinal['POBFEM'].sum()\n",
    "TotalPopulationMales = df_semifinal['POBMAS'].sum()\n",
    "TotalPopulation,TotalPopulationFemales,TotalPopulationMales,TotalPopulationFemales-TotalPopulationMales"
   ]
  },
  {
   "cell_type": "code",
   "execution_count": 8,
   "metadata": {},
   "outputs": [
    {
     "data": {
      "text/html": [
       "<div>\n",
       "<style scoped>\n",
       "    .dataframe tbody tr th:only-of-type {\n",
       "        vertical-align: middle;\n",
       "    }\n",
       "\n",
       "    .dataframe tbody tr th {\n",
       "        vertical-align: top;\n",
       "    }\n",
       "\n",
       "    .dataframe thead th {\n",
       "        text-align: right;\n",
       "    }\n",
       "</style>\n",
       "<table border=\"1\" class=\"dataframe\">\n",
       "  <thead>\n",
       "    <tr style=\"text-align: right;\">\n",
       "      <th></th>\n",
       "      <th>REGION</th>\n",
       "      <th>Unnamed: 0</th>\n",
       "      <th>ENTIDAD</th>\n",
       "      <th>MUN</th>\n",
       "      <th>LOC</th>\n",
       "      <th>POBTOT</th>\n",
       "      <th>POBFEM</th>\n",
       "      <th>POBMAS</th>\n",
       "      <th>P_0A2</th>\n",
       "      <th>P_0A2_F</th>\n",
       "      <th>...</th>\n",
       "      <th>VPH_CEL</th>\n",
       "      <th>VPH_INTER</th>\n",
       "      <th>VPH_STVP</th>\n",
       "      <th>VPH_SPMVPI</th>\n",
       "      <th>VPH_CVJ</th>\n",
       "      <th>VPH_SINRTV</th>\n",
       "      <th>VPH_SINLTC</th>\n",
       "      <th>VPH_SINCINT</th>\n",
       "      <th>VPH_SINTIC</th>\n",
       "      <th>TAMLOC</th>\n",
       "    </tr>\n",
       "  </thead>\n",
       "  <tbody>\n",
       "    <tr>\n",
       "      <th>0</th>\n",
       "      <td>CENTRO</td>\n",
       "      <td>2845329246</td>\n",
       "      <td>484038</td>\n",
       "      <td>1511578</td>\n",
       "      <td>4368094</td>\n",
       "      <td>47718379</td>\n",
       "      <td>24651355</td>\n",
       "      <td>23024947</td>\n",
       "      <td>2032604</td>\n",
       "      <td>1004668</td>\n",
       "      <td>...</td>\n",
       "      <td>11529953</td>\n",
       "      <td>7301907</td>\n",
       "      <td>5178314</td>\n",
       "      <td>2631172</td>\n",
       "      <td>1676859</td>\n",
       "      <td>438054</td>\n",
       "      <td>962785</td>\n",
       "      <td>5082603</td>\n",
       "      <td>182181</td>\n",
       "      <td>55762</td>\n",
       "    </tr>\n",
       "    <tr>\n",
       "      <th>1</th>\n",
       "      <td>CENTRO NORTE</td>\n",
       "      <td>4897210990</td>\n",
       "      <td>848990</td>\n",
       "      <td>1674965</td>\n",
       "      <td>20092214</td>\n",
       "      <td>26591884</td>\n",
       "      <td>13496903</td>\n",
       "      <td>12965621</td>\n",
       "      <td>1283089</td>\n",
       "      <td>634216</td>\n",
       "      <td>...</td>\n",
       "      <td>6596933</td>\n",
       "      <td>3887337</td>\n",
       "      <td>3720564</td>\n",
       "      <td>1409434</td>\n",
       "      <td>909729</td>\n",
       "      <td>272648</td>\n",
       "      <td>492919</td>\n",
       "      <td>3062026</td>\n",
       "      <td>107805</td>\n",
       "      <td>65569</td>\n",
       "    </tr>\n",
       "    <tr>\n",
       "      <th>2</th>\n",
       "      <td>NORTE</td>\n",
       "      <td>3290115080</td>\n",
       "      <td>594014</td>\n",
       "      <td>989923</td>\n",
       "      <td>33631798</td>\n",
       "      <td>22914677</td>\n",
       "      <td>11457436</td>\n",
       "      <td>11351297</td>\n",
       "      <td>1007683</td>\n",
       "      <td>497278</td>\n",
       "      <td>...</td>\n",
       "      <td>6265206</td>\n",
       "      <td>4227269</td>\n",
       "      <td>3276472</td>\n",
       "      <td>1759453</td>\n",
       "      <td>1069056</td>\n",
       "      <td>203699</td>\n",
       "      <td>304467</td>\n",
       "      <td>2211144</td>\n",
       "      <td>65547</td>\n",
       "      <td>45570</td>\n",
       "    </tr>\n",
       "    <tr>\n",
       "      <th>3</th>\n",
       "      <td>SUR</td>\n",
       "      <td>6909491280</td>\n",
       "      <td>1243144</td>\n",
       "      <td>6906681</td>\n",
       "      <td>26643000</td>\n",
       "      <td>28789084</td>\n",
       "      <td>14776747</td>\n",
       "      <td>13892239</td>\n",
       "      <td>1423387</td>\n",
       "      <td>704113</td>\n",
       "      <td>...</td>\n",
       "      <td>6311220</td>\n",
       "      <td>2877268</td>\n",
       "      <td>3005669</td>\n",
       "      <td>813379</td>\n",
       "      <td>389635</td>\n",
       "      <td>853129</td>\n",
       "      <td>1386515</td>\n",
       "      <td>4671397</td>\n",
       "      <td>484901</td>\n",
       "      <td>96375</td>\n",
       "    </tr>\n",
       "  </tbody>\n",
       "</table>\n",
       "<p>4 rows × 165 columns</p>\n",
       "</div>"
      ],
      "text/plain": [
       "         REGION  Unnamed: 0  ENTIDAD      MUN       LOC    POBTOT    POBFEM  \\\n",
       "0        CENTRO  2845329246   484038  1511578   4368094  47718379  24651355   \n",
       "1  CENTRO NORTE  4897210990   848990  1674965  20092214  26591884  13496903   \n",
       "2         NORTE  3290115080   594014   989923  33631798  22914677  11457436   \n",
       "3           SUR  6909491280  1243144  6906681  26643000  28789084  14776747   \n",
       "\n",
       "     POBMAS    P_0A2  P_0A2_F  ...   VPH_CEL  VPH_INTER  VPH_STVP  VPH_SPMVPI  \\\n",
       "0  23024947  2032604  1004668  ...  11529953    7301907   5178314     2631172   \n",
       "1  12965621  1283089   634216  ...   6596933    3887337   3720564     1409434   \n",
       "2  11351297  1007683   497278  ...   6265206    4227269   3276472     1759453   \n",
       "3  13892239  1423387   704113  ...   6311220    2877268   3005669      813379   \n",
       "\n",
       "   VPH_CVJ  VPH_SINRTV  VPH_SINLTC  VPH_SINCINT  VPH_SINTIC  TAMLOC  \n",
       "0  1676859      438054      962785      5082603      182181   55762  \n",
       "1   909729      272648      492919      3062026      107805   65569  \n",
       "2  1069056      203699      304467      2211144       65547   45570  \n",
       "3   389635      853129     1386515      4671397      484901   96375  \n",
       "\n",
       "[4 rows x 165 columns]"
      ]
     },
     "execution_count": 8,
     "metadata": {},
     "output_type": "execute_result"
    }
   ],
   "source": [
    "df_byregion_II= df_semifinal.groupby('REGION',as_index=False).sum()\n",
    "df_byregion_II.head()"
   ]
  },
  {
   "cell_type": "code",
   "execution_count": 9,
   "metadata": {},
   "outputs": [],
   "source": [
    "#adding percentage of population vs. total population\n",
    "\n",
    "df_byregion_II[\"%TOTALPOP\"]=df_byregion_II[\"POBTOT\"]/TotalPopulation\n",
    "df_byregion_II[\"%TOTALFEM\"]=df_byregion_II[\"POBFEM\"]/TotalPopulation\n",
    "df_byregion_II[\"%TOTALMAS\"]=df_byregion_II[\"POBMAS\"]/TotalPopulation\n",
    "#df_byregion_II"
   ]
  },
  {
   "cell_type": "markdown",
   "metadata": {},
   "source": [
    "### 4.1.1 by gender and region"
   ]
  },
  {
   "cell_type": "code",
   "execution_count": 10,
   "metadata": {},
   "outputs": [
    {
     "data": {
      "text/plain": [
       "(0.5109148883302068, 0.4859308675040803, 0.024984020826126496)"
      ]
     },
     "execution_count": 10,
     "metadata": {},
     "output_type": "execute_result"
    }
   ],
   "source": [
    "Per_fem_OverPop= TotalPopulationFemales/TotalPopulation\n",
    "Per_mas_OverPop= TotalPopulationMales/TotalPopulation\n",
    "Per_fem_OverPop,Per_mas_OverPop,Per_fem_OverPop-Per_mas_OverPop"
   ]
  },
  {
   "cell_type": "code",
   "execution_count": 11,
   "metadata": {},
   "outputs": [
    {
     "data": {
      "text/html": [
       "<style  type=\"text/css\" >\n",
       "</style><table id=\"T_2af64b0a_f5f1_11eb_bc70_c4b301c5f59b\" ><thead>    <tr>        <th class=\"blank level0\" ></th>        <th class=\"col_heading level0 col0\" >REGION</th>        <th class=\"col_heading level0 col1\" >POBTOT</th>        <th class=\"col_heading level0 col2\" >POBFEM</th>        <th class=\"col_heading level0 col3\" >POBMAS</th>    </tr></thead><tbody>\n",
       "                <tr>\n",
       "                        <th id=\"T_2af64b0a_f5f1_11eb_bc70_c4b301c5f59blevel0_row0\" class=\"row_heading level0 row0\" >0</th>\n",
       "                        <td id=\"T_2af64b0a_f5f1_11eb_bc70_c4b301c5f59brow0_col0\" class=\"data row0 col0\" >CENTRO</td>\n",
       "                        <td id=\"T_2af64b0a_f5f1_11eb_bc70_c4b301c5f59brow0_col1\" class=\"data row0 col1\" >47,718,379</td>\n",
       "                        <td id=\"T_2af64b0a_f5f1_11eb_bc70_c4b301c5f59brow0_col2\" class=\"data row0 col2\" >24,651,355</td>\n",
       "                        <td id=\"T_2af64b0a_f5f1_11eb_bc70_c4b301c5f59brow0_col3\" class=\"data row0 col3\" >23,024,947</td>\n",
       "            </tr>\n",
       "            <tr>\n",
       "                        <th id=\"T_2af64b0a_f5f1_11eb_bc70_c4b301c5f59blevel0_row1\" class=\"row_heading level0 row1\" >1</th>\n",
       "                        <td id=\"T_2af64b0a_f5f1_11eb_bc70_c4b301c5f59brow1_col0\" class=\"data row1 col0\" >CENTRO NORTE</td>\n",
       "                        <td id=\"T_2af64b0a_f5f1_11eb_bc70_c4b301c5f59brow1_col1\" class=\"data row1 col1\" >26,591,884</td>\n",
       "                        <td id=\"T_2af64b0a_f5f1_11eb_bc70_c4b301c5f59brow1_col2\" class=\"data row1 col2\" >13,496,903</td>\n",
       "                        <td id=\"T_2af64b0a_f5f1_11eb_bc70_c4b301c5f59brow1_col3\" class=\"data row1 col3\" >12,965,621</td>\n",
       "            </tr>\n",
       "            <tr>\n",
       "                        <th id=\"T_2af64b0a_f5f1_11eb_bc70_c4b301c5f59blevel0_row2\" class=\"row_heading level0 row2\" >2</th>\n",
       "                        <td id=\"T_2af64b0a_f5f1_11eb_bc70_c4b301c5f59brow2_col0\" class=\"data row2 col0\" >NORTE</td>\n",
       "                        <td id=\"T_2af64b0a_f5f1_11eb_bc70_c4b301c5f59brow2_col1\" class=\"data row2 col1\" >22,914,677</td>\n",
       "                        <td id=\"T_2af64b0a_f5f1_11eb_bc70_c4b301c5f59brow2_col2\" class=\"data row2 col2\" >11,457,436</td>\n",
       "                        <td id=\"T_2af64b0a_f5f1_11eb_bc70_c4b301c5f59brow2_col3\" class=\"data row2 col3\" >11,351,297</td>\n",
       "            </tr>\n",
       "            <tr>\n",
       "                        <th id=\"T_2af64b0a_f5f1_11eb_bc70_c4b301c5f59blevel0_row3\" class=\"row_heading level0 row3\" >3</th>\n",
       "                        <td id=\"T_2af64b0a_f5f1_11eb_bc70_c4b301c5f59brow3_col0\" class=\"data row3 col0\" >SUR</td>\n",
       "                        <td id=\"T_2af64b0a_f5f1_11eb_bc70_c4b301c5f59brow3_col1\" class=\"data row3 col1\" >28,789,084</td>\n",
       "                        <td id=\"T_2af64b0a_f5f1_11eb_bc70_c4b301c5f59brow3_col2\" class=\"data row3 col2\" >14,776,747</td>\n",
       "                        <td id=\"T_2af64b0a_f5f1_11eb_bc70_c4b301c5f59brow3_col3\" class=\"data row3 col3\" >13,892,239</td>\n",
       "            </tr>\n",
       "    </tbody></table>"
      ],
      "text/plain": [
       "<pandas.io.formats.style.Styler at 0x7fcc16c2ea00>"
      ]
     },
     "execution_count": 11,
     "metadata": {},
     "output_type": "execute_result"
    }
   ],
   "source": [
    "df_byregion_II_summary=df_byregion_II[[\"REGION\",'POBTOT',\"POBFEM\",\"POBMAS\"]]\n",
    "df_byregion_II_summary.style.format({\"POBTOT\": \"{:,}\", \n",
    "                          \"POBFEM\": \"{:,}\", \n",
    "                          \"POBMAS\": \"{:,}\"})\n"
   ]
  },
  {
   "cell_type": "code",
   "execution_count": 12,
   "metadata": {},
   "outputs": [],
   "source": [
    "#import squarify    # pip install squarify (algorithm for treemap)\n",
    "# plot it\n",
    "\n",
    "#color = ['red', 'green', 'blue', 'orange']\n",
    "#sizes=df_byregion_II_summary['POBTOT']\n",
    "#squarify.plot(sizes, label=df_byregion_II_summary['REGION'], alpha=.8,color=color )\n",
    "#plt.axis('off')\n",
    "#plt.show()\n",
    "\n"
   ]
  },
  {
   "cell_type": "code",
   "execution_count": 87,
   "metadata": {},
   "outputs": [
    {
     "data": {
      "application/vnd.plotly.v1+json": {
       "config": {
        "plotlyServerURL": "https://plot.ly"
       },
       "data": [
        {
         "branchvalues": "total",
         "customdata": [
          [
           "CENTRO"
          ],
          [
           "CENTRO NORTE"
          ],
          [
           "NORTE"
          ],
          [
           "SUR"
          ],
          [
           "(?)"
          ]
         ],
         "domain": {
          "x": [
           0,
           1
          ],
          "y": [
           0,
           1
          ]
         },
         "hovertemplate": "labels=%{label}<br>POBTOT=%{value}<br>parent=%{parent}<br>id=%{id}<br>REGION=%{customdata[0]}<extra></extra>",
         "ids": [
          "Mexico/CENTRO",
          "Mexico/CENTRO NORTE",
          "Mexico/NORTE",
          "Mexico/SUR",
          "Mexico"
         ],
         "labels": [
          "CENTRO",
          "CENTRO NORTE",
          "NORTE",
          "SUR",
          "Mexico"
         ],
         "marker": {
          "colors": [
           "darkcyan",
           "cadetblue",
           "teal",
           "lightcyan",
           "lightgrey"
          ]
         },
         "name": "",
         "parents": [
          "Mexico",
          "Mexico",
          "Mexico",
          "Mexico",
          ""
         ],
         "type": "treemap",
         "values": [
          47718379,
          26591884,
          22914677,
          28789084,
          126014024
         ]
        }
       ],
       "layout": {
        "legend": {
         "tracegroupgap": 0
        },
        "margin": {
         "b": 25,
         "l": 30,
         "r": 50,
         "t": 50
        },
        "template": {
         "data": {
          "bar": [
           {
            "error_x": {
             "color": "#2a3f5f"
            },
            "error_y": {
             "color": "#2a3f5f"
            },
            "marker": {
             "line": {
              "color": "#E5ECF6",
              "width": 0.5
             },
             "pattern": {
              "fillmode": "overlay",
              "size": 10,
              "solidity": 0.2
             }
            },
            "type": "bar"
           }
          ],
          "barpolar": [
           {
            "marker": {
             "line": {
              "color": "#E5ECF6",
              "width": 0.5
             },
             "pattern": {
              "fillmode": "overlay",
              "size": 10,
              "solidity": 0.2
             }
            },
            "type": "barpolar"
           }
          ],
          "carpet": [
           {
            "aaxis": {
             "endlinecolor": "#2a3f5f",
             "gridcolor": "white",
             "linecolor": "white",
             "minorgridcolor": "white",
             "startlinecolor": "#2a3f5f"
            },
            "baxis": {
             "endlinecolor": "#2a3f5f",
             "gridcolor": "white",
             "linecolor": "white",
             "minorgridcolor": "white",
             "startlinecolor": "#2a3f5f"
            },
            "type": "carpet"
           }
          ],
          "choropleth": [
           {
            "colorbar": {
             "outlinewidth": 0,
             "ticks": ""
            },
            "type": "choropleth"
           }
          ],
          "contour": [
           {
            "colorbar": {
             "outlinewidth": 0,
             "ticks": ""
            },
            "colorscale": [
             [
              0,
              "#0d0887"
             ],
             [
              0.1111111111111111,
              "#46039f"
             ],
             [
              0.2222222222222222,
              "#7201a8"
             ],
             [
              0.3333333333333333,
              "#9c179e"
             ],
             [
              0.4444444444444444,
              "#bd3786"
             ],
             [
              0.5555555555555556,
              "#d8576b"
             ],
             [
              0.6666666666666666,
              "#ed7953"
             ],
             [
              0.7777777777777778,
              "#fb9f3a"
             ],
             [
              0.8888888888888888,
              "#fdca26"
             ],
             [
              1,
              "#f0f921"
             ]
            ],
            "type": "contour"
           }
          ],
          "contourcarpet": [
           {
            "colorbar": {
             "outlinewidth": 0,
             "ticks": ""
            },
            "type": "contourcarpet"
           }
          ],
          "heatmap": [
           {
            "colorbar": {
             "outlinewidth": 0,
             "ticks": ""
            },
            "colorscale": [
             [
              0,
              "#0d0887"
             ],
             [
              0.1111111111111111,
              "#46039f"
             ],
             [
              0.2222222222222222,
              "#7201a8"
             ],
             [
              0.3333333333333333,
              "#9c179e"
             ],
             [
              0.4444444444444444,
              "#bd3786"
             ],
             [
              0.5555555555555556,
              "#d8576b"
             ],
             [
              0.6666666666666666,
              "#ed7953"
             ],
             [
              0.7777777777777778,
              "#fb9f3a"
             ],
             [
              0.8888888888888888,
              "#fdca26"
             ],
             [
              1,
              "#f0f921"
             ]
            ],
            "type": "heatmap"
           }
          ],
          "heatmapgl": [
           {
            "colorbar": {
             "outlinewidth": 0,
             "ticks": ""
            },
            "colorscale": [
             [
              0,
              "#0d0887"
             ],
             [
              0.1111111111111111,
              "#46039f"
             ],
             [
              0.2222222222222222,
              "#7201a8"
             ],
             [
              0.3333333333333333,
              "#9c179e"
             ],
             [
              0.4444444444444444,
              "#bd3786"
             ],
             [
              0.5555555555555556,
              "#d8576b"
             ],
             [
              0.6666666666666666,
              "#ed7953"
             ],
             [
              0.7777777777777778,
              "#fb9f3a"
             ],
             [
              0.8888888888888888,
              "#fdca26"
             ],
             [
              1,
              "#f0f921"
             ]
            ],
            "type": "heatmapgl"
           }
          ],
          "histogram": [
           {
            "marker": {
             "pattern": {
              "fillmode": "overlay",
              "size": 10,
              "solidity": 0.2
             }
            },
            "type": "histogram"
           }
          ],
          "histogram2d": [
           {
            "colorbar": {
             "outlinewidth": 0,
             "ticks": ""
            },
            "colorscale": [
             [
              0,
              "#0d0887"
             ],
             [
              0.1111111111111111,
              "#46039f"
             ],
             [
              0.2222222222222222,
              "#7201a8"
             ],
             [
              0.3333333333333333,
              "#9c179e"
             ],
             [
              0.4444444444444444,
              "#bd3786"
             ],
             [
              0.5555555555555556,
              "#d8576b"
             ],
             [
              0.6666666666666666,
              "#ed7953"
             ],
             [
              0.7777777777777778,
              "#fb9f3a"
             ],
             [
              0.8888888888888888,
              "#fdca26"
             ],
             [
              1,
              "#f0f921"
             ]
            ],
            "type": "histogram2d"
           }
          ],
          "histogram2dcontour": [
           {
            "colorbar": {
             "outlinewidth": 0,
             "ticks": ""
            },
            "colorscale": [
             [
              0,
              "#0d0887"
             ],
             [
              0.1111111111111111,
              "#46039f"
             ],
             [
              0.2222222222222222,
              "#7201a8"
             ],
             [
              0.3333333333333333,
              "#9c179e"
             ],
             [
              0.4444444444444444,
              "#bd3786"
             ],
             [
              0.5555555555555556,
              "#d8576b"
             ],
             [
              0.6666666666666666,
              "#ed7953"
             ],
             [
              0.7777777777777778,
              "#fb9f3a"
             ],
             [
              0.8888888888888888,
              "#fdca26"
             ],
             [
              1,
              "#f0f921"
             ]
            ],
            "type": "histogram2dcontour"
           }
          ],
          "mesh3d": [
           {
            "colorbar": {
             "outlinewidth": 0,
             "ticks": ""
            },
            "type": "mesh3d"
           }
          ],
          "parcoords": [
           {
            "line": {
             "colorbar": {
              "outlinewidth": 0,
              "ticks": ""
             }
            },
            "type": "parcoords"
           }
          ],
          "pie": [
           {
            "automargin": true,
            "type": "pie"
           }
          ],
          "scatter": [
           {
            "marker": {
             "colorbar": {
              "outlinewidth": 0,
              "ticks": ""
             }
            },
            "type": "scatter"
           }
          ],
          "scatter3d": [
           {
            "line": {
             "colorbar": {
              "outlinewidth": 0,
              "ticks": ""
             }
            },
            "marker": {
             "colorbar": {
              "outlinewidth": 0,
              "ticks": ""
             }
            },
            "type": "scatter3d"
           }
          ],
          "scattercarpet": [
           {
            "marker": {
             "colorbar": {
              "outlinewidth": 0,
              "ticks": ""
             }
            },
            "type": "scattercarpet"
           }
          ],
          "scattergeo": [
           {
            "marker": {
             "colorbar": {
              "outlinewidth": 0,
              "ticks": ""
             }
            },
            "type": "scattergeo"
           }
          ],
          "scattergl": [
           {
            "marker": {
             "colorbar": {
              "outlinewidth": 0,
              "ticks": ""
             }
            },
            "type": "scattergl"
           }
          ],
          "scattermapbox": [
           {
            "marker": {
             "colorbar": {
              "outlinewidth": 0,
              "ticks": ""
             }
            },
            "type": "scattermapbox"
           }
          ],
          "scatterpolar": [
           {
            "marker": {
             "colorbar": {
              "outlinewidth": 0,
              "ticks": ""
             }
            },
            "type": "scatterpolar"
           }
          ],
          "scatterpolargl": [
           {
            "marker": {
             "colorbar": {
              "outlinewidth": 0,
              "ticks": ""
             }
            },
            "type": "scatterpolargl"
           }
          ],
          "scatterternary": [
           {
            "marker": {
             "colorbar": {
              "outlinewidth": 0,
              "ticks": ""
             }
            },
            "type": "scatterternary"
           }
          ],
          "surface": [
           {
            "colorbar": {
             "outlinewidth": 0,
             "ticks": ""
            },
            "colorscale": [
             [
              0,
              "#0d0887"
             ],
             [
              0.1111111111111111,
              "#46039f"
             ],
             [
              0.2222222222222222,
              "#7201a8"
             ],
             [
              0.3333333333333333,
              "#9c179e"
             ],
             [
              0.4444444444444444,
              "#bd3786"
             ],
             [
              0.5555555555555556,
              "#d8576b"
             ],
             [
              0.6666666666666666,
              "#ed7953"
             ],
             [
              0.7777777777777778,
              "#fb9f3a"
             ],
             [
              0.8888888888888888,
              "#fdca26"
             ],
             [
              1,
              "#f0f921"
             ]
            ],
            "type": "surface"
           }
          ],
          "table": [
           {
            "cells": {
             "fill": {
              "color": "#EBF0F8"
             },
             "line": {
              "color": "white"
             }
            },
            "header": {
             "fill": {
              "color": "#C8D4E3"
             },
             "line": {
              "color": "white"
             }
            },
            "type": "table"
           }
          ]
         },
         "layout": {
          "annotationdefaults": {
           "arrowcolor": "#2a3f5f",
           "arrowhead": 0,
           "arrowwidth": 1
          },
          "autotypenumbers": "strict",
          "coloraxis": {
           "colorbar": {
            "outlinewidth": 0,
            "ticks": ""
           }
          },
          "colorscale": {
           "diverging": [
            [
             0,
             "#8e0152"
            ],
            [
             0.1,
             "#c51b7d"
            ],
            [
             0.2,
             "#de77ae"
            ],
            [
             0.3,
             "#f1b6da"
            ],
            [
             0.4,
             "#fde0ef"
            ],
            [
             0.5,
             "#f7f7f7"
            ],
            [
             0.6,
             "#e6f5d0"
            ],
            [
             0.7,
             "#b8e186"
            ],
            [
             0.8,
             "#7fbc41"
            ],
            [
             0.9,
             "#4d9221"
            ],
            [
             1,
             "#276419"
            ]
           ],
           "sequential": [
            [
             0,
             "#0d0887"
            ],
            [
             0.1111111111111111,
             "#46039f"
            ],
            [
             0.2222222222222222,
             "#7201a8"
            ],
            [
             0.3333333333333333,
             "#9c179e"
            ],
            [
             0.4444444444444444,
             "#bd3786"
            ],
            [
             0.5555555555555556,
             "#d8576b"
            ],
            [
             0.6666666666666666,
             "#ed7953"
            ],
            [
             0.7777777777777778,
             "#fb9f3a"
            ],
            [
             0.8888888888888888,
             "#fdca26"
            ],
            [
             1,
             "#f0f921"
            ]
           ],
           "sequentialminus": [
            [
             0,
             "#0d0887"
            ],
            [
             0.1111111111111111,
             "#46039f"
            ],
            [
             0.2222222222222222,
             "#7201a8"
            ],
            [
             0.3333333333333333,
             "#9c179e"
            ],
            [
             0.4444444444444444,
             "#bd3786"
            ],
            [
             0.5555555555555556,
             "#d8576b"
            ],
            [
             0.6666666666666666,
             "#ed7953"
            ],
            [
             0.7777777777777778,
             "#fb9f3a"
            ],
            [
             0.8888888888888888,
             "#fdca26"
            ],
            [
             1,
             "#f0f921"
            ]
           ]
          },
          "colorway": [
           "#636efa",
           "#EF553B",
           "#00cc96",
           "#ab63fa",
           "#FFA15A",
           "#19d3f3",
           "#FF6692",
           "#B6E880",
           "#FF97FF",
           "#FECB52"
          ],
          "font": {
           "color": "#2a3f5f"
          },
          "geo": {
           "bgcolor": "white",
           "lakecolor": "white",
           "landcolor": "#E5ECF6",
           "showlakes": true,
           "showland": true,
           "subunitcolor": "white"
          },
          "hoverlabel": {
           "align": "left"
          },
          "hovermode": "closest",
          "mapbox": {
           "style": "light"
          },
          "paper_bgcolor": "white",
          "plot_bgcolor": "#E5ECF6",
          "polar": {
           "angularaxis": {
            "gridcolor": "white",
            "linecolor": "white",
            "ticks": ""
           },
           "bgcolor": "#E5ECF6",
           "radialaxis": {
            "gridcolor": "white",
            "linecolor": "white",
            "ticks": ""
           }
          },
          "scene": {
           "xaxis": {
            "backgroundcolor": "#E5ECF6",
            "gridcolor": "white",
            "gridwidth": 2,
            "linecolor": "white",
            "showbackground": true,
            "ticks": "",
            "zerolinecolor": "white"
           },
           "yaxis": {
            "backgroundcolor": "#E5ECF6",
            "gridcolor": "white",
            "gridwidth": 2,
            "linecolor": "white",
            "showbackground": true,
            "ticks": "",
            "zerolinecolor": "white"
           },
           "zaxis": {
            "backgroundcolor": "#E5ECF6",
            "gridcolor": "white",
            "gridwidth": 2,
            "linecolor": "white",
            "showbackground": true,
            "ticks": "",
            "zerolinecolor": "white"
           }
          },
          "shapedefaults": {
           "line": {
            "color": "#2a3f5f"
           }
          },
          "ternary": {
           "aaxis": {
            "gridcolor": "white",
            "linecolor": "white",
            "ticks": ""
           },
           "baxis": {
            "gridcolor": "white",
            "linecolor": "white",
            "ticks": ""
           },
           "bgcolor": "#E5ECF6",
           "caxis": {
            "gridcolor": "white",
            "linecolor": "white",
            "ticks": ""
           }
          },
          "title": {
           "x": 0.05
          },
          "xaxis": {
           "automargin": true,
           "gridcolor": "white",
           "linecolor": "white",
           "ticks": "",
           "title": {
            "standoff": 15
           },
           "zerolinecolor": "white",
           "zerolinewidth": 2
          },
          "yaxis": {
           "automargin": true,
           "gridcolor": "white",
           "linecolor": "white",
           "ticks": "",
           "title": {
            "standoff": 15
           },
           "zerolinecolor": "white",
           "zerolinewidth": 2
          }
         }
        }
       }
      },
      "text/html": [
       "<div>                            <div id=\"003fa2d6-cb0f-4eef-8ec9-290853bfe9df\" class=\"plotly-graph-div\" style=\"height:525px; width:100%;\"></div>            <script type=\"text/javascript\">                require([\"plotly\"], function(Plotly) {                    window.PLOTLYENV=window.PLOTLYENV || {};                                    if (document.getElementById(\"003fa2d6-cb0f-4eef-8ec9-290853bfe9df\")) {                    Plotly.newPlot(                        \"003fa2d6-cb0f-4eef-8ec9-290853bfe9df\",                        [{\"branchvalues\":\"total\",\"customdata\":[[\"CENTRO\"],[\"CENTRO NORTE\"],[\"NORTE\"],[\"SUR\"],[\"(?)\"]],\"domain\":{\"x\":[0.0,1.0],\"y\":[0.0,1.0]},\"hovertemplate\":\"labels=%{label}<br>POBTOT=%{value}<br>parent=%{parent}<br>id=%{id}<br>REGION=%{customdata[0]}<extra></extra>\",\"ids\":[\"Mexico/CENTRO\",\"Mexico/CENTRO NORTE\",\"Mexico/NORTE\",\"Mexico/SUR\",\"Mexico\"],\"labels\":[\"CENTRO\",\"CENTRO NORTE\",\"NORTE\",\"SUR\",\"Mexico\"],\"marker\":{\"colors\":[\"darkcyan\",\"cadetblue\",\"teal\",\"lightcyan\",\"lightgrey\"]},\"name\":\"\",\"parents\":[\"Mexico\",\"Mexico\",\"Mexico\",\"Mexico\",\"\"],\"type\":\"treemap\",\"values\":[47718379,26591884,22914677,28789084,126014024]}],                        {\"legend\":{\"tracegroupgap\":0},\"margin\":{\"b\":25,\"l\":30,\"r\":50,\"t\":50},\"template\":{\"data\":{\"bar\":[{\"error_x\":{\"color\":\"#2a3f5f\"},\"error_y\":{\"color\":\"#2a3f5f\"},\"marker\":{\"line\":{\"color\":\"#E5ECF6\",\"width\":0.5},\"pattern\":{\"fillmode\":\"overlay\",\"size\":10,\"solidity\":0.2}},\"type\":\"bar\"}],\"barpolar\":[{\"marker\":{\"line\":{\"color\":\"#E5ECF6\",\"width\":0.5},\"pattern\":{\"fillmode\":\"overlay\",\"size\":10,\"solidity\":0.2}},\"type\":\"barpolar\"}],\"carpet\":[{\"aaxis\":{\"endlinecolor\":\"#2a3f5f\",\"gridcolor\":\"white\",\"linecolor\":\"white\",\"minorgridcolor\":\"white\",\"startlinecolor\":\"#2a3f5f\"},\"baxis\":{\"endlinecolor\":\"#2a3f5f\",\"gridcolor\":\"white\",\"linecolor\":\"white\",\"minorgridcolor\":\"white\",\"startlinecolor\":\"#2a3f5f\"},\"type\":\"carpet\"}],\"choropleth\":[{\"colorbar\":{\"outlinewidth\":0,\"ticks\":\"\"},\"type\":\"choropleth\"}],\"contour\":[{\"colorbar\":{\"outlinewidth\":0,\"ticks\":\"\"},\"colorscale\":[[0.0,\"#0d0887\"],[0.1111111111111111,\"#46039f\"],[0.2222222222222222,\"#7201a8\"],[0.3333333333333333,\"#9c179e\"],[0.4444444444444444,\"#bd3786\"],[0.5555555555555556,\"#d8576b\"],[0.6666666666666666,\"#ed7953\"],[0.7777777777777778,\"#fb9f3a\"],[0.8888888888888888,\"#fdca26\"],[1.0,\"#f0f921\"]],\"type\":\"contour\"}],\"contourcarpet\":[{\"colorbar\":{\"outlinewidth\":0,\"ticks\":\"\"},\"type\":\"contourcarpet\"}],\"heatmap\":[{\"colorbar\":{\"outlinewidth\":0,\"ticks\":\"\"},\"colorscale\":[[0.0,\"#0d0887\"],[0.1111111111111111,\"#46039f\"],[0.2222222222222222,\"#7201a8\"],[0.3333333333333333,\"#9c179e\"],[0.4444444444444444,\"#bd3786\"],[0.5555555555555556,\"#d8576b\"],[0.6666666666666666,\"#ed7953\"],[0.7777777777777778,\"#fb9f3a\"],[0.8888888888888888,\"#fdca26\"],[1.0,\"#f0f921\"]],\"type\":\"heatmap\"}],\"heatmapgl\":[{\"colorbar\":{\"outlinewidth\":0,\"ticks\":\"\"},\"colorscale\":[[0.0,\"#0d0887\"],[0.1111111111111111,\"#46039f\"],[0.2222222222222222,\"#7201a8\"],[0.3333333333333333,\"#9c179e\"],[0.4444444444444444,\"#bd3786\"],[0.5555555555555556,\"#d8576b\"],[0.6666666666666666,\"#ed7953\"],[0.7777777777777778,\"#fb9f3a\"],[0.8888888888888888,\"#fdca26\"],[1.0,\"#f0f921\"]],\"type\":\"heatmapgl\"}],\"histogram\":[{\"marker\":{\"pattern\":{\"fillmode\":\"overlay\",\"size\":10,\"solidity\":0.2}},\"type\":\"histogram\"}],\"histogram2d\":[{\"colorbar\":{\"outlinewidth\":0,\"ticks\":\"\"},\"colorscale\":[[0.0,\"#0d0887\"],[0.1111111111111111,\"#46039f\"],[0.2222222222222222,\"#7201a8\"],[0.3333333333333333,\"#9c179e\"],[0.4444444444444444,\"#bd3786\"],[0.5555555555555556,\"#d8576b\"],[0.6666666666666666,\"#ed7953\"],[0.7777777777777778,\"#fb9f3a\"],[0.8888888888888888,\"#fdca26\"],[1.0,\"#f0f921\"]],\"type\":\"histogram2d\"}],\"histogram2dcontour\":[{\"colorbar\":{\"outlinewidth\":0,\"ticks\":\"\"},\"colorscale\":[[0.0,\"#0d0887\"],[0.1111111111111111,\"#46039f\"],[0.2222222222222222,\"#7201a8\"],[0.3333333333333333,\"#9c179e\"],[0.4444444444444444,\"#bd3786\"],[0.5555555555555556,\"#d8576b\"],[0.6666666666666666,\"#ed7953\"],[0.7777777777777778,\"#fb9f3a\"],[0.8888888888888888,\"#fdca26\"],[1.0,\"#f0f921\"]],\"type\":\"histogram2dcontour\"}],\"mesh3d\":[{\"colorbar\":{\"outlinewidth\":0,\"ticks\":\"\"},\"type\":\"mesh3d\"}],\"parcoords\":[{\"line\":{\"colorbar\":{\"outlinewidth\":0,\"ticks\":\"\"}},\"type\":\"parcoords\"}],\"pie\":[{\"automargin\":true,\"type\":\"pie\"}],\"scatter\":[{\"marker\":{\"colorbar\":{\"outlinewidth\":0,\"ticks\":\"\"}},\"type\":\"scatter\"}],\"scatter3d\":[{\"line\":{\"colorbar\":{\"outlinewidth\":0,\"ticks\":\"\"}},\"marker\":{\"colorbar\":{\"outlinewidth\":0,\"ticks\":\"\"}},\"type\":\"scatter3d\"}],\"scattercarpet\":[{\"marker\":{\"colorbar\":{\"outlinewidth\":0,\"ticks\":\"\"}},\"type\":\"scattercarpet\"}],\"scattergeo\":[{\"marker\":{\"colorbar\":{\"outlinewidth\":0,\"ticks\":\"\"}},\"type\":\"scattergeo\"}],\"scattergl\":[{\"marker\":{\"colorbar\":{\"outlinewidth\":0,\"ticks\":\"\"}},\"type\":\"scattergl\"}],\"scattermapbox\":[{\"marker\":{\"colorbar\":{\"outlinewidth\":0,\"ticks\":\"\"}},\"type\":\"scattermapbox\"}],\"scatterpolar\":[{\"marker\":{\"colorbar\":{\"outlinewidth\":0,\"ticks\":\"\"}},\"type\":\"scatterpolar\"}],\"scatterpolargl\":[{\"marker\":{\"colorbar\":{\"outlinewidth\":0,\"ticks\":\"\"}},\"type\":\"scatterpolargl\"}],\"scatterternary\":[{\"marker\":{\"colorbar\":{\"outlinewidth\":0,\"ticks\":\"\"}},\"type\":\"scatterternary\"}],\"surface\":[{\"colorbar\":{\"outlinewidth\":0,\"ticks\":\"\"},\"colorscale\":[[0.0,\"#0d0887\"],[0.1111111111111111,\"#46039f\"],[0.2222222222222222,\"#7201a8\"],[0.3333333333333333,\"#9c179e\"],[0.4444444444444444,\"#bd3786\"],[0.5555555555555556,\"#d8576b\"],[0.6666666666666666,\"#ed7953\"],[0.7777777777777778,\"#fb9f3a\"],[0.8888888888888888,\"#fdca26\"],[1.0,\"#f0f921\"]],\"type\":\"surface\"}],\"table\":[{\"cells\":{\"fill\":{\"color\":\"#EBF0F8\"},\"line\":{\"color\":\"white\"}},\"header\":{\"fill\":{\"color\":\"#C8D4E3\"},\"line\":{\"color\":\"white\"}},\"type\":\"table\"}]},\"layout\":{\"annotationdefaults\":{\"arrowcolor\":\"#2a3f5f\",\"arrowhead\":0,\"arrowwidth\":1},\"autotypenumbers\":\"strict\",\"coloraxis\":{\"colorbar\":{\"outlinewidth\":0,\"ticks\":\"\"}},\"colorscale\":{\"diverging\":[[0,\"#8e0152\"],[0.1,\"#c51b7d\"],[0.2,\"#de77ae\"],[0.3,\"#f1b6da\"],[0.4,\"#fde0ef\"],[0.5,\"#f7f7f7\"],[0.6,\"#e6f5d0\"],[0.7,\"#b8e186\"],[0.8,\"#7fbc41\"],[0.9,\"#4d9221\"],[1,\"#276419\"]],\"sequential\":[[0.0,\"#0d0887\"],[0.1111111111111111,\"#46039f\"],[0.2222222222222222,\"#7201a8\"],[0.3333333333333333,\"#9c179e\"],[0.4444444444444444,\"#bd3786\"],[0.5555555555555556,\"#d8576b\"],[0.6666666666666666,\"#ed7953\"],[0.7777777777777778,\"#fb9f3a\"],[0.8888888888888888,\"#fdca26\"],[1.0,\"#f0f921\"]],\"sequentialminus\":[[0.0,\"#0d0887\"],[0.1111111111111111,\"#46039f\"],[0.2222222222222222,\"#7201a8\"],[0.3333333333333333,\"#9c179e\"],[0.4444444444444444,\"#bd3786\"],[0.5555555555555556,\"#d8576b\"],[0.6666666666666666,\"#ed7953\"],[0.7777777777777778,\"#fb9f3a\"],[0.8888888888888888,\"#fdca26\"],[1.0,\"#f0f921\"]]},\"colorway\":[\"#636efa\",\"#EF553B\",\"#00cc96\",\"#ab63fa\",\"#FFA15A\",\"#19d3f3\",\"#FF6692\",\"#B6E880\",\"#FF97FF\",\"#FECB52\"],\"font\":{\"color\":\"#2a3f5f\"},\"geo\":{\"bgcolor\":\"white\",\"lakecolor\":\"white\",\"landcolor\":\"#E5ECF6\",\"showlakes\":true,\"showland\":true,\"subunitcolor\":\"white\"},\"hoverlabel\":{\"align\":\"left\"},\"hovermode\":\"closest\",\"mapbox\":{\"style\":\"light\"},\"paper_bgcolor\":\"white\",\"plot_bgcolor\":\"#E5ECF6\",\"polar\":{\"angularaxis\":{\"gridcolor\":\"white\",\"linecolor\":\"white\",\"ticks\":\"\"},\"bgcolor\":\"#E5ECF6\",\"radialaxis\":{\"gridcolor\":\"white\",\"linecolor\":\"white\",\"ticks\":\"\"}},\"scene\":{\"xaxis\":{\"backgroundcolor\":\"#E5ECF6\",\"gridcolor\":\"white\",\"gridwidth\":2,\"linecolor\":\"white\",\"showbackground\":true,\"ticks\":\"\",\"zerolinecolor\":\"white\"},\"yaxis\":{\"backgroundcolor\":\"#E5ECF6\",\"gridcolor\":\"white\",\"gridwidth\":2,\"linecolor\":\"white\",\"showbackground\":true,\"ticks\":\"\",\"zerolinecolor\":\"white\"},\"zaxis\":{\"backgroundcolor\":\"#E5ECF6\",\"gridcolor\":\"white\",\"gridwidth\":2,\"linecolor\":\"white\",\"showbackground\":true,\"ticks\":\"\",\"zerolinecolor\":\"white\"}},\"shapedefaults\":{\"line\":{\"color\":\"#2a3f5f\"}},\"ternary\":{\"aaxis\":{\"gridcolor\":\"white\",\"linecolor\":\"white\",\"ticks\":\"\"},\"baxis\":{\"gridcolor\":\"white\",\"linecolor\":\"white\",\"ticks\":\"\"},\"bgcolor\":\"#E5ECF6\",\"caxis\":{\"gridcolor\":\"white\",\"linecolor\":\"white\",\"ticks\":\"\"}},\"title\":{\"x\":0.05},\"xaxis\":{\"automargin\":true,\"gridcolor\":\"white\",\"linecolor\":\"white\",\"ticks\":\"\",\"title\":{\"standoff\":15},\"zerolinecolor\":\"white\",\"zerolinewidth\":2},\"yaxis\":{\"automargin\":true,\"gridcolor\":\"white\",\"linecolor\":\"white\",\"ticks\":\"\",\"title\":{\"standoff\":15},\"zerolinecolor\":\"white\",\"zerolinewidth\":2}}}},                        {\"responsive\": true}                    ).then(function(){\n",
       "                            \n",
       "var gd = document.getElementById('003fa2d6-cb0f-4eef-8ec9-290853bfe9df');\n",
       "var x = new MutationObserver(function (mutations, observer) {{\n",
       "        var display = window.getComputedStyle(gd).display;\n",
       "        if (!display || display === 'none') {{\n",
       "            console.log([gd, 'removed!']);\n",
       "            Plotly.purge(gd);\n",
       "            observer.disconnect();\n",
       "        }}\n",
       "}});\n",
       "\n",
       "// Listen for the removal of the full notebook cells\n",
       "var notebookContainer = gd.closest('#notebook-container');\n",
       "if (notebookContainer) {{\n",
       "    x.observe(notebookContainer, {childList: true});\n",
       "}}\n",
       "\n",
       "// Listen for the clearing of the current output cell\n",
       "var outputEl = gd.closest('.output');\n",
       "if (outputEl) {{\n",
       "    x.observe(outputEl, {childList: true});\n",
       "}}\n",
       "\n",
       "                        })                };                });            </script>        </div>"
      ]
     },
     "metadata": {},
     "output_type": "display_data"
    }
   ],
   "source": [
    "#https://plotly.com/python/treemaps/\n",
    "\n",
    "import plotly.express as px\n",
    "df = df_byregion_II_summary\n",
    "fig = px.treemap(df, path=[px.Constant(\"Mexico\"), 'REGION'], \n",
    "                 values='POBTOT', color='REGION',color_discrete_map={'(?)':'lightgrey', 'CENTRO':'darkcyan', 'SUR':'lightcyan','CENTRO NORTE':'cadetblue', 'NORTE':'teal'})\n",
    "fig.update_layout(margin = dict(t=50, l=30, r=50, b=25))\n",
    "fig.show()\n",
    "\n"
   ]
  },
  {
   "cell_type": "code",
   "execution_count": 14,
   "metadata": {},
   "outputs": [
    {
     "data": {
      "text/html": [
       "<div>\n",
       "<style scoped>\n",
       "    .dataframe tbody tr th:only-of-type {\n",
       "        vertical-align: middle;\n",
       "    }\n",
       "\n",
       "    .dataframe tbody tr th {\n",
       "        vertical-align: top;\n",
       "    }\n",
       "\n",
       "    .dataframe thead th {\n",
       "        text-align: right;\n",
       "    }\n",
       "</style>\n",
       "<table border=\"1\" class=\"dataframe\">\n",
       "  <thead>\n",
       "    <tr style=\"text-align: right;\">\n",
       "      <th></th>\n",
       "      <th>REGION</th>\n",
       "      <th>%TOTALPOP</th>\n",
       "      <th>%TOTALFEM</th>\n",
       "      <th>%TOTALMAS</th>\n",
       "    </tr>\n",
       "  </thead>\n",
       "  <tbody>\n",
       "    <tr>\n",
       "      <th>0</th>\n",
       "      <td>CENTRO</td>\n",
       "      <td>0.38</td>\n",
       "      <td>0.20</td>\n",
       "      <td>0.18</td>\n",
       "    </tr>\n",
       "    <tr>\n",
       "      <th>1</th>\n",
       "      <td>CENTRO NORTE</td>\n",
       "      <td>0.21</td>\n",
       "      <td>0.11</td>\n",
       "      <td>0.10</td>\n",
       "    </tr>\n",
       "    <tr>\n",
       "      <th>2</th>\n",
       "      <td>NORTE</td>\n",
       "      <td>0.18</td>\n",
       "      <td>0.09</td>\n",
       "      <td>0.09</td>\n",
       "    </tr>\n",
       "    <tr>\n",
       "      <th>3</th>\n",
       "      <td>SUR</td>\n",
       "      <td>0.23</td>\n",
       "      <td>0.12</td>\n",
       "      <td>0.11</td>\n",
       "    </tr>\n",
       "  </tbody>\n",
       "</table>\n",
       "</div>"
      ],
      "text/plain": [
       "         REGION  %TOTALPOP  %TOTALFEM  %TOTALMAS\n",
       "0        CENTRO       0.38       0.20       0.18\n",
       "1  CENTRO NORTE       0.21       0.11       0.10\n",
       "2         NORTE       0.18       0.09       0.09\n",
       "3           SUR       0.23       0.12       0.11"
      ]
     },
     "execution_count": 14,
     "metadata": {},
     "output_type": "execute_result"
    }
   ],
   "source": [
    "# % over total population\n",
    "#df_byregion_II[[\"REGION\",\"%TOTALPOP\",\"%TOTALFEM\",\"%TOTALMAS\"]].style.format({\"%TOTALPOP\": \"{:.2%}\", \"%TOTALFEM\": \"{:.2%}\", \"%TOTALMAS\": \"{:.2%}\"})\n",
    "df_per_region=df_byregion_II[[\"REGION\",\"%TOTALPOP\",\"%TOTALFEM\",\"%TOTALMAS\"]]\n",
    "df_per_region"
   ]
  },
  {
   "cell_type": "code",
   "execution_count": 15,
   "metadata": {},
   "outputs": [],
   "source": [
    "#marekko chart\n",
    "#y = df_per_region[\"%TOTALPOP\"]\n",
    "#x_label = df_per_region[\"REGION\"]\n",
    "#plt.bar(x_label,df_per_region[\"%TOTALFEM\"] ) # bottom bar\n",
    "#plt.bar(x_label,df_per_region[\"%TOTALMAS\"], bottom=x_label ) # top bar\n",
    "#plt.ylim(0,1)\n",
    "#plt.yticks([0, 0.25, 0.5, 0.75, 1], ['0%', '25%', '50%', '75%', '100%'])\n",
    "#plt.show()"
   ]
  },
  {
   "cell_type": "code",
   "execution_count": 16,
   "metadata": {},
   "outputs": [],
   "source": [
    "\n",
    "# adding 5 of population vs total population of the region\n",
    "df_byregion_II[\"%FEM_REGION\"]=df_byregion_II[\"POBFEM\"]/df_byregion_II[\"POBTOT\"]\n",
    "df_byregion_II[\"%MAS_REGION\"]=df_byregion_II[\"POBMAS\"]/df_byregion_II[\"POBTOT\"]\n"
   ]
  },
  {
   "cell_type": "code",
   "execution_count": 17,
   "metadata": {},
   "outputs": [
    {
     "data": {
      "text/html": [
       "<style  type=\"text/css\" >\n",
       "</style><table id=\"T_2b84819a_f5f1_11eb_bc70_c4b301c5f59b\" ><thead>    <tr>        <th class=\"blank level0\" ></th>        <th class=\"col_heading level0 col0\" >REGION</th>        <th class=\"col_heading level0 col1\" >%FEM_REGION</th>        <th class=\"col_heading level0 col2\" >%MAS_REGION</th>    </tr></thead><tbody>\n",
       "                <tr>\n",
       "                        <th id=\"T_2b84819a_f5f1_11eb_bc70_c4b301c5f59blevel0_row0\" class=\"row_heading level0 row0\" >0</th>\n",
       "                        <td id=\"T_2b84819a_f5f1_11eb_bc70_c4b301c5f59brow0_col0\" class=\"data row0 col0\" >CENTRO</td>\n",
       "                        <td id=\"T_2b84819a_f5f1_11eb_bc70_c4b301c5f59brow0_col1\" class=\"data row0 col1\" >51.6601%</td>\n",
       "                        <td id=\"T_2b84819a_f5f1_11eb_bc70_c4b301c5f59brow0_col2\" class=\"data row0 col2\" >48.2517%</td>\n",
       "            </tr>\n",
       "            <tr>\n",
       "                        <th id=\"T_2b84819a_f5f1_11eb_bc70_c4b301c5f59blevel0_row1\" class=\"row_heading level0 row1\" >1</th>\n",
       "                        <td id=\"T_2b84819a_f5f1_11eb_bc70_c4b301c5f59brow1_col0\" class=\"data row1 col0\" >CENTRO NORTE</td>\n",
       "                        <td id=\"T_2b84819a_f5f1_11eb_bc70_c4b301c5f59brow1_col1\" class=\"data row1 col1\" >50.7557%</td>\n",
       "                        <td id=\"T_2b84819a_f5f1_11eb_bc70_c4b301c5f59brow1_col2\" class=\"data row1 col2\" >48.7578%</td>\n",
       "            </tr>\n",
       "            <tr>\n",
       "                        <th id=\"T_2b84819a_f5f1_11eb_bc70_c4b301c5f59blevel0_row2\" class=\"row_heading level0 row2\" >2</th>\n",
       "                        <td id=\"T_2b84819a_f5f1_11eb_bc70_c4b301c5f59brow2_col0\" class=\"data row2 col0\" >NORTE</td>\n",
       "                        <td id=\"T_2b84819a_f5f1_11eb_bc70_c4b301c5f59brow2_col1\" class=\"data row2 col1\" >50.0004%</td>\n",
       "                        <td id=\"T_2b84819a_f5f1_11eb_bc70_c4b301c5f59brow2_col2\" class=\"data row2 col2\" >49.5372%</td>\n",
       "            </tr>\n",
       "            <tr>\n",
       "                        <th id=\"T_2b84819a_f5f1_11eb_bc70_c4b301c5f59blevel0_row3\" class=\"row_heading level0 row3\" >3</th>\n",
       "                        <td id=\"T_2b84819a_f5f1_11eb_bc70_c4b301c5f59brow3_col0\" class=\"data row3 col0\" >SUR</td>\n",
       "                        <td id=\"T_2b84819a_f5f1_11eb_bc70_c4b301c5f59brow3_col1\" class=\"data row3 col1\" >51.3276%</td>\n",
       "                        <td id=\"T_2b84819a_f5f1_11eb_bc70_c4b301c5f59brow3_col2\" class=\"data row3 col2\" >48.2552%</td>\n",
       "            </tr>\n",
       "    </tbody></table>"
      ],
      "text/plain": [
       "<pandas.io.formats.style.Styler at 0x7fcc16c2e4f0>"
      ]
     },
     "execution_count": 17,
     "metadata": {},
     "output_type": "execute_result"
    }
   ],
   "source": [
    "# % sobre region mas + fem = tot por cada region, lueog diferencia (tabla 1)\n",
    "df_byregion_II[[\"REGION\",\"%FEM_REGION\",\"%MAS_REGION\"]].style.format({\"%FEM_REGION\":\"{:.4%}\",\"%MAS_REGION\": \"{:.4%}\"})"
   ]
  },
  {
   "cell_type": "code",
   "execution_count": 18,
   "metadata": {},
   "outputs": [],
   "source": [
    "##  4graph !!!!!!!!!!!!!!!!!!!!!!!!!!!"
   ]
  },
  {
   "cell_type": "code",
   "execution_count": 24,
   "metadata": {},
   "outputs": [
    {
     "data": {
      "text/html": [
       "<div>\n",
       "<style scoped>\n",
       "    .dataframe tbody tr th:only-of-type {\n",
       "        vertical-align: middle;\n",
       "    }\n",
       "\n",
       "    .dataframe tbody tr th {\n",
       "        vertical-align: top;\n",
       "    }\n",
       "\n",
       "    .dataframe thead th {\n",
       "        text-align: right;\n",
       "    }\n",
       "</style>\n",
       "<table border=\"1\" class=\"dataframe\">\n",
       "  <thead>\n",
       "    <tr style=\"text-align: right;\">\n",
       "      <th></th>\n",
       "      <th>REGION</th>\n",
       "      <th>Unnamed: 0</th>\n",
       "      <th>ENTIDAD</th>\n",
       "      <th>MUN</th>\n",
       "      <th>LOC</th>\n",
       "      <th>POBTOT</th>\n",
       "      <th>POBFEM</th>\n",
       "      <th>POBMAS</th>\n",
       "      <th>P_0A2</th>\n",
       "      <th>P_0A2_F</th>\n",
       "      <th>...</th>\n",
       "      <th>VPH_CEL</th>\n",
       "      <th>VPH_INTER</th>\n",
       "      <th>VPH_STVP</th>\n",
       "      <th>VPH_SPMVPI</th>\n",
       "      <th>VPH_CVJ</th>\n",
       "      <th>VPH_SINRTV</th>\n",
       "      <th>VPH_SINLTC</th>\n",
       "      <th>VPH_SINCINT</th>\n",
       "      <th>VPH_SINTIC</th>\n",
       "      <th>TAMLOC</th>\n",
       "    </tr>\n",
       "  </thead>\n",
       "  <tbody>\n",
       "    <tr>\n",
       "      <th>0</th>\n",
       "      <td>CENTRO</td>\n",
       "      <td>2845329246</td>\n",
       "      <td>484038</td>\n",
       "      <td>1511578</td>\n",
       "      <td>4368094</td>\n",
       "      <td>47718379</td>\n",
       "      <td>24651355</td>\n",
       "      <td>23024947</td>\n",
       "      <td>2032604</td>\n",
       "      <td>1004668</td>\n",
       "      <td>...</td>\n",
       "      <td>11529953</td>\n",
       "      <td>7301907</td>\n",
       "      <td>5178314</td>\n",
       "      <td>2631172</td>\n",
       "      <td>1676859</td>\n",
       "      <td>438054</td>\n",
       "      <td>962785</td>\n",
       "      <td>5082603</td>\n",
       "      <td>182181</td>\n",
       "      <td>55762</td>\n",
       "    </tr>\n",
       "    <tr>\n",
       "      <th>1</th>\n",
       "      <td>CENTRO NORTE</td>\n",
       "      <td>4897210990</td>\n",
       "      <td>848990</td>\n",
       "      <td>1674965</td>\n",
       "      <td>20092214</td>\n",
       "      <td>26591884</td>\n",
       "      <td>13496903</td>\n",
       "      <td>12965621</td>\n",
       "      <td>1283089</td>\n",
       "      <td>634216</td>\n",
       "      <td>...</td>\n",
       "      <td>6596933</td>\n",
       "      <td>3887337</td>\n",
       "      <td>3720564</td>\n",
       "      <td>1409434</td>\n",
       "      <td>909729</td>\n",
       "      <td>272648</td>\n",
       "      <td>492919</td>\n",
       "      <td>3062026</td>\n",
       "      <td>107805</td>\n",
       "      <td>65569</td>\n",
       "    </tr>\n",
       "    <tr>\n",
       "      <th>2</th>\n",
       "      <td>NORTE</td>\n",
       "      <td>3290115080</td>\n",
       "      <td>594014</td>\n",
       "      <td>989923</td>\n",
       "      <td>33631798</td>\n",
       "      <td>22914677</td>\n",
       "      <td>11457436</td>\n",
       "      <td>11351297</td>\n",
       "      <td>1007683</td>\n",
       "      <td>497278</td>\n",
       "      <td>...</td>\n",
       "      <td>6265206</td>\n",
       "      <td>4227269</td>\n",
       "      <td>3276472</td>\n",
       "      <td>1759453</td>\n",
       "      <td>1069056</td>\n",
       "      <td>203699</td>\n",
       "      <td>304467</td>\n",
       "      <td>2211144</td>\n",
       "      <td>65547</td>\n",
       "      <td>45570</td>\n",
       "    </tr>\n",
       "    <tr>\n",
       "      <th>3</th>\n",
       "      <td>SUR</td>\n",
       "      <td>6909491280</td>\n",
       "      <td>1243144</td>\n",
       "      <td>6906681</td>\n",
       "      <td>26643000</td>\n",
       "      <td>28789084</td>\n",
       "      <td>14776747</td>\n",
       "      <td>13892239</td>\n",
       "      <td>1423387</td>\n",
       "      <td>704113</td>\n",
       "      <td>...</td>\n",
       "      <td>6311220</td>\n",
       "      <td>2877268</td>\n",
       "      <td>3005669</td>\n",
       "      <td>813379</td>\n",
       "      <td>389635</td>\n",
       "      <td>853129</td>\n",
       "      <td>1386515</td>\n",
       "      <td>4671397</td>\n",
       "      <td>484901</td>\n",
       "      <td>96375</td>\n",
       "    </tr>\n",
       "  </tbody>\n",
       "</table>\n",
       "<p>4 rows × 165 columns</p>\n",
       "</div>"
      ],
      "text/plain": [
       "         REGION  Unnamed: 0  ENTIDAD      MUN       LOC    POBTOT    POBFEM  \\\n",
       "0        CENTRO  2845329246   484038  1511578   4368094  47718379  24651355   \n",
       "1  CENTRO NORTE  4897210990   848990  1674965  20092214  26591884  13496903   \n",
       "2         NORTE  3290115080   594014   989923  33631798  22914677  11457436   \n",
       "3           SUR  6909491280  1243144  6906681  26643000  28789084  14776747   \n",
       "\n",
       "     POBMAS    P_0A2  P_0A2_F  ...   VPH_CEL  VPH_INTER  VPH_STVP  VPH_SPMVPI  \\\n",
       "0  23024947  2032604  1004668  ...  11529953    7301907   5178314     2631172   \n",
       "1  12965621  1283089   634216  ...   6596933    3887337   3720564     1409434   \n",
       "2  11351297  1007683   497278  ...   6265206    4227269   3276472     1759453   \n",
       "3  13892239  1423387   704113  ...   6311220    2877268   3005669      813379   \n",
       "\n",
       "   VPH_CVJ  VPH_SINRTV  VPH_SINLTC  VPH_SINCINT  VPH_SINTIC  TAMLOC  \n",
       "0  1676859      438054      962785      5082603      182181   55762  \n",
       "1   909729      272648      492919      3062026      107805   65569  \n",
       "2  1069056      203699      304467      2211144       65547   45570  \n",
       "3   389635      853129     1386515      4671397      484901   96375  \n",
       "\n",
       "[4 rows x 165 columns]"
      ]
     },
     "execution_count": 24,
     "metadata": {},
     "output_type": "execute_result"
    }
   ],
   "source": [
    "# edad y region (tabla 2 y transpose)\n",
    "df_bygender= df_semifinal.groupby('REGION',as_index=False).sum()\n",
    "df_bygender"
   ]
  },
  {
   "cell_type": "code",
   "execution_count": 25,
   "metadata": {},
   "outputs": [],
   "source": [
    "# backsolve population from ages 25 a 59\n",
    "df_bygender[\"P_25A59\"]=df_bygender[\"POBTOT\"]-df_bygender[\"P_0A2\"]-df_bygender[\"P_3A5\"]-df_bygender[\"P_6A11\"]-df_bygender[\"P_12A14\"]-df_bygender[\"P_15A17\"]-df_bygender[\"P_18A24\"]-df_bygender[\"P_60YMAS\"]\n"
   ]
  },
  {
   "cell_type": "markdown",
   "metadata": {},
   "source": [
    "### 4.1. 2 By age"
   ]
  },
  {
   "cell_type": "markdown",
   "metadata": {},
   "source": [
    "### timeseries"
   ]
  },
  {
   "cell_type": "code",
   "execution_count": 19,
   "metadata": {},
   "outputs": [
    {
     "data": {
      "text/html": [
       "<div>\n",
       "<style scoped>\n",
       "    .dataframe tbody tr th:only-of-type {\n",
       "        vertical-align: middle;\n",
       "    }\n",
       "\n",
       "    .dataframe tbody tr th {\n",
       "        vertical-align: top;\n",
       "    }\n",
       "\n",
       "    .dataframe thead th {\n",
       "        text-align: right;\n",
       "    }\n",
       "</style>\n",
       "<table border=\"1\" class=\"dataframe\">\n",
       "  <thead>\n",
       "    <tr style=\"text-align: right;\">\n",
       "      <th></th>\n",
       "      <th>Unnamed: 0</th>\n",
       "      <th>NOM_ENT</th>\n",
       "      <th>Grupo quinquenal de edad</th>\n",
       "      <th>AÑO</th>\n",
       "      <th>Total</th>\n",
       "      <th>Hombres</th>\n",
       "      <th>Mujeres</th>\n",
       "      <th>REGION</th>\n",
       "    </tr>\n",
       "  </thead>\n",
       "  <tbody>\n",
       "    <tr>\n",
       "      <th>0</th>\n",
       "      <td>0</td>\n",
       "      <td>Aguascalientes</td>\n",
       "      <td>No especificado</td>\n",
       "      <td>1990</td>\n",
       "      <td>2245</td>\n",
       "      <td>1084</td>\n",
       "      <td>1161</td>\n",
       "      <td>CENTRO NORTE</td>\n",
       "    </tr>\n",
       "    <tr>\n",
       "      <th>1</th>\n",
       "      <td>1</td>\n",
       "      <td>Aguascalientes</td>\n",
       "      <td>No especificado</td>\n",
       "      <td>1995</td>\n",
       "      <td>1254</td>\n",
       "      <td>607</td>\n",
       "      <td>647</td>\n",
       "      <td>CENTRO NORTE</td>\n",
       "    </tr>\n",
       "    <tr>\n",
       "      <th>2</th>\n",
       "      <td>2</td>\n",
       "      <td>Aguascalientes</td>\n",
       "      <td>No especificado</td>\n",
       "      <td>2000</td>\n",
       "      <td>102</td>\n",
       "      <td>44</td>\n",
       "      <td>58</td>\n",
       "      <td>CENTRO NORTE</td>\n",
       "    </tr>\n",
       "    <tr>\n",
       "      <th>3</th>\n",
       "      <td>3</td>\n",
       "      <td>Aguascalientes</td>\n",
       "      <td>No especificado</td>\n",
       "      <td>2005</td>\n",
       "      <td>98</td>\n",
       "      <td>41</td>\n",
       "      <td>57</td>\n",
       "      <td>CENTRO NORTE</td>\n",
       "    </tr>\n",
       "    <tr>\n",
       "      <th>4</th>\n",
       "      <td>4</td>\n",
       "      <td>Aguascalientes</td>\n",
       "      <td>No especificado</td>\n",
       "      <td>2010</td>\n",
       "      <td>109</td>\n",
       "      <td>45</td>\n",
       "      <td>64</td>\n",
       "      <td>CENTRO NORTE</td>\n",
       "    </tr>\n",
       "  </tbody>\n",
       "</table>\n",
       "</div>"
      ],
      "text/plain": [
       "   Unnamed: 0         NOM_ENT Grupo quinquenal de edad   AÑO  Total  Hombres  \\\n",
       "0           0  Aguascalientes          No especificado  1990   2245     1084   \n",
       "1           1  Aguascalientes          No especificado  1995   1254      607   \n",
       "2           2  Aguascalientes          No especificado  2000    102       44   \n",
       "3           3  Aguascalientes          No especificado  2005     98       41   \n",
       "4           4  Aguascalientes          No especificado  2010    109       45   \n",
       "\n",
       "   Mujeres        REGION  \n",
       "0     1161  CENTRO NORTE  \n",
       "1      647  CENTRO NORTE  \n",
       "2       58  CENTRO NORTE  \n",
       "3       57  CENTRO NORTE  \n",
       "4       64  CENTRO NORTE  "
      ]
     },
     "execution_count": 19,
     "metadata": {},
     "output_type": "execute_result"
    }
   ],
   "source": [
    "df_timeseries.head()"
   ]
  },
  {
   "cell_type": "code",
   "execution_count": 20,
   "metadata": {},
   "outputs": [
    {
     "data": {
      "text/plain": [
       "Index(['NOM_ENT', 'Grupo quinquenal de edad', 'AÑO', 'Total', 'Hombres',\n",
       "       'Mujeres', 'REGION'],\n",
       "      dtype='object')"
      ]
     },
     "execution_count": 20,
     "metadata": {},
     "output_type": "execute_result"
    }
   ],
   "source": [
    "#df_timeseries.info()\n",
    "df_timeseries.columns.drop(\"Unnamed: 0\")"
   ]
  },
  {
   "cell_type": "code",
   "execution_count": 21,
   "metadata": {},
   "outputs": [
    {
     "data": {
      "text/html": [
       "<div>\n",
       "<style scoped>\n",
       "    .dataframe tbody tr th:only-of-type {\n",
       "        vertical-align: middle;\n",
       "    }\n",
       "\n",
       "    .dataframe tbody tr th {\n",
       "        vertical-align: top;\n",
       "    }\n",
       "\n",
       "    .dataframe thead th {\n",
       "        text-align: right;\n",
       "    }\n",
       "</style>\n",
       "<table border=\"1\" class=\"dataframe\">\n",
       "  <thead>\n",
       "    <tr style=\"text-align: right;\">\n",
       "      <th></th>\n",
       "      <th>REGION</th>\n",
       "      <th>Grupo quinquenal de edad</th>\n",
       "      <th>AÑO</th>\n",
       "      <th>Unnamed: 0</th>\n",
       "      <th>Total</th>\n",
       "      <th>Hombres</th>\n",
       "      <th>Mujeres</th>\n",
       "    </tr>\n",
       "  </thead>\n",
       "  <tbody>\n",
       "    <tr>\n",
       "      <th>0</th>\n",
       "      <td>CENTRO</td>\n",
       "      <td>0 a 4 años</td>\n",
       "      <td>1990</td>\n",
       "      <td>17926</td>\n",
       "      <td>3789141</td>\n",
       "      <td>1917789</td>\n",
       "      <td>1871352</td>\n",
       "    </tr>\n",
       "    <tr>\n",
       "      <th>96</th>\n",
       "      <td>CENTRO</td>\n",
       "      <td>75 a 79 años</td>\n",
       "      <td>1990</td>\n",
       "      <td>17158</td>\n",
       "      <td>218675</td>\n",
       "      <td>96327</td>\n",
       "      <td>122348</td>\n",
       "    </tr>\n",
       "    <tr>\n",
       "      <th>510</th>\n",
       "      <td>SUR</td>\n",
       "      <td>90 a 94 años</td>\n",
       "      <td>1990</td>\n",
       "      <td>19236</td>\n",
       "      <td>23399</td>\n",
       "      <td>10652</td>\n",
       "      <td>12747</td>\n",
       "    </tr>\n",
       "    <tr>\n",
       "      <th>252</th>\n",
       "      <td>CENTRO NORTE</td>\n",
       "      <td>95 a 99 años</td>\n",
       "      <td>1990</td>\n",
       "      <td>18936</td>\n",
       "      <td>9318</td>\n",
       "      <td>3989</td>\n",
       "      <td>5329</td>\n",
       "    </tr>\n",
       "    <tr>\n",
       "      <th>258</th>\n",
       "      <td>CENTRO NORTE</td>\n",
       "      <td>No especificado</td>\n",
       "      <td>1990</td>\n",
       "      <td>18876</td>\n",
       "      <td>135587</td>\n",
       "      <td>65843</td>\n",
       "      <td>69744</td>\n",
       "    </tr>\n",
       "    <tr>\n",
       "      <th>...</th>\n",
       "      <td>...</td>\n",
       "      <td>...</td>\n",
       "      <td>...</td>\n",
       "      <td>...</td>\n",
       "      <td>...</td>\n",
       "      <td>...</td>\n",
       "      <td>...</td>\n",
       "    </tr>\n",
       "    <tr>\n",
       "      <th>311</th>\n",
       "      <td>NORTE</td>\n",
       "      <td>35 a 39 años</td>\n",
       "      <td>2020</td>\n",
       "      <td>11556</td>\n",
       "      <td>1666211</td>\n",
       "      <td>833251</td>\n",
       "      <td>832960</td>\n",
       "    </tr>\n",
       "    <tr>\n",
       "      <th>317</th>\n",
       "      <td>NORTE</td>\n",
       "      <td>40 a 44 años</td>\n",
       "      <td>2020</td>\n",
       "      <td>11520</td>\n",
       "      <td>1606303</td>\n",
       "      <td>796837</td>\n",
       "      <td>809466</td>\n",
       "    </tr>\n",
       "    <tr>\n",
       "      <th>323</th>\n",
       "      <td>NORTE</td>\n",
       "      <td>45 a 49 años</td>\n",
       "      <td>2020</td>\n",
       "      <td>11484</td>\n",
       "      <td>1530629</td>\n",
       "      <td>764197</td>\n",
       "      <td>766432</td>\n",
       "    </tr>\n",
       "    <tr>\n",
       "      <th>335</th>\n",
       "      <td>NORTE</td>\n",
       "      <td>50 a 54 años</td>\n",
       "      <td>2020</td>\n",
       "      <td>11412</td>\n",
       "      <td>1336070</td>\n",
       "      <td>657971</td>\n",
       "      <td>678099</td>\n",
       "    </tr>\n",
       "    <tr>\n",
       "      <th>527</th>\n",
       "      <td>SUR</td>\n",
       "      <td>No especificado</td>\n",
       "      <td>2020</td>\n",
       "      <td>19180</td>\n",
       "      <td>85127</td>\n",
       "      <td>42451</td>\n",
       "      <td>42676</td>\n",
       "    </tr>\n",
       "  </tbody>\n",
       "</table>\n",
       "<p>528 rows × 7 columns</p>\n",
       "</div>"
      ],
      "text/plain": [
       "           REGION Grupo quinquenal de edad   AÑO  Unnamed: 0    Total  \\\n",
       "0          CENTRO               0 a 4 años  1990       17926  3789141   \n",
       "96         CENTRO             75 a 79 años  1990       17158   218675   \n",
       "510           SUR             90 a 94 años  1990       19236    23399   \n",
       "252  CENTRO NORTE             95 a 99 años  1990       18936     9318   \n",
       "258  CENTRO NORTE          No especificado  1990       18876   135587   \n",
       "..            ...                      ...   ...         ...      ...   \n",
       "311         NORTE             35 a 39 años  2020       11556  1666211   \n",
       "317         NORTE             40 a 44 años  2020       11520  1606303   \n",
       "323         NORTE             45 a 49 años  2020       11484  1530629   \n",
       "335         NORTE             50 a 54 años  2020       11412  1336070   \n",
       "527           SUR          No especificado  2020       19180    85127   \n",
       "\n",
       "     Hombres  Mujeres  \n",
       "0    1917789  1871352  \n",
       "96     96327   122348  \n",
       "510    10652    12747  \n",
       "252     3989     5329  \n",
       "258    65843    69744  \n",
       "..       ...      ...  \n",
       "311   833251   832960  \n",
       "317   796837   809466  \n",
       "323   764197   766432  \n",
       "335   657971   678099  \n",
       "527    42451    42676  \n",
       "\n",
       "[528 rows x 7 columns]"
      ]
     },
     "execution_count": 21,
     "metadata": {},
     "output_type": "execute_result"
    }
   ],
   "source": [
    "df_byregion_timeseries= df_timeseries.groupby(['REGION',\"Grupo quinquenal de edad\",\"AÑO\"],as_index=False).sum()\n",
    "df_byregion_timeseries.sort_values(\"AÑO\")"
   ]
  },
  {
   "cell_type": "code",
   "execution_count": 22,
   "metadata": {},
   "outputs": [
    {
     "data": {
      "text/html": [
       "<div>\n",
       "<style scoped>\n",
       "    .dataframe tbody tr th:only-of-type {\n",
       "        vertical-align: middle;\n",
       "    }\n",
       "\n",
       "    .dataframe tbody tr th {\n",
       "        vertical-align: top;\n",
       "    }\n",
       "\n",
       "    .dataframe thead th {\n",
       "        text-align: right;\n",
       "    }\n",
       "</style>\n",
       "<table border=\"1\" class=\"dataframe\">\n",
       "  <thead>\n",
       "    <tr style=\"text-align: right;\">\n",
       "      <th></th>\n",
       "      <th>REGION</th>\n",
       "      <th>Grupo quinquenal de edad</th>\n",
       "      <th>AÑO</th>\n",
       "      <th>Unnamed: 0</th>\n",
       "      <th>Total</th>\n",
       "      <th>Hombres</th>\n",
       "      <th>Mujeres</th>\n",
       "    </tr>\n",
       "  </thead>\n",
       "  <tbody>\n",
       "    <tr>\n",
       "      <th>5</th>\n",
       "      <td>CENTRO</td>\n",
       "      <td>0 a 4 años</td>\n",
       "      <td>2020</td>\n",
       "      <td>17966</td>\n",
       "      <td>3555896</td>\n",
       "      <td>1796867</td>\n",
       "      <td>1759029</td>\n",
       "    </tr>\n",
       "    <tr>\n",
       "      <th>11</th>\n",
       "      <td>CENTRO</td>\n",
       "      <td>10 a 14 años</td>\n",
       "      <td>2020</td>\n",
       "      <td>17918</td>\n",
       "      <td>3992359</td>\n",
       "      <td>2022522</td>\n",
       "      <td>1969837</td>\n",
       "    </tr>\n",
       "    <tr>\n",
       "      <th>17</th>\n",
       "      <td>CENTRO</td>\n",
       "      <td>100 años y más</td>\n",
       "      <td>2020</td>\n",
       "      <td>17870</td>\n",
       "      <td>5935</td>\n",
       "      <td>1794</td>\n",
       "      <td>4141</td>\n",
       "    </tr>\n",
       "    <tr>\n",
       "      <th>23</th>\n",
       "      <td>CENTRO</td>\n",
       "      <td>15 a 19 años</td>\n",
       "      <td>2020</td>\n",
       "      <td>17822</td>\n",
       "      <td>4044854</td>\n",
       "      <td>2045871</td>\n",
       "      <td>1998983</td>\n",
       "    </tr>\n",
       "    <tr>\n",
       "      <th>29</th>\n",
       "      <td>CENTRO</td>\n",
       "      <td>20 a 24 años</td>\n",
       "      <td>2020</td>\n",
       "      <td>17774</td>\n",
       "      <td>3964306</td>\n",
       "      <td>1967921</td>\n",
       "      <td>1996385</td>\n",
       "    </tr>\n",
       "    <tr>\n",
       "      <th>...</th>\n",
       "      <td>...</td>\n",
       "      <td>...</td>\n",
       "      <td>...</td>\n",
       "      <td>...</td>\n",
       "      <td>...</td>\n",
       "      <td>...</td>\n",
       "      <td>...</td>\n",
       "    </tr>\n",
       "    <tr>\n",
       "      <th>503</th>\n",
       "      <td>SUR</td>\n",
       "      <td>80 a 84 años</td>\n",
       "      <td>2020</td>\n",
       "      <td>19372</td>\n",
       "      <td>279508</td>\n",
       "      <td>129955</td>\n",
       "      <td>149553</td>\n",
       "    </tr>\n",
       "    <tr>\n",
       "      <th>509</th>\n",
       "      <td>SUR</td>\n",
       "      <td>85 a 89 años</td>\n",
       "      <td>2020</td>\n",
       "      <td>19324</td>\n",
       "      <td>162931</td>\n",
       "      <td>73548</td>\n",
       "      <td>89383</td>\n",
       "    </tr>\n",
       "    <tr>\n",
       "      <th>515</th>\n",
       "      <td>SUR</td>\n",
       "      <td>90 a 94 años</td>\n",
       "      <td>2020</td>\n",
       "      <td>19276</td>\n",
       "      <td>64579</td>\n",
       "      <td>28331</td>\n",
       "      <td>36248</td>\n",
       "    </tr>\n",
       "    <tr>\n",
       "      <th>521</th>\n",
       "      <td>SUR</td>\n",
       "      <td>95 a 99 años</td>\n",
       "      <td>2020</td>\n",
       "      <td>19228</td>\n",
       "      <td>25472</td>\n",
       "      <td>10760</td>\n",
       "      <td>14712</td>\n",
       "    </tr>\n",
       "    <tr>\n",
       "      <th>527</th>\n",
       "      <td>SUR</td>\n",
       "      <td>No especificado</td>\n",
       "      <td>2020</td>\n",
       "      <td>19180</td>\n",
       "      <td>85127</td>\n",
       "      <td>42451</td>\n",
       "      <td>42676</td>\n",
       "    </tr>\n",
       "  </tbody>\n",
       "</table>\n",
       "<p>88 rows × 7 columns</p>\n",
       "</div>"
      ],
      "text/plain": [
       "     REGION Grupo quinquenal de edad   AÑO  Unnamed: 0    Total  Hombres  \\\n",
       "5    CENTRO               0 a 4 años  2020       17966  3555896  1796867   \n",
       "11   CENTRO             10 a 14 años  2020       17918  3992359  2022522   \n",
       "17   CENTRO           100 años y más  2020       17870     5935     1794   \n",
       "23   CENTRO             15 a 19 años  2020       17822  4044854  2045871   \n",
       "29   CENTRO             20 a 24 años  2020       17774  3964306  1967921   \n",
       "..      ...                      ...   ...         ...      ...      ...   \n",
       "503     SUR             80 a 84 años  2020       19372   279508   129955   \n",
       "509     SUR             85 a 89 años  2020       19324   162931    73548   \n",
       "515     SUR             90 a 94 años  2020       19276    64579    28331   \n",
       "521     SUR             95 a 99 años  2020       19228    25472    10760   \n",
       "527     SUR          No especificado  2020       19180    85127    42451   \n",
       "\n",
       "     Mujeres  \n",
       "5    1759029  \n",
       "11   1969837  \n",
       "17      4141  \n",
       "23   1998983  \n",
       "29   1996385  \n",
       "..       ...  \n",
       "503   149553  \n",
       "509    89383  \n",
       "515    36248  \n",
       "521    14712  \n",
       "527    42676  \n",
       "\n",
       "[88 rows x 7 columns]"
      ]
     },
     "execution_count": 22,
     "metadata": {},
     "output_type": "execute_result"
    }
   ],
   "source": [
    "df_region_2020=df_byregion_timeseries[df_byregion_timeseries[\"AÑO\"]== 2020 ]\n",
    "df_region_2020"
   ]
  },
  {
   "cell_type": "code",
   "execution_count": 23,
   "metadata": {},
   "outputs": [],
   "source": [
    "df_region_2020.to_csv(\"prueba.csv\")"
   ]
  },
  {
   "cell_type": "code",
   "execution_count": 63,
   "metadata": {},
   "outputs": [
    {
     "data": {
      "text/html": [
       "<div>\n",
       "<style scoped>\n",
       "    .dataframe tbody tr th:only-of-type {\n",
       "        vertical-align: middle;\n",
       "    }\n",
       "\n",
       "    .dataframe tbody tr th {\n",
       "        vertical-align: top;\n",
       "    }\n",
       "\n",
       "    .dataframe thead th {\n",
       "        text-align: right;\n",
       "    }\n",
       "</style>\n",
       "<table border=\"1\" class=\"dataframe\">\n",
       "  <thead>\n",
       "    <tr style=\"text-align: right;\">\n",
       "      <th></th>\n",
       "      <th>Grupo quinquenal de edad</th>\n",
       "      <th>Hombres</th>\n",
       "      <th>Mujeres</th>\n",
       "    </tr>\n",
       "  </thead>\n",
       "  <tbody>\n",
       "    <tr>\n",
       "      <th>5</th>\n",
       "      <td>0 a 4 años</td>\n",
       "      <td>5077482</td>\n",
       "      <td>4969883</td>\n",
       "    </tr>\n",
       "    <tr>\n",
       "      <th>11</th>\n",
       "      <td>10 a 14 años</td>\n",
       "      <td>5554260</td>\n",
       "      <td>5389280</td>\n",
       "    </tr>\n",
       "    <tr>\n",
       "      <th>17</th>\n",
       "      <td>100 años y más</td>\n",
       "      <td>6644</td>\n",
       "      <td>11651</td>\n",
       "    </tr>\n",
       "    <tr>\n",
       "      <th>23</th>\n",
       "      <td>15 a 19 años</td>\n",
       "      <td>5462150</td>\n",
       "      <td>5344540</td>\n",
       "    </tr>\n",
       "    <tr>\n",
       "      <th>29</th>\n",
       "      <td>20 a 24 años</td>\n",
       "      <td>5165884</td>\n",
       "      <td>5256211</td>\n",
       "    </tr>\n",
       "    <tr>\n",
       "      <th>35</th>\n",
       "      <td>25 a 29 años</td>\n",
       "      <td>4861404</td>\n",
       "      <td>5131597</td>\n",
       "    </tr>\n",
       "    <tr>\n",
       "      <th>41</th>\n",
       "      <td>30 a 34 años</td>\n",
       "      <td>4527726</td>\n",
       "      <td>4893101</td>\n",
       "    </tr>\n",
       "    <tr>\n",
       "      <th>47</th>\n",
       "      <td>35 a 39 años</td>\n",
       "      <td>4331530</td>\n",
       "      <td>4688746</td>\n",
       "    </tr>\n",
       "    <tr>\n",
       "      <th>53</th>\n",
       "      <td>40 a 44 años</td>\n",
       "      <td>4062304</td>\n",
       "      <td>4441282</td>\n",
       "    </tr>\n",
       "    <tr>\n",
       "      <th>59</th>\n",
       "      <td>45 a 49 años</td>\n",
       "      <td>3812344</td>\n",
       "      <td>4130069</td>\n",
       "    </tr>\n",
       "    <tr>\n",
       "      <th>65</th>\n",
       "      <td>5 a 9 años</td>\n",
       "      <td>5453091</td>\n",
       "      <td>5311288</td>\n",
       "    </tr>\n",
       "    <tr>\n",
       "      <th>71</th>\n",
       "      <td>50 a 54 años</td>\n",
       "      <td>3332163</td>\n",
       "      <td>3705369</td>\n",
       "    </tr>\n",
       "    <tr>\n",
       "      <th>77</th>\n",
       "      <td>55 a 59 años</td>\n",
       "      <td>2692976</td>\n",
       "      <td>3002982</td>\n",
       "    </tr>\n",
       "    <tr>\n",
       "      <th>83</th>\n",
       "      <td>60 a 64 años</td>\n",
       "      <td>2257862</td>\n",
       "      <td>2563200</td>\n",
       "    </tr>\n",
       "    <tr>\n",
       "      <th>89</th>\n",
       "      <td>65 a 69 años</td>\n",
       "      <td>1706850</td>\n",
       "      <td>1938227</td>\n",
       "    </tr>\n",
       "    <tr>\n",
       "      <th>95</th>\n",
       "      <td>70 a 74 años</td>\n",
       "      <td>1233492</td>\n",
       "      <td>1413848</td>\n",
       "    </tr>\n",
       "    <tr>\n",
       "      <th>101</th>\n",
       "      <td>75 a 79 años</td>\n",
       "      <td>847898</td>\n",
       "      <td>966684</td>\n",
       "    </tr>\n",
       "    <tr>\n",
       "      <th>107</th>\n",
       "      <td>80 a 84 años</td>\n",
       "      <td>523812</td>\n",
       "      <td>651552</td>\n",
       "    </tr>\n",
       "    <tr>\n",
       "      <th>113</th>\n",
       "      <td>85 a 89 años</td>\n",
       "      <td>283351</td>\n",
       "      <td>375894</td>\n",
       "    </tr>\n",
       "    <tr>\n",
       "      <th>119</th>\n",
       "      <td>90 a 94 años</td>\n",
       "      <td>107358</td>\n",
       "      <td>159448</td>\n",
       "    </tr>\n",
       "    <tr>\n",
       "      <th>125</th>\n",
       "      <td>95 a 99 años</td>\n",
       "      <td>36615</td>\n",
       "      <td>58590</td>\n",
       "    </tr>\n",
       "    <tr>\n",
       "      <th>131</th>\n",
       "      <td>No especificado</td>\n",
       "      <td>136194</td>\n",
       "      <td>137192</td>\n",
       "    </tr>\n",
       "  </tbody>\n",
       "</table>\n",
       "</div>"
      ],
      "text/plain": [
       "    Grupo quinquenal de edad  Hombres  Mujeres\n",
       "5                 0 a 4 años  5077482  4969883\n",
       "11              10 a 14 años  5554260  5389280\n",
       "17            100 años y más     6644    11651\n",
       "23              15 a 19 años  5462150  5344540\n",
       "29              20 a 24 años  5165884  5256211\n",
       "35              25 a 29 años  4861404  5131597\n",
       "41              30 a 34 años  4527726  4893101\n",
       "47              35 a 39 años  4331530  4688746\n",
       "53              40 a 44 años  4062304  4441282\n",
       "59              45 a 49 años  3812344  4130069\n",
       "65                5 a 9 años  5453091  5311288\n",
       "71              50 a 54 años  3332163  3705369\n",
       "77              55 a 59 años  2692976  3002982\n",
       "83              60 a 64 años  2257862  2563200\n",
       "89              65 a 69 años  1706850  1938227\n",
       "95              70 a 74 años  1233492  1413848\n",
       "101             75 a 79 años   847898   966684\n",
       "107             80 a 84 años   523812   651552\n",
       "113             85 a 89 años   283351   375894\n",
       "119             90 a 94 años   107358   159448\n",
       "125             95 a 99 años    36615    58590\n",
       "131          No especificado   136194   137192"
      ]
     },
     "execution_count": 63,
     "metadata": {},
     "output_type": "execute_result"
    }
   ],
   "source": [
    "byage=df_timeseries.groupby([\"Grupo quinquenal de edad\",\"AÑO\"],as_index=False).sum()\n",
    "byage_2020=byage[byage[\"AÑO\"]== 2020 ]\n",
    "byage_2020_II=byage_2020[[\"Grupo quinquenal de edad\",\"Hombres\",\"Mujeres\"]]\n",
    "byage_2020_II"
   ]
  },
  {
   "cell_type": "code",
   "execution_count": 78,
   "metadata": {},
   "outputs": [
    {
     "data": {
      "image/png": "[encoded data removed]",
      "text/plain": [
       "<Figure size 648x432 with 2 Axes>"
      ]
     },
     "metadata": {},
     "output_type": "display_data"
    }
   ],
   "source": [
    "#define x and y limits\n",
    "y = range(0, len(byage_2020_II))\n",
    "x_male = byage_2020_II['Hombres']\n",
    "x_female = byage_2020_II['Mujeres']\n",
    "\n",
    "#define plot parameters\n",
    "fig, axes = plt.subplots(ncols=2, sharey=True, figsize=(9, 6))\n",
    "\n",
    "#specify background color and plot title\n",
    "fig.patch.set_facecolor('white')\n",
    "plt.figtext(.5,.9,\"Population Pyramid \", fontsize=15, ha='center')\n",
    "    \n",
    "#define male and female bars\n",
    "axes[0].barh(y, x_male, align='center', color='turquoise')\n",
    "axes[0].set(title='Males')\n",
    "axes[1].barh(y, x_female, align='center', color='aquamarine')\n",
    "axes[1].set(title='Females')\n",
    "\n",
    "#adjust grid parameters and specify labels for y-axis\n",
    "axes[1].grid()\n",
    "axes[0].set(yticks=y, yticklabels=byage_2020_II['Grupo quinquenal de edad'])\n",
    "axes[0].invert_xaxis()\n",
    "axes[0].grid()\n",
    "\n",
    "plt.savefig('piramide.png')\n",
    "#display plot\n",
    "plt.show()"
   ]
  },
  {
   "cell_type": "code",
   "execution_count": null,
   "metadata": {},
   "outputs": [],
   "source": []
  },
  {
   "cell_type": "code",
   "execution_count": null,
   "metadata": {},
   "outputs": [],
   "source": []
  },
  {
   "cell_type": "code",
   "execution_count": 26,
   "metadata": {},
   "outputs": [
    {
     "data": {
      "text/html": [
       "<div>\n",
       "<style scoped>\n",
       "    .dataframe tbody tr th:only-of-type {\n",
       "        vertical-align: middle;\n",
       "    }\n",
       "\n",
       "    .dataframe tbody tr th {\n",
       "        vertical-align: top;\n",
       "    }\n",
       "\n",
       "    .dataframe thead th {\n",
       "        text-align: right;\n",
       "    }\n",
       "</style>\n",
       "<table border=\"1\" class=\"dataframe\">\n",
       "  <thead>\n",
       "    <tr style=\"text-align: right;\">\n",
       "      <th></th>\n",
       "      <th>0</th>\n",
       "      <th>1</th>\n",
       "      <th>2</th>\n",
       "      <th>3</th>\n",
       "    </tr>\n",
       "  </thead>\n",
       "  <tbody>\n",
       "    <tr>\n",
       "      <th>REGION</th>\n",
       "      <td>CENTRO</td>\n",
       "      <td>CENTRO NORTE</td>\n",
       "      <td>NORTE</td>\n",
       "      <td>SUR</td>\n",
       "    </tr>\n",
       "    <tr>\n",
       "      <th>POBTOT</th>\n",
       "      <td>47718379</td>\n",
       "      <td>26591884</td>\n",
       "      <td>22914677</td>\n",
       "      <td>28789084</td>\n",
       "    </tr>\n",
       "    <tr>\n",
       "      <th>P_0A2</th>\n",
       "      <td>2032604</td>\n",
       "      <td>1283089</td>\n",
       "      <td>1007683</td>\n",
       "      <td>1423387</td>\n",
       "    </tr>\n",
       "    <tr>\n",
       "      <th>P_3A5</th>\n",
       "      <td>2297538</td>\n",
       "      <td>1408916</td>\n",
       "      <td>1153537</td>\n",
       "      <td>1584293</td>\n",
       "    </tr>\n",
       "    <tr>\n",
       "      <th>P_6A11</th>\n",
       "      <td>4649263</td>\n",
       "      <td>2817743</td>\n",
       "      <td>2284409</td>\n",
       "      <td>3200503</td>\n",
       "    </tr>\n",
       "    <tr>\n",
       "      <th>P_12A14</th>\n",
       "      <td>2395987</td>\n",
       "      <td>1393756</td>\n",
       "      <td>1155976</td>\n",
       "      <td>1579052</td>\n",
       "    </tr>\n",
       "    <tr>\n",
       "      <th>P_15A17</th>\n",
       "      <td>2422254</td>\n",
       "      <td>1378301</td>\n",
       "      <td>1134537</td>\n",
       "      <td>1540221</td>\n",
       "    </tr>\n",
       "    <tr>\n",
       "      <th>P_18A24</th>\n",
       "      <td>5580721</td>\n",
       "      <td>3124641</td>\n",
       "      <td>2737217</td>\n",
       "      <td>3249341</td>\n",
       "    </tr>\n",
       "    <tr>\n",
       "      <th>P_25A59</th>\n",
       "      <td>22464020</td>\n",
       "      <td>11967877</td>\n",
       "      <td>10872761</td>\n",
       "      <td>12790082</td>\n",
       "    </tr>\n",
       "    <tr>\n",
       "      <th>P_60YMAS</th>\n",
       "      <td>5875992</td>\n",
       "      <td>3217561</td>\n",
       "      <td>2568557</td>\n",
       "      <td>3422205</td>\n",
       "    </tr>\n",
       "  </tbody>\n",
       "</table>\n",
       "</div>"
      ],
      "text/plain": [
       "                 0             1         2         3\n",
       "REGION      CENTRO  CENTRO NORTE     NORTE       SUR\n",
       "POBTOT    47718379      26591884  22914677  28789084\n",
       "P_0A2      2032604       1283089   1007683   1423387\n",
       "P_3A5      2297538       1408916   1153537   1584293\n",
       "P_6A11     4649263       2817743   2284409   3200503\n",
       "P_12A14    2395987       1393756   1155976   1579052\n",
       "P_15A17    2422254       1378301   1134537   1540221\n",
       "P_18A24    5580721       3124641   2737217   3249341\n",
       "P_25A59   22464020      11967877  10872761  12790082\n",
       "P_60YMAS   5875992       3217561   2568557   3422205"
      ]
     },
     "execution_count": 26,
     "metadata": {},
     "output_type": "execute_result"
    }
   ],
   "source": [
    "#traspose\n",
    "df_bygender[[\"REGION\",\"POBTOT\",'P_0A2','P_3A5','P_6A11','P_12A14','P_15A17','P_18A24',\"P_25A59\",'P_60YMAS']].transpose()"
   ]
  },
  {
   "cell_type": "code",
   "execution_count": 27,
   "metadata": {},
   "outputs": [],
   "source": [
    "##  5graph !!!!!!!!!!!!!!!!!!!!!!!!!!!"
   ]
  },
  {
   "cell_type": "markdown",
   "metadata": {},
   "source": [
    "## age and region"
   ]
  },
  {
   "cell_type": "code",
   "execution_count": 124,
   "metadata": {},
   "outputs": [
    {
     "name": "stderr",
     "output_type": "stream",
     "text": [
      "/Users/carlosalvarez/opt/anaconda3/lib/python3.8/site-packages/pandas/core/frame.py:4163: SettingWithCopyWarning:\n",
      "\n",
      "\n",
      "A value is trying to be set on a copy of a slice from a DataFrame\n",
      "\n",
      "See the caveats in the documentation: https://pandas.pydata.org/pandas-docs/stable/user_guide/indexing.html#returning-a-view-versus-a-copy\n",
      "\n"
     ]
    },
    {
     "data": {
      "text/html": [
       "<div>\n",
       "<style scoped>\n",
       "    .dataframe tbody tr th:only-of-type {\n",
       "        vertical-align: middle;\n",
       "    }\n",
       "\n",
       "    .dataframe tbody tr th {\n",
       "        vertical-align: top;\n",
       "    }\n",
       "\n",
       "    .dataframe thead th {\n",
       "        text-align: right;\n",
       "    }\n",
       "</style>\n",
       "<table border=\"1\" class=\"dataframe\">\n",
       "  <thead>\n",
       "    <tr style=\"text-align: right;\">\n",
       "      <th></th>\n",
       "      <th>Grupo quinquenal de edad</th>\n",
       "      <th>REGION</th>\n",
       "      <th>Total</th>\n",
       "      <th>Hombres</th>\n",
       "      <th>Mujeres</th>\n",
       "    </tr>\n",
       "  </thead>\n",
       "  <tbody>\n",
       "    <tr>\n",
       "      <th>5</th>\n",
       "      <td>0 a 4 años</td>\n",
       "      <td>CENTRO</td>\n",
       "      <td>3555896</td>\n",
       "      <td>1796867</td>\n",
       "      <td>1759029</td>\n",
       "    </tr>\n",
       "    <tr>\n",
       "      <th>11</th>\n",
       "      <td>0 a 4 años</td>\n",
       "      <td>CENTRO NORTE</td>\n",
       "      <td>2230131</td>\n",
       "      <td>1127558</td>\n",
       "      <td>1102573</td>\n",
       "    </tr>\n",
       "    <tr>\n",
       "      <th>17</th>\n",
       "      <td>0 a 4 años</td>\n",
       "      <td>NORTE</td>\n",
       "      <td>1782093</td>\n",
       "      <td>901419</td>\n",
       "      <td>880674</td>\n",
       "    </tr>\n",
       "    <tr>\n",
       "      <th>23</th>\n",
       "      <td>0 a 4 años</td>\n",
       "      <td>SUR</td>\n",
       "      <td>2479245</td>\n",
       "      <td>1251638</td>\n",
       "      <td>1227607</td>\n",
       "    </tr>\n",
       "    <tr>\n",
       "      <th>29</th>\n",
       "      <td>10 a 14 años</td>\n",
       "      <td>CENTRO</td>\n",
       "      <td>3992359</td>\n",
       "      <td>2022522</td>\n",
       "      <td>1969837</td>\n",
       "    </tr>\n",
       "    <tr>\n",
       "      <th>...</th>\n",
       "      <td>...</td>\n",
       "      <td>...</td>\n",
       "      <td>...</td>\n",
       "      <td>...</td>\n",
       "      <td>...</td>\n",
       "    </tr>\n",
       "    <tr>\n",
       "      <th>479</th>\n",
       "      <td>90 a 94 años</td>\n",
       "      <td>SUR</td>\n",
       "      <td>64579</td>\n",
       "      <td>28331</td>\n",
       "      <td>36248</td>\n",
       "    </tr>\n",
       "    <tr>\n",
       "      <th>485</th>\n",
       "      <td>95 a 99 años</td>\n",
       "      <td>CENTRO</td>\n",
       "      <td>36626</td>\n",
       "      <td>12825</td>\n",
       "      <td>23801</td>\n",
       "    </tr>\n",
       "    <tr>\n",
       "      <th>491</th>\n",
       "      <td>95 a 99 años</td>\n",
       "      <td>CENTRO NORTE</td>\n",
       "      <td>21905</td>\n",
       "      <td>8864</td>\n",
       "      <td>13041</td>\n",
       "    </tr>\n",
       "    <tr>\n",
       "      <th>497</th>\n",
       "      <td>95 a 99 años</td>\n",
       "      <td>NORTE</td>\n",
       "      <td>11202</td>\n",
       "      <td>4166</td>\n",
       "      <td>7036</td>\n",
       "    </tr>\n",
       "    <tr>\n",
       "      <th>503</th>\n",
       "      <td>95 a 99 años</td>\n",
       "      <td>SUR</td>\n",
       "      <td>25472</td>\n",
       "      <td>10760</td>\n",
       "      <td>14712</td>\n",
       "    </tr>\n",
       "  </tbody>\n",
       "</table>\n",
       "<p>80 rows × 5 columns</p>\n",
       "</div>"
      ],
      "text/plain": [
       "    Grupo quinquenal de edad        REGION    Total  Hombres  Mujeres\n",
       "5                 0 a 4 años        CENTRO  3555896  1796867  1759029\n",
       "11                0 a 4 años  CENTRO NORTE  2230131  1127558  1102573\n",
       "17                0 a 4 años         NORTE  1782093   901419   880674\n",
       "23                0 a 4 años           SUR  2479245  1251638  1227607\n",
       "29              10 a 14 años        CENTRO  3992359  2022522  1969837\n",
       "..                       ...           ...      ...      ...      ...\n",
       "479             90 a 94 años           SUR    64579    28331    36248\n",
       "485             95 a 99 años        CENTRO    36626    12825    23801\n",
       "491             95 a 99 años  CENTRO NORTE    21905     8864    13041\n",
       "497             95 a 99 años         NORTE    11202     4166     7036\n",
       "503             95 a 99 años           SUR    25472    10760    14712\n",
       "\n",
       "[80 rows x 5 columns]"
      ]
     },
     "execution_count": 124,
     "metadata": {},
     "output_type": "execute_result"
    }
   ],
   "source": [
    "byageregion=df_timeseries.groupby([\"Grupo quinquenal de edad\",\"REGION\",\"AÑO\"],as_index=False).sum()\n",
    "byageregion_2020=byageregion[byageregion[\"AÑO\"]== 2020 ]\n",
    "byageregion_2020\n",
    "byageregion_2020_II=byageregion_2020[[\"Grupo quinquenal de edad\",\"REGION\",\"Total\",\"Hombres\",\"Mujeres\"]]\n",
    "byageregion_2020_II.drop(byageregion_2020_II[byageregion_2020_II[\"Grupo quinquenal de edad\"]== \"100 años y más\"].index,inplace=True)\n",
    "byageregion_2020_II.drop(byageregion_2020_II[byageregion_2020_II[\"Grupo quinquenal de edad\"]== \"No especificado\"].index,inplace=True)\n",
    "\n",
    "\n",
    "byageregion_2020_II"
   ]
  },
  {
   "cell_type": "code",
   "execution_count": 138,
   "metadata": {},
   "outputs": [
    {
     "data": {
      "image/png": "[encoded data removed]",
      "text/plain": [
       "<Figure size 720x360 with 1 Axes>"
      ]
     },
     "metadata": {
      "needs_background": "light"
     },
     "output_type": "display_data"
    }
   ],
   "source": [
    "\n",
    "\n",
    "# use the scatterplot function to build the bubble map\n",
    "plt.figure(figsize=(10,5))\n",
    "sns.set_palette(\"vlag\")\n",
    "chart_bubble=sns.scatterplot(data=byageregion_2020_II, x=\"Grupo quinquenal de edad\", y=\"REGION\", size=\"Total\", legend=False, sizes=(100, 1000),palette='magma')\n",
    "\n",
    "plt.xticks(\n",
    "    rotation=45, \n",
    "    horizontalalignment='right',\n",
    "    fontweight='light',\n",
    "    fontsize='x-large')\n",
    "\n",
    "\n",
    "plt.savefig('bubble.png')\n",
    "plt.show()\n",
    "\n",
    "\n"
   ]
  },
  {
   "cell_type": "code",
   "execution_count": null,
   "metadata": {},
   "outputs": [],
   "source": [
    "\n"
   ]
  },
  {
   "cell_type": "markdown",
   "metadata": {},
   "source": [
    "### 4.1. 3 By age and gender"
   ]
  },
  {
   "cell_type": "markdown",
   "metadata": {},
   "source": [
    "#### by age % over nation"
   ]
  },
  {
   "cell_type": "code",
   "execution_count": 28,
   "metadata": {},
   "outputs": [],
   "source": [
    "# por edad % sobre nacional\n",
    "\n",
    "df_bygender[\"%NAC_P_0A2\"]=df_bygender[\"P_0A2\"]/TotalPopulation\n",
    "df_bygender[\"%NAC_P_3A5\"]=df_bygender[\"P_3A5\"]/TotalPopulation\n",
    "df_bygender[\"%NAC_P_6A11\"]=df_bygender[\"P_6A11\"]/TotalPopulation\n",
    "df_bygender[\"%NAC_P_12A14\"]=df_bygender[\"P_12A14\"]/TotalPopulation\n",
    "df_bygender[\"%NAC_P_15A17\"]=df_bygender[\"P_15A17\"]/TotalPopulation\n",
    "df_bygender[\"%NAC_P_18A24\"]=df_bygender[\"P_18A24\"]/TotalPopulation\n",
    "df_bygender[\"%NAC_P_25A59\"]=df_bygender[\"P_25A59\"]/TotalPopulation\n",
    "df_bygender[\"%NAC_P_60YMAS\"]=df_bygender[\"P_60YMAS\"]/TotalPopulation"
   ]
  },
  {
   "cell_type": "code",
   "execution_count": 29,
   "metadata": {},
   "outputs": [
    {
     "data": {
      "text/html": [
       "<div>\n",
       "<style scoped>\n",
       "    .dataframe tbody tr th:only-of-type {\n",
       "        vertical-align: middle;\n",
       "    }\n",
       "\n",
       "    .dataframe tbody tr th {\n",
       "        vertical-align: top;\n",
       "    }\n",
       "\n",
       "    .dataframe thead th {\n",
       "        text-align: right;\n",
       "    }\n",
       "</style>\n",
       "<table border=\"1\" class=\"dataframe\">\n",
       "  <thead>\n",
       "    <tr style=\"text-align: right;\">\n",
       "      <th></th>\n",
       "      <th>0</th>\n",
       "      <th>1</th>\n",
       "      <th>2</th>\n",
       "      <th>3</th>\n",
       "    </tr>\n",
       "  </thead>\n",
       "  <tbody>\n",
       "    <tr>\n",
       "      <th>REGION</th>\n",
       "      <td>CENTRO</td>\n",
       "      <td>CENTRO NORTE</td>\n",
       "      <td>NORTE</td>\n",
       "      <td>SUR</td>\n",
       "    </tr>\n",
       "    <tr>\n",
       "      <th>%NAC_P_0A2</th>\n",
       "      <td>0.02</td>\n",
       "      <td>0.01</td>\n",
       "      <td>0.01</td>\n",
       "      <td>0.01</td>\n",
       "    </tr>\n",
       "    <tr>\n",
       "      <th>%NAC_P_3A5</th>\n",
       "      <td>0.02</td>\n",
       "      <td>0.01</td>\n",
       "      <td>0.01</td>\n",
       "      <td>0.01</td>\n",
       "    </tr>\n",
       "    <tr>\n",
       "      <th>%NAC_P_6A11</th>\n",
       "      <td>0.04</td>\n",
       "      <td>0.02</td>\n",
       "      <td>0.02</td>\n",
       "      <td>0.03</td>\n",
       "    </tr>\n",
       "    <tr>\n",
       "      <th>%NAC_P_12A14</th>\n",
       "      <td>0.02</td>\n",
       "      <td>0.01</td>\n",
       "      <td>0.01</td>\n",
       "      <td>0.01</td>\n",
       "    </tr>\n",
       "    <tr>\n",
       "      <th>%NAC_P_15A17</th>\n",
       "      <td>0.02</td>\n",
       "      <td>0.01</td>\n",
       "      <td>0.01</td>\n",
       "      <td>0.01</td>\n",
       "    </tr>\n",
       "    <tr>\n",
       "      <th>%NAC_P_18A24</th>\n",
       "      <td>0.04</td>\n",
       "      <td>0.02</td>\n",
       "      <td>0.02</td>\n",
       "      <td>0.03</td>\n",
       "    </tr>\n",
       "    <tr>\n",
       "      <th>%NAC_P_25A59</th>\n",
       "      <td>0.18</td>\n",
       "      <td>0.09</td>\n",
       "      <td>0.09</td>\n",
       "      <td>0.10</td>\n",
       "    </tr>\n",
       "    <tr>\n",
       "      <th>%NAC_P_60YMAS</th>\n",
       "      <td>0.05</td>\n",
       "      <td>0.03</td>\n",
       "      <td>0.02</td>\n",
       "      <td>0.03</td>\n",
       "    </tr>\n",
       "  </tbody>\n",
       "</table>\n",
       "</div>"
      ],
      "text/plain": [
       "                    0             1      2    3\n",
       "REGION         CENTRO  CENTRO NORTE  NORTE  SUR\n",
       "%NAC_P_0A2       0.02          0.01   0.01 0.01\n",
       "%NAC_P_3A5       0.02          0.01   0.01 0.01\n",
       "%NAC_P_6A11      0.04          0.02   0.02 0.03\n",
       "%NAC_P_12A14     0.02          0.01   0.01 0.01\n",
       "%NAC_P_15A17     0.02          0.01   0.01 0.01\n",
       "%NAC_P_18A24     0.04          0.02   0.02 0.03\n",
       "%NAC_P_25A59     0.18          0.09   0.09 0.10\n",
       "%NAC_P_60YMAS    0.05          0.03   0.02 0.03"
      ]
     },
     "execution_count": 29,
     "metadata": {},
     "output_type": "execute_result"
    }
   ],
   "source": [
    "df_bygender[[\"REGION\",'%NAC_P_0A2','%NAC_P_3A5','%NAC_P_6A11','%NAC_P_12A14','%NAC_P_15A17','%NAC_P_18A24',\"%NAC_P_25A59\",'%NAC_P_60YMAS']].transpose()"
   ]
  },
  {
   "cell_type": "code",
   "execution_count": 30,
   "metadata": {},
   "outputs": [],
   "source": [
    "##  6graph !!!!!!!!!!!!!!!!!!!!!!!!!!!"
   ]
  },
  {
   "cell_type": "markdown",
   "metadata": {},
   "source": [
    "#### by age % over region"
   ]
  },
  {
   "cell_type": "code",
   "execution_count": 31,
   "metadata": {},
   "outputs": [],
   "source": [
    "df_bygender[\"%REG_P_0A2\"]=df_bygender[\"P_0A2\"]/df_bygender[\"POBTOT\"]\n",
    "df_bygender[\"%REG_P_3A5\"]=df_bygender[\"P_3A5\"]/df_bygender[\"POBTOT\"]\n",
    "df_bygender[\"%REG_P_6A11\"]=df_bygender[\"P_6A11\"]/df_bygender[\"POBTOT\"]\n",
    "df_bygender[\"%REG_P_12A14\"]=df_bygender[\"P_12A14\"]/df_bygender[\"POBTOT\"]\n",
    "df_bygender[\"%REG_P_15A17\"]=df_bygender[\"P_15A17\"]/df_bygender[\"POBTOT\"]\n",
    "df_bygender[\"%REG_P_18A24\"]=df_bygender[\"P_18A24\"]/df_bygender[\"POBTOT\"]\n",
    "df_bygender[\"%REG_P_25A59\"]=df_bygender[\"P_25A59\"]/df_bygender[\"POBTOT\"]\n",
    "df_bygender[\"%REG_P_60YMAS\"]=df_bygender[\"P_60YMAS\"]/df_bygender[\"POBTOT\"]"
   ]
  },
  {
   "cell_type": "code",
   "execution_count": 32,
   "metadata": {},
   "outputs": [
    {
     "data": {
      "text/html": [
       "<div>\n",
       "<style scoped>\n",
       "    .dataframe tbody tr th:only-of-type {\n",
       "        vertical-align: middle;\n",
       "    }\n",
       "\n",
       "    .dataframe tbody tr th {\n",
       "        vertical-align: top;\n",
       "    }\n",
       "\n",
       "    .dataframe thead th {\n",
       "        text-align: right;\n",
       "    }\n",
       "</style>\n",
       "<table border=\"1\" class=\"dataframe\">\n",
       "  <thead>\n",
       "    <tr style=\"text-align: right;\">\n",
       "      <th></th>\n",
       "      <th>0</th>\n",
       "      <th>1</th>\n",
       "      <th>2</th>\n",
       "      <th>3</th>\n",
       "    </tr>\n",
       "  </thead>\n",
       "  <tbody>\n",
       "    <tr>\n",
       "      <th>REGION</th>\n",
       "      <td>CENTRO</td>\n",
       "      <td>CENTRO NORTE</td>\n",
       "      <td>NORTE</td>\n",
       "      <td>SUR</td>\n",
       "    </tr>\n",
       "    <tr>\n",
       "      <th>%REG_P_0A2</th>\n",
       "      <td>0.04</td>\n",
       "      <td>0.05</td>\n",
       "      <td>0.04</td>\n",
       "      <td>0.05</td>\n",
       "    </tr>\n",
       "    <tr>\n",
       "      <th>%REG_P_3A5</th>\n",
       "      <td>0.05</td>\n",
       "      <td>0.05</td>\n",
       "      <td>0.05</td>\n",
       "      <td>0.06</td>\n",
       "    </tr>\n",
       "    <tr>\n",
       "      <th>%REG_P_6A11</th>\n",
       "      <td>0.10</td>\n",
       "      <td>0.11</td>\n",
       "      <td>0.10</td>\n",
       "      <td>0.11</td>\n",
       "    </tr>\n",
       "    <tr>\n",
       "      <th>%REG_P_12A14</th>\n",
       "      <td>0.05</td>\n",
       "      <td>0.05</td>\n",
       "      <td>0.05</td>\n",
       "      <td>0.05</td>\n",
       "    </tr>\n",
       "    <tr>\n",
       "      <th>%REG_P_15A17</th>\n",
       "      <td>0.05</td>\n",
       "      <td>0.05</td>\n",
       "      <td>0.05</td>\n",
       "      <td>0.05</td>\n",
       "    </tr>\n",
       "    <tr>\n",
       "      <th>%REG_P_18A24</th>\n",
       "      <td>0.12</td>\n",
       "      <td>0.12</td>\n",
       "      <td>0.12</td>\n",
       "      <td>0.11</td>\n",
       "    </tr>\n",
       "    <tr>\n",
       "      <th>%REG_P_25A59</th>\n",
       "      <td>0.47</td>\n",
       "      <td>0.45</td>\n",
       "      <td>0.47</td>\n",
       "      <td>0.44</td>\n",
       "    </tr>\n",
       "    <tr>\n",
       "      <th>%REG_P_60YMAS</th>\n",
       "      <td>0.12</td>\n",
       "      <td>0.12</td>\n",
       "      <td>0.11</td>\n",
       "      <td>0.12</td>\n",
       "    </tr>\n",
       "  </tbody>\n",
       "</table>\n",
       "</div>"
      ],
      "text/plain": [
       "                    0             1      2    3\n",
       "REGION         CENTRO  CENTRO NORTE  NORTE  SUR\n",
       "%REG_P_0A2       0.04          0.05   0.04 0.05\n",
       "%REG_P_3A5       0.05          0.05   0.05 0.06\n",
       "%REG_P_6A11      0.10          0.11   0.10 0.11\n",
       "%REG_P_12A14     0.05          0.05   0.05 0.05\n",
       "%REG_P_15A17     0.05          0.05   0.05 0.05\n",
       "%REG_P_18A24     0.12          0.12   0.12 0.11\n",
       "%REG_P_25A59     0.47          0.45   0.47 0.44\n",
       "%REG_P_60YMAS    0.12          0.12   0.11 0.12"
      ]
     },
     "execution_count": 32,
     "metadata": {},
     "output_type": "execute_result"
    }
   ],
   "source": [
    "df_bygender[[\"REGION\",'%REG_P_0A2','%REG_P_3A5','%REG_P_6A11','%REG_P_12A14','%REG_P_15A17','%REG_P_18A24',\"%REG_P_25A59\",'%REG_P_60YMAS']].transpose()\n"
   ]
  },
  {
   "cell_type": "code",
   "execution_count": 33,
   "metadata": {},
   "outputs": [],
   "source": [
    "##  7graph !!!!!!!!!!!!!!!!!!!!!!!!!!!"
   ]
  },
  {
   "cell_type": "markdown",
   "metadata": {},
   "source": [
    "### 4.1. 2.2 By age and region and gender"
   ]
  },
  {
   "cell_type": "code",
   "execution_count": 34,
   "metadata": {},
   "outputs": [],
   "source": [
    "df_bygender[\"P_25A59_F\"]=df_bygender[\"POBFEM\"]-df_bygender[\"P_0A2_F\"]-df_bygender[\"P_3A5_F\"]-df_bygender[\"P_6A11_F\"]-df_bygender[\"P_12A14_F\"]-df_bygender[\"P_15A17_F\"]-df_bygender[\"P_18A24_F\"]-df_bygender[\"P_60YMAS_F\"]\n",
    "df_bygender[\"P_25A59_M\"]=df_bygender[\"POBMAS\"]-df_bygender[\"P_0A2_M\"]-df_bygender[\"P_3A5_M\"]-df_bygender[\"P_6A11_M\"]-df_bygender[\"P_12A14_M\"]-df_bygender[\"P_15A17_M\"]-df_bygender[\"P_18A24_M\"]-df_bygender[\"P_60YMAS_M\"]\n",
    "#df_bygender[[\"REGION\",\"P_25A59_F\",\"P_25A59_M\"]]"
   ]
  },
  {
   "cell_type": "code",
   "execution_count": 35,
   "metadata": {},
   "outputs": [
    {
     "data": {
      "text/html": [
       "<div>\n",
       "<style scoped>\n",
       "    .dataframe tbody tr th:only-of-type {\n",
       "        vertical-align: middle;\n",
       "    }\n",
       "\n",
       "    .dataframe tbody tr th {\n",
       "        vertical-align: top;\n",
       "    }\n",
       "\n",
       "    .dataframe thead th {\n",
       "        text-align: right;\n",
       "    }\n",
       "</style>\n",
       "<table border=\"1\" class=\"dataframe\">\n",
       "  <thead>\n",
       "    <tr style=\"text-align: right;\">\n",
       "      <th></th>\n",
       "      <th>0</th>\n",
       "      <th>1</th>\n",
       "      <th>2</th>\n",
       "      <th>3</th>\n",
       "    </tr>\n",
       "  </thead>\n",
       "  <tbody>\n",
       "    <tr>\n",
       "      <th>REGION</th>\n",
       "      <td>CENTRO</td>\n",
       "      <td>CENTRO NORTE</td>\n",
       "      <td>NORTE</td>\n",
       "      <td>SUR</td>\n",
       "    </tr>\n",
       "    <tr>\n",
       "      <th>P_0A2_F</th>\n",
       "      <td>1004668</td>\n",
       "      <td>634216</td>\n",
       "      <td>497278</td>\n",
       "      <td>704113</td>\n",
       "    </tr>\n",
       "    <tr>\n",
       "      <th>P_3A5_F</th>\n",
       "      <td>1135093</td>\n",
       "      <td>695889</td>\n",
       "      <td>569497</td>\n",
       "      <td>784288</td>\n",
       "    </tr>\n",
       "    <tr>\n",
       "      <th>P_6A11_F</th>\n",
       "      <td>2291488</td>\n",
       "      <td>1387080</td>\n",
       "      <td>1122359</td>\n",
       "      <td>1581172</td>\n",
       "    </tr>\n",
       "    <tr>\n",
       "      <th>P_12A14_F</th>\n",
       "      <td>1186665</td>\n",
       "      <td>686300</td>\n",
       "      <td>568365</td>\n",
       "      <td>779908</td>\n",
       "    </tr>\n",
       "    <tr>\n",
       "      <th>P_15A17_F</th>\n",
       "      <td>1194423</td>\n",
       "      <td>680126</td>\n",
       "      <td>556076</td>\n",
       "      <td>763588</td>\n",
       "    </tr>\n",
       "    <tr>\n",
       "      <th>P_18A24_F</th>\n",
       "      <td>2798573</td>\n",
       "      <td>1568332</td>\n",
       "      <td>1353166</td>\n",
       "      <td>1660644</td>\n",
       "    </tr>\n",
       "    <tr>\n",
       "      <th>P_25A59_F</th>\n",
       "      <td>11809486</td>\n",
       "      <td>6135637</td>\n",
       "      <td>5421474</td>\n",
       "      <td>6695801</td>\n",
       "    </tr>\n",
       "    <tr>\n",
       "      <th>P_60YMAS_F</th>\n",
       "      <td>3230959</td>\n",
       "      <td>1709323</td>\n",
       "      <td>1369221</td>\n",
       "      <td>1807233</td>\n",
       "    </tr>\n",
       "  </tbody>\n",
       "</table>\n",
       "</div>"
      ],
      "text/plain": [
       "                   0             1        2        3\n",
       "REGION        CENTRO  CENTRO NORTE    NORTE      SUR\n",
       "P_0A2_F      1004668        634216   497278   704113\n",
       "P_3A5_F      1135093        695889   569497   784288\n",
       "P_6A11_F     2291488       1387080  1122359  1581172\n",
       "P_12A14_F    1186665        686300   568365   779908\n",
       "P_15A17_F    1194423        680126   556076   763588\n",
       "P_18A24_F    2798573       1568332  1353166  1660644\n",
       "P_25A59_F   11809486       6135637  5421474  6695801\n",
       "P_60YMAS_F   3230959       1709323  1369221  1807233"
      ]
     },
     "execution_count": 35,
     "metadata": {},
     "output_type": "execute_result"
    }
   ],
   "source": [
    "#Femenina\n",
    "df_bygender[['REGION','P_0A2_F','P_3A5_F','P_6A11_F','P_12A14_F','P_15A17_F','P_18A24_F','P_25A59_F','P_60YMAS_F']].transpose()"
   ]
  },
  {
   "cell_type": "code",
   "execution_count": 36,
   "metadata": {},
   "outputs": [],
   "source": [
    "##  8graph !!!!!!!!!!!!!!!!!!!!!!!!!!!"
   ]
  },
  {
   "cell_type": "code",
   "execution_count": 37,
   "metadata": {},
   "outputs": [
    {
     "data": {
      "text/html": [
       "<div>\n",
       "<style scoped>\n",
       "    .dataframe tbody tr th:only-of-type {\n",
       "        vertical-align: middle;\n",
       "    }\n",
       "\n",
       "    .dataframe tbody tr th {\n",
       "        vertical-align: top;\n",
       "    }\n",
       "\n",
       "    .dataframe thead th {\n",
       "        text-align: right;\n",
       "    }\n",
       "</style>\n",
       "<table border=\"1\" class=\"dataframe\">\n",
       "  <thead>\n",
       "    <tr style=\"text-align: right;\">\n",
       "      <th></th>\n",
       "      <th>0</th>\n",
       "      <th>1</th>\n",
       "      <th>2</th>\n",
       "      <th>3</th>\n",
       "    </tr>\n",
       "  </thead>\n",
       "  <tbody>\n",
       "    <tr>\n",
       "      <th>REGION</th>\n",
       "      <td>CENTRO</td>\n",
       "      <td>CENTRO NORTE</td>\n",
       "      <td>NORTE</td>\n",
       "      <td>SUR</td>\n",
       "    </tr>\n",
       "    <tr>\n",
       "      <th>P_0A2_M</th>\n",
       "      <td>1027936</td>\n",
       "      <td>648873</td>\n",
       "      <td>510405</td>\n",
       "      <td>719274</td>\n",
       "    </tr>\n",
       "    <tr>\n",
       "      <th>P_3A5_M</th>\n",
       "      <td>1162445</td>\n",
       "      <td>713027</td>\n",
       "      <td>584040</td>\n",
       "      <td>800005</td>\n",
       "    </tr>\n",
       "    <tr>\n",
       "      <th>P_6A11_M</th>\n",
       "      <td>2357775</td>\n",
       "      <td>1430663</td>\n",
       "      <td>1162050</td>\n",
       "      <td>1619331</td>\n",
       "    </tr>\n",
       "    <tr>\n",
       "      <th>P_12A14_M</th>\n",
       "      <td>1209322</td>\n",
       "      <td>707456</td>\n",
       "      <td>587611</td>\n",
       "      <td>799144</td>\n",
       "    </tr>\n",
       "    <tr>\n",
       "      <th>P_15A17_M</th>\n",
       "      <td>1227831</td>\n",
       "      <td>698175</td>\n",
       "      <td>578461</td>\n",
       "      <td>776633</td>\n",
       "    </tr>\n",
       "    <tr>\n",
       "      <th>P_18A24_M</th>\n",
       "      <td>2782148</td>\n",
       "      <td>1556309</td>\n",
       "      <td>1384051</td>\n",
       "      <td>1588697</td>\n",
       "    </tr>\n",
       "    <tr>\n",
       "      <th>P_25A59_M</th>\n",
       "      <td>10612457</td>\n",
       "      <td>5702880</td>\n",
       "      <td>5345343</td>\n",
       "      <td>5974183</td>\n",
       "    </tr>\n",
       "    <tr>\n",
       "      <th>P_60YMAS_M</th>\n",
       "      <td>2645033</td>\n",
       "      <td>1508238</td>\n",
       "      <td>1199336</td>\n",
       "      <td>1614972</td>\n",
       "    </tr>\n",
       "  </tbody>\n",
       "</table>\n",
       "</div>"
      ],
      "text/plain": [
       "                   0             1        2        3\n",
       "REGION        CENTRO  CENTRO NORTE    NORTE      SUR\n",
       "P_0A2_M      1027936        648873   510405   719274\n",
       "P_3A5_M      1162445        713027   584040   800005\n",
       "P_6A11_M     2357775       1430663  1162050  1619331\n",
       "P_12A14_M    1209322        707456   587611   799144\n",
       "P_15A17_M    1227831        698175   578461   776633\n",
       "P_18A24_M    2782148       1556309  1384051  1588697\n",
       "P_25A59_M   10612457       5702880  5345343  5974183\n",
       "P_60YMAS_M   2645033       1508238  1199336  1614972"
      ]
     },
     "execution_count": 37,
     "metadata": {},
     "output_type": "execute_result"
    }
   ],
   "source": [
    "#Masculina\n",
    "df_bygender[['REGION','P_0A2_M','P_3A5_M','P_6A11_M','P_12A14_M','P_15A17_M','P_18A24_M','P_25A59_M','P_60YMAS_M']].transpose()"
   ]
  },
  {
   "cell_type": "code",
   "execution_count": 38,
   "metadata": {},
   "outputs": [],
   "source": [
    "##  9graph !!!!!!!!!!!!!!!!!!!!!!!!!!!"
   ]
  },
  {
   "cell_type": "code",
   "execution_count": 39,
   "metadata": {},
   "outputs": [],
   "source": [
    "##  10graph !!!!!!!!!!!!!!!!!!!!!!!!!!!  dif fem -masc"
   ]
  },
  {
   "cell_type": "code",
   "execution_count": 40,
   "metadata": {},
   "outputs": [],
   "source": [
    "# checar el error en p25 a 59\n",
    "# dif  tabla fem - tabla mas"
   ]
  },
  {
   "cell_type": "code",
   "execution_count": 41,
   "metadata": {},
   "outputs": [],
   "source": [
    "# 1 % de segmento de edad / totpob\n",
    "# mismo pero fem\n",
    "#mismo pero mas\n",
    "#piramide interactiva. (5 años, 10 años)"
   ]
  },
  {
   "cell_type": "code",
   "execution_count": null,
   "metadata": {},
   "outputs": [],
   "source": []
  },
  {
   "cell_type": "code",
   "execution_count": null,
   "metadata": {},
   "outputs": [],
   "source": []
  },
  {
   "cell_type": "code",
   "execution_count": null,
   "metadata": {},
   "outputs": [],
   "source": []
  },
  {
   "cell_type": "code",
   "execution_count": null,
   "metadata": {},
   "outputs": [],
   "source": []
  },
  {
   "cell_type": "code",
   "execution_count": null,
   "metadata": {},
   "outputs": [],
   "source": []
  },
  {
   "cell_type": "markdown",
   "metadata": {},
   "source": [
    "### 4.1.4 viven en el estado que nacieron"
   ]
  },
  {
   "cell_type": "code",
   "execution_count": 42,
   "metadata": {},
   "outputs": [
    {
     "data": {
      "text/html": [
       "<div>\n",
       "<style scoped>\n",
       "    .dataframe tbody tr th:only-of-type {\n",
       "        vertical-align: middle;\n",
       "    }\n",
       "\n",
       "    .dataframe tbody tr th {\n",
       "        vertical-align: top;\n",
       "    }\n",
       "\n",
       "    .dataframe thead th {\n",
       "        text-align: right;\n",
       "    }\n",
       "</style>\n",
       "<table border=\"1\" class=\"dataframe\">\n",
       "  <thead>\n",
       "    <tr style=\"text-align: right;\">\n",
       "      <th></th>\n",
       "      <th>REGION</th>\n",
       "      <th>PNACENT</th>\n",
       "      <th>PNACENT_F</th>\n",
       "      <th>PNACENT_M</th>\n",
       "    </tr>\n",
       "  </thead>\n",
       "  <tbody>\n",
       "    <tr>\n",
       "      <th>0</th>\n",
       "      <td>CENTRO</td>\n",
       "      <td>37130088</td>\n",
       "      <td>19048757</td>\n",
       "      <td>18081331</td>\n",
       "    </tr>\n",
       "    <tr>\n",
       "      <th>1</th>\n",
       "      <td>CENTRO NORTE</td>\n",
       "      <td>22605075</td>\n",
       "      <td>11541020</td>\n",
       "      <td>11064055</td>\n",
       "    </tr>\n",
       "    <tr>\n",
       "      <th>2</th>\n",
       "      <td>NORTE</td>\n",
       "      <td>17359297</td>\n",
       "      <td>8728079</td>\n",
       "      <td>8631218</td>\n",
       "    </tr>\n",
       "    <tr>\n",
       "      <th>3</th>\n",
       "      <td>SUR</td>\n",
       "      <td>25334299</td>\n",
       "      <td>13073455</td>\n",
       "      <td>12260844</td>\n",
       "    </tr>\n",
       "  </tbody>\n",
       "</table>\n",
       "</div>"
      ],
      "text/plain": [
       "         REGION   PNACENT  PNACENT_F  PNACENT_M\n",
       "0        CENTRO  37130088   19048757   18081331\n",
       "1  CENTRO NORTE  22605075   11541020   11064055\n",
       "2         NORTE  17359297    8728079    8631218\n",
       "3           SUR  25334299   13073455   12260844"
      ]
     },
     "execution_count": 42,
     "metadata": {},
     "output_type": "execute_result"
    }
   ],
   "source": [
    "df_byregion_II[[\"REGION\",\"PNACENT\",\"PNACENT_F\",\"PNACENT_M\"]]"
   ]
  },
  {
   "cell_type": "code",
   "execution_count": 43,
   "metadata": {},
   "outputs": [
    {
     "data": {
      "text/html": [
       "<div>\n",
       "<style scoped>\n",
       "    .dataframe tbody tr th:only-of-type {\n",
       "        vertical-align: middle;\n",
       "    }\n",
       "\n",
       "    .dataframe tbody tr th {\n",
       "        vertical-align: top;\n",
       "    }\n",
       "\n",
       "    .dataframe thead th {\n",
       "        text-align: right;\n",
       "    }\n",
       "</style>\n",
       "<table border=\"1\" class=\"dataframe\">\n",
       "  <thead>\n",
       "    <tr style=\"text-align: right;\">\n",
       "      <th></th>\n",
       "      <th>REGION</th>\n",
       "      <th>%_PNACENT</th>\n",
       "      <th>%_PNACENT_F</th>\n",
       "      <th>%_PNACENT_M</th>\n",
       "    </tr>\n",
       "  </thead>\n",
       "  <tbody>\n",
       "    <tr>\n",
       "      <th>0</th>\n",
       "      <td>CENTRO</td>\n",
       "      <td>0.78</td>\n",
       "      <td>0.77</td>\n",
       "      <td>0.79</td>\n",
       "    </tr>\n",
       "    <tr>\n",
       "      <th>1</th>\n",
       "      <td>CENTRO NORTE</td>\n",
       "      <td>0.85</td>\n",
       "      <td>0.86</td>\n",
       "      <td>0.85</td>\n",
       "    </tr>\n",
       "    <tr>\n",
       "      <th>2</th>\n",
       "      <td>NORTE</td>\n",
       "      <td>0.76</td>\n",
       "      <td>0.76</td>\n",
       "      <td>0.76</td>\n",
       "    </tr>\n",
       "    <tr>\n",
       "      <th>3</th>\n",
       "      <td>SUR</td>\n",
       "      <td>0.88</td>\n",
       "      <td>0.88</td>\n",
       "      <td>0.88</td>\n",
       "    </tr>\n",
       "  </tbody>\n",
       "</table>\n",
       "</div>"
      ],
      "text/plain": [
       "         REGION  %_PNACENT  %_PNACENT_F  %_PNACENT_M\n",
       "0        CENTRO       0.78         0.77         0.79\n",
       "1  CENTRO NORTE       0.85         0.86         0.85\n",
       "2         NORTE       0.76         0.76         0.76\n",
       "3           SUR       0.88         0.88         0.88"
      ]
     },
     "execution_count": 43,
     "metadata": {},
     "output_type": "execute_result"
    }
   ],
   "source": [
    "df_byregion_II[\"%_PNACENT\"]=df_byregion_II[\"PNACENT\"]/df_byregion_II[\"POBTOT\"]\n",
    "df_byregion_II[\"%_PNACENT_F\"]=df_byregion_II[\"PNACENT_F\"]/df_byregion_II[\"POBFEM\"]\n",
    "df_byregion_II[\"%_PNACENT_M\"]=df_byregion_II[\"PNACENT_M\"]/df_byregion_II[\"POBMAS\"]\n",
    "df_byregion_II[[\"REGION\",\"%_PNACENT\",\"%_PNACENT_F\",\"%_PNACENT_M\"]]"
   ]
  },
  {
   "cell_type": "code",
   "execution_count": 44,
   "metadata": {},
   "outputs": [],
   "source": [
    "##  11graph !!!!!!!!!!!!!!!!!!!!!!!!!!!  grafica conmbinada\n"
   ]
  },
  {
   "cell_type": "code",
   "execution_count": null,
   "metadata": {},
   "outputs": [],
   "source": []
  },
  {
   "cell_type": "code",
   "execution_count": null,
   "metadata": {},
   "outputs": [],
   "source": []
  },
  {
   "cell_type": "code",
   "execution_count": null,
   "metadata": {},
   "outputs": [],
   "source": []
  },
  {
   "cell_type": "code",
   "execution_count": null,
   "metadata": {},
   "outputs": [],
   "source": []
  },
  {
   "cell_type": "code",
   "execution_count": null,
   "metadata": {},
   "outputs": [],
   "source": []
  },
  {
   "cell_type": "code",
   "execution_count": null,
   "metadata": {},
   "outputs": [],
   "source": []
  },
  {
   "cell_type": "markdown",
   "metadata": {},
   "source": [
    "### 4.1.5 estatus marital"
   ]
  },
  {
   "cell_type": "code",
   "execution_count": 45,
   "metadata": {},
   "outputs": [
    {
     "data": {
      "text/html": [
       "<div>\n",
       "<style scoped>\n",
       "    .dataframe tbody tr th:only-of-type {\n",
       "        vertical-align: middle;\n",
       "    }\n",
       "\n",
       "    .dataframe tbody tr th {\n",
       "        vertical-align: top;\n",
       "    }\n",
       "\n",
       "    .dataframe thead th {\n",
       "        text-align: right;\n",
       "    }\n",
       "</style>\n",
       "<table border=\"1\" class=\"dataframe\">\n",
       "  <thead>\n",
       "    <tr style=\"text-align: right;\">\n",
       "      <th></th>\n",
       "      <th>REGION</th>\n",
       "      <th>P12YM_SOLT</th>\n",
       "      <th>P12YM_CASA</th>\n",
       "      <th>P12YM_SEPA</th>\n",
       "    </tr>\n",
       "  </thead>\n",
       "  <tbody>\n",
       "    <tr>\n",
       "      <th>0</th>\n",
       "      <td>CENTRO</td>\n",
       "      <td>13655806</td>\n",
       "      <td>20222594</td>\n",
       "      <td>4723744</td>\n",
       "    </tr>\n",
       "    <tr>\n",
       "      <th>1</th>\n",
       "      <td>CENTRO NORTE</td>\n",
       "      <td>7187740</td>\n",
       "      <td>11246322</td>\n",
       "      <td>2432620</td>\n",
       "    </tr>\n",
       "    <tr>\n",
       "      <th>2</th>\n",
       "      <td>NORTE</td>\n",
       "      <td>6166637</td>\n",
       "      <td>9920963</td>\n",
       "      <td>2208020</td>\n",
       "    </tr>\n",
       "    <tr>\n",
       "      <th>3</th>\n",
       "      <td>SUR</td>\n",
       "      <td>7257903</td>\n",
       "      <td>12452790</td>\n",
       "      <td>2655836</td>\n",
       "    </tr>\n",
       "  </tbody>\n",
       "</table>\n",
       "</div>"
      ],
      "text/plain": [
       "         REGION  P12YM_SOLT  P12YM_CASA  P12YM_SEPA\n",
       "0        CENTRO    13655806    20222594     4723744\n",
       "1  CENTRO NORTE     7187740    11246322     2432620\n",
       "2         NORTE     6166637     9920963     2208020\n",
       "3           SUR     7257903    12452790     2655836"
      ]
     },
     "execution_count": 45,
     "metadata": {},
     "output_type": "execute_result"
    }
   ],
   "source": [
    "df_byregion_II[[\"REGION\",\"P12YM_SOLT\",\"P12YM_CASA\",\"P12YM_SEPA\"]]"
   ]
  },
  {
   "cell_type": "code",
   "execution_count": 46,
   "metadata": {},
   "outputs": [
    {
     "data": {
      "text/html": [
       "<div>\n",
       "<style scoped>\n",
       "    .dataframe tbody tr th:only-of-type {\n",
       "        vertical-align: middle;\n",
       "    }\n",
       "\n",
       "    .dataframe tbody tr th {\n",
       "        vertical-align: top;\n",
       "    }\n",
       "\n",
       "    .dataframe thead th {\n",
       "        text-align: right;\n",
       "    }\n",
       "</style>\n",
       "<table border=\"1\" class=\"dataframe\">\n",
       "  <thead>\n",
       "    <tr style=\"text-align: right;\">\n",
       "      <th></th>\n",
       "      <th>REGION</th>\n",
       "      <th>SUMA_MARITAL</th>\n",
       "      <th>%_SOLTERO</th>\n",
       "      <th>%_CASADO</th>\n",
       "      <th>%_SEPARADO</th>\n",
       "    </tr>\n",
       "  </thead>\n",
       "  <tbody>\n",
       "    <tr>\n",
       "      <th>0</th>\n",
       "      <td>CENTRO</td>\n",
       "      <td>38602144</td>\n",
       "      <td>0.35</td>\n",
       "      <td>0.52</td>\n",
       "      <td>0.12</td>\n",
       "    </tr>\n",
       "    <tr>\n",
       "      <th>1</th>\n",
       "      <td>CENTRO NORTE</td>\n",
       "      <td>20866682</td>\n",
       "      <td>0.34</td>\n",
       "      <td>0.54</td>\n",
       "      <td>0.12</td>\n",
       "    </tr>\n",
       "    <tr>\n",
       "      <th>2</th>\n",
       "      <td>NORTE</td>\n",
       "      <td>18295620</td>\n",
       "      <td>0.34</td>\n",
       "      <td>0.54</td>\n",
       "      <td>0.12</td>\n",
       "    </tr>\n",
       "    <tr>\n",
       "      <th>3</th>\n",
       "      <td>SUR</td>\n",
       "      <td>22366529</td>\n",
       "      <td>0.32</td>\n",
       "      <td>0.56</td>\n",
       "      <td>0.12</td>\n",
       "    </tr>\n",
       "  </tbody>\n",
       "</table>\n",
       "</div>"
      ],
      "text/plain": [
       "         REGION  SUMA_MARITAL  %_SOLTERO  %_CASADO  %_SEPARADO\n",
       "0        CENTRO      38602144       0.35      0.52        0.12\n",
       "1  CENTRO NORTE      20866682       0.34      0.54        0.12\n",
       "2         NORTE      18295620       0.34      0.54        0.12\n",
       "3           SUR      22366529       0.32      0.56        0.12"
      ]
     },
     "execution_count": 46,
     "metadata": {},
     "output_type": "execute_result"
    }
   ],
   "source": [
    "df_byregion_II[\"SUMA_MARITAL\"]=df_byregion_II[\"P12YM_SOLT\"]+df_byregion_II[\"P12YM_CASA\"]+df_byregion_II[\"P12YM_SEPA\"]\n",
    "df_byregion_II[\"%_SOLTERO\"]=df_byregion_II[\"P12YM_SOLT\"]/df_byregion_II[\"SUMA_MARITAL\"]\n",
    "df_byregion_II[\"%_CASADO\"]=df_byregion_II[\"P12YM_CASA\"]/df_byregion_II[\"SUMA_MARITAL\"]\n",
    "df_byregion_II[\"%_SEPARADO\"]=df_byregion_II[\"P12YM_SEPA\"]/df_byregion_II[\"SUMA_MARITAL\"]\n",
    "\n",
    "df_byregion_II[[\"REGION\",\"SUMA_MARITAL\",\"%_SOLTERO\",\"%_CASADO\",\"%_SEPARADO\"]]"
   ]
  },
  {
   "cell_type": "code",
   "execution_count": 47,
   "metadata": {},
   "outputs": [],
   "source": [
    "##  12graph !!!!!!!!!!!!!!!!!!!!!!!!!!!  grafica conmbinada"
   ]
  },
  {
   "cell_type": "markdown",
   "metadata": {},
   "source": [
    "### 4.1.6 religion"
   ]
  },
  {
   "cell_type": "code",
   "execution_count": 48,
   "metadata": {},
   "outputs": [
    {
     "data": {
      "text/html": [
       "<div>\n",
       "<style scoped>\n",
       "    .dataframe tbody tr th:only-of-type {\n",
       "        vertical-align: middle;\n",
       "    }\n",
       "\n",
       "    .dataframe tbody tr th {\n",
       "        vertical-align: top;\n",
       "    }\n",
       "\n",
       "    .dataframe thead th {\n",
       "        text-align: right;\n",
       "    }\n",
       "</style>\n",
       "<table border=\"1\" class=\"dataframe\">\n",
       "  <thead>\n",
       "    <tr style=\"text-align: right;\">\n",
       "      <th></th>\n",
       "      <th>REGION</th>\n",
       "      <th>PCATOLICA</th>\n",
       "      <th>PRO_CRIEVA</th>\n",
       "      <th>POTRAS_REL</th>\n",
       "      <th>PSIN_RELIG</th>\n",
       "    </tr>\n",
       "  </thead>\n",
       "  <tbody>\n",
       "    <tr>\n",
       "      <th>0</th>\n",
       "      <td>CENTRO</td>\n",
       "      <td>38509562</td>\n",
       "      <td>3620507</td>\n",
       "      <td>148496</td>\n",
       "      <td>5238970</td>\n",
       "    </tr>\n",
       "    <tr>\n",
       "      <th>1</th>\n",
       "      <td>CENTRO NORTE</td>\n",
       "      <td>22870926</td>\n",
       "      <td>1685632</td>\n",
       "      <td>37901</td>\n",
       "      <td>1756052</td>\n",
       "    </tr>\n",
       "    <tr>\n",
       "      <th>2</th>\n",
       "      <td>NORTE</td>\n",
       "      <td>16470031</td>\n",
       "      <td>3136855</td>\n",
       "      <td>20414</td>\n",
       "      <td>3081254</td>\n",
       "    </tr>\n",
       "    <tr>\n",
       "      <th>3</th>\n",
       "      <td>SUR</td>\n",
       "      <td>19713858</td>\n",
       "      <td>5605958</td>\n",
       "      <td>39566</td>\n",
       "      <td>3192164</td>\n",
       "    </tr>\n",
       "  </tbody>\n",
       "</table>\n",
       "</div>"
      ],
      "text/plain": [
       "         REGION  PCATOLICA  PRO_CRIEVA  POTRAS_REL  PSIN_RELIG\n",
       "0        CENTRO   38509562     3620507      148496     5238970\n",
       "1  CENTRO NORTE   22870926     1685632       37901     1756052\n",
       "2         NORTE   16470031     3136855       20414     3081254\n",
       "3           SUR   19713858     5605958       39566     3192164"
      ]
     },
     "execution_count": 48,
     "metadata": {},
     "output_type": "execute_result"
    }
   ],
   "source": [
    "df_byregion_II[[\"REGION\",\"PCATOLICA\",\"PRO_CRIEVA\",\"POTRAS_REL\",\"PSIN_RELIG\"]]"
   ]
  },
  {
   "cell_type": "code",
   "execution_count": 49,
   "metadata": {},
   "outputs": [
    {
     "data": {
      "text/html": [
       "<div>\n",
       "<style scoped>\n",
       "    .dataframe tbody tr th:only-of-type {\n",
       "        vertical-align: middle;\n",
       "    }\n",
       "\n",
       "    .dataframe tbody tr th {\n",
       "        vertical-align: top;\n",
       "    }\n",
       "\n",
       "    .dataframe thead th {\n",
       "        text-align: right;\n",
       "    }\n",
       "</style>\n",
       "<table border=\"1\" class=\"dataframe\">\n",
       "  <thead>\n",
       "    <tr style=\"text-align: right;\">\n",
       "      <th></th>\n",
       "      <th>REGION</th>\n",
       "      <th>SUMA_RELIGION</th>\n",
       "      <th>%_CATOLICO</th>\n",
       "      <th>%_CRISTIANO</th>\n",
       "      <th>%_OTRAS</th>\n",
       "      <th>%_SIN_RELIGION</th>\n",
       "    </tr>\n",
       "  </thead>\n",
       "  <tbody>\n",
       "    <tr>\n",
       "      <th>0</th>\n",
       "      <td>CENTRO</td>\n",
       "      <td>47517535</td>\n",
       "      <td>0.81</td>\n",
       "      <td>0.08</td>\n",
       "      <td>0.00</td>\n",
       "      <td>0.11</td>\n",
       "    </tr>\n",
       "    <tr>\n",
       "      <th>1</th>\n",
       "      <td>CENTRO NORTE</td>\n",
       "      <td>26350511</td>\n",
       "      <td>0.87</td>\n",
       "      <td>0.06</td>\n",
       "      <td>0.00</td>\n",
       "      <td>0.07</td>\n",
       "    </tr>\n",
       "    <tr>\n",
       "      <th>2</th>\n",
       "      <td>NORTE</td>\n",
       "      <td>22708554</td>\n",
       "      <td>0.73</td>\n",
       "      <td>0.14</td>\n",
       "      <td>0.00</td>\n",
       "      <td>0.14</td>\n",
       "    </tr>\n",
       "    <tr>\n",
       "      <th>3</th>\n",
       "      <td>SUR</td>\n",
       "      <td>28551546</td>\n",
       "      <td>0.69</td>\n",
       "      <td>0.20</td>\n",
       "      <td>0.00</td>\n",
       "      <td>0.11</td>\n",
       "    </tr>\n",
       "  </tbody>\n",
       "</table>\n",
       "</div>"
      ],
      "text/plain": [
       "         REGION  SUMA_RELIGION  %_CATOLICO  %_CRISTIANO  %_OTRAS  \\\n",
       "0        CENTRO       47517535        0.81         0.08     0.00   \n",
       "1  CENTRO NORTE       26350511        0.87         0.06     0.00   \n",
       "2         NORTE       22708554        0.73         0.14     0.00   \n",
       "3           SUR       28551546        0.69         0.20     0.00   \n",
       "\n",
       "   %_SIN_RELIGION  \n",
       "0            0.11  \n",
       "1            0.07  \n",
       "2            0.14  \n",
       "3            0.11  "
      ]
     },
     "execution_count": 49,
     "metadata": {},
     "output_type": "execute_result"
    }
   ],
   "source": [
    "df_byregion_II[\"SUMA_RELIGION\"]=df_byregion_II[\"PCATOLICA\"]+df_byregion_II[\"PRO_CRIEVA\"]+df_byregion_II[\"POTRAS_REL\"]+df_byregion_II[\"PSIN_RELIG\"]\n",
    "df_byregion_II[\"%_CATOLICO\"]=df_byregion_II[\"PCATOLICA\"]/df_byregion_II[\"SUMA_RELIGION\"]\n",
    "df_byregion_II[\"%_CRISTIANO\"]=df_byregion_II[\"PRO_CRIEVA\"]/df_byregion_II[\"SUMA_RELIGION\"]\n",
    "df_byregion_II[\"%_OTRAS\"]=df_byregion_II[\"POTRAS_REL\"]/df_byregion_II[\"SUMA_RELIGION\"]\n",
    "df_byregion_II[\"%_SIN_RELIGION\"]=df_byregion_II[\"PSIN_RELIG\"]/df_byregion_II[\"SUMA_RELIGION\"]\n",
    "\n",
    "df_byregion_II[[\"REGION\",\"SUMA_RELIGION\",\"%_CATOLICO\",\"%_CRISTIANO\",\"%_OTRAS\",\"%_SIN_RELIGION\"]]"
   ]
  },
  {
   "cell_type": "code",
   "execution_count": 50,
   "metadata": {},
   "outputs": [],
   "source": [
    "##  13graph !!!!!!!!!!!!!!!!!!!!!!!!!!!  grafica conmbinada"
   ]
  },
  {
   "cell_type": "markdown",
   "metadata": {},
   "source": [
    "### 4.1.9 vivienda"
   ]
  },
  {
   "cell_type": "code",
   "execution_count": null,
   "metadata": {},
   "outputs": [],
   "source": []
  },
  {
   "cell_type": "code",
   "execution_count": null,
   "metadata": {},
   "outputs": [],
   "source": []
  },
  {
   "cell_type": "code",
   "execution_count": null,
   "metadata": {},
   "outputs": [],
   "source": []
  },
  {
   "cell_type": "code",
   "execution_count": null,
   "metadata": {},
   "outputs": [],
   "source": []
  }
 ],
 "metadata": {
  "kernelspec": {
   "display_name": "Python 3",
   "language": "python",
   "name": "python3"
  },
  "language_info": {
   "codemirror_mode": {
    "name": "ipython",
    "version": 3
   },
   "file_extension": ".py",
   "mimetype": "text/x-python",
   "name": "python",
   "nbconvert_exporter": "python",
   "pygments_lexer": "ipython3",
   "version": "3.8.5"
  }
 },
 "nbformat": 4,
 "nbformat_minor": 4
}
