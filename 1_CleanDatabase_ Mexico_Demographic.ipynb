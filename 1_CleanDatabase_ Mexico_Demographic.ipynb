{
 "cells": [
  {
   "cell_type": "code",
   "execution_count": null,
   "metadata": {},
   "outputs": [],
   "source": []
  },
  {
   "cell_type": "code",
   "execution_count": null,
   "metadata": {},
   "outputs": [],
   "source": []
  },
  {
   "cell_type": "markdown",
   "metadata": {},
   "source": [
    "# PART I"
   ]
  },
  {
   "cell_type": "markdown",
   "metadata": {},
   "source": [
    "# Demographics in Mexico 2020"
   ]
  },
  {
   "cell_type": "markdown",
   "metadata": {},
   "source": [
    "### INDEX\n",
    "#### 1. Dependencies and set up  2. Clean data    3. Analysis: By region,By state, By municipality, By location"
   ]
  },
  {
   "cell_type": "markdown",
   "metadata": {},
   "source": [
    "## 1. Dependencies and set up"
   ]
  },
  {
   "cell_type": "code",
   "execution_count": 1,
   "metadata": {},
   "outputs": [],
   "source": [
    "%matplotlib inline\n",
    "import matplotlib.pyplot as plt\n",
    "import numpy as np\n",
    "import pandas as pd\n",
    "import os \n",
    "pd.set_option('display.float_format', lambda x: '%.2f' % x)\n",
    "import seaborn as sns\n",
    "import math\n",
    "import statistics\n",
    "import scipy.stats"
   ]
  },
  {
   "cell_type": "code",
   "execution_count": 2,
   "metadata": {},
   "outputs": [],
   "source": [
    "#Download from: https://www.inegi.org.mx/programas/ccpv/2020/#Datos_abiertos\n",
    "\n",
    "path_2020 = os.path.join('..', 'demographic info', '1_conjunto_de_datos_iter_00CSV20.csv')"
   ]
  },
  {
   "cell_type": "code",
   "execution_count": 3,
   "metadata": {},
   "outputs": [],
   "source": [
    "demographic_mxn_2020= pd.read_csv(path_2020,low_memory=False,encoding='utf-8-sig')\n",
    "\n",
    "#note: use utf-8-sig beacuse of spanish characters\n",
    "#https://datascience.stackexchange.com/questions/12343/pandas-read-csv-with-spanish-characters"
   ]
  },
  {
   "cell_type": "markdown",
   "metadata": {},
   "source": [
    "## 2. Clean data"
   ]
  },
  {
   "cell_type": "markdown",
   "metadata": {},
   "source": [
    "#### The dataset contains 232 columns and 3.2 millions rows which contain information of Mexico's demographic census 2020. The dataset includes information by  state, municipality and location; geolocation, by age, by gender, religion, marital status, migration, unemployment, health insutance, household and education"
   ]
  },
  {
   "cell_type": "code",
   "execution_count": 4,
   "metadata": {},
   "outputs": [
    {
     "data": {
      "text/html": [
       "<div>\n",
       "<style scoped>\n",
       "    .dataframe tbody tr th:only-of-type {\n",
       "        vertical-align: middle;\n",
       "    }\n",
       "\n",
       "    .dataframe tbody tr th {\n",
       "        vertical-align: top;\n",
       "    }\n",
       "\n",
       "    .dataframe thead th {\n",
       "        text-align: right;\n",
       "    }\n",
       "</style>\n",
       "<table border=\"1\" class=\"dataframe\">\n",
       "  <thead>\n",
       "    <tr style=\"text-align: right;\">\n",
       "      <th></th>\n",
       "      <th>ENTIDAD</th>\n",
       "      <th>NOM_ENT</th>\n",
       "      <th>MUN</th>\n",
       "      <th>NOM_MUN</th>\n",
       "      <th>LOC</th>\n",
       "      <th>NOM_LOC</th>\n",
       "      <th>LONGITUD</th>\n",
       "      <th>LATITUD</th>\n",
       "      <th>ALTITUD</th>\n",
       "      <th>POBTOT</th>\n",
       "      <th>...</th>\n",
       "      <th>VPH_CEL</th>\n",
       "      <th>VPH_INTER</th>\n",
       "      <th>VPH_STVP</th>\n",
       "      <th>VPH_SPMVPI</th>\n",
       "      <th>VPH_CVJ</th>\n",
       "      <th>VPH_SINRTV</th>\n",
       "      <th>VPH_SINLTC</th>\n",
       "      <th>VPH_SINCINT</th>\n",
       "      <th>VPH_SINTIC</th>\n",
       "      <th>TAMLOC</th>\n",
       "    </tr>\n",
       "  </thead>\n",
       "  <tbody>\n",
       "    <tr>\n",
       "      <th>0</th>\n",
       "      <td>0</td>\n",
       "      <td>Total nacional</td>\n",
       "      <td>0</td>\n",
       "      <td>Total nacional</td>\n",
       "      <td>0</td>\n",
       "      <td>Total nacional</td>\n",
       "      <td>NaN</td>\n",
       "      <td>NaN</td>\n",
       "      <td>NaN</td>\n",
       "      <td>126014024</td>\n",
       "      <td>...</td>\n",
       "      <td>30775898</td>\n",
       "      <td>18307193</td>\n",
       "      <td>15211306</td>\n",
       "      <td>6616141</td>\n",
       "      <td>4047100</td>\n",
       "      <td>1788552</td>\n",
       "      <td>3170894</td>\n",
       "      <td>15108204</td>\n",
       "      <td>852871</td>\n",
       "      <td>*</td>\n",
       "    </tr>\n",
       "    <tr>\n",
       "      <th>1</th>\n",
       "      <td>0</td>\n",
       "      <td>Total nacional</td>\n",
       "      <td>0</td>\n",
       "      <td>Total nacional</td>\n",
       "      <td>9998</td>\n",
       "      <td>Localidades de una vivienda</td>\n",
       "      <td>NaN</td>\n",
       "      <td>NaN</td>\n",
       "      <td>NaN</td>\n",
       "      <td>250354</td>\n",
       "      <td>...</td>\n",
       "      <td>47005</td>\n",
       "      <td>8385</td>\n",
       "      <td>18981</td>\n",
       "      <td>1732</td>\n",
       "      <td>1113</td>\n",
       "      <td>12775</td>\n",
       "      <td>14143</td>\n",
       "      <td>51293</td>\n",
       "      <td>7154</td>\n",
       "      <td>*</td>\n",
       "    </tr>\n",
       "    <tr>\n",
       "      <th>2</th>\n",
       "      <td>0</td>\n",
       "      <td>Total nacional</td>\n",
       "      <td>0</td>\n",
       "      <td>Total nacional</td>\n",
       "      <td>9999</td>\n",
       "      <td>Localidades de dos viviendas</td>\n",
       "      <td>NaN</td>\n",
       "      <td>NaN</td>\n",
       "      <td>NaN</td>\n",
       "      <td>147125</td>\n",
       "      <td>...</td>\n",
       "      <td>25581</td>\n",
       "      <td>5027</td>\n",
       "      <td>11306</td>\n",
       "      <td>971</td>\n",
       "      <td>708</td>\n",
       "      <td>8247</td>\n",
       "      <td>10065</td>\n",
       "      <td>29741</td>\n",
       "      <td>5283</td>\n",
       "      <td>*</td>\n",
       "    </tr>\n",
       "    <tr>\n",
       "      <th>3</th>\n",
       "      <td>1</td>\n",
       "      <td>Aguascalientes</td>\n",
       "      <td>0</td>\n",
       "      <td>Total de la entidad Aguascalientes</td>\n",
       "      <td>0</td>\n",
       "      <td>Total de la Entidad</td>\n",
       "      <td>NaN</td>\n",
       "      <td>NaN</td>\n",
       "      <td>NaN</td>\n",
       "      <td>1425607</td>\n",
       "      <td>...</td>\n",
       "      <td>359895</td>\n",
       "      <td>236003</td>\n",
       "      <td>174089</td>\n",
       "      <td>98724</td>\n",
       "      <td>70126</td>\n",
       "      <td>6021</td>\n",
       "      <td>15323</td>\n",
       "      <td>128996</td>\n",
       "      <td>1711</td>\n",
       "      <td>*</td>\n",
       "    </tr>\n",
       "    <tr>\n",
       "      <th>4</th>\n",
       "      <td>1</td>\n",
       "      <td>Aguascalientes</td>\n",
       "      <td>0</td>\n",
       "      <td>Total de la entidad Aguascalientes</td>\n",
       "      <td>9998</td>\n",
       "      <td>Localidades de una vivienda</td>\n",
       "      <td>NaN</td>\n",
       "      <td>NaN</td>\n",
       "      <td>NaN</td>\n",
       "      <td>3697</td>\n",
       "      <td>...</td>\n",
       "      <td>732</td>\n",
       "      <td>205</td>\n",
       "      <td>212</td>\n",
       "      <td>48</td>\n",
       "      <td>41</td>\n",
       "      <td>39</td>\n",
       "      <td>62</td>\n",
       "      <td>530</td>\n",
       "      <td>20</td>\n",
       "      <td>*</td>\n",
       "    </tr>\n",
       "  </tbody>\n",
       "</table>\n",
       "<p>5 rows × 232 columns</p>\n",
       "</div>"
      ],
      "text/plain": [
       "   ENTIDAD         NOM_ENT  MUN                             NOM_MUN   LOC  \\\n",
       "0        0  Total nacional    0                      Total nacional     0   \n",
       "1        0  Total nacional    0                      Total nacional  9998   \n",
       "2        0  Total nacional    0                      Total nacional  9999   \n",
       "3        1  Aguascalientes    0  Total de la entidad Aguascalientes     0   \n",
       "4        1  Aguascalientes    0  Total de la entidad Aguascalientes  9998   \n",
       "\n",
       "                        NOM_LOC LONGITUD LATITUD ALTITUD     POBTOT  ...  \\\n",
       "0                Total nacional      NaN     NaN     NaN  126014024  ...   \n",
       "1   Localidades de una vivienda      NaN     NaN     NaN     250354  ...   \n",
       "2  Localidades de dos viviendas      NaN     NaN     NaN     147125  ...   \n",
       "3           Total de la Entidad      NaN     NaN     NaN    1425607  ...   \n",
       "4   Localidades de una vivienda      NaN     NaN     NaN       3697  ...   \n",
       "\n",
       "    VPH_CEL VPH_INTER  VPH_STVP VPH_SPMVPI  VPH_CVJ VPH_SINRTV VPH_SINLTC  \\\n",
       "0  30775898  18307193  15211306    6616141  4047100    1788552    3170894   \n",
       "1     47005      8385     18981       1732     1113      12775      14143   \n",
       "2     25581      5027     11306        971      708       8247      10065   \n",
       "3    359895    236003    174089      98724    70126       6021      15323   \n",
       "4       732       205       212         48       41         39         62   \n",
       "\n",
       "  VPH_SINCINT VPH_SINTIC TAMLOC  \n",
       "0    15108204     852871      *  \n",
       "1       51293       7154      *  \n",
       "2       29741       5283      *  \n",
       "3      128996       1711      *  \n",
       "4         530         20      *  \n",
       "\n",
       "[5 rows x 232 columns]"
      ]
     },
     "execution_count": 4,
     "metadata": {},
     "output_type": "execute_result"
    }
   ],
   "source": [
    "demographic_mxn_2020.head()"
   ]
  },
  {
   "cell_type": "markdown",
   "metadata": {},
   "source": [
    "##### 2.1 DROP COLUMNS"
   ]
  },
  {
   "cell_type": "markdown",
   "metadata": {},
   "source": [
    "#### Columns that have aggregated data will not be included, 63 columns will be excluded"
   ]
  },
  {
   "cell_type": "code",
   "execution_count": 5,
   "metadata": {},
   "outputs": [],
   "source": [
    "\n",
    "#drop columns that we will not use\n",
    "simple_df=demographic_mxn_2020.drop(demographic_mxn_2020.columns[[15,16,17,18,19,20,21,22,23,24,25,26,27,28,29,52,53,54,55,56,63,64,65,66,67,68,69,70,71,72,73,74,75,76,77,78,79,80,81,82,83,84,85,86,87,88,89,90,91,92,93,94,95,96,97,98,99,100,140,141,142,187,188]],axis=1)\n"
   ]
  },
  {
   "cell_type": "code",
   "execution_count": 6,
   "metadata": {},
   "outputs": [
    {
     "name": "stdout",
     "output_type": "stream",
     "text": [
      "<class 'pandas.core.frame.DataFrame'>\n",
      "RangeIndex: 195662 entries, 0 to 195661\n",
      "Columns: 169 entries, ENTIDAD to TAMLOC\n",
      "dtypes: int64(6), object(163)\n",
      "memory usage: 252.3+ MB\n"
     ]
    }
   ],
   "source": [
    "simple_df.info()"
   ]
  },
  {
   "cell_type": "markdown",
   "metadata": {},
   "source": [
    "####  2.2 CLEAN DATA"
   ]
  },
  {
   "cell_type": "code",
   "execution_count": 7,
   "metadata": {},
   "outputs": [],
   "source": [
    "#clean data\n",
    "clean_df = simple_df.replace(\"*\", 0)\n",
    "clean_df_II = clean_df.replace('N/D', 0)"
   ]
  },
  {
   "cell_type": "code",
   "execution_count": 8,
   "metadata": {},
   "outputs": [],
   "source": [
    "#list(clean_df_II.columns)"
   ]
  },
  {
   "cell_type": "markdown",
   "metadata": {},
   "source": [
    "#### 2.3 CLEAN DUPLICATES"
   ]
  },
  {
   "cell_type": "code",
   "execution_count": 9,
   "metadata": {},
   "outputs": [],
   "source": [
    "#CLEAN for duplicates\n",
    "\n",
    "#Method example:https://www.geeksforgeeks.org/drop-rows-from-the-dataframe-based-on-certain-condition-applied-on-a-column/\n",
    "#df.drop(df[df['Age'] < 25].index, inplace = True)\n",
    "# Filter all rows for which :\n",
    "\n",
    "clean_df_II.drop(clean_df_II[clean_df_II[\"NOM_ENT\"]== \"Total nacional\"].index,inplace=True)\n",
    "clean_df_II.drop(clean_df_II[clean_df_II[\"NOM_LOC\"]== \"Total de la Entidad\"].index,inplace=True)\n",
    "clean_df_II.drop(clean_df_II[clean_df_II[\"NOM_LOC\"]== \"Localidades de una vivienda\"].index,inplace=True)\n",
    "clean_df_II.drop(clean_df_II[clean_df_II[\"NOM_LOC\"]== \"Localidades de dos viviendas\"].index,inplace=True)\n",
    "clean_df_II.drop(clean_df_II[clean_df_II[\"NOM_LOC\"]== \"Total del Municipio\"].index,inplace=True)\n",
    "\n",
    "#clean_df_II.head()\n"
   ]
  },
  {
   "cell_type": "code",
   "execution_count": 10,
   "metadata": {},
   "outputs": [],
   "source": [
    "#clean_df_II[\"NOM_ENT\"].unique()\n"
   ]
  },
  {
   "cell_type": "markdown",
   "metadata": {},
   "source": [
    "#### 2.4 CONCATANATE TWO COLUMNS  MUNICIPALITY LEVEL"
   ]
  },
  {
   "cell_type": "markdown",
   "metadata": {},
   "source": [
    "#### Concatanate name of state and municipality because there are a lot of municiplities that have the same name, therefore its harder to identify them. Example, Municipality San Miguel (state Queretaro), San Miguel (state Chiapas),etc\n"
   ]
  },
  {
   "cell_type": "code",
   "execution_count": 11,
   "metadata": {},
   "outputs": [
    {
     "name": "stdout",
     "output_type": "stream",
     "text": [
      "<class 'pandas.core.frame.DataFrame'>\n",
      "Int64Index: 189432 entries, 7 to 195660\n",
      "Columns: 170 entries, ENTIDAD to NOM_ENT_MUN\n",
      "dtypes: int64(6), object(164)\n",
      "memory usage: 247.1+ MB\n"
     ]
    }
   ],
   "source": [
    "# method: https://stackoverflow.com/questions/19377969/combine-two-columns-of-text-in-pandas-dataframe\n",
    "#example:df[\"period\"] = df[\"Year\"].astype(str) + df[\"quarter\"]\n",
    "\n",
    "clean_df_II[\"NOM_ENT_MUN\"]=clean_df_II[\"NOM_ENT\"].astype(str)+ \" , \" +clean_df_II[\"NOM_MUN\"].astype(str)\n",
    "clean_df_II.info()"
   ]
  },
  {
   "cell_type": "code",
   "execution_count": 12,
   "metadata": {},
   "outputs": [
    {
     "data": {
      "text/plain": [
       "2467"
      ]
     },
     "execution_count": 12,
     "metadata": {},
     "output_type": "execute_result"
    }
   ],
   "source": [
    "num_municipality=clean_df_II[\"NOM_ENT_MUN\"].unique()\n",
    "len(num_municipality)"
   ]
  },
  {
   "cell_type": "markdown",
   "metadata": {},
   "source": [
    "#### 2.5 CONCAT LOCAL LEVEL"
   ]
  },
  {
   "cell_type": "code",
   "execution_count": 13,
   "metadata": {},
   "outputs": [],
   "source": [
    "clean_df_II[\"NOM_ENT_MUN_LOC\"]=clean_df_II[\"NOM_ENT_MUN\"].astype(str)+ \" , \" +clean_df_II[\"NOM_LOC\"].astype(str)"
   ]
  },
  {
   "cell_type": "code",
   "execution_count": 14,
   "metadata": {},
   "outputs": [],
   "source": [
    "#clean_df_II[\"NOM_ENT_MUN_LOC\"].unique()"
   ]
  },
  {
   "cell_type": "code",
   "execution_count": 15,
   "metadata": {},
   "outputs": [
    {
     "data": {
      "text/plain": [
       "189432"
      ]
     },
     "execution_count": 15,
     "metadata": {},
     "output_type": "execute_result"
    }
   ],
   "source": [
    "clean_df_II[\"NOM_ENT_MUN_LOC\"].count()"
   ]
  },
  {
   "cell_type": "code",
   "execution_count": 16,
   "metadata": {},
   "outputs": [],
   "source": [
    "#dictionary, not used\n",
    "\n",
    "#categories_regiones={\"Aguascalientes\":\"CENTRO NORTE\",\"Baja California\":\"NORTE\",\"Baja California Sur\":\"CENTRO NORTE\",\n",
    "#            \"Campeche\":\"SUR\",\"Chiapas\":\"SUR\",\"Chihuahua\":\"NORTE\",\"Ciudad de M√©xico\":\"CENTRO\", \"Coahuila de Zaragoza\":\"NORTE\",\n",
    "#            \"Colima\":\"CENTRO NORTE\",\"Durango\":\"CENTRO NORTE\",\"Guanajuato\":\"CENTRO\", \"Guerrero\":\"CENTRO\", \"Hidalgo\":\"SUR\",\n",
    "#            \"Jalisco\":\"CENTRO\", \"Michoac√°n de Ocampo\":\"CENTRO NORTE\",\"Morelos\":\"CENTRO NORTE\",\"M√©xico\":\"CENTRO\",\n",
    "#            \"Nayarit\":\"CENTRO NORTE\",\"Nuevo Le√≥n\":\"NORTE\",\"Oaxaca\":\"SUR\",\"Puebla\":\"CENTRO\",\"Quer√©taro\":\"CENTRO\",\n",
    "#            \"Quintana Roo\":\"SUR\",\"San Luis Potos√≠\":\"CENTRO NORTE\",\"Sinaloa\":\"CENTRO NORTE\",\"Sonora\":\"NORTE\",\n",
    "#            \"Tabasco\":\"SUR\",\"Tamaulipas\":\"NORTE\",\"Tlaxcala\":\"CENTRO\",\"Veracruz de Ignacio de la Llave\":\"SUR\",\n",
    "#            \"Yucat√°n\":\"SUR\",\"Zacatecas\":\"CENTRO NORTE\"}"
   ]
  },
  {
   "cell_type": "markdown",
   "metadata": {},
   "source": [
    "#### 2.6 ADD REGION"
   ]
  },
  {
   "cell_type": "markdown",
   "metadata": {},
   "source": [
    "####  There are 32 states. BANXICO ( Central Mexican Bank) divided the states by geography and economic indicators."
   ]
  },
  {
   "cell_type": "code",
   "execution_count": 17,
   "metadata": {},
   "outputs": [
    {
     "data": {
      "text/html": [
       "<div>\n",
       "<style scoped>\n",
       "    .dataframe tbody tr th:only-of-type {\n",
       "        vertical-align: middle;\n",
       "    }\n",
       "\n",
       "    .dataframe tbody tr th {\n",
       "        vertical-align: top;\n",
       "    }\n",
       "\n",
       "    .dataframe thead th {\n",
       "        text-align: right;\n",
       "    }\n",
       "</style>\n",
       "<table border=\"1\" class=\"dataframe\">\n",
       "  <thead>\n",
       "    <tr style=\"text-align: right;\">\n",
       "      <th></th>\n",
       "      <th>ENTIDAD</th>\n",
       "      <th>NOM_ENT</th>\n",
       "      <th>MUN</th>\n",
       "      <th>NOM_MUN</th>\n",
       "      <th>LOC</th>\n",
       "      <th>NOM_LOC</th>\n",
       "      <th>LONGITUD</th>\n",
       "      <th>LATITUD</th>\n",
       "      <th>ALTITUD</th>\n",
       "      <th>POBTOT</th>\n",
       "      <th>...</th>\n",
       "      <th>VPH_SPMVPI</th>\n",
       "      <th>VPH_CVJ</th>\n",
       "      <th>VPH_SINRTV</th>\n",
       "      <th>VPH_SINLTC</th>\n",
       "      <th>VPH_SINCINT</th>\n",
       "      <th>VPH_SINTIC</th>\n",
       "      <th>TAMLOC</th>\n",
       "      <th>NOM_ENT_MUN</th>\n",
       "      <th>NOM_ENT_MUN_LOC</th>\n",
       "      <th>REGION</th>\n",
       "    </tr>\n",
       "  </thead>\n",
       "  <tbody>\n",
       "    <tr>\n",
       "      <th>0</th>\n",
       "      <td>1</td>\n",
       "      <td>Aguascalientes</td>\n",
       "      <td>1</td>\n",
       "      <td>Aguascalientes</td>\n",
       "      <td>1</td>\n",
       "      <td>Aguascalientes</td>\n",
       "      <td>102°17'45.768\" W</td>\n",
       "      <td>21°52'47.362\" N</td>\n",
       "      <td>1878</td>\n",
       "      <td>863893</td>\n",
       "      <td>...</td>\n",
       "      <td>77719</td>\n",
       "      <td>53589</td>\n",
       "      <td>2995</td>\n",
       "      <td>5984</td>\n",
       "      <td>63661</td>\n",
       "      <td>595</td>\n",
       "      <td>13</td>\n",
       "      <td>Aguascalientes , Aguascalientes</td>\n",
       "      <td>Aguascalientes , Aguascalientes , Aguascalientes</td>\n",
       "      <td>CENTRO NORTE</td>\n",
       "    </tr>\n",
       "    <tr>\n",
       "      <th>1</th>\n",
       "      <td>1</td>\n",
       "      <td>Aguascalientes</td>\n",
       "      <td>1</td>\n",
       "      <td>Aguascalientes</td>\n",
       "      <td>94</td>\n",
       "      <td>Granja Adelita</td>\n",
       "      <td>102°22'24.710\" W</td>\n",
       "      <td>21°52'18.749\" N</td>\n",
       "      <td>1902</td>\n",
       "      <td>5</td>\n",
       "      <td>...</td>\n",
       "      <td>0</td>\n",
       "      <td>0</td>\n",
       "      <td>0</td>\n",
       "      <td>0</td>\n",
       "      <td>0</td>\n",
       "      <td>0</td>\n",
       "      <td>1</td>\n",
       "      <td>Aguascalientes , Aguascalientes</td>\n",
       "      <td>Aguascalientes , Aguascalientes , Granja Adelita</td>\n",
       "      <td>CENTRO NORTE</td>\n",
       "    </tr>\n",
       "    <tr>\n",
       "      <th>2</th>\n",
       "      <td>1</td>\n",
       "      <td>Aguascalientes</td>\n",
       "      <td>1</td>\n",
       "      <td>Aguascalientes</td>\n",
       "      <td>96</td>\n",
       "      <td>Agua Azul</td>\n",
       "      <td>102°21'25.639\" W</td>\n",
       "      <td>21°53'01.522\" N</td>\n",
       "      <td>1861</td>\n",
       "      <td>41</td>\n",
       "      <td>...</td>\n",
       "      <td>2</td>\n",
       "      <td>1</td>\n",
       "      <td>0</td>\n",
       "      <td>1</td>\n",
       "      <td>6</td>\n",
       "      <td>0</td>\n",
       "      <td>1</td>\n",
       "      <td>Aguascalientes , Aguascalientes</td>\n",
       "      <td>Aguascalientes , Aguascalientes , Agua Azul</td>\n",
       "      <td>CENTRO NORTE</td>\n",
       "    </tr>\n",
       "    <tr>\n",
       "      <th>3</th>\n",
       "      <td>1</td>\n",
       "      <td>Aguascalientes</td>\n",
       "      <td>1</td>\n",
       "      <td>Aguascalientes</td>\n",
       "      <td>102</td>\n",
       "      <td>Los Arbolitos [Rancho]</td>\n",
       "      <td>102°21'26.261\" W</td>\n",
       "      <td>21°46'48.650\" N</td>\n",
       "      <td>1861</td>\n",
       "      <td>8</td>\n",
       "      <td>...</td>\n",
       "      <td>0</td>\n",
       "      <td>0</td>\n",
       "      <td>0</td>\n",
       "      <td>0</td>\n",
       "      <td>0</td>\n",
       "      <td>0</td>\n",
       "      <td>1</td>\n",
       "      <td>Aguascalientes , Aguascalientes</td>\n",
       "      <td>Aguascalientes , Aguascalientes , Los Arbolito...</td>\n",
       "      <td>CENTRO NORTE</td>\n",
       "    </tr>\n",
       "    <tr>\n",
       "      <th>4</th>\n",
       "      <td>1</td>\n",
       "      <td>Aguascalientes</td>\n",
       "      <td>1</td>\n",
       "      <td>Aguascalientes</td>\n",
       "      <td>104</td>\n",
       "      <td>Ardillas de Abajo (Las Ardillas)</td>\n",
       "      <td>102°11'30.914\" W</td>\n",
       "      <td>21°56'42.243\" N</td>\n",
       "      <td>1989</td>\n",
       "      <td>1</td>\n",
       "      <td>...</td>\n",
       "      <td>0</td>\n",
       "      <td>0</td>\n",
       "      <td>0</td>\n",
       "      <td>0</td>\n",
       "      <td>0</td>\n",
       "      <td>0</td>\n",
       "      <td>1</td>\n",
       "      <td>Aguascalientes , Aguascalientes</td>\n",
       "      <td>Aguascalientes , Aguascalientes , Ardillas de ...</td>\n",
       "      <td>CENTRO NORTE</td>\n",
       "    </tr>\n",
       "  </tbody>\n",
       "</table>\n",
       "<p>5 rows × 172 columns</p>\n",
       "</div>"
      ],
      "text/plain": [
       "   ENTIDAD         NOM_ENT  MUN         NOM_MUN  LOC  \\\n",
       "0        1  Aguascalientes    1  Aguascalientes    1   \n",
       "1        1  Aguascalientes    1  Aguascalientes   94   \n",
       "2        1  Aguascalientes    1  Aguascalientes   96   \n",
       "3        1  Aguascalientes    1  Aguascalientes  102   \n",
       "4        1  Aguascalientes    1  Aguascalientes  104   \n",
       "\n",
       "                            NOM_LOC          LONGITUD          LATITUD  \\\n",
       "0                    Aguascalientes  102°17'45.768\" W  21°52'47.362\" N   \n",
       "1                    Granja Adelita  102°22'24.710\" W  21°52'18.749\" N   \n",
       "2                         Agua Azul  102°21'25.639\" W  21°53'01.522\" N   \n",
       "3            Los Arbolitos [Rancho]  102°21'26.261\" W  21°46'48.650\" N   \n",
       "4  Ardillas de Abajo (Las Ardillas)  102°11'30.914\" W  21°56'42.243\" N   \n",
       "\n",
       "  ALTITUD  POBTOT  ... VPH_SPMVPI VPH_CVJ VPH_SINRTV VPH_SINLTC VPH_SINCINT  \\\n",
       "0    1878  863893  ...      77719   53589       2995       5984       63661   \n",
       "1    1902       5  ...          0       0          0          0           0   \n",
       "2    1861      41  ...          2       1          0          1           6   \n",
       "3    1861       8  ...          0       0          0          0           0   \n",
       "4    1989       1  ...          0       0          0          0           0   \n",
       "\n",
       "  VPH_SINTIC TAMLOC                      NOM_ENT_MUN  \\\n",
       "0        595     13  Aguascalientes , Aguascalientes   \n",
       "1          0      1  Aguascalientes , Aguascalientes   \n",
       "2          0      1  Aguascalientes , Aguascalientes   \n",
       "3          0      1  Aguascalientes , Aguascalientes   \n",
       "4          0      1  Aguascalientes , Aguascalientes   \n",
       "\n",
       "                                     NOM_ENT_MUN_LOC        REGION  \n",
       "0   Aguascalientes , Aguascalientes , Aguascalientes  CENTRO NORTE  \n",
       "1   Aguascalientes , Aguascalientes , Granja Adelita  CENTRO NORTE  \n",
       "2        Aguascalientes , Aguascalientes , Agua Azul  CENTRO NORTE  \n",
       "3  Aguascalientes , Aguascalientes , Los Arbolito...  CENTRO NORTE  \n",
       "4  Aguascalientes , Aguascalientes , Ardillas de ...  CENTRO NORTE  \n",
       "\n",
       "[5 rows x 172 columns]"
      ]
     },
     "execution_count": 17,
     "metadata": {},
     "output_type": "execute_result"
    }
   ],
   "source": [
    "#Add name of region\n",
    "#Method:https://www.youtube.com/watch?v=5hHW-g0uSUA\n",
    "\n",
    "#import datframe regiones\n",
    "path_regiones = os.path.join('..', 'demographic info', '2_regiones.csv')\n",
    "regiones= pd.read_csv(path_regiones)\n",
    "\n",
    "#merge\n",
    "df_merge_regiones=clean_df_II.merge(regiones,on=\"NOM_ENT\",how=\"left\")\n",
    "df_merge_regiones.head()"
   ]
  },
  {
   "cell_type": "markdown",
   "metadata": {},
   "source": [
    "#### 2.7 REARRANGE COLUMNS"
   ]
  },
  {
   "cell_type": "code",
   "execution_count": 18,
   "metadata": {},
   "outputs": [],
   "source": [
    "df_semifinal=df_merge_regiones[[\"REGION\",\"NOM_ENT_MUN\",'ENTIDAD','NOM_ENT','MUN','NOM_MUN','LOC','NOM_LOC',\"NOM_ENT_MUN_LOC\",'LONGITUD','LATITUD',\n",
    " 'ALTITUD','POBTOT','POBFEM','POBMAS','P_0A2','P_0A2_F','P_0A2_M','P_3A5','P_3A5_F','P_3A5_M',\n",
    " 'P_6A11','P_6A11_F','P_6A11_M', 'P_8A14','P_8A14_F','P_8A14_M','P_12A14','P_12A14_F',\n",
    " 'P_12A14_M','P_15A17', 'P_15A17_F', 'P_15A17_M', 'P_18A24', 'P_18A24_F','P_18A24_M','P_15A49_F', 'P_60YMAS', 'P_60YMAS_F',\n",
    " 'P_60YMAS_M','PNACENT','PNACENT_F','PNACENT_M','PNACOE','PNACOE_F','PNACOE_M','P3A5_NOA','P3A5_NOA_F','P3A5_NOA_M','P6A11_NOA','P6A11_NOAF','P6A11_NOAM',\n",
    " 'P12A14NOA','P12A14NOAF','P12A14NOAM','P15A17A','P15A17A_F','P15A17A_M','P18A24A','P18A24A_F','P18A24A_M','P8A14AN','P8A14AN_F','P8A14AN_M','P15YM_AN','P15YM_AN_F','P15YM_AN_M',\n",
    " 'P15YM_SE', 'P15YM_SE_F', 'P15YM_SE_M','P15PRI_IN','P15PRI_INF','P15PRI_INM','P15PRI_CO','P15PRI_COF','P15PRI_COM',\n",
    " 'P15SEC_IN','P15SEC_INF','P15SEC_INM','P15SEC_CO','P15SEC_COF','P15SEC_COM','P18YM_PB','P18YM_PB_F','P18YM_PB_M',\n",
    " 'PEA','PEA_F','PEA_M','PE_INAC','PE_INAC_F','PE_INAC_M','POCUPADA','POCUPADA_F','POCUPADA_M','PDESOCUP',\n",
    " 'PDESOCUP_F','PDESOCUP_M','PSINDER','PDER_SS','PDER_IMSS','PDER_ISTE','PDER_ISTEE','PAFIL_PDOM','PDER_SEGP',\n",
    " 'PDER_IMSSB','PAFIL_IPRIV','PAFIL_OTRAI','P12YM_SOLT','P12YM_CASA','P12YM_SEPA','PCATOLICA','PRO_CRIEVA','POTRAS_REL',\n",
    " 'PSIN_RELIG','TOTHOG','HOGJEF_F','HOGJEF_M','POBHOG','PHOGJEF_F','PHOGJEF_M','VIVTOT','TVIVHAB','TVIVPAR','VIVPAR_HAB',\n",
    " 'VIVPARH_CV','TVIVPARHAB','VIVPAR_DES','VIVPAR_UT','OCUPVIVPAR','VPH_PISODT','VPH_PISOTI','VPH_1DOR','VPH_2YMASD',\n",
    " 'VPH_1CUART','VPH_2CUART','VPH_3YMASC','VPH_C_ELEC','VPH_S_ELEC','VPH_AGUADV','VPH_AEASP','VPH_AGUAFV','VPH_TINACO',\n",
    " 'VPH_CISTER','VPH_EXCSA','VPH_LETR','VPH_DRENAJ','VPH_NODREN','VPH_C_SERV','VPH_NDEAED','VPH_DSADMA','VPH_NDACMM',\n",
    " 'VPH_SNBIEN','VPH_REFRI','VPH_LAVAD','VPH_HMICRO','VPH_AUTOM','VPH_MOTO','VPH_BICI','VPH_RADIO','VPH_TV','VPH_PC',\n",
    " 'VPH_TELEF','VPH_CEL','VPH_INTER','VPH_STVP','VPH_SPMVPI','VPH_CVJ','VPH_SINRTV','VPH_SINLTC','VPH_SINCINT',\n",
    " 'VPH_SINTIC','TAMLOC']]\n",
    "\n",
    "#df_semifinal.head()"
   ]
  },
  {
   "cell_type": "markdown",
   "metadata": {},
   "source": [
    "#### 2.8 change datatypes"
   ]
  },
  {
   "cell_type": "code",
   "execution_count": 19,
   "metadata": {},
   "outputs": [],
   "source": [
    "#CHANGE DATATYPE\n",
    "\n",
    "# columns that will not be change the data type\n",
    "cols = df_semifinal.columns.drop(['REGION','NOM_ENT_MUN','ENTIDAD','NOM_ENT','MUN','NOM_MUN','LOC','NOM_LOC',\"NOM_ENT_MUN_LOC\",'LONGITUD','LATITUD','ALTITUD'])\n",
    "\n",
    "#change to numeric instead of string\n",
    "df_semifinal[cols] = df_semifinal[cols].apply(pd.to_numeric)\n"
   ]
  },
  {
   "cell_type": "code",
   "execution_count": 20,
   "metadata": {},
   "outputs": [
    {
     "name": "stdout",
     "output_type": "stream",
     "text": [
      "<class 'pandas.core.frame.DataFrame'>\n",
      "Int64Index: 189432 entries, 0 to 189431\n",
      "Data columns (total 172 columns):\n",
      " #   Column           Non-Null Count   Dtype \n",
      "---  ------           --------------   ----- \n",
      " 0   REGION           189432 non-null  object\n",
      " 1   NOM_ENT_MUN      189432 non-null  object\n",
      " 2   ENTIDAD          189432 non-null  int64 \n",
      " 3   NOM_ENT          189432 non-null  object\n",
      " 4   MUN              189432 non-null  int64 \n",
      " 5   NOM_MUN          189432 non-null  object\n",
      " 6   LOC              189432 non-null  int64 \n",
      " 7   NOM_LOC          189432 non-null  object\n",
      " 8   NOM_ENT_MUN_LOC  189432 non-null  object\n",
      " 9   LONGITUD         189432 non-null  object\n",
      " 10  LATITUD          189432 non-null  object\n",
      " 11  ALTITUD          189432 non-null  object\n",
      " 12  POBTOT           189432 non-null  int64 \n",
      " 13  POBFEM           189432 non-null  int64 \n",
      " 14  POBMAS           189432 non-null  int64 \n",
      " 15  P_0A2            189432 non-null  int64 \n",
      " 16  P_0A2_F          189432 non-null  int64 \n",
      " 17  P_0A2_M          189432 non-null  int64 \n",
      " 18  P_3A5            189432 non-null  int64 \n",
      " 19  P_3A5_F          189432 non-null  int64 \n",
      " 20  P_3A5_M          189432 non-null  int64 \n",
      " 21  P_6A11           189432 non-null  int64 \n",
      " 22  P_6A11_F         189432 non-null  int64 \n",
      " 23  P_6A11_M         189432 non-null  int64 \n",
      " 24  P_8A14           189432 non-null  int64 \n",
      " 25  P_8A14_F         189432 non-null  int64 \n",
      " 26  P_8A14_M         189432 non-null  int64 \n",
      " 27  P_12A14          189432 non-null  int64 \n",
      " 28  P_12A14_F        189432 non-null  int64 \n",
      " 29  P_12A14_M        189432 non-null  int64 \n",
      " 30  P_15A17          189432 non-null  int64 \n",
      " 31  P_15A17_F        189432 non-null  int64 \n",
      " 32  P_15A17_M        189432 non-null  int64 \n",
      " 33  P_18A24          189432 non-null  int64 \n",
      " 34  P_18A24_F        189432 non-null  int64 \n",
      " 35  P_18A24_M        189432 non-null  int64 \n",
      " 36  P_15A49_F        189432 non-null  int64 \n",
      " 37  P_60YMAS         189432 non-null  int64 \n",
      " 38  P_60YMAS_F       189432 non-null  int64 \n",
      " 39  P_60YMAS_M       189432 non-null  int64 \n",
      " 40  PNACENT          189432 non-null  int64 \n",
      " 41  PNACENT_F        189432 non-null  int64 \n",
      " 42  PNACENT_M        189432 non-null  int64 \n",
      " 43  PNACOE           189432 non-null  int64 \n",
      " 44  PNACOE_F         189432 non-null  int64 \n",
      " 45  PNACOE_M         189432 non-null  int64 \n",
      " 46  P3A5_NOA         189432 non-null  int64 \n",
      " 47  P3A5_NOA_F       189432 non-null  int64 \n",
      " 48  P3A5_NOA_M       189432 non-null  int64 \n",
      " 49  P6A11_NOA        189432 non-null  int64 \n",
      " 50  P6A11_NOAF       189432 non-null  int64 \n",
      " 51  P6A11_NOAM       189432 non-null  int64 \n",
      " 52  P12A14NOA        189432 non-null  int64 \n",
      " 53  P12A14NOAF       189432 non-null  int64 \n",
      " 54  P12A14NOAM       189432 non-null  int64 \n",
      " 55  P15A17A          189432 non-null  int64 \n",
      " 56  P15A17A_F        189432 non-null  int64 \n",
      " 57  P15A17A_M        189432 non-null  int64 \n",
      " 58  P18A24A          189432 non-null  int64 \n",
      " 59  P18A24A_F        189432 non-null  int64 \n",
      " 60  P18A24A_M        189432 non-null  int64 \n",
      " 61  P8A14AN          189432 non-null  int64 \n",
      " 62  P8A14AN_F        189432 non-null  int64 \n",
      " 63  P8A14AN_M        189432 non-null  int64 \n",
      " 64  P15YM_AN         189432 non-null  int64 \n",
      " 65  P15YM_AN_F       189432 non-null  int64 \n",
      " 66  P15YM_AN_M       189432 non-null  int64 \n",
      " 67  P15YM_SE         189432 non-null  int64 \n",
      " 68  P15YM_SE_F       189432 non-null  int64 \n",
      " 69  P15YM_SE_M       189432 non-null  int64 \n",
      " 70  P15PRI_IN        189432 non-null  int64 \n",
      " 71  P15PRI_INF       189432 non-null  int64 \n",
      " 72  P15PRI_INM       189432 non-null  int64 \n",
      " 73  P15PRI_CO        189432 non-null  int64 \n",
      " 74  P15PRI_COF       189432 non-null  int64 \n",
      " 75  P15PRI_COM       189432 non-null  int64 \n",
      " 76  P15SEC_IN        189432 non-null  int64 \n",
      " 77  P15SEC_INF       189432 non-null  int64 \n",
      " 78  P15SEC_INM       189432 non-null  int64 \n",
      " 79  P15SEC_CO        189432 non-null  int64 \n",
      " 80  P15SEC_COF       189432 non-null  int64 \n",
      " 81  P15SEC_COM       189432 non-null  int64 \n",
      " 82  P18YM_PB         189432 non-null  int64 \n",
      " 83  P18YM_PB_F       189432 non-null  int64 \n",
      " 84  P18YM_PB_M       189432 non-null  int64 \n",
      " 85  PEA              189432 non-null  int64 \n",
      " 86  PEA_F            189432 non-null  int64 \n",
      " 87  PEA_M            189432 non-null  int64 \n",
      " 88  PE_INAC          189432 non-null  int64 \n",
      " 89  PE_INAC_F        189432 non-null  int64 \n",
      " 90  PE_INAC_M        189432 non-null  int64 \n",
      " 91  POCUPADA         189432 non-null  int64 \n",
      " 92  POCUPADA_F       189432 non-null  int64 \n",
      " 93  POCUPADA_M       189432 non-null  int64 \n",
      " 94  PDESOCUP         189432 non-null  int64 \n",
      " 95  PDESOCUP_F       189432 non-null  int64 \n",
      " 96  PDESOCUP_M       189432 non-null  int64 \n",
      " 97  PSINDER          189432 non-null  int64 \n",
      " 98  PDER_SS          189432 non-null  int64 \n",
      " 99  PDER_IMSS        189432 non-null  int64 \n",
      " 100 PDER_ISTE        189432 non-null  int64 \n",
      " 101 PDER_ISTEE       189432 non-null  int64 \n",
      " 102 PAFIL_PDOM       189432 non-null  int64 \n",
      " 103 PDER_SEGP        189432 non-null  int64 \n",
      " 104 PDER_IMSSB       189432 non-null  int64 \n",
      " 105 PAFIL_IPRIV      189432 non-null  int64 \n",
      " 106 PAFIL_OTRAI      189432 non-null  int64 \n",
      " 107 P12YM_SOLT       189432 non-null  int64 \n",
      " 108 P12YM_CASA       189432 non-null  int64 \n",
      " 109 P12YM_SEPA       189432 non-null  int64 \n",
      " 110 PCATOLICA        189432 non-null  int64 \n",
      " 111 PRO_CRIEVA       189432 non-null  int64 \n",
      " 112 POTRAS_REL       189432 non-null  int64 \n",
      " 113 PSIN_RELIG       189432 non-null  int64 \n",
      " 114 TOTHOG           189432 non-null  int64 \n",
      " 115 HOGJEF_F         189432 non-null  int64 \n",
      " 116 HOGJEF_M         189432 non-null  int64 \n",
      " 117 POBHOG           189432 non-null  int64 \n",
      " 118 PHOGJEF_F        189432 non-null  int64 \n",
      " 119 PHOGJEF_M        189432 non-null  int64 \n",
      " 120 VIVTOT           189432 non-null  int64 \n",
      " 121 TVIVHAB          189432 non-null  int64 \n",
      " 122 TVIVPAR          189432 non-null  int64 \n",
      " 123 VIVPAR_HAB       189432 non-null  int64 \n",
      " 124 VIVPARH_CV       189432 non-null  int64 \n",
      " 125 TVIVPARHAB       189432 non-null  int64 \n",
      " 126 VIVPAR_DES       189432 non-null  int64 \n",
      " 127 VIVPAR_UT        189432 non-null  int64 \n",
      " 128 OCUPVIVPAR       189432 non-null  int64 \n",
      " 129 VPH_PISODT       189432 non-null  int64 \n",
      " 130 VPH_PISOTI       189432 non-null  int64 \n",
      " 131 VPH_1DOR         189432 non-null  int64 \n",
      " 132 VPH_2YMASD       189432 non-null  int64 \n",
      " 133 VPH_1CUART       189432 non-null  int64 \n",
      " 134 VPH_2CUART       189432 non-null  int64 \n",
      " 135 VPH_3YMASC       189432 non-null  int64 \n",
      " 136 VPH_C_ELEC       189432 non-null  int64 \n",
      " 137 VPH_S_ELEC       189432 non-null  int64 \n",
      " 138 VPH_AGUADV       189432 non-null  int64 \n",
      " 139 VPH_AEASP        189432 non-null  int64 \n",
      " 140 VPH_AGUAFV       189432 non-null  int64 \n",
      " 141 VPH_TINACO       189432 non-null  int64 \n",
      " 142 VPH_CISTER       189432 non-null  int64 \n",
      " 143 VPH_EXCSA        189432 non-null  int64 \n",
      " 144 VPH_LETR         189432 non-null  int64 \n",
      " 145 VPH_DRENAJ       189432 non-null  int64 \n",
      " 146 VPH_NODREN       189432 non-null  int64 \n",
      " 147 VPH_C_SERV       189432 non-null  int64 \n",
      " 148 VPH_NDEAED       189432 non-null  int64 \n",
      " 149 VPH_DSADMA       189432 non-null  int64 \n",
      " 150 VPH_NDACMM       189432 non-null  int64 \n",
      " 151 VPH_SNBIEN       189432 non-null  int64 \n",
      " 152 VPH_REFRI        189432 non-null  int64 \n",
      " 153 VPH_LAVAD        189432 non-null  int64 \n",
      " 154 VPH_HMICRO       189432 non-null  int64 \n",
      " 155 VPH_AUTOM        189432 non-null  int64 \n",
      " 156 VPH_MOTO         189432 non-null  int64 \n",
      " 157 VPH_BICI         189432 non-null  int64 \n",
      " 158 VPH_RADIO        189432 non-null  int64 \n",
      " 159 VPH_TV           189432 non-null  int64 \n",
      " 160 VPH_PC           189432 non-null  int64 \n",
      " 161 VPH_TELEF        189432 non-null  int64 \n",
      " 162 VPH_CEL          189432 non-null  int64 \n",
      " 163 VPH_INTER        189432 non-null  int64 \n",
      " 164 VPH_STVP         189432 non-null  int64 \n",
      " 165 VPH_SPMVPI       189432 non-null  int64 \n",
      " 166 VPH_CVJ          189432 non-null  int64 \n",
      " 167 VPH_SINRTV       189432 non-null  int64 \n",
      " 168 VPH_SINLTC       189432 non-null  int64 \n",
      " 169 VPH_SINCINT      189432 non-null  int64 \n",
      " 170 VPH_SINTIC       189432 non-null  int64 \n",
      " 171 TAMLOC           189432 non-null  int64 \n",
      "dtypes: int64(163), object(9)\n",
      "memory usage: 250.0+ MB\n"
     ]
    }
   ],
   "source": [
    "df_semifinal.info(verbose=True, null_counts=True)"
   ]
  },
  {
   "cell_type": "code",
   "execution_count": 21,
   "metadata": {},
   "outputs": [],
   "source": [
    "df_semifinal.to_csv(\"3_cleanDatabase.csv\")"
   ]
  },
  {
   "cell_type": "code",
   "execution_count": null,
   "metadata": {},
   "outputs": [],
   "source": []
  },
  {
   "cell_type": "markdown",
   "metadata": {},
   "source": [
    "# 1990-2020"
   ]
  },
  {
   "cell_type": "code",
   "execution_count": 31,
   "metadata": {},
   "outputs": [],
   "source": [
    "path_1990_2020 = os.path.join('..', 'demographic info', '0_demographics_INEGI_1990_2020.csv')"
   ]
  },
  {
   "cell_type": "code",
   "execution_count": 32,
   "metadata": {},
   "outputs": [],
   "source": [
    "path_1990_2020= pd.read_csv(path_1990_2020,low_memory=False,encoding='utf-8-sig')"
   ]
  },
  {
   "cell_type": "code",
   "execution_count": 33,
   "metadata": {},
   "outputs": [
    {
     "data": {
      "text/html": [
       "<div>\n",
       "<style scoped>\n",
       "    .dataframe tbody tr th:only-of-type {\n",
       "        vertical-align: middle;\n",
       "    }\n",
       "\n",
       "    .dataframe tbody tr th {\n",
       "        vertical-align: top;\n",
       "    }\n",
       "\n",
       "    .dataframe thead th {\n",
       "        text-align: right;\n",
       "    }\n",
       "</style>\n",
       "<table border=\"1\" class=\"dataframe\">\n",
       "  <thead>\n",
       "    <tr style=\"text-align: right;\">\n",
       "      <th></th>\n",
       "      <th>NOM_ENT</th>\n",
       "      <th>Grupo quinquenal de edad</th>\n",
       "      <th>AÑO</th>\n",
       "      <th>Total</th>\n",
       "      <th>Hombres</th>\n",
       "      <th>Mujeres</th>\n",
       "    </tr>\n",
       "  </thead>\n",
       "  <tbody>\n",
       "    <tr>\n",
       "      <th>0</th>\n",
       "      <td>Aguascalientes</td>\n",
       "      <td>No especificado</td>\n",
       "      <td>1990</td>\n",
       "      <td>2245</td>\n",
       "      <td>1084</td>\n",
       "      <td>1161</td>\n",
       "    </tr>\n",
       "    <tr>\n",
       "      <th>1</th>\n",
       "      <td>Aguascalientes</td>\n",
       "      <td>No especificado</td>\n",
       "      <td>1995</td>\n",
       "      <td>1254</td>\n",
       "      <td>607</td>\n",
       "      <td>647</td>\n",
       "    </tr>\n",
       "    <tr>\n",
       "      <th>2</th>\n",
       "      <td>Aguascalientes</td>\n",
       "      <td>No especificado</td>\n",
       "      <td>2000</td>\n",
       "      <td>102</td>\n",
       "      <td>44</td>\n",
       "      <td>58</td>\n",
       "    </tr>\n",
       "    <tr>\n",
       "      <th>3</th>\n",
       "      <td>Aguascalientes</td>\n",
       "      <td>No especificado</td>\n",
       "      <td>2005</td>\n",
       "      <td>98</td>\n",
       "      <td>41</td>\n",
       "      <td>57</td>\n",
       "    </tr>\n",
       "    <tr>\n",
       "      <th>4</th>\n",
       "      <td>Aguascalientes</td>\n",
       "      <td>No especificado</td>\n",
       "      <td>2010</td>\n",
       "      <td>109</td>\n",
       "      <td>45</td>\n",
       "      <td>64</td>\n",
       "    </tr>\n",
       "  </tbody>\n",
       "</table>\n",
       "</div>"
      ],
      "text/plain": [
       "          NOM_ENT Grupo quinquenal de edad   AÑO  Total  Hombres  Mujeres\n",
       "0  Aguascalientes          No especificado  1990   2245     1084     1161\n",
       "1  Aguascalientes          No especificado  1995   1254      607      647\n",
       "2  Aguascalientes          No especificado  2000    102       44       58\n",
       "3  Aguascalientes          No especificado  2005     98       41       57\n",
       "4  Aguascalientes          No especificado  2010    109       45       64"
      ]
     },
     "execution_count": 33,
     "metadata": {},
     "output_type": "execute_result"
    }
   ],
   "source": [
    "path_1990_2020.head()"
   ]
  },
  {
   "cell_type": "code",
   "execution_count": 34,
   "metadata": {},
   "outputs": [
    {
     "name": "stdout",
     "output_type": "stream",
     "text": [
      "<class 'pandas.core.frame.DataFrame'>\n",
      "RangeIndex: 4246 entries, 0 to 4245\n",
      "Data columns (total 6 columns):\n",
      " #   Column                    Non-Null Count  Dtype \n",
      "---  ------                    --------------  ----- \n",
      " 0   NOM_ENT                   4246 non-null   object\n",
      " 1   Grupo quinquenal de edad  4246 non-null   object\n",
      " 2   AÑO                       4246 non-null   int64 \n",
      " 3   Total                     4246 non-null   int64 \n",
      " 4   Hombres                   4246 non-null   int64 \n",
      " 5   Mujeres                   4246 non-null   int64 \n",
      "dtypes: int64(4), object(2)\n",
      "memory usage: 199.2+ KB\n"
     ]
    }
   ],
   "source": [
    "path_1990_2020.info()"
   ]
  },
  {
   "cell_type": "code",
   "execution_count": 35,
   "metadata": {},
   "outputs": [
    {
     "data": {
      "text/html": [
       "<div>\n",
       "<style scoped>\n",
       "    .dataframe tbody tr th:only-of-type {\n",
       "        vertical-align: middle;\n",
       "    }\n",
       "\n",
       "    .dataframe tbody tr th {\n",
       "        vertical-align: top;\n",
       "    }\n",
       "\n",
       "    .dataframe thead th {\n",
       "        text-align: right;\n",
       "    }\n",
       "</style>\n",
       "<table border=\"1\" class=\"dataframe\">\n",
       "  <thead>\n",
       "    <tr style=\"text-align: right;\">\n",
       "      <th></th>\n",
       "      <th>NOM_ENT</th>\n",
       "      <th>Grupo quinquenal de edad</th>\n",
       "      <th>AÑO</th>\n",
       "      <th>Total</th>\n",
       "      <th>Hombres</th>\n",
       "      <th>Mujeres</th>\n",
       "      <th>REGION</th>\n",
       "    </tr>\n",
       "  </thead>\n",
       "  <tbody>\n",
       "    <tr>\n",
       "      <th>0</th>\n",
       "      <td>Aguascalientes</td>\n",
       "      <td>No especificado</td>\n",
       "      <td>1990</td>\n",
       "      <td>2245</td>\n",
       "      <td>1084</td>\n",
       "      <td>1161</td>\n",
       "      <td>CENTRO NORTE</td>\n",
       "    </tr>\n",
       "    <tr>\n",
       "      <th>1</th>\n",
       "      <td>Aguascalientes</td>\n",
       "      <td>No especificado</td>\n",
       "      <td>1995</td>\n",
       "      <td>1254</td>\n",
       "      <td>607</td>\n",
       "      <td>647</td>\n",
       "      <td>CENTRO NORTE</td>\n",
       "    </tr>\n",
       "    <tr>\n",
       "      <th>2</th>\n",
       "      <td>Aguascalientes</td>\n",
       "      <td>No especificado</td>\n",
       "      <td>2000</td>\n",
       "      <td>102</td>\n",
       "      <td>44</td>\n",
       "      <td>58</td>\n",
       "      <td>CENTRO NORTE</td>\n",
       "    </tr>\n",
       "    <tr>\n",
       "      <th>3</th>\n",
       "      <td>Aguascalientes</td>\n",
       "      <td>No especificado</td>\n",
       "      <td>2005</td>\n",
       "      <td>98</td>\n",
       "      <td>41</td>\n",
       "      <td>57</td>\n",
       "      <td>CENTRO NORTE</td>\n",
       "    </tr>\n",
       "    <tr>\n",
       "      <th>4</th>\n",
       "      <td>Aguascalientes</td>\n",
       "      <td>No especificado</td>\n",
       "      <td>2010</td>\n",
       "      <td>109</td>\n",
       "      <td>45</td>\n",
       "      <td>64</td>\n",
       "      <td>CENTRO NORTE</td>\n",
       "    </tr>\n",
       "  </tbody>\n",
       "</table>\n",
       "</div>"
      ],
      "text/plain": [
       "          NOM_ENT Grupo quinquenal de edad   AÑO  Total  Hombres  Mujeres  \\\n",
       "0  Aguascalientes          No especificado  1990   2245     1084     1161   \n",
       "1  Aguascalientes          No especificado  1995   1254      607      647   \n",
       "2  Aguascalientes          No especificado  2000    102       44       58   \n",
       "3  Aguascalientes          No especificado  2005     98       41       57   \n",
       "4  Aguascalientes          No especificado  2010    109       45       64   \n",
       "\n",
       "         REGION  \n",
       "0  CENTRO NORTE  \n",
       "1  CENTRO NORTE  \n",
       "2  CENTRO NORTE  \n",
       "3  CENTRO NORTE  \n",
       "4  CENTRO NORTE  "
      ]
     },
     "execution_count": 35,
     "metadata": {},
     "output_type": "execute_result"
    }
   ],
   "source": [
    "\n",
    "#add region\n",
    "df_merge_regiones_1990_2020=path_1990_2020.merge(regiones,on=\"NOM_ENT\",how=\"left\")\n",
    "df_merge_regiones_1990_2020.head()"
   ]
  },
  {
   "cell_type": "code",
   "execution_count": 36,
   "metadata": {},
   "outputs": [],
   "source": []
  },
  {
   "cell_type": "code",
   "execution_count": null,
   "metadata": {},
   "outputs": [],
   "source": [
    "#CHANGE DATATYPE\n",
    "\n",
    "# columns that will not be change the data type\n",
    "#cols = df_semifinal.columns.drop(['REGION','NOM_ENT_MUN','ENTIDAD','NOM_ENT','MUN','NOM_MUN','LOC','NOM_LOC',\"NOM_ENT_MUN_LOC\",'LONGITUD','LATITUD','ALTITUD'])\n",
    "\n",
    "#change to numeric instead of string\n",
    "#df_semifinal[cols] = df_semifinal[cols].apply(pd.to_numeric)\n"
   ]
  },
  {
   "cell_type": "code",
   "execution_count": null,
   "metadata": {},
   "outputs": [],
   "source": [
    "df_merge_regiones_1990_2020.to_csv(\"4_timeline.csv\")"
   ]
  }
 ],
 "metadata": {
  "kernelspec": {
   "display_name": "Python 3",
   "language": "python",
   "name": "python3"
  },
  "language_info": {
   "codemirror_mode": {
    "name": "ipython",
    "version": 3
   },
   "file_extension": ".py",
   "mimetype": "text/x-python",
   "name": "python",
   "nbconvert_exporter": "python",
   "pygments_lexer": "ipython3",
   "version": "3.8.5"
  }
 },
 "nbformat": 4,
 "nbformat_minor": 4
}
