{
 "cells": [
  {
   "cell_type": "code",
   "execution_count": null,
   "metadata": {},
   "outputs": [],
   "source": []
  },
  {
   "cell_type": "code",
   "execution_count": null,
   "metadata": {},
   "outputs": [],
   "source": []
  },
  {
   "cell_type": "markdown",
   "metadata": {},
   "source": [
    "# PART I"
   ]
  },
  {
   "cell_type": "markdown",
   "metadata": {},
   "source": [
    "# Demographics in Mexico 2020"
   ]
  },
  {
   "cell_type": "markdown",
   "metadata": {},
   "source": [
    "### INDEX\n",
    "#### 1. Dependencies and set up  2. Clean data    3. Analysis: By region,By state, By municipality, By location"
   ]
  },
  {
   "cell_type": "markdown",
   "metadata": {},
   "source": [
    "## 1. Dependencies and set up"
   ]
  },
  {
   "cell_type": "code",
   "execution_count": 1,
   "metadata": {},
   "outputs": [],
   "source": [
    "%matplotlib inline\n",
    "import matplotlib.pyplot as plt\n",
    "import numpy as np\n",
    "import pandas as pd\n",
    "import os \n",
    "pd.set_option('display.float_format', lambda x: '%.2f' % x)\n",
    "import seaborn as sns\n",
    "import math\n",
    "import statistics\n",
    "import scipy.stats"
   ]
  },
  {
   "cell_type": "code",
   "execution_count": 2,
   "metadata": {},
   "outputs": [],
   "source": [
    "#Download from: https://www.inegi.org.mx/programas/ccpv/2020/#Datos_abiertos\n",
    "\n",
    "path_2020 = os.path.join('..', 'demographic info', 'conjunto_de_datos_iter_00CSV20.csv')"
   ]
  },
  {
   "cell_type": "code",
   "execution_count": 3,
   "metadata": {},
   "outputs": [],
   "source": [
    "demographic_mxn_2020= pd.read_csv(path_2020,low_memory=False,encoding='utf-8-sig')\n",
    "\n",
    "#note: use utf-8-sig beacuse of spanish characters\n",
    "#https://datascience.stackexchange.com/questions/12343/pandas-read-csv-with-spanish-characters"
   ]
  },
  {
   "cell_type": "markdown",
   "metadata": {},
   "source": [
    "## 2. Clean data"
   ]
  },
  {
   "cell_type": "markdown",
   "metadata": {},
   "source": [
    "#### The dataset contains 232 columns and 3.2 millions rows which contain information of Mexico's demographic census 2020. The dataset includes information by  state, municipality and location; geolocation, by age, by gender, religion, marital status, migration, unemployment, health insutance, household and education"
   ]
  },
  {
   "cell_type": "code",
   "execution_count": 4,
   "metadata": {},
   "outputs": [
    {
     "data": {
      "text/html": [
       "<div>\n",
       "<style scoped>\n",
       "    .dataframe tbody tr th:only-of-type {\n",
       "        vertical-align: middle;\n",
       "    }\n",
       "\n",
       "    .dataframe tbody tr th {\n",
       "        vertical-align: top;\n",
       "    }\n",
       "\n",
       "    .dataframe thead th {\n",
       "        text-align: right;\n",
       "    }\n",
       "</style>\n",
       "<table border=\"1\" class=\"dataframe\">\n",
       "  <thead>\n",
       "    <tr style=\"text-align: right;\">\n",
       "      <th></th>\n",
       "      <th>ENTIDAD</th>\n",
       "      <th>NOM_ENT</th>\n",
       "      <th>MUN</th>\n",
       "      <th>NOM_MUN</th>\n",
       "      <th>LOC</th>\n",
       "      <th>NOM_LOC</th>\n",
       "      <th>LONGITUD</th>\n",
       "      <th>LATITUD</th>\n",
       "      <th>ALTITUD</th>\n",
       "      <th>POBTOT</th>\n",
       "      <th>...</th>\n",
       "      <th>VPH_CEL</th>\n",
       "      <th>VPH_INTER</th>\n",
       "      <th>VPH_STVP</th>\n",
       "      <th>VPH_SPMVPI</th>\n",
       "      <th>VPH_CVJ</th>\n",
       "      <th>VPH_SINRTV</th>\n",
       "      <th>VPH_SINLTC</th>\n",
       "      <th>VPH_SINCINT</th>\n",
       "      <th>VPH_SINTIC</th>\n",
       "      <th>TAMLOC</th>\n",
       "    </tr>\n",
       "  </thead>\n",
       "  <tbody>\n",
       "    <tr>\n",
       "      <th>0</th>\n",
       "      <td>0</td>\n",
       "      <td>Total nacional</td>\n",
       "      <td>0</td>\n",
       "      <td>Total nacional</td>\n",
       "      <td>0</td>\n",
       "      <td>Total nacional</td>\n",
       "      <td>NaN</td>\n",
       "      <td>NaN</td>\n",
       "      <td>NaN</td>\n",
       "      <td>126014024</td>\n",
       "      <td>...</td>\n",
       "      <td>30775898</td>\n",
       "      <td>18307193</td>\n",
       "      <td>15211306</td>\n",
       "      <td>6616141</td>\n",
       "      <td>4047100</td>\n",
       "      <td>1788552</td>\n",
       "      <td>3170894</td>\n",
       "      <td>15108204</td>\n",
       "      <td>852871</td>\n",
       "      <td>*</td>\n",
       "    </tr>\n",
       "    <tr>\n",
       "      <th>1</th>\n",
       "      <td>0</td>\n",
       "      <td>Total nacional</td>\n",
       "      <td>0</td>\n",
       "      <td>Total nacional</td>\n",
       "      <td>9998</td>\n",
       "      <td>Localidades de una vivienda</td>\n",
       "      <td>NaN</td>\n",
       "      <td>NaN</td>\n",
       "      <td>NaN</td>\n",
       "      <td>250354</td>\n",
       "      <td>...</td>\n",
       "      <td>47005</td>\n",
       "      <td>8385</td>\n",
       "      <td>18981</td>\n",
       "      <td>1732</td>\n",
       "      <td>1113</td>\n",
       "      <td>12775</td>\n",
       "      <td>14143</td>\n",
       "      <td>51293</td>\n",
       "      <td>7154</td>\n",
       "      <td>*</td>\n",
       "    </tr>\n",
       "    <tr>\n",
       "      <th>2</th>\n",
       "      <td>0</td>\n",
       "      <td>Total nacional</td>\n",
       "      <td>0</td>\n",
       "      <td>Total nacional</td>\n",
       "      <td>9999</td>\n",
       "      <td>Localidades de dos viviendas</td>\n",
       "      <td>NaN</td>\n",
       "      <td>NaN</td>\n",
       "      <td>NaN</td>\n",
       "      <td>147125</td>\n",
       "      <td>...</td>\n",
       "      <td>25581</td>\n",
       "      <td>5027</td>\n",
       "      <td>11306</td>\n",
       "      <td>971</td>\n",
       "      <td>708</td>\n",
       "      <td>8247</td>\n",
       "      <td>10065</td>\n",
       "      <td>29741</td>\n",
       "      <td>5283</td>\n",
       "      <td>*</td>\n",
       "    </tr>\n",
       "    <tr>\n",
       "      <th>3</th>\n",
       "      <td>1</td>\n",
       "      <td>Aguascalientes</td>\n",
       "      <td>0</td>\n",
       "      <td>Total de la entidad Aguascalientes</td>\n",
       "      <td>0</td>\n",
       "      <td>Total de la Entidad</td>\n",
       "      <td>NaN</td>\n",
       "      <td>NaN</td>\n",
       "      <td>NaN</td>\n",
       "      <td>1425607</td>\n",
       "      <td>...</td>\n",
       "      <td>359895</td>\n",
       "      <td>236003</td>\n",
       "      <td>174089</td>\n",
       "      <td>98724</td>\n",
       "      <td>70126</td>\n",
       "      <td>6021</td>\n",
       "      <td>15323</td>\n",
       "      <td>128996</td>\n",
       "      <td>1711</td>\n",
       "      <td>*</td>\n",
       "    </tr>\n",
       "    <tr>\n",
       "      <th>4</th>\n",
       "      <td>1</td>\n",
       "      <td>Aguascalientes</td>\n",
       "      <td>0</td>\n",
       "      <td>Total de la entidad Aguascalientes</td>\n",
       "      <td>9998</td>\n",
       "      <td>Localidades de una vivienda</td>\n",
       "      <td>NaN</td>\n",
       "      <td>NaN</td>\n",
       "      <td>NaN</td>\n",
       "      <td>3697</td>\n",
       "      <td>...</td>\n",
       "      <td>732</td>\n",
       "      <td>205</td>\n",
       "      <td>212</td>\n",
       "      <td>48</td>\n",
       "      <td>41</td>\n",
       "      <td>39</td>\n",
       "      <td>62</td>\n",
       "      <td>530</td>\n",
       "      <td>20</td>\n",
       "      <td>*</td>\n",
       "    </tr>\n",
       "  </tbody>\n",
       "</table>\n",
       "<p>5 rows × 232 columns</p>\n",
       "</div>"
      ],
      "text/plain": [
       "   ENTIDAD         NOM_ENT  MUN                             NOM_MUN   LOC  \\\n",
       "0        0  Total nacional    0                      Total nacional     0   \n",
       "1        0  Total nacional    0                      Total nacional  9998   \n",
       "2        0  Total nacional    0                      Total nacional  9999   \n",
       "3        1  Aguascalientes    0  Total de la entidad Aguascalientes     0   \n",
       "4        1  Aguascalientes    0  Total de la entidad Aguascalientes  9998   \n",
       "\n",
       "                        NOM_LOC LONGITUD LATITUD ALTITUD     POBTOT  ...  \\\n",
       "0                Total nacional      NaN     NaN     NaN  126014024  ...   \n",
       "1   Localidades de una vivienda      NaN     NaN     NaN     250354  ...   \n",
       "2  Localidades de dos viviendas      NaN     NaN     NaN     147125  ...   \n",
       "3           Total de la Entidad      NaN     NaN     NaN    1425607  ...   \n",
       "4   Localidades de una vivienda      NaN     NaN     NaN       3697  ...   \n",
       "\n",
       "    VPH_CEL VPH_INTER  VPH_STVP VPH_SPMVPI  VPH_CVJ VPH_SINRTV VPH_SINLTC  \\\n",
       "0  30775898  18307193  15211306    6616141  4047100    1788552    3170894   \n",
       "1     47005      8385     18981       1732     1113      12775      14143   \n",
       "2     25581      5027     11306        971      708       8247      10065   \n",
       "3    359895    236003    174089      98724    70126       6021      15323   \n",
       "4       732       205       212         48       41         39         62   \n",
       "\n",
       "  VPH_SINCINT VPH_SINTIC TAMLOC  \n",
       "0    15108204     852871      *  \n",
       "1       51293       7154      *  \n",
       "2       29741       5283      *  \n",
       "3      128996       1711      *  \n",
       "4         530         20      *  \n",
       "\n",
       "[5 rows x 232 columns]"
      ]
     },
     "execution_count": 4,
     "metadata": {},
     "output_type": "execute_result"
    }
   ],
   "source": [
    "demographic_mxn_2020.head()"
   ]
  },
  {
   "cell_type": "markdown",
   "metadata": {},
   "source": [
    "##### 2.1 DROP COLUMNS"
   ]
  },
  {
   "cell_type": "markdown",
   "metadata": {},
   "source": [
    "#### Columns that have aggregated data will not be included, 63 columns will be excluded"
   ]
  },
  {
   "cell_type": "code",
   "execution_count": 5,
   "metadata": {},
   "outputs": [],
   "source": [
    "\n",
    "#drop columns that we will not use\n",
    "simple_df=demographic_mxn_2020.drop(demographic_mxn_2020.columns[[15,16,17,18,19,20,21,22,23,24,25,26,27,28,29,52,53,54,55,56,63,64,65,66,67,68,69,70,71,72,73,74,75,76,77,78,79,80,81,82,83,84,85,86,87,88,89,90,91,92,93,94,95,96,97,98,99,100,140,141,142,187,188]],axis=1)\n"
   ]
  },
  {
   "cell_type": "code",
   "execution_count": 6,
   "metadata": {},
   "outputs": [
    {
     "name": "stdout",
     "output_type": "stream",
     "text": [
      "<class 'pandas.core.frame.DataFrame'>\n",
      "RangeIndex: 195662 entries, 0 to 195661\n",
      "Columns: 169 entries, ENTIDAD to TAMLOC\n",
      "dtypes: int64(6), object(163)\n",
      "memory usage: 252.3+ MB\n"
     ]
    }
   ],
   "source": [
    "simple_df.info()"
   ]
  },
  {
   "cell_type": "markdown",
   "metadata": {},
   "source": [
    "####  2.2 CLEAN DATA"
   ]
  },
  {
   "cell_type": "code",
   "execution_count": 7,
   "metadata": {},
   "outputs": [],
   "source": [
    "#clean data\n",
    "clean_df = simple_df.replace(\"*\", 0)\n",
    "clean_df_II = clean_df.replace('N/D', 0)"
   ]
  },
  {
   "cell_type": "code",
   "execution_count": 9,
   "metadata": {},
   "outputs": [],
   "source": [
    "#list(clean_df_II.columns)"
   ]
  },
  {
   "cell_type": "markdown",
   "metadata": {},
   "source": [
    "#### 2.3 CLEAN DUPLICATES"
   ]
  },
  {
   "cell_type": "code",
   "execution_count": 10,
   "metadata": {},
   "outputs": [],
   "source": [
    "#CLEAN for duplicates\n",
    "\n",
    "#Method example:https://www.geeksforgeeks.org/drop-rows-from-the-dataframe-based-on-certain-condition-applied-on-a-column/\n",
    "#df.drop(df[df['Age'] < 25].index, inplace = True)\n",
    "# Filter all rows for which :\n",
    "\n",
    "clean_df_II.drop(clean_df_II[clean_df_II[\"NOM_ENT\"]== \"Total nacional\"].index,inplace=True)\n",
    "clean_df_II.drop(clean_df_II[clean_df_II[\"NOM_LOC\"]== \"Total de la Entidad\"].index,inplace=True)\n",
    "clean_df_II.drop(clean_df_II[clean_df_II[\"NOM_LOC\"]== \"Localidades de una vivienda\"].index,inplace=True)\n",
    "clean_df_II.drop(clean_df_II[clean_df_II[\"NOM_LOC\"]== \"Localidades de dos viviendas\"].index,inplace=True)\n",
    "clean_df_II.drop(clean_df_II[clean_df_II[\"NOM_LOC\"]== \"Total del Municipio\"].index,inplace=True)\n",
    "\n",
    "#clean_df_II.head()\n"
   ]
  },
  {
   "cell_type": "code",
   "execution_count": 11,
   "metadata": {},
   "outputs": [],
   "source": [
    "#clean_df_II[\"NOM_ENT\"].unique()\n"
   ]
  },
  {
   "cell_type": "markdown",
   "metadata": {},
   "source": [
    "#### 2.4 CONCATANATE TWO COLUMNS  MUNICIPALITY LEVEL"
   ]
  },
  {
   "cell_type": "markdown",
   "metadata": {},
   "source": [
    "#### Concatanate name of state and municipality because there are a lot of municiplities that have the same name, therefore its harder to identify them. Example, Municipality San Miguel (state Queretaro), San Miguel (state Chiapas),etc\n"
   ]
  },
  {
   "cell_type": "code",
   "execution_count": 18,
   "metadata": {},
   "outputs": [
    {
     "name": "stdout",
     "output_type": "stream",
     "text": [
      "<class 'pandas.core.frame.DataFrame'>\n",
      "Int64Index: 189432 entries, 7 to 195660\n",
      "Columns: 171 entries, ENTIDAD to NOM_ENT_MUN_LOC\n",
      "dtypes: int64(6), object(165)\n",
      "memory usage: 248.6+ MB\n"
     ]
    }
   ],
   "source": [
    "# method: https://stackoverflow.com/questions/19377969/combine-two-columns-of-text-in-pandas-dataframe\n",
    "#example:df[\"period\"] = df[\"Year\"].astype(str) + df[\"quarter\"]\n",
    "\n",
    "clean_df_II[\"NOM_ENT_MUN\"]=clean_df_II[\"NOM_ENT\"].astype(str)+ \" , \" +clean_df_II[\"NOM_MUN\"].astype(str)\n",
    "clean_df_II.info()"
   ]
  },
  {
   "cell_type": "code",
   "execution_count": 21,
   "metadata": {},
   "outputs": [
    {
     "data": {
      "text/plain": [
       "2467"
      ]
     },
     "execution_count": 21,
     "metadata": {},
     "output_type": "execute_result"
    }
   ],
   "source": [
    "num_municipality=clean_df_II[\"NOM_ENT_MUN\"].unique()\n",
    "len(num_municipality)"
   ]
  },
  {
   "cell_type": "markdown",
   "metadata": {},
   "source": [
    "#### 2.5 CONCAT LOCAL LEVEL"
   ]
  },
  {
   "cell_type": "code",
   "execution_count": 14,
   "metadata": {},
   "outputs": [],
   "source": [
    "clean_df_II[\"NOM_ENT_MUN_LOC\"]=clean_df_II[\"NOM_ENT_MUN\"].astype(str)+ \" , \" +clean_df_II[\"NOM_LOC\"].astype(str)"
   ]
  },
  {
   "cell_type": "code",
   "execution_count": 15,
   "metadata": {},
   "outputs": [],
   "source": [
    "#clean_df_II[\"NOM_ENT_MUN_LOC\"].unique()"
   ]
  },
  {
   "cell_type": "code",
   "execution_count": 16,
   "metadata": {},
   "outputs": [
    {
     "data": {
      "text/plain": [
       "189432"
      ]
     },
     "execution_count": 16,
     "metadata": {},
     "output_type": "execute_result"
    }
   ],
   "source": [
    "clean_df_II[\"NOM_ENT_MUN_LOC\"].count()"
   ]
  },
  {
   "cell_type": "code",
   "execution_count": 22,
   "metadata": {},
   "outputs": [],
   "source": [
    "#dictionary, not used\n",
    "\n",
    "#categories_regiones={\"Aguascalientes\":\"CENTRO NORTE\",\"Baja California\":\"NORTE\",\"Baja California Sur\":\"CENTRO NORTE\",\n",
    "#            \"Campeche\":\"SUR\",\"Chiapas\":\"SUR\",\"Chihuahua\":\"NORTE\",\"Ciudad de M√©xico\":\"CENTRO\", \"Coahuila de Zaragoza\":\"NORTE\",\n",
    "#            \"Colima\":\"CENTRO NORTE\",\"Durango\":\"CENTRO NORTE\",\"Guanajuato\":\"CENTRO\", \"Guerrero\":\"CENTRO\", \"Hidalgo\":\"SUR\",\n",
    "#            \"Jalisco\":\"CENTRO\", \"Michoac√°n de Ocampo\":\"CENTRO NORTE\",\"Morelos\":\"CENTRO NORTE\",\"M√©xico\":\"CENTRO\",\n",
    "#            \"Nayarit\":\"CENTRO NORTE\",\"Nuevo Le√≥n\":\"NORTE\",\"Oaxaca\":\"SUR\",\"Puebla\":\"CENTRO\",\"Quer√©taro\":\"CENTRO\",\n",
    "#            \"Quintana Roo\":\"SUR\",\"San Luis Potos√≠\":\"CENTRO NORTE\",\"Sinaloa\":\"CENTRO NORTE\",\"Sonora\":\"NORTE\",\n",
    "#            \"Tabasco\":\"SUR\",\"Tamaulipas\":\"NORTE\",\"Tlaxcala\":\"CENTRO\",\"Veracruz de Ignacio de la Llave\":\"SUR\",\n",
    "#            \"Yucat√°n\":\"SUR\",\"Zacatecas\":\"CENTRO NORTE\"}"
   ]
  },
  {
   "cell_type": "markdown",
   "metadata": {},
   "source": [
    "#### 2.6 ADD REGION"
   ]
  },
  {
   "cell_type": "markdown",
   "metadata": {},
   "source": [
    "####  There are 32 states. BANXICO ( Central Mexican Bank) divided the states by geography and economic indicators."
   ]
  },
  {
   "cell_type": "code",
   "execution_count": 23,
   "metadata": {},
   "outputs": [
    {
     "data": {
      "text/html": [
       "<div>\n",
       "<style scoped>\n",
       "    .dataframe tbody tr th:only-of-type {\n",
       "        vertical-align: middle;\n",
       "    }\n",
       "\n",
       "    .dataframe tbody tr th {\n",
       "        vertical-align: top;\n",
       "    }\n",
       "\n",
       "    .dataframe thead th {\n",
       "        text-align: right;\n",
       "    }\n",
       "</style>\n",
       "<table border=\"1\" class=\"dataframe\">\n",
       "  <thead>\n",
       "    <tr style=\"text-align: right;\">\n",
       "      <th></th>\n",
       "      <th>ENTIDAD</th>\n",
       "      <th>NOM_ENT</th>\n",
       "      <th>MUN</th>\n",
       "      <th>NOM_MUN</th>\n",
       "      <th>LOC</th>\n",
       "      <th>NOM_LOC</th>\n",
       "      <th>LONGITUD</th>\n",
       "      <th>LATITUD</th>\n",
       "      <th>ALTITUD</th>\n",
       "      <th>POBTOT</th>\n",
       "      <th>...</th>\n",
       "      <th>VPH_SPMVPI</th>\n",
       "      <th>VPH_CVJ</th>\n",
       "      <th>VPH_SINRTV</th>\n",
       "      <th>VPH_SINLTC</th>\n",
       "      <th>VPH_SINCINT</th>\n",
       "      <th>VPH_SINTIC</th>\n",
       "      <th>TAMLOC</th>\n",
       "      <th>NOM_ENT_MUN</th>\n",
       "      <th>NOM_ENT_MUN_LOC</th>\n",
       "      <th>REGION</th>\n",
       "    </tr>\n",
       "  </thead>\n",
       "  <tbody>\n",
       "    <tr>\n",
       "      <th>0</th>\n",
       "      <td>1</td>\n",
       "      <td>Aguascalientes</td>\n",
       "      <td>1</td>\n",
       "      <td>Aguascalientes</td>\n",
       "      <td>1</td>\n",
       "      <td>Aguascalientes</td>\n",
       "      <td>102°17'45.768\" W</td>\n",
       "      <td>21°52'47.362\" N</td>\n",
       "      <td>1878</td>\n",
       "      <td>863893</td>\n",
       "      <td>...</td>\n",
       "      <td>77719</td>\n",
       "      <td>53589</td>\n",
       "      <td>2995</td>\n",
       "      <td>5984</td>\n",
       "      <td>63661</td>\n",
       "      <td>595</td>\n",
       "      <td>13</td>\n",
       "      <td>Aguascalientes , Aguascalientes</td>\n",
       "      <td>Aguascalientes , Aguascalientes , Aguascalientes</td>\n",
       "      <td>CENTRO NORTE</td>\n",
       "    </tr>\n",
       "    <tr>\n",
       "      <th>1</th>\n",
       "      <td>1</td>\n",
       "      <td>Aguascalientes</td>\n",
       "      <td>1</td>\n",
       "      <td>Aguascalientes</td>\n",
       "      <td>94</td>\n",
       "      <td>Granja Adelita</td>\n",
       "      <td>102°22'24.710\" W</td>\n",
       "      <td>21°52'18.749\" N</td>\n",
       "      <td>1902</td>\n",
       "      <td>5</td>\n",
       "      <td>...</td>\n",
       "      <td>0</td>\n",
       "      <td>0</td>\n",
       "      <td>0</td>\n",
       "      <td>0</td>\n",
       "      <td>0</td>\n",
       "      <td>0</td>\n",
       "      <td>1</td>\n",
       "      <td>Aguascalientes , Aguascalientes</td>\n",
       "      <td>Aguascalientes , Aguascalientes , Granja Adelita</td>\n",
       "      <td>CENTRO NORTE</td>\n",
       "    </tr>\n",
       "    <tr>\n",
       "      <th>2</th>\n",
       "      <td>1</td>\n",
       "      <td>Aguascalientes</td>\n",
       "      <td>1</td>\n",
       "      <td>Aguascalientes</td>\n",
       "      <td>96</td>\n",
       "      <td>Agua Azul</td>\n",
       "      <td>102°21'25.639\" W</td>\n",
       "      <td>21°53'01.522\" N</td>\n",
       "      <td>1861</td>\n",
       "      <td>41</td>\n",
       "      <td>...</td>\n",
       "      <td>2</td>\n",
       "      <td>1</td>\n",
       "      <td>0</td>\n",
       "      <td>1</td>\n",
       "      <td>6</td>\n",
       "      <td>0</td>\n",
       "      <td>1</td>\n",
       "      <td>Aguascalientes , Aguascalientes</td>\n",
       "      <td>Aguascalientes , Aguascalientes , Agua Azul</td>\n",
       "      <td>CENTRO NORTE</td>\n",
       "    </tr>\n",
       "    <tr>\n",
       "      <th>3</th>\n",
       "      <td>1</td>\n",
       "      <td>Aguascalientes</td>\n",
       "      <td>1</td>\n",
       "      <td>Aguascalientes</td>\n",
       "      <td>102</td>\n",
       "      <td>Los Arbolitos [Rancho]</td>\n",
       "      <td>102°21'26.261\" W</td>\n",
       "      <td>21°46'48.650\" N</td>\n",
       "      <td>1861</td>\n",
       "      <td>8</td>\n",
       "      <td>...</td>\n",
       "      <td>0</td>\n",
       "      <td>0</td>\n",
       "      <td>0</td>\n",
       "      <td>0</td>\n",
       "      <td>0</td>\n",
       "      <td>0</td>\n",
       "      <td>1</td>\n",
       "      <td>Aguascalientes , Aguascalientes</td>\n",
       "      <td>Aguascalientes , Aguascalientes , Los Arbolito...</td>\n",
       "      <td>CENTRO NORTE</td>\n",
       "    </tr>\n",
       "    <tr>\n",
       "      <th>4</th>\n",
       "      <td>1</td>\n",
       "      <td>Aguascalientes</td>\n",
       "      <td>1</td>\n",
       "      <td>Aguascalientes</td>\n",
       "      <td>104</td>\n",
       "      <td>Ardillas de Abajo (Las Ardillas)</td>\n",
       "      <td>102°11'30.914\" W</td>\n",
       "      <td>21°56'42.243\" N</td>\n",
       "      <td>1989</td>\n",
       "      <td>1</td>\n",
       "      <td>...</td>\n",
       "      <td>0</td>\n",
       "      <td>0</td>\n",
       "      <td>0</td>\n",
       "      <td>0</td>\n",
       "      <td>0</td>\n",
       "      <td>0</td>\n",
       "      <td>1</td>\n",
       "      <td>Aguascalientes , Aguascalientes</td>\n",
       "      <td>Aguascalientes , Aguascalientes , Ardillas de ...</td>\n",
       "      <td>CENTRO NORTE</td>\n",
       "    </tr>\n",
       "  </tbody>\n",
       "</table>\n",
       "<p>5 rows × 172 columns</p>\n",
       "</div>"
      ],
      "text/plain": [
       "   ENTIDAD         NOM_ENT  MUN         NOM_MUN  LOC  \\\n",
       "0        1  Aguascalientes    1  Aguascalientes    1   \n",
       "1        1  Aguascalientes    1  Aguascalientes   94   \n",
       "2        1  Aguascalientes    1  Aguascalientes   96   \n",
       "3        1  Aguascalientes    1  Aguascalientes  102   \n",
       "4        1  Aguascalientes    1  Aguascalientes  104   \n",
       "\n",
       "                            NOM_LOC          LONGITUD          LATITUD  \\\n",
       "0                    Aguascalientes  102°17'45.768\" W  21°52'47.362\" N   \n",
       "1                    Granja Adelita  102°22'24.710\" W  21°52'18.749\" N   \n",
       "2                         Agua Azul  102°21'25.639\" W  21°53'01.522\" N   \n",
       "3            Los Arbolitos [Rancho]  102°21'26.261\" W  21°46'48.650\" N   \n",
       "4  Ardillas de Abajo (Las Ardillas)  102°11'30.914\" W  21°56'42.243\" N   \n",
       "\n",
       "  ALTITUD  POBTOT  ... VPH_SPMVPI VPH_CVJ VPH_SINRTV VPH_SINLTC VPH_SINCINT  \\\n",
       "0    1878  863893  ...      77719   53589       2995       5984       63661   \n",
       "1    1902       5  ...          0       0          0          0           0   \n",
       "2    1861      41  ...          2       1          0          1           6   \n",
       "3    1861       8  ...          0       0          0          0           0   \n",
       "4    1989       1  ...          0       0          0          0           0   \n",
       "\n",
       "  VPH_SINTIC TAMLOC                      NOM_ENT_MUN  \\\n",
       "0        595     13  Aguascalientes , Aguascalientes   \n",
       "1          0      1  Aguascalientes , Aguascalientes   \n",
       "2          0      1  Aguascalientes , Aguascalientes   \n",
       "3          0      1  Aguascalientes , Aguascalientes   \n",
       "4          0      1  Aguascalientes , Aguascalientes   \n",
       "\n",
       "                                     NOM_ENT_MUN_LOC        REGION  \n",
       "0   Aguascalientes , Aguascalientes , Aguascalientes  CENTRO NORTE  \n",
       "1   Aguascalientes , Aguascalientes , Granja Adelita  CENTRO NORTE  \n",
       "2        Aguascalientes , Aguascalientes , Agua Azul  CENTRO NORTE  \n",
       "3  Aguascalientes , Aguascalientes , Los Arbolito...  CENTRO NORTE  \n",
       "4  Aguascalientes , Aguascalientes , Ardillas de ...  CENTRO NORTE  \n",
       "\n",
       "[5 rows x 172 columns]"
      ]
     },
     "execution_count": 23,
     "metadata": {},
     "output_type": "execute_result"
    }
   ],
   "source": [
    "#Add name of region\n",
    "#Method:https://www.youtube.com/watch?v=5hHW-g0uSUA\n",
    "\n",
    "#import datframe regiones\n",
    "path_regiones = os.path.join('..', 'demographic info', '2_regiones.csv')\n",
    "regiones= pd.read_csv(path_regiones)\n",
    "\n",
    "#merge\n",
    "df_merge_regiones=clean_df_II.merge(regiones,on=\"NOM_ENT\",how=\"left\")\n",
    "df_merge_regiones.head()"
   ]
  },
  {
   "cell_type": "markdown",
   "metadata": {},
   "source": [
    "#### 2.7 REARRANGE COLUMNS"
   ]
  },
  {
   "cell_type": "code",
   "execution_count": 24,
   "metadata": {},
   "outputs": [],
   "source": [
    "df_semifinal=df_merge_regiones[[\"REGION\",\"NOM_ENT_MUN\",'ENTIDAD','NOM_ENT','MUN','NOM_MUN','LOC','NOM_LOC',\"NOM_ENT_MUN_LOC\",'LONGITUD','LATITUD',\n",
    " 'ALTITUD','POBTOT','POBFEM','POBMAS','P_0A2','P_0A2_F','P_0A2_M','P_3A5','P_3A5_F','P_3A5_M',\n",
    " 'P_6A11','P_6A11_F','P_6A11_M', 'P_8A14','P_8A14_F','P_8A14_M','P_12A14','P_12A14_F',\n",
    " 'P_12A14_M','P_15A17', 'P_15A17_F', 'P_15A17_M', 'P_18A24', 'P_18A24_F','P_18A24_M','P_15A49_F', 'P_60YMAS', 'P_60YMAS_F',\n",
    " 'P_60YMAS_M','PNACENT','PNACENT_F','PNACENT_M','PNACOE','PNACOE_F','PNACOE_M','P3A5_NOA','P3A5_NOA_F','P3A5_NOA_M','P6A11_NOA','P6A11_NOAF','P6A11_NOAM',\n",
    " 'P12A14NOA','P12A14NOAF','P12A14NOAM','P15A17A','P15A17A_F','P15A17A_M','P18A24A','P18A24A_F','P18A24A_M','P8A14AN','P8A14AN_F','P8A14AN_M','P15YM_AN','P15YM_AN_F','P15YM_AN_M',\n",
    " 'P15YM_SE', 'P15YM_SE_F', 'P15YM_SE_M','P15PRI_IN','P15PRI_INF','P15PRI_INM','P15PRI_CO','P15PRI_COF','P15PRI_COM',\n",
    " 'P15SEC_IN','P15SEC_INF','P15SEC_INM','P15SEC_CO','P15SEC_COF','P15SEC_COM','P18YM_PB','P18YM_PB_F','P18YM_PB_M',\n",
    " 'PEA','PEA_F','PEA_M','PE_INAC','PE_INAC_F','PE_INAC_M','POCUPADA','POCUPADA_F','POCUPADA_M','PDESOCUP',\n",
    " 'PDESOCUP_F','PDESOCUP_M','PSINDER','PDER_SS','PDER_IMSS','PDER_ISTE','PDER_ISTEE','PAFIL_PDOM','PDER_SEGP',\n",
    " 'PDER_IMSSB','PAFIL_IPRIV','PAFIL_OTRAI','P12YM_SOLT','P12YM_CASA','P12YM_SEPA','PCATOLICA','PRO_CRIEVA','POTRAS_REL',\n",
    " 'PSIN_RELIG','TOTHOG','HOGJEF_F','HOGJEF_M','POBHOG','PHOGJEF_F','PHOGJEF_M','VIVTOT','TVIVHAB','TVIVPAR','VIVPAR_HAB',\n",
    " 'VIVPARH_CV','TVIVPARHAB','VIVPAR_DES','VIVPAR_UT','OCUPVIVPAR','VPH_PISODT','VPH_PISOTI','VPH_1DOR','VPH_2YMASD',\n",
    " 'VPH_1CUART','VPH_2CUART','VPH_3YMASC','VPH_C_ELEC','VPH_S_ELEC','VPH_AGUADV','VPH_AEASP','VPH_AGUAFV','VPH_TINACO',\n",
    " 'VPH_CISTER','VPH_EXCSA','VPH_LETR','VPH_DRENAJ','VPH_NODREN','VPH_C_SERV','VPH_NDEAED','VPH_DSADMA','VPH_NDACMM',\n",
    " 'VPH_SNBIEN','VPH_REFRI','VPH_LAVAD','VPH_HMICRO','VPH_AUTOM','VPH_MOTO','VPH_BICI','VPH_RADIO','VPH_TV','VPH_PC',\n",
    " 'VPH_TELEF','VPH_CEL','VPH_INTER','VPH_STVP','VPH_SPMVPI','VPH_CVJ','VPH_SINRTV','VPH_SINLTC','VPH_SINCINT',\n",
    " 'VPH_SINTIC','TAMLOC']]\n",
    "\n",
    "#df_semifinal.head()"
   ]
  },
  {
   "cell_type": "markdown",
   "metadata": {},
   "source": [
    "#### 2.8 change datatypes"
   ]
  },
  {
   "cell_type": "code",
   "execution_count": 25,
   "metadata": {},
   "outputs": [],
   "source": [
    "#CHANGE DATATYPE\n",
    "\n",
    "# columns that will not be change the data type\n",
    "cols = df_semifinal.columns.drop(['REGION','NOM_ENT_MUN','ENTIDAD','NOM_ENT','MUN','NOM_MUN','LOC','NOM_LOC',\"NOM_ENT_MUN_LOC\",'LONGITUD','LATITUD','ALTITUD'])\n",
    "\n",
    "#change to numeric instead of string\n",
    "df_semifinal[cols] = df_semifinal[cols].apply(pd.to_numeric)\n"
   ]
  },
  {
   "cell_type": "code",
   "execution_count": 206,
   "metadata": {},
   "outputs": [
    {
     "name": "stdout",
     "output_type": "stream",
     "text": [
      "<class 'pandas.core.frame.DataFrame'>\n",
      "Int64Index: 189432 entries, 0 to 189431\n",
      "Data columns (total 172 columns):\n",
      " #   Column           Non-Null Count   Dtype \n",
      "---  ------           --------------   ----- \n",
      " 0   REGION           189432 non-null  object\n",
      " 1   NOM_ENT_MUN      189432 non-null  object\n",
      " 2   ENTIDAD          189432 non-null  int64 \n",
      " 3   NOM_ENT          189432 non-null  object\n",
      " 4   MUN              189432 non-null  int64 \n",
      " 5   NOM_MUN          189432 non-null  object\n",
      " 6   LOC              189432 non-null  int64 \n",
      " 7   NOM_LOC          189432 non-null  object\n",
      " 8   NOM_ENT_MUN_LOC  189432 non-null  object\n",
      " 9   LONGITUD         189432 non-null  object\n",
      " 10  LATITUD          189432 non-null  object\n",
      " 11  ALTITUD          189432 non-null  object\n",
      " 12  POBTOT           189432 non-null  int64 \n",
      " 13  POBFEM           189432 non-null  int64 \n",
      " 14  POBMAS           189432 non-null  int64 \n",
      " 15  P_0A2            189432 non-null  int64 \n",
      " 16  P_0A2_F          189432 non-null  int64 \n",
      " 17  P_0A2_M          189432 non-null  int64 \n",
      " 18  P_3A5            189432 non-null  int64 \n",
      " 19  P_3A5_F          189432 non-null  int64 \n",
      " 20  P_3A5_M          189432 non-null  int64 \n",
      " 21  P_6A11           189432 non-null  int64 \n",
      " 22  P_6A11_F         189432 non-null  int64 \n",
      " 23  P_6A11_M         189432 non-null  int64 \n",
      " 24  P_8A14           189432 non-null  int64 \n",
      " 25  P_8A14_F         189432 non-null  int64 \n",
      " 26  P_8A14_M         189432 non-null  int64 \n",
      " 27  P_12A14          189432 non-null  int64 \n",
      " 28  P_12A14_F        189432 non-null  int64 \n",
      " 29  P_12A14_M        189432 non-null  int64 \n",
      " 30  P_15A17          189432 non-null  int64 \n",
      " 31  P_15A17_F        189432 non-null  int64 \n",
      " 32  P_15A17_M        189432 non-null  int64 \n",
      " 33  P_18A24          189432 non-null  int64 \n",
      " 34  P_18A24_F        189432 non-null  int64 \n",
      " 35  P_18A24_M        189432 non-null  int64 \n",
      " 36  P_15A49_F        189432 non-null  int64 \n",
      " 37  P_60YMAS         189432 non-null  int64 \n",
      " 38  P_60YMAS_F       189432 non-null  int64 \n",
      " 39  P_60YMAS_M       189432 non-null  int64 \n",
      " 40  PNACENT          189432 non-null  int64 \n",
      " 41  PNACENT_F        189432 non-null  int64 \n",
      " 42  PNACENT_M        189432 non-null  int64 \n",
      " 43  PNACOE           189432 non-null  int64 \n",
      " 44  PNACOE_F         189432 non-null  int64 \n",
      " 45  PNACOE_M         189432 non-null  int64 \n",
      " 46  P3A5_NOA         189432 non-null  int64 \n",
      " 47  P3A5_NOA_F       189432 non-null  int64 \n",
      " 48  P3A5_NOA_M       189432 non-null  int64 \n",
      " 49  P6A11_NOA        189432 non-null  int64 \n",
      " 50  P6A11_NOAF       189432 non-null  int64 \n",
      " 51  P6A11_NOAM       189432 non-null  int64 \n",
      " 52  P12A14NOA        189432 non-null  int64 \n",
      " 53  P12A14NOAF       189432 non-null  int64 \n",
      " 54  P12A14NOAM       189432 non-null  int64 \n",
      " 55  P15A17A          189432 non-null  int64 \n",
      " 56  P15A17A_F        189432 non-null  int64 \n",
      " 57  P15A17A_M        189432 non-null  int64 \n",
      " 58  P18A24A          189432 non-null  int64 \n",
      " 59  P18A24A_F        189432 non-null  int64 \n",
      " 60  P18A24A_M        189432 non-null  int64 \n",
      " 61  P8A14AN          189432 non-null  int64 \n",
      " 62  P8A14AN_F        189432 non-null  int64 \n",
      " 63  P8A14AN_M        189432 non-null  int64 \n",
      " 64  P15YM_AN         189432 non-null  int64 \n",
      " 65  P15YM_AN_F       189432 non-null  int64 \n",
      " 66  P15YM_AN_M       189432 non-null  int64 \n",
      " 67  P15YM_SE         189432 non-null  int64 \n",
      " 68  P15YM_SE_F       189432 non-null  int64 \n",
      " 69  P15YM_SE_M       189432 non-null  int64 \n",
      " 70  P15PRI_IN        189432 non-null  int64 \n",
      " 71  P15PRI_INF       189432 non-null  int64 \n",
      " 72  P15PRI_INM       189432 non-null  int64 \n",
      " 73  P15PRI_CO        189432 non-null  int64 \n",
      " 74  P15PRI_COF       189432 non-null  int64 \n",
      " 75  P15PRI_COM       189432 non-null  int64 \n",
      " 76  P15SEC_IN        189432 non-null  int64 \n",
      " 77  P15SEC_INF       189432 non-null  int64 \n",
      " 78  P15SEC_INM       189432 non-null  int64 \n",
      " 79  P15SEC_CO        189432 non-null  int64 \n",
      " 80  P15SEC_COF       189432 non-null  int64 \n",
      " 81  P15SEC_COM       189432 non-null  int64 \n",
      " 82  P18YM_PB         189432 non-null  int64 \n",
      " 83  P18YM_PB_F       189432 non-null  int64 \n",
      " 84  P18YM_PB_M       189432 non-null  int64 \n",
      " 85  PEA              189432 non-null  int64 \n",
      " 86  PEA_F            189432 non-null  int64 \n",
      " 87  PEA_M            189432 non-null  int64 \n",
      " 88  PE_INAC          189432 non-null  int64 \n",
      " 89  PE_INAC_F        189432 non-null  int64 \n",
      " 90  PE_INAC_M        189432 non-null  int64 \n",
      " 91  POCUPADA         189432 non-null  int64 \n",
      " 92  POCUPADA_F       189432 non-null  int64 \n",
      " 93  POCUPADA_M       189432 non-null  int64 \n",
      " 94  PDESOCUP         189432 non-null  int64 \n",
      " 95  PDESOCUP_F       189432 non-null  int64 \n",
      " 96  PDESOCUP_M       189432 non-null  int64 \n",
      " 97  PSINDER          189432 non-null  int64 \n",
      " 98  PDER_SS          189432 non-null  int64 \n",
      " 99  PDER_IMSS        189432 non-null  int64 \n",
      " 100 PDER_ISTE        189432 non-null  int64 \n",
      " 101 PDER_ISTEE       189432 non-null  int64 \n",
      " 102 PAFIL_PDOM       189432 non-null  int64 \n",
      " 103 PDER_SEGP        189432 non-null  int64 \n",
      " 104 PDER_IMSSB       189432 non-null  int64 \n",
      " 105 PAFIL_IPRIV      189432 non-null  int64 \n",
      " 106 PAFIL_OTRAI      189432 non-null  int64 \n",
      " 107 P12YM_SOLT       189432 non-null  int64 \n",
      " 108 P12YM_CASA       189432 non-null  int64 \n",
      " 109 P12YM_SEPA       189432 non-null  int64 \n",
      " 110 PCATOLICA        189432 non-null  int64 \n",
      " 111 PRO_CRIEVA       189432 non-null  int64 \n",
      " 112 POTRAS_REL       189432 non-null  int64 \n",
      " 113 PSIN_RELIG       189432 non-null  int64 \n",
      " 114 TOTHOG           189432 non-null  int64 \n",
      " 115 HOGJEF_F         189432 non-null  int64 \n",
      " 116 HOGJEF_M         189432 non-null  int64 \n",
      " 117 POBHOG           189432 non-null  int64 \n",
      " 118 PHOGJEF_F        189432 non-null  int64 \n",
      " 119 PHOGJEF_M        189432 non-null  int64 \n",
      " 120 VIVTOT           189432 non-null  int64 \n",
      " 121 TVIVHAB          189432 non-null  int64 \n",
      " 122 TVIVPAR          189432 non-null  int64 \n",
      " 123 VIVPAR_HAB       189432 non-null  int64 \n",
      " 124 VIVPARH_CV       189432 non-null  int64 \n",
      " 125 TVIVPARHAB       189432 non-null  int64 \n",
      " 126 VIVPAR_DES       189432 non-null  int64 \n",
      " 127 VIVPAR_UT        189432 non-null  int64 \n",
      " 128 OCUPVIVPAR       189432 non-null  int64 \n",
      " 129 VPH_PISODT       189432 non-null  int64 \n",
      " 130 VPH_PISOTI       189432 non-null  int64 \n",
      " 131 VPH_1DOR         189432 non-null  int64 \n",
      " 132 VPH_2YMASD       189432 non-null  int64 \n",
      " 133 VPH_1CUART       189432 non-null  int64 \n",
      " 134 VPH_2CUART       189432 non-null  int64 \n",
      " 135 VPH_3YMASC       189432 non-null  int64 \n",
      " 136 VPH_C_ELEC       189432 non-null  int64 \n",
      " 137 VPH_S_ELEC       189432 non-null  int64 \n",
      " 138 VPH_AGUADV       189432 non-null  int64 \n",
      " 139 VPH_AEASP        189432 non-null  int64 \n",
      " 140 VPH_AGUAFV       189432 non-null  int64 \n",
      " 141 VPH_TINACO       189432 non-null  int64 \n",
      " 142 VPH_CISTER       189432 non-null  int64 \n",
      " 143 VPH_EXCSA        189432 non-null  int64 \n",
      " 144 VPH_LETR         189432 non-null  int64 \n",
      " 145 VPH_DRENAJ       189432 non-null  int64 \n",
      " 146 VPH_NODREN       189432 non-null  int64 \n",
      " 147 VPH_C_SERV       189432 non-null  int64 \n",
      " 148 VPH_NDEAED       189432 non-null  int64 \n",
      " 149 VPH_DSADMA       189432 non-null  int64 \n",
      " 150 VPH_NDACMM       189432 non-null  int64 \n",
      " 151 VPH_SNBIEN       189432 non-null  int64 \n",
      " 152 VPH_REFRI        189432 non-null  int64 \n",
      " 153 VPH_LAVAD        189432 non-null  int64 \n",
      " 154 VPH_HMICRO       189432 non-null  int64 \n",
      " 155 VPH_AUTOM        189432 non-null  int64 \n",
      " 156 VPH_MOTO         189432 non-null  int64 \n",
      " 157 VPH_BICI         189432 non-null  int64 \n",
      " 158 VPH_RADIO        189432 non-null  int64 \n",
      " 159 VPH_TV           189432 non-null  int64 \n",
      " 160 VPH_PC           189432 non-null  int64 \n",
      " 161 VPH_TELEF        189432 non-null  int64 \n",
      " 162 VPH_CEL          189432 non-null  int64 \n",
      " 163 VPH_INTER        189432 non-null  int64 \n",
      " 164 VPH_STVP         189432 non-null  int64 \n",
      " 165 VPH_SPMVPI       189432 non-null  int64 \n",
      " 166 VPH_CVJ          189432 non-null  int64 \n",
      " 167 VPH_SINRTV       189432 non-null  int64 \n",
      " 168 VPH_SINLTC       189432 non-null  int64 \n",
      " 169 VPH_SINCINT      189432 non-null  int64 \n",
      " 170 VPH_SINTIC       189432 non-null  int64 \n",
      " 171 TAMLOC           189432 non-null  int64 \n",
      "dtypes: int64(163), object(9)\n",
      "memory usage: 250.0+ MB\n"
     ]
    }
   ],
   "source": [
    "df_semifinal.info(verbose=True, null_counts=True)"
   ]
  },
  {
   "cell_type": "markdown",
   "metadata": {},
   "source": [
    "# 3 Analysis"
   ]
  },
  {
   "cell_type": "markdown",
   "metadata": {},
   "source": [
    "## 3.1 By region"
   ]
  },
  {
   "cell_type": "markdown",
   "metadata": {},
   "source": [
    "#### The analysis will start by region. There are 4 main regions: North, Centre North, Centre, South"
   ]
  },
  {
   "cell_type": "code",
   "execution_count": 27,
   "metadata": {},
   "outputs": [],
   "source": [
    "# STYLiNG PANDAS  https://pbpython.com/styling-pandas.html"
   ]
  },
  {
   "cell_type": "code",
   "execution_count": 64,
   "metadata": {},
   "outputs": [
    {
     "data": {
      "text/plain": [
       "(126014024, 64382441, 61234104, 3148337)"
      ]
     },
     "execution_count": 64,
     "metadata": {},
     "output_type": "execute_result"
    }
   ],
   "source": [
    "TotalPopulation = df_semifinal['POBTOT'].sum()\n",
    "TotalPopulationFemales = df_semifinal['POBFEM'].sum()\n",
    "TotalPopulationMales = df_semifinal['POBMAS'].sum()\n",
    "TotalPopulation,TotalPopulationFemales,TotalPopulationMales,TotalPopulationFemales-TotalPopulationMales"
   ]
  },
  {
   "cell_type": "code",
   "execution_count": 61,
   "metadata": {},
   "outputs": [
    {
     "data": {
      "text/html": [
       "<div>\n",
       "<style scoped>\n",
       "    .dataframe tbody tr th:only-of-type {\n",
       "        vertical-align: middle;\n",
       "    }\n",
       "\n",
       "    .dataframe tbody tr th {\n",
       "        vertical-align: top;\n",
       "    }\n",
       "\n",
       "    .dataframe thead th {\n",
       "        text-align: right;\n",
       "    }\n",
       "</style>\n",
       "<table border=\"1\" class=\"dataframe\">\n",
       "  <thead>\n",
       "    <tr style=\"text-align: right;\">\n",
       "      <th></th>\n",
       "      <th>REGION</th>\n",
       "      <th>ENTIDAD</th>\n",
       "      <th>MUN</th>\n",
       "      <th>LOC</th>\n",
       "      <th>POBTOT</th>\n",
       "      <th>POBFEM</th>\n",
       "      <th>POBMAS</th>\n",
       "      <th>P_0A2</th>\n",
       "      <th>P_0A2_F</th>\n",
       "      <th>P_0A2_M</th>\n",
       "      <th>...</th>\n",
       "      <th>VPH_CEL</th>\n",
       "      <th>VPH_INTER</th>\n",
       "      <th>VPH_STVP</th>\n",
       "      <th>VPH_SPMVPI</th>\n",
       "      <th>VPH_CVJ</th>\n",
       "      <th>VPH_SINRTV</th>\n",
       "      <th>VPH_SINLTC</th>\n",
       "      <th>VPH_SINCINT</th>\n",
       "      <th>VPH_SINTIC</th>\n",
       "      <th>TAMLOC</th>\n",
       "    </tr>\n",
       "  </thead>\n",
       "  <tbody>\n",
       "    <tr>\n",
       "      <th>0</th>\n",
       "      <td>CENTRO</td>\n",
       "      <td>484038</td>\n",
       "      <td>1511578</td>\n",
       "      <td>4368094</td>\n",
       "      <td>47718379</td>\n",
       "      <td>24651355</td>\n",
       "      <td>23024947</td>\n",
       "      <td>2032604</td>\n",
       "      <td>1004668</td>\n",
       "      <td>1027936</td>\n",
       "      <td>...</td>\n",
       "      <td>11529953</td>\n",
       "      <td>7301907</td>\n",
       "      <td>5178314</td>\n",
       "      <td>2631172</td>\n",
       "      <td>1676859</td>\n",
       "      <td>438054</td>\n",
       "      <td>962785</td>\n",
       "      <td>5082603</td>\n",
       "      <td>182181</td>\n",
       "      <td>55762</td>\n",
       "    </tr>\n",
       "    <tr>\n",
       "      <th>1</th>\n",
       "      <td>CENTRO NORTE</td>\n",
       "      <td>848990</td>\n",
       "      <td>1674965</td>\n",
       "      <td>20092214</td>\n",
       "      <td>26591884</td>\n",
       "      <td>13496903</td>\n",
       "      <td>12965621</td>\n",
       "      <td>1283089</td>\n",
       "      <td>634216</td>\n",
       "      <td>648873</td>\n",
       "      <td>...</td>\n",
       "      <td>6596933</td>\n",
       "      <td>3887337</td>\n",
       "      <td>3720564</td>\n",
       "      <td>1409434</td>\n",
       "      <td>909729</td>\n",
       "      <td>272648</td>\n",
       "      <td>492919</td>\n",
       "      <td>3062026</td>\n",
       "      <td>107805</td>\n",
       "      <td>65569</td>\n",
       "    </tr>\n",
       "    <tr>\n",
       "      <th>2</th>\n",
       "      <td>NORTE</td>\n",
       "      <td>594014</td>\n",
       "      <td>989923</td>\n",
       "      <td>33631798</td>\n",
       "      <td>22914677</td>\n",
       "      <td>11457436</td>\n",
       "      <td>11351297</td>\n",
       "      <td>1007683</td>\n",
       "      <td>497278</td>\n",
       "      <td>510405</td>\n",
       "      <td>...</td>\n",
       "      <td>6265206</td>\n",
       "      <td>4227269</td>\n",
       "      <td>3276472</td>\n",
       "      <td>1759453</td>\n",
       "      <td>1069056</td>\n",
       "      <td>203699</td>\n",
       "      <td>304467</td>\n",
       "      <td>2211144</td>\n",
       "      <td>65547</td>\n",
       "      <td>45570</td>\n",
       "    </tr>\n",
       "    <tr>\n",
       "      <th>3</th>\n",
       "      <td>SUR</td>\n",
       "      <td>1243144</td>\n",
       "      <td>6906681</td>\n",
       "      <td>26643000</td>\n",
       "      <td>28789084</td>\n",
       "      <td>14776747</td>\n",
       "      <td>13892239</td>\n",
       "      <td>1423387</td>\n",
       "      <td>704113</td>\n",
       "      <td>719274</td>\n",
       "      <td>...</td>\n",
       "      <td>6311220</td>\n",
       "      <td>2877268</td>\n",
       "      <td>3005669</td>\n",
       "      <td>813379</td>\n",
       "      <td>389635</td>\n",
       "      <td>853129</td>\n",
       "      <td>1386515</td>\n",
       "      <td>4671397</td>\n",
       "      <td>484901</td>\n",
       "      <td>96375</td>\n",
       "    </tr>\n",
       "  </tbody>\n",
       "</table>\n",
       "<p>4 rows × 164 columns</p>\n",
       "</div>"
      ],
      "text/plain": [
       "         REGION  ENTIDAD      MUN       LOC    POBTOT    POBFEM    POBMAS  \\\n",
       "0        CENTRO   484038  1511578   4368094  47718379  24651355  23024947   \n",
       "1  CENTRO NORTE   848990  1674965  20092214  26591884  13496903  12965621   \n",
       "2         NORTE   594014   989923  33631798  22914677  11457436  11351297   \n",
       "3           SUR  1243144  6906681  26643000  28789084  14776747  13892239   \n",
       "\n",
       "     P_0A2  P_0A2_F  P_0A2_M  ...   VPH_CEL  VPH_INTER  VPH_STVP  VPH_SPMVPI  \\\n",
       "0  2032604  1004668  1027936  ...  11529953    7301907   5178314     2631172   \n",
       "1  1283089   634216   648873  ...   6596933    3887337   3720564     1409434   \n",
       "2  1007683   497278   510405  ...   6265206    4227269   3276472     1759453   \n",
       "3  1423387   704113   719274  ...   6311220    2877268   3005669      813379   \n",
       "\n",
       "   VPH_CVJ  VPH_SINRTV  VPH_SINLTC  VPH_SINCINT  VPH_SINTIC  TAMLOC  \n",
       "0  1676859      438054      962785      5082603      182181   55762  \n",
       "1   909729      272648      492919      3062026      107805   65569  \n",
       "2  1069056      203699      304467      2211144       65547   45570  \n",
       "3   389635      853129     1386515      4671397      484901   96375  \n",
       "\n",
       "[4 rows x 164 columns]"
      ]
     },
     "execution_count": 61,
     "metadata": {},
     "output_type": "execute_result"
    }
   ],
   "source": [
    "df_byregion_II= df_semifinal.groupby('REGION',as_index=False).sum()\n",
    "df_byregion_II.head()"
   ]
  },
  {
   "cell_type": "code",
   "execution_count": 62,
   "metadata": {},
   "outputs": [],
   "source": [
    "#adding percentage of population vs. total population\n",
    "\n",
    "df_byregion_II[\"%TOTALPOP\"]=df_byregion_II[\"POBTOT\"]/TotalPopulation\n",
    "df_byregion_II[\"%TOTALFEM\"]=df_byregion_II[\"POBFEM\"]/TotalPopulation\n",
    "df_byregion_II[\"%TOTALMAS\"]=df_byregion_II[\"POBMAS\"]/TotalPopulation\n",
    "#df_byregion_II"
   ]
  },
  {
   "cell_type": "markdown",
   "metadata": {},
   "source": [
    "### 4.1.1 by gender"
   ]
  },
  {
   "cell_type": "code",
   "execution_count": 63,
   "metadata": {},
   "outputs": [
    {
     "data": {
      "text/plain": [
       "(0.5109148883302068, 0.4859308675040803, 0.024984020826126496)"
      ]
     },
     "execution_count": 63,
     "metadata": {},
     "output_type": "execute_result"
    }
   ],
   "source": [
    "Per_fem_OverPop= TotalPopulationFemales/TotalPopulation\n",
    "Per_mas_OverPop= TotalPopulationMales/TotalPopulation\n",
    "Per_fem_OverPop,Per_mas_OverPop,Per_fem_OverPop-Per_mas_OverPop"
   ]
  },
  {
   "cell_type": "code",
   "execution_count": 54,
   "metadata": {},
   "outputs": [
    {
     "data": {
      "text/html": [
       "<style  type=\"text/css\" >\n",
       "</style><table id=\"T_3546ae94_e9ab_11eb_abc0_c4b301c5f59b\" ><thead>    <tr>        <th class=\"blank level0\" ></th>        <th class=\"col_heading level0 col0\" >REGION</th>        <th class=\"col_heading level0 col1\" >POBTOT</th>        <th class=\"col_heading level0 col2\" >POBFEM</th>        <th class=\"col_heading level0 col3\" >POBMAS</th>    </tr></thead><tbody>\n",
       "                <tr>\n",
       "                        <th id=\"T_3546ae94_e9ab_11eb_abc0_c4b301c5f59blevel0_row0\" class=\"row_heading level0 row0\" >0</th>\n",
       "                        <td id=\"T_3546ae94_e9ab_11eb_abc0_c4b301c5f59brow0_col0\" class=\"data row0 col0\" >CENTRO</td>\n",
       "                        <td id=\"T_3546ae94_e9ab_11eb_abc0_c4b301c5f59brow0_col1\" class=\"data row0 col1\" >47,718,379</td>\n",
       "                        <td id=\"T_3546ae94_e9ab_11eb_abc0_c4b301c5f59brow0_col2\" class=\"data row0 col2\" >24,651,355</td>\n",
       "                        <td id=\"T_3546ae94_e9ab_11eb_abc0_c4b301c5f59brow0_col3\" class=\"data row0 col3\" >23,024,947</td>\n",
       "            </tr>\n",
       "            <tr>\n",
       "                        <th id=\"T_3546ae94_e9ab_11eb_abc0_c4b301c5f59blevel0_row1\" class=\"row_heading level0 row1\" >1</th>\n",
       "                        <td id=\"T_3546ae94_e9ab_11eb_abc0_c4b301c5f59brow1_col0\" class=\"data row1 col0\" >CENTRO NORTE</td>\n",
       "                        <td id=\"T_3546ae94_e9ab_11eb_abc0_c4b301c5f59brow1_col1\" class=\"data row1 col1\" >26,591,884</td>\n",
       "                        <td id=\"T_3546ae94_e9ab_11eb_abc0_c4b301c5f59brow1_col2\" class=\"data row1 col2\" >13,496,903</td>\n",
       "                        <td id=\"T_3546ae94_e9ab_11eb_abc0_c4b301c5f59brow1_col3\" class=\"data row1 col3\" >12,965,621</td>\n",
       "            </tr>\n",
       "            <tr>\n",
       "                        <th id=\"T_3546ae94_e9ab_11eb_abc0_c4b301c5f59blevel0_row2\" class=\"row_heading level0 row2\" >2</th>\n",
       "                        <td id=\"T_3546ae94_e9ab_11eb_abc0_c4b301c5f59brow2_col0\" class=\"data row2 col0\" >NORTE</td>\n",
       "                        <td id=\"T_3546ae94_e9ab_11eb_abc0_c4b301c5f59brow2_col1\" class=\"data row2 col1\" >22,914,677</td>\n",
       "                        <td id=\"T_3546ae94_e9ab_11eb_abc0_c4b301c5f59brow2_col2\" class=\"data row2 col2\" >11,457,436</td>\n",
       "                        <td id=\"T_3546ae94_e9ab_11eb_abc0_c4b301c5f59brow2_col3\" class=\"data row2 col3\" >11,351,297</td>\n",
       "            </tr>\n",
       "            <tr>\n",
       "                        <th id=\"T_3546ae94_e9ab_11eb_abc0_c4b301c5f59blevel0_row3\" class=\"row_heading level0 row3\" >3</th>\n",
       "                        <td id=\"T_3546ae94_e9ab_11eb_abc0_c4b301c5f59brow3_col0\" class=\"data row3 col0\" >SUR</td>\n",
       "                        <td id=\"T_3546ae94_e9ab_11eb_abc0_c4b301c5f59brow3_col1\" class=\"data row3 col1\" >28,789,084</td>\n",
       "                        <td id=\"T_3546ae94_e9ab_11eb_abc0_c4b301c5f59brow3_col2\" class=\"data row3 col2\" >14,776,747</td>\n",
       "                        <td id=\"T_3546ae94_e9ab_11eb_abc0_c4b301c5f59brow3_col3\" class=\"data row3 col3\" >13,892,239</td>\n",
       "            </tr>\n",
       "    </tbody></table>"
      ],
      "text/plain": [
       "<pandas.io.formats.style.Styler at 0x7f9b1df41d30>"
      ]
     },
     "execution_count": 54,
     "metadata": {},
     "output_type": "execute_result"
    }
   ],
   "source": [
    "df_byregion_II_summary=df_byregion_II[[\"REGION\",'POBTOT',\"POBFEM\",\"POBMAS\"]]\n",
    "df_byregion_II_summary.style.format({\"POBTOT\": \"{:,}\", \n",
    "                          \"POBFEM\": \"{:,}\", \n",
    "                          \"POBMAS\": \"{:,}\"})\n"
   ]
  },
  {
   "cell_type": "code",
   "execution_count": 55,
   "metadata": {},
   "outputs": [],
   "source": [
    "##  2graph !!!!!!!!!!!!!!!!!!!!!!!!!!!\n",
    "#https://www.python-graph-gallery.com/treemap/\n",
    "#https://towardsdatascience.com/marimekko-charts-with-pythons-matplotlib-6b9784ae73a1"
   ]
  },
  {
   "cell_type": "code",
   "execution_count": 65,
   "metadata": {},
   "outputs": [
    {
     "data": {
      "text/html": [
       "<style  type=\"text/css\" >\n",
       "</style><table id=\"T_9f4f8d92_e9b0_11eb_abc0_c4b301c5f59b\" ><thead>    <tr>        <th class=\"blank level0\" ></th>        <th class=\"col_heading level0 col0\" >REGION</th>        <th class=\"col_heading level0 col1\" >%TOTALPOP</th>        <th class=\"col_heading level0 col2\" >%TOTALFEM</th>        <th class=\"col_heading level0 col3\" >%TOTALMAS</th>    </tr></thead><tbody>\n",
       "                <tr>\n",
       "                        <th id=\"T_9f4f8d92_e9b0_11eb_abc0_c4b301c5f59blevel0_row0\" class=\"row_heading level0 row0\" >0</th>\n",
       "                        <td id=\"T_9f4f8d92_e9b0_11eb_abc0_c4b301c5f59brow0_col0\" class=\"data row0 col0\" >CENTRO</td>\n",
       "                        <td id=\"T_9f4f8d92_e9b0_11eb_abc0_c4b301c5f59brow0_col1\" class=\"data row0 col1\" >37.87%</td>\n",
       "                        <td id=\"T_9f4f8d92_e9b0_11eb_abc0_c4b301c5f59brow0_col2\" class=\"data row0 col2\" >19.56%</td>\n",
       "                        <td id=\"T_9f4f8d92_e9b0_11eb_abc0_c4b301c5f59brow0_col3\" class=\"data row0 col3\" >18.27%</td>\n",
       "            </tr>\n",
       "            <tr>\n",
       "                        <th id=\"T_9f4f8d92_e9b0_11eb_abc0_c4b301c5f59blevel0_row1\" class=\"row_heading level0 row1\" >1</th>\n",
       "                        <td id=\"T_9f4f8d92_e9b0_11eb_abc0_c4b301c5f59brow1_col0\" class=\"data row1 col0\" >CENTRO NORTE</td>\n",
       "                        <td id=\"T_9f4f8d92_e9b0_11eb_abc0_c4b301c5f59brow1_col1\" class=\"data row1 col1\" >21.10%</td>\n",
       "                        <td id=\"T_9f4f8d92_e9b0_11eb_abc0_c4b301c5f59brow1_col2\" class=\"data row1 col2\" >10.71%</td>\n",
       "                        <td id=\"T_9f4f8d92_e9b0_11eb_abc0_c4b301c5f59brow1_col3\" class=\"data row1 col3\" >10.29%</td>\n",
       "            </tr>\n",
       "            <tr>\n",
       "                        <th id=\"T_9f4f8d92_e9b0_11eb_abc0_c4b301c5f59blevel0_row2\" class=\"row_heading level0 row2\" >2</th>\n",
       "                        <td id=\"T_9f4f8d92_e9b0_11eb_abc0_c4b301c5f59brow2_col0\" class=\"data row2 col0\" >NORTE</td>\n",
       "                        <td id=\"T_9f4f8d92_e9b0_11eb_abc0_c4b301c5f59brow2_col1\" class=\"data row2 col1\" >18.18%</td>\n",
       "                        <td id=\"T_9f4f8d92_e9b0_11eb_abc0_c4b301c5f59brow2_col2\" class=\"data row2 col2\" >9.09%</td>\n",
       "                        <td id=\"T_9f4f8d92_e9b0_11eb_abc0_c4b301c5f59brow2_col3\" class=\"data row2 col3\" >9.01%</td>\n",
       "            </tr>\n",
       "            <tr>\n",
       "                        <th id=\"T_9f4f8d92_e9b0_11eb_abc0_c4b301c5f59blevel0_row3\" class=\"row_heading level0 row3\" >3</th>\n",
       "                        <td id=\"T_9f4f8d92_e9b0_11eb_abc0_c4b301c5f59brow3_col0\" class=\"data row3 col0\" >SUR</td>\n",
       "                        <td id=\"T_9f4f8d92_e9b0_11eb_abc0_c4b301c5f59brow3_col1\" class=\"data row3 col1\" >22.85%</td>\n",
       "                        <td id=\"T_9f4f8d92_e9b0_11eb_abc0_c4b301c5f59brow3_col2\" class=\"data row3 col2\" >11.73%</td>\n",
       "                        <td id=\"T_9f4f8d92_e9b0_11eb_abc0_c4b301c5f59brow3_col3\" class=\"data row3 col3\" >11.02%</td>\n",
       "            </tr>\n",
       "    </tbody></table>"
      ],
      "text/plain": [
       "<pandas.io.formats.style.Styler at 0x7f9a3e4212e0>"
      ]
     },
     "execution_count": 65,
     "metadata": {},
     "output_type": "execute_result"
    }
   ],
   "source": [
    "# % over total population\n",
    "df_byregion_II[[\"REGION\",\"%TOTALPOP\",\"%TOTALFEM\",\"%TOTALMAS\"]].style.format({\"%TOTALPOP\": \"{:.2%}\", \n",
    "                          \"%TOTALFEM\": \"{:.2%}\", \n",
    "                          \"%TOTALMAS\": \"{:.2%}\"})"
   ]
  },
  {
   "cell_type": "code",
   "execution_count": 69,
   "metadata": {},
   "outputs": [],
   "source": [
    "##  3graph !!!!!!!!!!!!!!!!!!!!!!!!!!!"
   ]
  },
  {
   "cell_type": "code",
   "execution_count": 70,
   "metadata": {},
   "outputs": [],
   "source": [
    "\n",
    "# adding 5 of population vs total population of the region\n",
    "df_byregion_II[\"%FEM_REGION\"]=df_byregion_II[\"POBFEM\"]/df_byregion_II[\"POBTOT\"]\n",
    "df_byregion_II[\"%MAS_REGION\"]=df_byregion_II[\"POBMAS\"]/df_byregion_II[\"POBTOT\"]\n"
   ]
  },
  {
   "cell_type": "code",
   "execution_count": 72,
   "metadata": {},
   "outputs": [
    {
     "data": {
      "text/html": [
       "<style  type=\"text/css\" >\n",
       "</style><table id=\"T_c57d773a_e9b1_11eb_abc0_c4b301c5f59b\" ><thead>    <tr>        <th class=\"blank level0\" ></th>        <th class=\"col_heading level0 col0\" >REGION</th>        <th class=\"col_heading level0 col1\" >%FEM_REGION</th>        <th class=\"col_heading level0 col2\" >%MAS_REGION</th>    </tr></thead><tbody>\n",
       "                <tr>\n",
       "                        <th id=\"T_c57d773a_e9b1_11eb_abc0_c4b301c5f59blevel0_row0\" class=\"row_heading level0 row0\" >0</th>\n",
       "                        <td id=\"T_c57d773a_e9b1_11eb_abc0_c4b301c5f59brow0_col0\" class=\"data row0 col0\" >CENTRO</td>\n",
       "                        <td id=\"T_c57d773a_e9b1_11eb_abc0_c4b301c5f59brow0_col1\" class=\"data row0 col1\" >51.6601%</td>\n",
       "                        <td id=\"T_c57d773a_e9b1_11eb_abc0_c4b301c5f59brow0_col2\" class=\"data row0 col2\" >48.2517%</td>\n",
       "            </tr>\n",
       "            <tr>\n",
       "                        <th id=\"T_c57d773a_e9b1_11eb_abc0_c4b301c5f59blevel0_row1\" class=\"row_heading level0 row1\" >1</th>\n",
       "                        <td id=\"T_c57d773a_e9b1_11eb_abc0_c4b301c5f59brow1_col0\" class=\"data row1 col0\" >CENTRO NORTE</td>\n",
       "                        <td id=\"T_c57d773a_e9b1_11eb_abc0_c4b301c5f59brow1_col1\" class=\"data row1 col1\" >50.7557%</td>\n",
       "                        <td id=\"T_c57d773a_e9b1_11eb_abc0_c4b301c5f59brow1_col2\" class=\"data row1 col2\" >48.7578%</td>\n",
       "            </tr>\n",
       "            <tr>\n",
       "                        <th id=\"T_c57d773a_e9b1_11eb_abc0_c4b301c5f59blevel0_row2\" class=\"row_heading level0 row2\" >2</th>\n",
       "                        <td id=\"T_c57d773a_e9b1_11eb_abc0_c4b301c5f59brow2_col0\" class=\"data row2 col0\" >NORTE</td>\n",
       "                        <td id=\"T_c57d773a_e9b1_11eb_abc0_c4b301c5f59brow2_col1\" class=\"data row2 col1\" >50.0004%</td>\n",
       "                        <td id=\"T_c57d773a_e9b1_11eb_abc0_c4b301c5f59brow2_col2\" class=\"data row2 col2\" >49.5372%</td>\n",
       "            </tr>\n",
       "            <tr>\n",
       "                        <th id=\"T_c57d773a_e9b1_11eb_abc0_c4b301c5f59blevel0_row3\" class=\"row_heading level0 row3\" >3</th>\n",
       "                        <td id=\"T_c57d773a_e9b1_11eb_abc0_c4b301c5f59brow3_col0\" class=\"data row3 col0\" >SUR</td>\n",
       "                        <td id=\"T_c57d773a_e9b1_11eb_abc0_c4b301c5f59brow3_col1\" class=\"data row3 col1\" >51.3276%</td>\n",
       "                        <td id=\"T_c57d773a_e9b1_11eb_abc0_c4b301c5f59brow3_col2\" class=\"data row3 col2\" >48.2552%</td>\n",
       "            </tr>\n",
       "    </tbody></table>"
      ],
      "text/plain": [
       "<pandas.io.formats.style.Styler at 0x7f9a3e421460>"
      ]
     },
     "execution_count": 72,
     "metadata": {},
     "output_type": "execute_result"
    }
   ],
   "source": [
    "# % sobre region mas + fem = tot por cada region, lueog diferencia (tabla 1)\n",
    "df_byregion_II[[\"REGION\",\"%FEM_REGION\",\"%MAS_REGION\"]].style.format({\"%FEM_REGION\":\"{:.4%}\",\"%MAS_REGION\": \"{:.4%}\"})"
   ]
  },
  {
   "cell_type": "code",
   "execution_count": null,
   "metadata": {},
   "outputs": [],
   "source": [
    "##  4graph !!!!!!!!!!!!!!!!!!!!!!!!!!!"
   ]
  },
  {
   "cell_type": "markdown",
   "metadata": {},
   "source": [
    "### 4.1. 2 By age"
   ]
  },
  {
   "cell_type": "code",
   "execution_count": 73,
   "metadata": {},
   "outputs": [
    {
     "data": {
      "text/html": [
       "<div>\n",
       "<style scoped>\n",
       "    .dataframe tbody tr th:only-of-type {\n",
       "        vertical-align: middle;\n",
       "    }\n",
       "\n",
       "    .dataframe tbody tr th {\n",
       "        vertical-align: top;\n",
       "    }\n",
       "\n",
       "    .dataframe thead th {\n",
       "        text-align: right;\n",
       "    }\n",
       "</style>\n",
       "<table border=\"1\" class=\"dataframe\">\n",
       "  <thead>\n",
       "    <tr style=\"text-align: right;\">\n",
       "      <th></th>\n",
       "      <th>REGION</th>\n",
       "      <th>ENTIDAD</th>\n",
       "      <th>MUN</th>\n",
       "      <th>LOC</th>\n",
       "      <th>POBTOT</th>\n",
       "      <th>POBFEM</th>\n",
       "      <th>POBMAS</th>\n",
       "      <th>P_0A2</th>\n",
       "      <th>P_0A2_F</th>\n",
       "      <th>P_0A2_M</th>\n",
       "      <th>...</th>\n",
       "      <th>VPH_CEL</th>\n",
       "      <th>VPH_INTER</th>\n",
       "      <th>VPH_STVP</th>\n",
       "      <th>VPH_SPMVPI</th>\n",
       "      <th>VPH_CVJ</th>\n",
       "      <th>VPH_SINRTV</th>\n",
       "      <th>VPH_SINLTC</th>\n",
       "      <th>VPH_SINCINT</th>\n",
       "      <th>VPH_SINTIC</th>\n",
       "      <th>TAMLOC</th>\n",
       "    </tr>\n",
       "  </thead>\n",
       "  <tbody>\n",
       "    <tr>\n",
       "      <th>0</th>\n",
       "      <td>CENTRO</td>\n",
       "      <td>484038</td>\n",
       "      <td>1511578</td>\n",
       "      <td>4368094</td>\n",
       "      <td>47718379</td>\n",
       "      <td>24651355</td>\n",
       "      <td>23024947</td>\n",
       "      <td>2032604</td>\n",
       "      <td>1004668</td>\n",
       "      <td>1027936</td>\n",
       "      <td>...</td>\n",
       "      <td>11529953</td>\n",
       "      <td>7301907</td>\n",
       "      <td>5178314</td>\n",
       "      <td>2631172</td>\n",
       "      <td>1676859</td>\n",
       "      <td>438054</td>\n",
       "      <td>962785</td>\n",
       "      <td>5082603</td>\n",
       "      <td>182181</td>\n",
       "      <td>55762</td>\n",
       "    </tr>\n",
       "    <tr>\n",
       "      <th>1</th>\n",
       "      <td>CENTRO NORTE</td>\n",
       "      <td>848990</td>\n",
       "      <td>1674965</td>\n",
       "      <td>20092214</td>\n",
       "      <td>26591884</td>\n",
       "      <td>13496903</td>\n",
       "      <td>12965621</td>\n",
       "      <td>1283089</td>\n",
       "      <td>634216</td>\n",
       "      <td>648873</td>\n",
       "      <td>...</td>\n",
       "      <td>6596933</td>\n",
       "      <td>3887337</td>\n",
       "      <td>3720564</td>\n",
       "      <td>1409434</td>\n",
       "      <td>909729</td>\n",
       "      <td>272648</td>\n",
       "      <td>492919</td>\n",
       "      <td>3062026</td>\n",
       "      <td>107805</td>\n",
       "      <td>65569</td>\n",
       "    </tr>\n",
       "    <tr>\n",
       "      <th>2</th>\n",
       "      <td>NORTE</td>\n",
       "      <td>594014</td>\n",
       "      <td>989923</td>\n",
       "      <td>33631798</td>\n",
       "      <td>22914677</td>\n",
       "      <td>11457436</td>\n",
       "      <td>11351297</td>\n",
       "      <td>1007683</td>\n",
       "      <td>497278</td>\n",
       "      <td>510405</td>\n",
       "      <td>...</td>\n",
       "      <td>6265206</td>\n",
       "      <td>4227269</td>\n",
       "      <td>3276472</td>\n",
       "      <td>1759453</td>\n",
       "      <td>1069056</td>\n",
       "      <td>203699</td>\n",
       "      <td>304467</td>\n",
       "      <td>2211144</td>\n",
       "      <td>65547</td>\n",
       "      <td>45570</td>\n",
       "    </tr>\n",
       "    <tr>\n",
       "      <th>3</th>\n",
       "      <td>SUR</td>\n",
       "      <td>1243144</td>\n",
       "      <td>6906681</td>\n",
       "      <td>26643000</td>\n",
       "      <td>28789084</td>\n",
       "      <td>14776747</td>\n",
       "      <td>13892239</td>\n",
       "      <td>1423387</td>\n",
       "      <td>704113</td>\n",
       "      <td>719274</td>\n",
       "      <td>...</td>\n",
       "      <td>6311220</td>\n",
       "      <td>2877268</td>\n",
       "      <td>3005669</td>\n",
       "      <td>813379</td>\n",
       "      <td>389635</td>\n",
       "      <td>853129</td>\n",
       "      <td>1386515</td>\n",
       "      <td>4671397</td>\n",
       "      <td>484901</td>\n",
       "      <td>96375</td>\n",
       "    </tr>\n",
       "  </tbody>\n",
       "</table>\n",
       "<p>4 rows × 164 columns</p>\n",
       "</div>"
      ],
      "text/plain": [
       "         REGION  ENTIDAD      MUN       LOC    POBTOT    POBFEM    POBMAS  \\\n",
       "0        CENTRO   484038  1511578   4368094  47718379  24651355  23024947   \n",
       "1  CENTRO NORTE   848990  1674965  20092214  26591884  13496903  12965621   \n",
       "2         NORTE   594014   989923  33631798  22914677  11457436  11351297   \n",
       "3           SUR  1243144  6906681  26643000  28789084  14776747  13892239   \n",
       "\n",
       "     P_0A2  P_0A2_F  P_0A2_M  ...   VPH_CEL  VPH_INTER  VPH_STVP  VPH_SPMVPI  \\\n",
       "0  2032604  1004668  1027936  ...  11529953    7301907   5178314     2631172   \n",
       "1  1283089   634216   648873  ...   6596933    3887337   3720564     1409434   \n",
       "2  1007683   497278   510405  ...   6265206    4227269   3276472     1759453   \n",
       "3  1423387   704113   719274  ...   6311220    2877268   3005669      813379   \n",
       "\n",
       "   VPH_CVJ  VPH_SINRTV  VPH_SINLTC  VPH_SINCINT  VPH_SINTIC  TAMLOC  \n",
       "0  1676859      438054      962785      5082603      182181   55762  \n",
       "1   909729      272648      492919      3062026      107805   65569  \n",
       "2  1069056      203699      304467      2211144       65547   45570  \n",
       "3   389635      853129     1386515      4671397      484901   96375  \n",
       "\n",
       "[4 rows x 164 columns]"
      ]
     },
     "execution_count": 73,
     "metadata": {},
     "output_type": "execute_result"
    }
   ],
   "source": [
    "# edad y region (tabla 2 y transpose)\n",
    "df_bygender= df_semifinal.groupby('REGION',as_index=False).sum()\n",
    "df_bygender"
   ]
  },
  {
   "cell_type": "code",
   "execution_count": 74,
   "metadata": {},
   "outputs": [],
   "source": [
    "# backsolve population from ages 25 a 59\n",
    "df_bygender[\"P_25A59\"]=df_bygender[\"POBTOT\"]-df_bygender[\"P_0A2\"]-df_bygender[\"P_3A5\"]-df_bygender[\"P_6A11\"]-df_bygender[\"P_12A14\"]-df_bygender[\"P_15A17\"]-df_bygender[\"P_18A24\"]-df_bygender[\"P_60YMAS\"]\n"
   ]
  },
  {
   "cell_type": "markdown",
   "metadata": {},
   "source": [
    "### 4.1. 3 By age and gender"
   ]
  },
  {
   "cell_type": "code",
   "execution_count": 220,
   "metadata": {},
   "outputs": [
    {
     "data": {
      "text/html": [
       "<div>\n",
       "<style scoped>\n",
       "    .dataframe tbody tr th:only-of-type {\n",
       "        vertical-align: middle;\n",
       "    }\n",
       "\n",
       "    .dataframe tbody tr th {\n",
       "        vertical-align: top;\n",
       "    }\n",
       "\n",
       "    .dataframe thead th {\n",
       "        text-align: right;\n",
       "    }\n",
       "</style>\n",
       "<table border=\"1\" class=\"dataframe\">\n",
       "  <thead>\n",
       "    <tr style=\"text-align: right;\">\n",
       "      <th></th>\n",
       "      <th>0</th>\n",
       "      <th>1</th>\n",
       "      <th>2</th>\n",
       "      <th>3</th>\n",
       "    </tr>\n",
       "  </thead>\n",
       "  <tbody>\n",
       "    <tr>\n",
       "      <th>REGION</th>\n",
       "      <td>CENTRO</td>\n",
       "      <td>CENTRO NORTE</td>\n",
       "      <td>NORTE</td>\n",
       "      <td>SUR</td>\n",
       "    </tr>\n",
       "    <tr>\n",
       "      <th>POBTOT</th>\n",
       "      <td>47718379</td>\n",
       "      <td>26591884</td>\n",
       "      <td>22914677</td>\n",
       "      <td>28789084</td>\n",
       "    </tr>\n",
       "    <tr>\n",
       "      <th>P_0A2</th>\n",
       "      <td>2032604</td>\n",
       "      <td>1283089</td>\n",
       "      <td>1007683</td>\n",
       "      <td>1423387</td>\n",
       "    </tr>\n",
       "    <tr>\n",
       "      <th>P_3A5</th>\n",
       "      <td>2297538</td>\n",
       "      <td>1408916</td>\n",
       "      <td>1153537</td>\n",
       "      <td>1584293</td>\n",
       "    </tr>\n",
       "    <tr>\n",
       "      <th>P_6A11</th>\n",
       "      <td>4649263</td>\n",
       "      <td>2817743</td>\n",
       "      <td>2284409</td>\n",
       "      <td>3200503</td>\n",
       "    </tr>\n",
       "    <tr>\n",
       "      <th>P_12A14</th>\n",
       "      <td>2395987</td>\n",
       "      <td>1393756</td>\n",
       "      <td>1155976</td>\n",
       "      <td>1579052</td>\n",
       "    </tr>\n",
       "    <tr>\n",
       "      <th>P_15A17</th>\n",
       "      <td>2422254</td>\n",
       "      <td>1378301</td>\n",
       "      <td>1134537</td>\n",
       "      <td>1540221</td>\n",
       "    </tr>\n",
       "    <tr>\n",
       "      <th>P_18A24</th>\n",
       "      <td>5580721</td>\n",
       "      <td>3124641</td>\n",
       "      <td>2737217</td>\n",
       "      <td>3249341</td>\n",
       "    </tr>\n",
       "    <tr>\n",
       "      <th>P_25A59</th>\n",
       "      <td>22464020</td>\n",
       "      <td>11967877</td>\n",
       "      <td>10872761</td>\n",
       "      <td>12790082</td>\n",
       "    </tr>\n",
       "    <tr>\n",
       "      <th>P_60YMAS</th>\n",
       "      <td>5875992</td>\n",
       "      <td>3217561</td>\n",
       "      <td>2568557</td>\n",
       "      <td>3422205</td>\n",
       "    </tr>\n",
       "  </tbody>\n",
       "</table>\n",
       "</div>"
      ],
      "text/plain": [
       "                 0             1         2         3\n",
       "REGION      CENTRO  CENTRO NORTE     NORTE       SUR\n",
       "POBTOT    47718379      26591884  22914677  28789084\n",
       "P_0A2      2032604       1283089   1007683   1423387\n",
       "P_3A5      2297538       1408916   1153537   1584293\n",
       "P_6A11     4649263       2817743   2284409   3200503\n",
       "P_12A14    2395987       1393756   1155976   1579052\n",
       "P_15A17    2422254       1378301   1134537   1540221\n",
       "P_18A24    5580721       3124641   2737217   3249341\n",
       "P_25A59   22464020      11967877  10872761  12790082\n",
       "P_60YMAS   5875992       3217561   2568557   3422205"
      ]
     },
     "execution_count": 220,
     "metadata": {},
     "output_type": "execute_result"
    }
   ],
   "source": [
    "#traspose\n",
    "df_bygender[[\"REGION\",\"POBTOT\",'P_0A2','P_3A5','P_6A11','P_12A14','P_15A17','P_18A24',\"P_25A59\",'P_60YMAS']].transpose()"
   ]
  },
  {
   "cell_type": "code",
   "execution_count": 79,
   "metadata": {},
   "outputs": [],
   "source": [
    "##  5graph !!!!!!!!!!!!!!!!!!!!!!!!!!!"
   ]
  },
  {
   "cell_type": "markdown",
   "metadata": {},
   "source": [
    "#### by age % over nation"
   ]
  },
  {
   "cell_type": "code",
   "execution_count": 80,
   "metadata": {},
   "outputs": [],
   "source": [
    "# por edad % sobre nacional\n",
    "\n",
    "df_bygender[\"%NAC_P_0A2\"]=df_bygender[\"P_0A2\"]/TotalPopulation\n",
    "df_bygender[\"%NAC_P_3A5\"]=df_bygender[\"P_3A5\"]/TotalPopulation\n",
    "df_bygender[\"%NAC_P_6A11\"]=df_bygender[\"P_6A11\"]/TotalPopulation\n",
    "df_bygender[\"%NAC_P_12A14\"]=df_bygender[\"P_12A14\"]/TotalPopulation\n",
    "df_bygender[\"%NAC_P_15A17\"]=df_bygender[\"P_15A17\"]/TotalPopulation\n",
    "df_bygender[\"%NAC_P_18A24\"]=df_bygender[\"P_18A24\"]/TotalPopulation\n",
    "df_bygender[\"%NAC_P_25A59\"]=df_bygender[\"P_25A59\"]/TotalPopulation\n",
    "df_bygender[\"%NAC_P_60YMAS\"]=df_bygender[\"P_60YMAS\"]/TotalPopulation"
   ]
  },
  {
   "cell_type": "code",
   "execution_count": 81,
   "metadata": {},
   "outputs": [
    {
     "data": {
      "text/html": [
       "<div>\n",
       "<style scoped>\n",
       "    .dataframe tbody tr th:only-of-type {\n",
       "        vertical-align: middle;\n",
       "    }\n",
       "\n",
       "    .dataframe tbody tr th {\n",
       "        vertical-align: top;\n",
       "    }\n",
       "\n",
       "    .dataframe thead th {\n",
       "        text-align: right;\n",
       "    }\n",
       "</style>\n",
       "<table border=\"1\" class=\"dataframe\">\n",
       "  <thead>\n",
       "    <tr style=\"text-align: right;\">\n",
       "      <th></th>\n",
       "      <th>0</th>\n",
       "      <th>1</th>\n",
       "      <th>2</th>\n",
       "      <th>3</th>\n",
       "    </tr>\n",
       "  </thead>\n",
       "  <tbody>\n",
       "    <tr>\n",
       "      <th>REGION</th>\n",
       "      <td>CENTRO</td>\n",
       "      <td>CENTRO NORTE</td>\n",
       "      <td>NORTE</td>\n",
       "      <td>SUR</td>\n",
       "    </tr>\n",
       "    <tr>\n",
       "      <th>%NAC_P_0A2</th>\n",
       "      <td>0.02</td>\n",
       "      <td>0.01</td>\n",
       "      <td>0.01</td>\n",
       "      <td>0.01</td>\n",
       "    </tr>\n",
       "    <tr>\n",
       "      <th>%NAC_P_3A5</th>\n",
       "      <td>0.02</td>\n",
       "      <td>0.01</td>\n",
       "      <td>0.01</td>\n",
       "      <td>0.01</td>\n",
       "    </tr>\n",
       "    <tr>\n",
       "      <th>%NAC_P_6A11</th>\n",
       "      <td>0.04</td>\n",
       "      <td>0.02</td>\n",
       "      <td>0.02</td>\n",
       "      <td>0.03</td>\n",
       "    </tr>\n",
       "    <tr>\n",
       "      <th>%NAC_P_12A14</th>\n",
       "      <td>0.02</td>\n",
       "      <td>0.01</td>\n",
       "      <td>0.01</td>\n",
       "      <td>0.01</td>\n",
       "    </tr>\n",
       "    <tr>\n",
       "      <th>%NAC_P_15A17</th>\n",
       "      <td>0.02</td>\n",
       "      <td>0.01</td>\n",
       "      <td>0.01</td>\n",
       "      <td>0.01</td>\n",
       "    </tr>\n",
       "    <tr>\n",
       "      <th>%NAC_P_18A24</th>\n",
       "      <td>0.04</td>\n",
       "      <td>0.02</td>\n",
       "      <td>0.02</td>\n",
       "      <td>0.03</td>\n",
       "    </tr>\n",
       "    <tr>\n",
       "      <th>%NAC_P_25A59</th>\n",
       "      <td>0.18</td>\n",
       "      <td>0.09</td>\n",
       "      <td>0.09</td>\n",
       "      <td>0.10</td>\n",
       "    </tr>\n",
       "    <tr>\n",
       "      <th>%NAC_P_60YMAS</th>\n",
       "      <td>0.05</td>\n",
       "      <td>0.03</td>\n",
       "      <td>0.02</td>\n",
       "      <td>0.03</td>\n",
       "    </tr>\n",
       "  </tbody>\n",
       "</table>\n",
       "</div>"
      ],
      "text/plain": [
       "                    0             1      2    3\n",
       "REGION         CENTRO  CENTRO NORTE  NORTE  SUR\n",
       "%NAC_P_0A2       0.02          0.01   0.01 0.01\n",
       "%NAC_P_3A5       0.02          0.01   0.01 0.01\n",
       "%NAC_P_6A11      0.04          0.02   0.02 0.03\n",
       "%NAC_P_12A14     0.02          0.01   0.01 0.01\n",
       "%NAC_P_15A17     0.02          0.01   0.01 0.01\n",
       "%NAC_P_18A24     0.04          0.02   0.02 0.03\n",
       "%NAC_P_25A59     0.18          0.09   0.09 0.10\n",
       "%NAC_P_60YMAS    0.05          0.03   0.02 0.03"
      ]
     },
     "execution_count": 81,
     "metadata": {},
     "output_type": "execute_result"
    }
   ],
   "source": [
    "df_bygender[[\"REGION\",'%NAC_P_0A2','%NAC_P_3A5','%NAC_P_6A11','%NAC_P_12A14','%NAC_P_15A17','%NAC_P_18A24',\"%NAC_P_25A59\",'%NAC_P_60YMAS']].transpose()"
   ]
  },
  {
   "cell_type": "code",
   "execution_count": 82,
   "metadata": {},
   "outputs": [],
   "source": [
    "##  6graph !!!!!!!!!!!!!!!!!!!!!!!!!!!"
   ]
  },
  {
   "cell_type": "markdown",
   "metadata": {},
   "source": [
    "#### by age % over region"
   ]
  },
  {
   "cell_type": "code",
   "execution_count": 83,
   "metadata": {},
   "outputs": [],
   "source": [
    "df_bygender[\"%REG_P_0A2\"]=df_bygender[\"P_0A2\"]/df_bygender[\"POBTOT\"]\n",
    "df_bygender[\"%REG_P_3A5\"]=df_bygender[\"P_3A5\"]/df_bygender[\"POBTOT\"]\n",
    "df_bygender[\"%REG_P_6A11\"]=df_bygender[\"P_6A11\"]/df_bygender[\"POBTOT\"]\n",
    "df_bygender[\"%REG_P_12A14\"]=df_bygender[\"P_12A14\"]/df_bygender[\"POBTOT\"]\n",
    "df_bygender[\"%REG_P_15A17\"]=df_bygender[\"P_15A17\"]/df_bygender[\"POBTOT\"]\n",
    "df_bygender[\"%REG_P_18A24\"]=df_bygender[\"P_18A24\"]/df_bygender[\"POBTOT\"]\n",
    "df_bygender[\"%REG_P_25A59\"]=df_bygender[\"P_25A59\"]/df_bygender[\"POBTOT\"]\n",
    "df_bygender[\"%REG_P_60YMAS\"]=df_bygender[\"P_60YMAS\"]/df_bygender[\"POBTOT\"]"
   ]
  },
  {
   "cell_type": "code",
   "execution_count": 84,
   "metadata": {},
   "outputs": [
    {
     "data": {
      "text/html": [
       "<div>\n",
       "<style scoped>\n",
       "    .dataframe tbody tr th:only-of-type {\n",
       "        vertical-align: middle;\n",
       "    }\n",
       "\n",
       "    .dataframe tbody tr th {\n",
       "        vertical-align: top;\n",
       "    }\n",
       "\n",
       "    .dataframe thead th {\n",
       "        text-align: right;\n",
       "    }\n",
       "</style>\n",
       "<table border=\"1\" class=\"dataframe\">\n",
       "  <thead>\n",
       "    <tr style=\"text-align: right;\">\n",
       "      <th></th>\n",
       "      <th>0</th>\n",
       "      <th>1</th>\n",
       "      <th>2</th>\n",
       "      <th>3</th>\n",
       "    </tr>\n",
       "  </thead>\n",
       "  <tbody>\n",
       "    <tr>\n",
       "      <th>REGION</th>\n",
       "      <td>CENTRO</td>\n",
       "      <td>CENTRO NORTE</td>\n",
       "      <td>NORTE</td>\n",
       "      <td>SUR</td>\n",
       "    </tr>\n",
       "    <tr>\n",
       "      <th>%REG_P_0A2</th>\n",
       "      <td>0.04</td>\n",
       "      <td>0.05</td>\n",
       "      <td>0.04</td>\n",
       "      <td>0.05</td>\n",
       "    </tr>\n",
       "    <tr>\n",
       "      <th>%REG_P_3A5</th>\n",
       "      <td>0.05</td>\n",
       "      <td>0.05</td>\n",
       "      <td>0.05</td>\n",
       "      <td>0.06</td>\n",
       "    </tr>\n",
       "    <tr>\n",
       "      <th>%REG_P_6A11</th>\n",
       "      <td>0.10</td>\n",
       "      <td>0.11</td>\n",
       "      <td>0.10</td>\n",
       "      <td>0.11</td>\n",
       "    </tr>\n",
       "    <tr>\n",
       "      <th>%REG_P_12A14</th>\n",
       "      <td>0.05</td>\n",
       "      <td>0.05</td>\n",
       "      <td>0.05</td>\n",
       "      <td>0.05</td>\n",
       "    </tr>\n",
       "    <tr>\n",
       "      <th>%REG_P_15A17</th>\n",
       "      <td>0.05</td>\n",
       "      <td>0.05</td>\n",
       "      <td>0.05</td>\n",
       "      <td>0.05</td>\n",
       "    </tr>\n",
       "    <tr>\n",
       "      <th>%REG_P_18A24</th>\n",
       "      <td>0.12</td>\n",
       "      <td>0.12</td>\n",
       "      <td>0.12</td>\n",
       "      <td>0.11</td>\n",
       "    </tr>\n",
       "    <tr>\n",
       "      <th>%REG_P_25A59</th>\n",
       "      <td>0.47</td>\n",
       "      <td>0.45</td>\n",
       "      <td>0.47</td>\n",
       "      <td>0.44</td>\n",
       "    </tr>\n",
       "    <tr>\n",
       "      <th>%REG_P_60YMAS</th>\n",
       "      <td>0.12</td>\n",
       "      <td>0.12</td>\n",
       "      <td>0.11</td>\n",
       "      <td>0.12</td>\n",
       "    </tr>\n",
       "  </tbody>\n",
       "</table>\n",
       "</div>"
      ],
      "text/plain": [
       "                    0             1      2    3\n",
       "REGION         CENTRO  CENTRO NORTE  NORTE  SUR\n",
       "%REG_P_0A2       0.04          0.05   0.04 0.05\n",
       "%REG_P_3A5       0.05          0.05   0.05 0.06\n",
       "%REG_P_6A11      0.10          0.11   0.10 0.11\n",
       "%REG_P_12A14     0.05          0.05   0.05 0.05\n",
       "%REG_P_15A17     0.05          0.05   0.05 0.05\n",
       "%REG_P_18A24     0.12          0.12   0.12 0.11\n",
       "%REG_P_25A59     0.47          0.45   0.47 0.44\n",
       "%REG_P_60YMAS    0.12          0.12   0.11 0.12"
      ]
     },
     "execution_count": 84,
     "metadata": {},
     "output_type": "execute_result"
    }
   ],
   "source": [
    "df_bygender[[\"REGION\",'%REG_P_0A2','%REG_P_3A5','%REG_P_6A11','%REG_P_12A14','%REG_P_15A17','%REG_P_18A24',\"%REG_P_25A59\",'%REG_P_60YMAS']].transpose()\n"
   ]
  },
  {
   "cell_type": "code",
   "execution_count": null,
   "metadata": {},
   "outputs": [],
   "source": [
    "##  7graph !!!!!!!!!!!!!!!!!!!!!!!!!!!"
   ]
  },
  {
   "cell_type": "markdown",
   "metadata": {},
   "source": [
    "### 4.1. 2.2 By age and region and gender"
   ]
  },
  {
   "cell_type": "code",
   "execution_count": 85,
   "metadata": {},
   "outputs": [],
   "source": [
    "df_bygender[\"P_25A59_F\"]=df_bygender[\"POBFEM\"]-df_bygender[\"P_0A2_F\"]-df_bygender[\"P_3A5_F\"]-df_bygender[\"P_6A11_F\"]-df_bygender[\"P_12A14_F\"]-df_bygender[\"P_15A17_F\"]-df_bygender[\"P_18A24_F\"]-df_bygender[\"P_60YMAS_F\"]\n",
    "df_bygender[\"P_25A59_M\"]=df_bygender[\"POBMAS\"]-df_bygender[\"P_0A2_M\"]-df_bygender[\"P_3A5_M\"]-df_bygender[\"P_6A11_M\"]-df_bygender[\"P_12A14_M\"]-df_bygender[\"P_15A17_M\"]-df_bygender[\"P_18A24_M\"]-df_bygender[\"P_60YMAS_M\"]\n",
    "#df_bygender[[\"REGION\",\"P_25A59_F\",\"P_25A59_M\"]]"
   ]
  },
  {
   "cell_type": "code",
   "execution_count": 86,
   "metadata": {},
   "outputs": [
    {
     "data": {
      "text/html": [
       "<div>\n",
       "<style scoped>\n",
       "    .dataframe tbody tr th:only-of-type {\n",
       "        vertical-align: middle;\n",
       "    }\n",
       "\n",
       "    .dataframe tbody tr th {\n",
       "        vertical-align: top;\n",
       "    }\n",
       "\n",
       "    .dataframe thead th {\n",
       "        text-align: right;\n",
       "    }\n",
       "</style>\n",
       "<table border=\"1\" class=\"dataframe\">\n",
       "  <thead>\n",
       "    <tr style=\"text-align: right;\">\n",
       "      <th></th>\n",
       "      <th>0</th>\n",
       "      <th>1</th>\n",
       "      <th>2</th>\n",
       "      <th>3</th>\n",
       "    </tr>\n",
       "  </thead>\n",
       "  <tbody>\n",
       "    <tr>\n",
       "      <th>REGION</th>\n",
       "      <td>CENTRO</td>\n",
       "      <td>CENTRO NORTE</td>\n",
       "      <td>NORTE</td>\n",
       "      <td>SUR</td>\n",
       "    </tr>\n",
       "    <tr>\n",
       "      <th>P_0A2_F</th>\n",
       "      <td>1004668</td>\n",
       "      <td>634216</td>\n",
       "      <td>497278</td>\n",
       "      <td>704113</td>\n",
       "    </tr>\n",
       "    <tr>\n",
       "      <th>P_3A5_F</th>\n",
       "      <td>1135093</td>\n",
       "      <td>695889</td>\n",
       "      <td>569497</td>\n",
       "      <td>784288</td>\n",
       "    </tr>\n",
       "    <tr>\n",
       "      <th>P_6A11_F</th>\n",
       "      <td>2291488</td>\n",
       "      <td>1387080</td>\n",
       "      <td>1122359</td>\n",
       "      <td>1581172</td>\n",
       "    </tr>\n",
       "    <tr>\n",
       "      <th>P_12A14_F</th>\n",
       "      <td>1186665</td>\n",
       "      <td>686300</td>\n",
       "      <td>568365</td>\n",
       "      <td>779908</td>\n",
       "    </tr>\n",
       "    <tr>\n",
       "      <th>P_15A17_F</th>\n",
       "      <td>1194423</td>\n",
       "      <td>680126</td>\n",
       "      <td>556076</td>\n",
       "      <td>763588</td>\n",
       "    </tr>\n",
       "    <tr>\n",
       "      <th>P_18A24_F</th>\n",
       "      <td>2798573</td>\n",
       "      <td>1568332</td>\n",
       "      <td>1353166</td>\n",
       "      <td>1660644</td>\n",
       "    </tr>\n",
       "    <tr>\n",
       "      <th>P_25A59_F</th>\n",
       "      <td>11809486</td>\n",
       "      <td>6135637</td>\n",
       "      <td>5421474</td>\n",
       "      <td>6695801</td>\n",
       "    </tr>\n",
       "    <tr>\n",
       "      <th>P_60YMAS_F</th>\n",
       "      <td>3230959</td>\n",
       "      <td>1709323</td>\n",
       "      <td>1369221</td>\n",
       "      <td>1807233</td>\n",
       "    </tr>\n",
       "  </tbody>\n",
       "</table>\n",
       "</div>"
      ],
      "text/plain": [
       "                   0             1        2        3\n",
       "REGION        CENTRO  CENTRO NORTE    NORTE      SUR\n",
       "P_0A2_F      1004668        634216   497278   704113\n",
       "P_3A5_F      1135093        695889   569497   784288\n",
       "P_6A11_F     2291488       1387080  1122359  1581172\n",
       "P_12A14_F    1186665        686300   568365   779908\n",
       "P_15A17_F    1194423        680126   556076   763588\n",
       "P_18A24_F    2798573       1568332  1353166  1660644\n",
       "P_25A59_F   11809486       6135637  5421474  6695801\n",
       "P_60YMAS_F   3230959       1709323  1369221  1807233"
      ]
     },
     "execution_count": 86,
     "metadata": {},
     "output_type": "execute_result"
    }
   ],
   "source": [
    "#Femenina\n",
    "df_bygender[['REGION','P_0A2_F','P_3A5_F','P_6A11_F','P_12A14_F','P_15A17_F','P_18A24_F','P_25A59_F','P_60YMAS_F']].transpose()"
   ]
  },
  {
   "cell_type": "code",
   "execution_count": null,
   "metadata": {},
   "outputs": [],
   "source": [
    "##  8graph !!!!!!!!!!!!!!!!!!!!!!!!!!!"
   ]
  },
  {
   "cell_type": "code",
   "execution_count": 227,
   "metadata": {},
   "outputs": [
    {
     "data": {
      "text/html": [
       "<div>\n",
       "<style scoped>\n",
       "    .dataframe tbody tr th:only-of-type {\n",
       "        vertical-align: middle;\n",
       "    }\n",
       "\n",
       "    .dataframe tbody tr th {\n",
       "        vertical-align: top;\n",
       "    }\n",
       "\n",
       "    .dataframe thead th {\n",
       "        text-align: right;\n",
       "    }\n",
       "</style>\n",
       "<table border=\"1\" class=\"dataframe\">\n",
       "  <thead>\n",
       "    <tr style=\"text-align: right;\">\n",
       "      <th></th>\n",
       "      <th>0</th>\n",
       "      <th>1</th>\n",
       "      <th>2</th>\n",
       "      <th>3</th>\n",
       "    </tr>\n",
       "  </thead>\n",
       "  <tbody>\n",
       "    <tr>\n",
       "      <th>REGION</th>\n",
       "      <td>CENTRO</td>\n",
       "      <td>CENTRO NORTE</td>\n",
       "      <td>NORTE</td>\n",
       "      <td>SUR</td>\n",
       "    </tr>\n",
       "    <tr>\n",
       "      <th>P_0A2_M</th>\n",
       "      <td>1027936</td>\n",
       "      <td>648873</td>\n",
       "      <td>510405</td>\n",
       "      <td>719274</td>\n",
       "    </tr>\n",
       "    <tr>\n",
       "      <th>P_3A5_M</th>\n",
       "      <td>1162445</td>\n",
       "      <td>713027</td>\n",
       "      <td>584040</td>\n",
       "      <td>800005</td>\n",
       "    </tr>\n",
       "    <tr>\n",
       "      <th>P_6A11_M</th>\n",
       "      <td>2357775</td>\n",
       "      <td>1430663</td>\n",
       "      <td>1162050</td>\n",
       "      <td>1619331</td>\n",
       "    </tr>\n",
       "    <tr>\n",
       "      <th>P_12A14_M</th>\n",
       "      <td>1209322</td>\n",
       "      <td>707456</td>\n",
       "      <td>587611</td>\n",
       "      <td>799144</td>\n",
       "    </tr>\n",
       "    <tr>\n",
       "      <th>P_15A17_M</th>\n",
       "      <td>1227831</td>\n",
       "      <td>698175</td>\n",
       "      <td>578461</td>\n",
       "      <td>776633</td>\n",
       "    </tr>\n",
       "    <tr>\n",
       "      <th>P_18A24_M</th>\n",
       "      <td>2782148</td>\n",
       "      <td>1556309</td>\n",
       "      <td>1384051</td>\n",
       "      <td>1588697</td>\n",
       "    </tr>\n",
       "    <tr>\n",
       "      <th>P_25A59_M</th>\n",
       "      <td>10612457</td>\n",
       "      <td>5702880</td>\n",
       "      <td>5345343</td>\n",
       "      <td>5974183</td>\n",
       "    </tr>\n",
       "    <tr>\n",
       "      <th>P_60YMAS_M</th>\n",
       "      <td>2645033</td>\n",
       "      <td>1508238</td>\n",
       "      <td>1199336</td>\n",
       "      <td>1614972</td>\n",
       "    </tr>\n",
       "  </tbody>\n",
       "</table>\n",
       "</div>"
      ],
      "text/plain": [
       "                   0             1        2        3\n",
       "REGION        CENTRO  CENTRO NORTE    NORTE      SUR\n",
       "P_0A2_M      1027936        648873   510405   719274\n",
       "P_3A5_M      1162445        713027   584040   800005\n",
       "P_6A11_M     2357775       1430663  1162050  1619331\n",
       "P_12A14_M    1209322        707456   587611   799144\n",
       "P_15A17_M    1227831        698175   578461   776633\n",
       "P_18A24_M    2782148       1556309  1384051  1588697\n",
       "P_25A59_M   10612457       5702880  5345343  5974183\n",
       "P_60YMAS_M   2645033       1508238  1199336  1614972"
      ]
     },
     "execution_count": 227,
     "metadata": {},
     "output_type": "execute_result"
    }
   ],
   "source": [
    "#Masculina\n",
    "df_bygender[['REGION','P_0A2_M','P_3A5_M','P_6A11_M','P_12A14_M','P_15A17_M','P_18A24_M','P_25A59_M','P_60YMAS_M']].transpose()"
   ]
  },
  {
   "cell_type": "code",
   "execution_count": null,
   "metadata": {},
   "outputs": [],
   "source": [
    "##  9graph !!!!!!!!!!!!!!!!!!!!!!!!!!!"
   ]
  },
  {
   "cell_type": "code",
   "execution_count": null,
   "metadata": {},
   "outputs": [],
   "source": [
    "##  10graph !!!!!!!!!!!!!!!!!!!!!!!!!!!  dif fem -masc"
   ]
  },
  {
   "cell_type": "code",
   "execution_count": 228,
   "metadata": {},
   "outputs": [],
   "source": [
    "# checar el error en p25 a 59\n",
    "# dif  tabla fem - tabla mas"
   ]
  },
  {
   "cell_type": "code",
   "execution_count": 229,
   "metadata": {},
   "outputs": [],
   "source": [
    "# 1 % de segmento de edad / totpob\n",
    "# mismo pero fem\n",
    "#mismo pero mas\n",
    "#piramide interactiva. (5 años, 10 años)"
   ]
  },
  {
   "cell_type": "markdown",
   "metadata": {},
   "source": [
    "### 4.1.4 viven en el estado que nacieron"
   ]
  },
  {
   "cell_type": "code",
   "execution_count": 87,
   "metadata": {},
   "outputs": [
    {
     "data": {
      "text/html": [
       "<div>\n",
       "<style scoped>\n",
       "    .dataframe tbody tr th:only-of-type {\n",
       "        vertical-align: middle;\n",
       "    }\n",
       "\n",
       "    .dataframe tbody tr th {\n",
       "        vertical-align: top;\n",
       "    }\n",
       "\n",
       "    .dataframe thead th {\n",
       "        text-align: right;\n",
       "    }\n",
       "</style>\n",
       "<table border=\"1\" class=\"dataframe\">\n",
       "  <thead>\n",
       "    <tr style=\"text-align: right;\">\n",
       "      <th></th>\n",
       "      <th>REGION</th>\n",
       "      <th>PNACENT</th>\n",
       "      <th>PNACENT_F</th>\n",
       "      <th>PNACENT_M</th>\n",
       "    </tr>\n",
       "  </thead>\n",
       "  <tbody>\n",
       "    <tr>\n",
       "      <th>0</th>\n",
       "      <td>CENTRO</td>\n",
       "      <td>37130088</td>\n",
       "      <td>19048757</td>\n",
       "      <td>18081331</td>\n",
       "    </tr>\n",
       "    <tr>\n",
       "      <th>1</th>\n",
       "      <td>CENTRO NORTE</td>\n",
       "      <td>22605075</td>\n",
       "      <td>11541020</td>\n",
       "      <td>11064055</td>\n",
       "    </tr>\n",
       "    <tr>\n",
       "      <th>2</th>\n",
       "      <td>NORTE</td>\n",
       "      <td>17359297</td>\n",
       "      <td>8728079</td>\n",
       "      <td>8631218</td>\n",
       "    </tr>\n",
       "    <tr>\n",
       "      <th>3</th>\n",
       "      <td>SUR</td>\n",
       "      <td>25334299</td>\n",
       "      <td>13073455</td>\n",
       "      <td>12260844</td>\n",
       "    </tr>\n",
       "  </tbody>\n",
       "</table>\n",
       "</div>"
      ],
      "text/plain": [
       "         REGION   PNACENT  PNACENT_F  PNACENT_M\n",
       "0        CENTRO  37130088   19048757   18081331\n",
       "1  CENTRO NORTE  22605075   11541020   11064055\n",
       "2         NORTE  17359297    8728079    8631218\n",
       "3           SUR  25334299   13073455   12260844"
      ]
     },
     "execution_count": 87,
     "metadata": {},
     "output_type": "execute_result"
    }
   ],
   "source": [
    "df_byregion_II[[\"REGION\",\"PNACENT\",\"PNACENT_F\",\"PNACENT_M\"]]"
   ]
  },
  {
   "cell_type": "code",
   "execution_count": 88,
   "metadata": {},
   "outputs": [
    {
     "data": {
      "text/html": [
       "<div>\n",
       "<style scoped>\n",
       "    .dataframe tbody tr th:only-of-type {\n",
       "        vertical-align: middle;\n",
       "    }\n",
       "\n",
       "    .dataframe tbody tr th {\n",
       "        vertical-align: top;\n",
       "    }\n",
       "\n",
       "    .dataframe thead th {\n",
       "        text-align: right;\n",
       "    }\n",
       "</style>\n",
       "<table border=\"1\" class=\"dataframe\">\n",
       "  <thead>\n",
       "    <tr style=\"text-align: right;\">\n",
       "      <th></th>\n",
       "      <th>REGION</th>\n",
       "      <th>%_PNACENT</th>\n",
       "      <th>%_PNACENT_F</th>\n",
       "      <th>%_PNACENT_M</th>\n",
       "    </tr>\n",
       "  </thead>\n",
       "  <tbody>\n",
       "    <tr>\n",
       "      <th>0</th>\n",
       "      <td>CENTRO</td>\n",
       "      <td>0.78</td>\n",
       "      <td>0.77</td>\n",
       "      <td>0.79</td>\n",
       "    </tr>\n",
       "    <tr>\n",
       "      <th>1</th>\n",
       "      <td>CENTRO NORTE</td>\n",
       "      <td>0.85</td>\n",
       "      <td>0.86</td>\n",
       "      <td>0.85</td>\n",
       "    </tr>\n",
       "    <tr>\n",
       "      <th>2</th>\n",
       "      <td>NORTE</td>\n",
       "      <td>0.76</td>\n",
       "      <td>0.76</td>\n",
       "      <td>0.76</td>\n",
       "    </tr>\n",
       "    <tr>\n",
       "      <th>3</th>\n",
       "      <td>SUR</td>\n",
       "      <td>0.88</td>\n",
       "      <td>0.88</td>\n",
       "      <td>0.88</td>\n",
       "    </tr>\n",
       "  </tbody>\n",
       "</table>\n",
       "</div>"
      ],
      "text/plain": [
       "         REGION  %_PNACENT  %_PNACENT_F  %_PNACENT_M\n",
       "0        CENTRO       0.78         0.77         0.79\n",
       "1  CENTRO NORTE       0.85         0.86         0.85\n",
       "2         NORTE       0.76         0.76         0.76\n",
       "3           SUR       0.88         0.88         0.88"
      ]
     },
     "execution_count": 88,
     "metadata": {},
     "output_type": "execute_result"
    }
   ],
   "source": [
    "df_byregion_II[\"%_PNACENT\"]=df_byregion_II[\"PNACENT\"]/df_byregion_II[\"POBTOT\"]\n",
    "df_byregion_II[\"%_PNACENT_F\"]=df_byregion_II[\"PNACENT_F\"]/df_byregion_II[\"POBFEM\"]\n",
    "df_byregion_II[\"%_PNACENT_M\"]=df_byregion_II[\"PNACENT_M\"]/df_byregion_II[\"POBMAS\"]\n",
    "df_byregion_II[[\"REGION\",\"%_PNACENT\",\"%_PNACENT_F\",\"%_PNACENT_M\"]]"
   ]
  },
  {
   "cell_type": "code",
   "execution_count": 89,
   "metadata": {},
   "outputs": [],
   "source": [
    "##  11graph !!!!!!!!!!!!!!!!!!!!!!!!!!!  grafica conmbinada\n"
   ]
  },
  {
   "cell_type": "markdown",
   "metadata": {},
   "source": [
    "### 4.1.5 estatus marital"
   ]
  },
  {
   "cell_type": "code",
   "execution_count": 90,
   "metadata": {},
   "outputs": [
    {
     "data": {
      "text/html": [
       "<div>\n",
       "<style scoped>\n",
       "    .dataframe tbody tr th:only-of-type {\n",
       "        vertical-align: middle;\n",
       "    }\n",
       "\n",
       "    .dataframe tbody tr th {\n",
       "        vertical-align: top;\n",
       "    }\n",
       "\n",
       "    .dataframe thead th {\n",
       "        text-align: right;\n",
       "    }\n",
       "</style>\n",
       "<table border=\"1\" class=\"dataframe\">\n",
       "  <thead>\n",
       "    <tr style=\"text-align: right;\">\n",
       "      <th></th>\n",
       "      <th>REGION</th>\n",
       "      <th>P12YM_SOLT</th>\n",
       "      <th>P12YM_CASA</th>\n",
       "      <th>P12YM_SEPA</th>\n",
       "    </tr>\n",
       "  </thead>\n",
       "  <tbody>\n",
       "    <tr>\n",
       "      <th>0</th>\n",
       "      <td>CENTRO</td>\n",
       "      <td>13655806</td>\n",
       "      <td>20222594</td>\n",
       "      <td>4723744</td>\n",
       "    </tr>\n",
       "    <tr>\n",
       "      <th>1</th>\n",
       "      <td>CENTRO NORTE</td>\n",
       "      <td>7187740</td>\n",
       "      <td>11246322</td>\n",
       "      <td>2432620</td>\n",
       "    </tr>\n",
       "    <tr>\n",
       "      <th>2</th>\n",
       "      <td>NORTE</td>\n",
       "      <td>6166637</td>\n",
       "      <td>9920963</td>\n",
       "      <td>2208020</td>\n",
       "    </tr>\n",
       "    <tr>\n",
       "      <th>3</th>\n",
       "      <td>SUR</td>\n",
       "      <td>7257903</td>\n",
       "      <td>12452790</td>\n",
       "      <td>2655836</td>\n",
       "    </tr>\n",
       "  </tbody>\n",
       "</table>\n",
       "</div>"
      ],
      "text/plain": [
       "         REGION  P12YM_SOLT  P12YM_CASA  P12YM_SEPA\n",
       "0        CENTRO    13655806    20222594     4723744\n",
       "1  CENTRO NORTE     7187740    11246322     2432620\n",
       "2         NORTE     6166637     9920963     2208020\n",
       "3           SUR     7257903    12452790     2655836"
      ]
     },
     "execution_count": 90,
     "metadata": {},
     "output_type": "execute_result"
    }
   ],
   "source": [
    "df_byregion_II[[\"REGION\",\"P12YM_SOLT\",\"P12YM_CASA\",\"P12YM_SEPA\"]]"
   ]
  },
  {
   "cell_type": "code",
   "execution_count": 91,
   "metadata": {},
   "outputs": [
    {
     "data": {
      "text/html": [
       "<div>\n",
       "<style scoped>\n",
       "    .dataframe tbody tr th:only-of-type {\n",
       "        vertical-align: middle;\n",
       "    }\n",
       "\n",
       "    .dataframe tbody tr th {\n",
       "        vertical-align: top;\n",
       "    }\n",
       "\n",
       "    .dataframe thead th {\n",
       "        text-align: right;\n",
       "    }\n",
       "</style>\n",
       "<table border=\"1\" class=\"dataframe\">\n",
       "  <thead>\n",
       "    <tr style=\"text-align: right;\">\n",
       "      <th></th>\n",
       "      <th>REGION</th>\n",
       "      <th>SUMA_MARITAL</th>\n",
       "      <th>%_SOLTERO</th>\n",
       "      <th>%_CASADO</th>\n",
       "      <th>%_SEPARADO</th>\n",
       "    </tr>\n",
       "  </thead>\n",
       "  <tbody>\n",
       "    <tr>\n",
       "      <th>0</th>\n",
       "      <td>CENTRO</td>\n",
       "      <td>38602144</td>\n",
       "      <td>0.35</td>\n",
       "      <td>0.52</td>\n",
       "      <td>0.12</td>\n",
       "    </tr>\n",
       "    <tr>\n",
       "      <th>1</th>\n",
       "      <td>CENTRO NORTE</td>\n",
       "      <td>20866682</td>\n",
       "      <td>0.34</td>\n",
       "      <td>0.54</td>\n",
       "      <td>0.12</td>\n",
       "    </tr>\n",
       "    <tr>\n",
       "      <th>2</th>\n",
       "      <td>NORTE</td>\n",
       "      <td>18295620</td>\n",
       "      <td>0.34</td>\n",
       "      <td>0.54</td>\n",
       "      <td>0.12</td>\n",
       "    </tr>\n",
       "    <tr>\n",
       "      <th>3</th>\n",
       "      <td>SUR</td>\n",
       "      <td>22366529</td>\n",
       "      <td>0.32</td>\n",
       "      <td>0.56</td>\n",
       "      <td>0.12</td>\n",
       "    </tr>\n",
       "  </tbody>\n",
       "</table>\n",
       "</div>"
      ],
      "text/plain": [
       "         REGION  SUMA_MARITAL  %_SOLTERO  %_CASADO  %_SEPARADO\n",
       "0        CENTRO      38602144       0.35      0.52        0.12\n",
       "1  CENTRO NORTE      20866682       0.34      0.54        0.12\n",
       "2         NORTE      18295620       0.34      0.54        0.12\n",
       "3           SUR      22366529       0.32      0.56        0.12"
      ]
     },
     "execution_count": 91,
     "metadata": {},
     "output_type": "execute_result"
    }
   ],
   "source": [
    "df_byregion_II[\"SUMA_MARITAL\"]=df_byregion_II[\"P12YM_SOLT\"]+df_byregion_II[\"P12YM_CASA\"]+df_byregion_II[\"P12YM_SEPA\"]\n",
    "df_byregion_II[\"%_SOLTERO\"]=df_byregion_II[\"P12YM_SOLT\"]/df_byregion_II[\"SUMA_MARITAL\"]\n",
    "df_byregion_II[\"%_CASADO\"]=df_byregion_II[\"P12YM_CASA\"]/df_byregion_II[\"SUMA_MARITAL\"]\n",
    "df_byregion_II[\"%_SEPARADO\"]=df_byregion_II[\"P12YM_SEPA\"]/df_byregion_II[\"SUMA_MARITAL\"]\n",
    "\n",
    "df_byregion_II[[\"REGION\",\"SUMA_MARITAL\",\"%_SOLTERO\",\"%_CASADO\",\"%_SEPARADO\"]]"
   ]
  },
  {
   "cell_type": "code",
   "execution_count": null,
   "metadata": {},
   "outputs": [],
   "source": [
    "##  12graph !!!!!!!!!!!!!!!!!!!!!!!!!!!  grafica conmbinada"
   ]
  },
  {
   "cell_type": "markdown",
   "metadata": {},
   "source": [
    "### 4.1.6 religion"
   ]
  },
  {
   "cell_type": "code",
   "execution_count": 235,
   "metadata": {},
   "outputs": [
    {
     "data": {
      "text/html": [
       "<div>\n",
       "<style scoped>\n",
       "    .dataframe tbody tr th:only-of-type {\n",
       "        vertical-align: middle;\n",
       "    }\n",
       "\n",
       "    .dataframe tbody tr th {\n",
       "        vertical-align: top;\n",
       "    }\n",
       "\n",
       "    .dataframe thead th {\n",
       "        text-align: right;\n",
       "    }\n",
       "</style>\n",
       "<table border=\"1\" class=\"dataframe\">\n",
       "  <thead>\n",
       "    <tr style=\"text-align: right;\">\n",
       "      <th></th>\n",
       "      <th>REGION</th>\n",
       "      <th>PCATOLICA</th>\n",
       "      <th>PRO_CRIEVA</th>\n",
       "      <th>POTRAS_REL</th>\n",
       "      <th>PSIN_RELIG</th>\n",
       "    </tr>\n",
       "  </thead>\n",
       "  <tbody>\n",
       "    <tr>\n",
       "      <th>0</th>\n",
       "      <td>CENTRO</td>\n",
       "      <td>38509562</td>\n",
       "      <td>3620507</td>\n",
       "      <td>148496</td>\n",
       "      <td>5238970</td>\n",
       "    </tr>\n",
       "    <tr>\n",
       "      <th>1</th>\n",
       "      <td>CENTRO NORTE</td>\n",
       "      <td>22870926</td>\n",
       "      <td>1685632</td>\n",
       "      <td>37901</td>\n",
       "      <td>1756052</td>\n",
       "    </tr>\n",
       "    <tr>\n",
       "      <th>2</th>\n",
       "      <td>NORTE</td>\n",
       "      <td>16470031</td>\n",
       "      <td>3136855</td>\n",
       "      <td>20414</td>\n",
       "      <td>3081254</td>\n",
       "    </tr>\n",
       "    <tr>\n",
       "      <th>3</th>\n",
       "      <td>SUR</td>\n",
       "      <td>19713858</td>\n",
       "      <td>5605958</td>\n",
       "      <td>39566</td>\n",
       "      <td>3192164</td>\n",
       "    </tr>\n",
       "  </tbody>\n",
       "</table>\n",
       "</div>"
      ],
      "text/plain": [
       "         REGION  PCATOLICA  PRO_CRIEVA  POTRAS_REL  PSIN_RELIG\n",
       "0        CENTRO   38509562     3620507      148496     5238970\n",
       "1  CENTRO NORTE   22870926     1685632       37901     1756052\n",
       "2         NORTE   16470031     3136855       20414     3081254\n",
       "3           SUR   19713858     5605958       39566     3192164"
      ]
     },
     "execution_count": 235,
     "metadata": {},
     "output_type": "execute_result"
    }
   ],
   "source": [
    "df_byregion_II[[\"REGION\",\"PCATOLICA\",\"PRO_CRIEVA\",\"POTRAS_REL\",\"PSIN_RELIG\"]]"
   ]
  },
  {
   "cell_type": "code",
   "execution_count": 236,
   "metadata": {},
   "outputs": [
    {
     "data": {
      "text/html": [
       "<div>\n",
       "<style scoped>\n",
       "    .dataframe tbody tr th:only-of-type {\n",
       "        vertical-align: middle;\n",
       "    }\n",
       "\n",
       "    .dataframe tbody tr th {\n",
       "        vertical-align: top;\n",
       "    }\n",
       "\n",
       "    .dataframe thead th {\n",
       "        text-align: right;\n",
       "    }\n",
       "</style>\n",
       "<table border=\"1\" class=\"dataframe\">\n",
       "  <thead>\n",
       "    <tr style=\"text-align: right;\">\n",
       "      <th></th>\n",
       "      <th>REGION</th>\n",
       "      <th>SUMA_RELIGION</th>\n",
       "      <th>%_CATOLICO</th>\n",
       "      <th>%_CRISTIANO</th>\n",
       "      <th>%_OTRAS</th>\n",
       "      <th>%_SIN_RELIGION</th>\n",
       "    </tr>\n",
       "  </thead>\n",
       "  <tbody>\n",
       "    <tr>\n",
       "      <th>0</th>\n",
       "      <td>CENTRO</td>\n",
       "      <td>47517535</td>\n",
       "      <td>0.81</td>\n",
       "      <td>0.08</td>\n",
       "      <td>0.00</td>\n",
       "      <td>0.11</td>\n",
       "    </tr>\n",
       "    <tr>\n",
       "      <th>1</th>\n",
       "      <td>CENTRO NORTE</td>\n",
       "      <td>26350511</td>\n",
       "      <td>0.87</td>\n",
       "      <td>0.06</td>\n",
       "      <td>0.00</td>\n",
       "      <td>0.07</td>\n",
       "    </tr>\n",
       "    <tr>\n",
       "      <th>2</th>\n",
       "      <td>NORTE</td>\n",
       "      <td>22708554</td>\n",
       "      <td>0.73</td>\n",
       "      <td>0.14</td>\n",
       "      <td>0.00</td>\n",
       "      <td>0.14</td>\n",
       "    </tr>\n",
       "    <tr>\n",
       "      <th>3</th>\n",
       "      <td>SUR</td>\n",
       "      <td>28551546</td>\n",
       "      <td>0.69</td>\n",
       "      <td>0.20</td>\n",
       "      <td>0.00</td>\n",
       "      <td>0.11</td>\n",
       "    </tr>\n",
       "  </tbody>\n",
       "</table>\n",
       "</div>"
      ],
      "text/plain": [
       "         REGION  SUMA_RELIGION  %_CATOLICO  %_CRISTIANO  %_OTRAS  \\\n",
       "0        CENTRO       47517535        0.81         0.08     0.00   \n",
       "1  CENTRO NORTE       26350511        0.87         0.06     0.00   \n",
       "2         NORTE       22708554        0.73         0.14     0.00   \n",
       "3           SUR       28551546        0.69         0.20     0.00   \n",
       "\n",
       "   %_SIN_RELIGION  \n",
       "0            0.11  \n",
       "1            0.07  \n",
       "2            0.14  \n",
       "3            0.11  "
      ]
     },
     "execution_count": 236,
     "metadata": {},
     "output_type": "execute_result"
    }
   ],
   "source": [
    "df_byregion_II[\"SUMA_RELIGION\"]=df_byregion_II[\"PCATOLICA\"]+df_byregion_II[\"PRO_CRIEVA\"]+df_byregion_II[\"POTRAS_REL\"]+df_byregion_II[\"PSIN_RELIG\"]\n",
    "df_byregion_II[\"%_CATOLICO\"]=df_byregion_II[\"PCATOLICA\"]/df_byregion_II[\"SUMA_RELIGION\"]\n",
    "df_byregion_II[\"%_CRISTIANO\"]=df_byregion_II[\"PRO_CRIEVA\"]/df_byregion_II[\"SUMA_RELIGION\"]\n",
    "df_byregion_II[\"%_OTRAS\"]=df_byregion_II[\"POTRAS_REL\"]/df_byregion_II[\"SUMA_RELIGION\"]\n",
    "df_byregion_II[\"%_SIN_RELIGION\"]=df_byregion_II[\"PSIN_RELIG\"]/df_byregion_II[\"SUMA_RELIGION\"]\n",
    "\n",
    "df_byregion_II[[\"REGION\",\"SUMA_RELIGION\",\"%_CATOLICO\",\"%_CRISTIANO\",\"%_OTRAS\",\"%_SIN_RELIGION\"]]"
   ]
  },
  {
   "cell_type": "code",
   "execution_count": 92,
   "metadata": {},
   "outputs": [],
   "source": [
    "##  13graph !!!!!!!!!!!!!!!!!!!!!!!!!!!  grafica conmbinada"
   ]
  },
  {
   "cell_type": "markdown",
   "metadata": {},
   "source": [
    "### 4.1.9 vivienda"
   ]
  },
  {
   "cell_type": "code",
   "execution_count": null,
   "metadata": {},
   "outputs": [],
   "source": []
  },
  {
   "cell_type": "code",
   "execution_count": null,
   "metadata": {},
   "outputs": [],
   "source": []
  },
  {
   "cell_type": "markdown",
   "metadata": {},
   "source": [
    "# 4.2 By state"
   ]
  },
  {
   "cell_type": "markdown",
   "metadata": {},
   "source": [
    "#### 32 states\n"
   ]
  },
  {
   "cell_type": "code",
   "execution_count": 94,
   "metadata": {},
   "outputs": [
    {
     "data": {
      "text/html": [
       "<div>\n",
       "<style scoped>\n",
       "    .dataframe tbody tr th:only-of-type {\n",
       "        vertical-align: middle;\n",
       "    }\n",
       "\n",
       "    .dataframe tbody tr th {\n",
       "        vertical-align: top;\n",
       "    }\n",
       "\n",
       "    .dataframe thead th {\n",
       "        text-align: right;\n",
       "    }\n",
       "</style>\n",
       "<table border=\"1\" class=\"dataframe\">\n",
       "  <thead>\n",
       "    <tr style=\"text-align: right;\">\n",
       "      <th></th>\n",
       "      <th>NOM_ENT</th>\n",
       "      <th>ENTIDAD</th>\n",
       "      <th>MUN</th>\n",
       "      <th>LOC</th>\n",
       "      <th>POBTOT</th>\n",
       "      <th>POBFEM</th>\n",
       "      <th>POBMAS</th>\n",
       "      <th>P_0A2</th>\n",
       "      <th>P_0A2_F</th>\n",
       "      <th>P_0A2_M</th>\n",
       "      <th>...</th>\n",
       "      <th>VPH_CEL</th>\n",
       "      <th>VPH_INTER</th>\n",
       "      <th>VPH_STVP</th>\n",
       "      <th>VPH_SPMVPI</th>\n",
       "      <th>VPH_CVJ</th>\n",
       "      <th>VPH_SINRTV</th>\n",
       "      <th>VPH_SINLTC</th>\n",
       "      <th>VPH_SINCINT</th>\n",
       "      <th>VPH_SINTIC</th>\n",
       "      <th>TAMLOC</th>\n",
       "    </tr>\n",
       "  </thead>\n",
       "  <tbody>\n",
       "    <tr>\n",
       "      <th>0</th>\n",
       "      <td>Aguascalientes</td>\n",
       "      <td>2022</td>\n",
       "      <td>9542</td>\n",
       "      <td>1113510</td>\n",
       "      <td>1425607</td>\n",
       "      <td>726401</td>\n",
       "      <td>692488</td>\n",
       "      <td>71580</td>\n",
       "      <td>35469</td>\n",
       "      <td>36111</td>\n",
       "      <td>...</td>\n",
       "      <td>358693</td>\n",
       "      <td>235652</td>\n",
       "      <td>173721</td>\n",
       "      <td>98641</td>\n",
       "      <td>70047</td>\n",
       "      <td>5957</td>\n",
       "      <td>15217</td>\n",
       "      <td>128136</td>\n",
       "      <td>1680</td>\n",
       "      <td>2687</td>\n",
       "    </tr>\n",
       "    <tr>\n",
       "      <th>1</th>\n",
       "      <td>Baja California</td>\n",
       "      <td>11090</td>\n",
       "      <td>13925</td>\n",
       "      <td>13883144</td>\n",
       "      <td>3769020</td>\n",
       "      <td>1862306</td>\n",
       "      <td>1891882</td>\n",
       "      <td>149408</td>\n",
       "      <td>73721</td>\n",
       "      <td>75687</td>\n",
       "      <td>...</td>\n",
       "      <td>1076100</td>\n",
       "      <td>798977</td>\n",
       "      <td>616133</td>\n",
       "      <td>383603</td>\n",
       "      <td>216559</td>\n",
       "      <td>40724</td>\n",
       "      <td>38350</td>\n",
       "      <td>290571</td>\n",
       "      <td>9432</td>\n",
       "      <td>6254</td>\n",
       "    </tr>\n",
       "    <tr>\n",
       "      <th>2</th>\n",
       "      <td>Baja California Sur</td>\n",
       "      <td>7629</td>\n",
       "      <td>8972</td>\n",
       "      <td>3656517</td>\n",
       "      <td>798447</td>\n",
       "      <td>389564</td>\n",
       "      <td>401140</td>\n",
       "      <td>35706</td>\n",
       "      <td>17700</td>\n",
       "      <td>18006</td>\n",
       "      <td>...</td>\n",
       "      <td>224662</td>\n",
       "      <td>148440</td>\n",
       "      <td>135413</td>\n",
       "      <td>67899</td>\n",
       "      <td>36161</td>\n",
       "      <td>14096</td>\n",
       "      <td>8206</td>\n",
       "      <td>75244</td>\n",
       "      <td>2450</td>\n",
       "      <td>2755</td>\n",
       "    </tr>\n",
       "    <tr>\n",
       "      <th>3</th>\n",
       "      <td>Campeche</td>\n",
       "      <td>11048</td>\n",
       "      <td>17461</td>\n",
       "      <td>4058343</td>\n",
       "      <td>928363</td>\n",
       "      <td>468301</td>\n",
       "      <td>452686</td>\n",
       "      <td>45116</td>\n",
       "      <td>22278</td>\n",
       "      <td>22838</td>\n",
       "      <td>...</td>\n",
       "      <td>216867</td>\n",
       "      <td>113846</td>\n",
       "      <td>150782</td>\n",
       "      <td>38478</td>\n",
       "      <td>17964</td>\n",
       "      <td>22911</td>\n",
       "      <td>35699</td>\n",
       "      <td>128394</td>\n",
       "      <td>11617</td>\n",
       "      <td>3404</td>\n",
       "    </tr>\n",
       "    <tr>\n",
       "      <th>4</th>\n",
       "      <td>Chiapas</td>\n",
       "      <td>148099</td>\n",
       "      <td>1321544</td>\n",
       "      <td>13653445</td>\n",
       "      <td>5543828</td>\n",
       "      <td>2816787</td>\n",
       "      <td>2679013</td>\n",
       "      <td>331499</td>\n",
       "      <td>164627</td>\n",
       "      <td>166872</td>\n",
       "      <td>...</td>\n",
       "      <td>937519</td>\n",
       "      <td>291445</td>\n",
       "      <td>429856</td>\n",
       "      <td>61206</td>\n",
       "      <td>32406</td>\n",
       "      <td>212010</td>\n",
       "      <td>376082</td>\n",
       "      <td>983732</td>\n",
       "      <td>150073</td>\n",
       "      <td>27488</td>\n",
       "    </tr>\n",
       "  </tbody>\n",
       "</table>\n",
       "<p>5 rows × 164 columns</p>\n",
       "</div>"
      ],
      "text/plain": [
       "               NOM_ENT  ENTIDAD      MUN       LOC   POBTOT   POBFEM   POBMAS  \\\n",
       "0       Aguascalientes     2022     9542   1113510  1425607   726401   692488   \n",
       "1      Baja California    11090    13925  13883144  3769020  1862306  1891882   \n",
       "2  Baja California Sur     7629     8972   3656517   798447   389564   401140   \n",
       "3             Campeche    11048    17461   4058343   928363   468301   452686   \n",
       "4              Chiapas   148099  1321544  13653445  5543828  2816787  2679013   \n",
       "\n",
       "    P_0A2  P_0A2_F  P_0A2_M  ...  VPH_CEL  VPH_INTER  VPH_STVP  VPH_SPMVPI  \\\n",
       "0   71580    35469    36111  ...   358693     235652    173721       98641   \n",
       "1  149408    73721    75687  ...  1076100     798977    616133      383603   \n",
       "2   35706    17700    18006  ...   224662     148440    135413       67899   \n",
       "3   45116    22278    22838  ...   216867     113846    150782       38478   \n",
       "4  331499   164627   166872  ...   937519     291445    429856       61206   \n",
       "\n",
       "   VPH_CVJ  VPH_SINRTV  VPH_SINLTC  VPH_SINCINT  VPH_SINTIC  TAMLOC  \n",
       "0    70047        5957       15217       128136        1680    2687  \n",
       "1   216559       40724       38350       290571        9432    6254  \n",
       "2    36161       14096        8206        75244        2450    2755  \n",
       "3    17964       22911       35699       128394       11617    3404  \n",
       "4    32406      212010      376082       983732      150073   27488  \n",
       "\n",
       "[5 rows x 164 columns]"
      ]
     },
     "execution_count": 94,
     "metadata": {},
     "output_type": "execute_result"
    }
   ],
   "source": [
    "df_bystate= df_semifinal.groupby('NOM_ENT',as_index=False).sum()\n",
    "df_bystate.head()"
   ]
  },
  {
   "cell_type": "code",
   "execution_count": 111,
   "metadata": {},
   "outputs": [
    {
     "data": {
      "image/png": "[encoded data removed]",
      "text/plain": [
       "<Figure size 432x288 with 1 Axes>"
      ]
     },
     "metadata": {
      "needs_background": "light"
     },
     "output_type": "display_data"
    }
   ],
   "source": [
    "bb = df_semifinal.groupby([\"NOM_ENT\"]).sum()[\"POBTOT\"]\n",
    "bb= bb.sort_values(ascending=False)\n",
    "\n",
    "\n",
    "bb.plot(kind=\"bar\", color=\"r\")\n",
    "\n",
    "plt.title(\"Total population by state\")\n",
    "plt.xlabel(\"States\")\n",
    "plt.ylabel(\"Popuylation\")\n",
    "\n",
    "plt.show()"
   ]
  },
  {
   "cell_type": "code",
   "execution_count": 97,
   "metadata": {},
   "outputs": [
    {
     "data": {
      "image/png": "[encoded data removed]",
      "text/plain": [
       "<Figure size 432x288 with 1 Axes>"
      ]
     },
     "metadata": {
      "needs_background": "light"
     },
     "output_type": "display_data"
    }
   ],
   "source": [
    "bb = df_semifinal.groupby([\"NOM_ENT\"]).sum()[[\"POBTOT\", \"POBFEM\", \"POBMAS\"]]\n",
    "bb= bb.sort_values(by=\"POBTOT\",ascending=False)\n",
    "\n",
    "\n",
    "bb.plot(kind=\"bar\", color=\"r\")\n",
    "\n",
    "plt.title(\"Total population by state\")\n",
    "plt.xlabel(\"States\")\n",
    "plt.ylabel(\"Popuylation\")\n",
    "\n",
    "plt.show()"
   ]
  },
  {
   "cell_type": "code",
   "execution_count": null,
   "metadata": {},
   "outputs": [],
   "source": []
  },
  {
   "cell_type": "code",
   "execution_count": 98,
   "metadata": {},
   "outputs": [
    {
     "data": {
      "text/plain": [
       "2331469.8531393674"
      ]
     },
     "execution_count": 98,
     "metadata": {},
     "output_type": "execute_result"
    }
   ],
   "source": [
    "statistics.harmonic_mean(df_bystate[\"POBTOT\"])\n"
   ]
  },
  {
   "cell_type": "code",
   "execution_count": 99,
   "metadata": {},
   "outputs": [
    {
     "data": {
      "text/plain": [
       "3013250.214687265"
      ]
     },
     "execution_count": 99,
     "metadata": {},
     "output_type": "execute_result"
    }
   ],
   "source": [
    "statistics.geometric_mean(df_bystate[\"POBTOT\"])"
   ]
  },
  {
   "cell_type": "code",
   "execution_count": 100,
   "metadata": {},
   "outputs": [
    {
     "data": {
      "text/plain": [
       "3054892.0"
      ]
     },
     "execution_count": 100,
     "metadata": {},
     "output_type": "execute_result"
    }
   ],
   "source": [
    "statistics.median(df_bystate[\"POBTOT\"])"
   ]
  },
  {
   "cell_type": "code",
   "execution_count": 101,
   "metadata": {},
   "outputs": [
    {
     "data": {
      "text/plain": [
       "10745343610398.0"
      ]
     },
     "execution_count": 101,
     "metadata": {},
     "output_type": "execute_result"
    }
   ],
   "source": [
    "statistics.variance(df_bystate[\"POBTOT\"])"
   ]
  },
  {
   "cell_type": "code",
   "execution_count": 102,
   "metadata": {},
   "outputs": [
    {
     "data": {
      "text/plain": [
       "ModeResult(mode=array([731391]), count=array([1]))"
      ]
     },
     "execution_count": 102,
     "metadata": {},
     "output_type": "execute_result"
    }
   ],
   "source": [
    "\n",
    "der=scipy.stats.mode(df_bystate[\"POBTOT\"])\n",
    "der"
   ]
  },
  {
   "cell_type": "code",
   "execution_count": 103,
   "metadata": {},
   "outputs": [
    {
     "data": {
      "text/plain": [
       "2.3142865057874165"
      ]
     },
     "execution_count": 103,
     "metadata": {},
     "output_type": "execute_result"
    }
   ],
   "source": [
    "scipy.stats.skew(df_bystate[\"POBTOT\"], bias=False)"
   ]
  },
  {
   "cell_type": "code",
   "execution_count": 104,
   "metadata": {},
   "outputs": [
    {
     "name": "stderr",
     "output_type": "stream",
     "text": [
      "/Users/carlosalvarez/opt/anaconda3/lib/python3.8/site-packages/seaborn/distributions.py:2551: FutureWarning: `distplot` is a deprecated function and will be removed in a future version. Please adapt your code to use either `displot` (a figure-level function with similar flexibility) or `histplot` (an axes-level function for histograms).\n",
      "  warnings.warn(msg, FutureWarning)\n"
     ]
    },
    {
     "data": {
      "text/plain": [
       "<AxesSubplot:xlabel='POBTOT', ylabel='Density'>"
      ]
     },
     "execution_count": 104,
     "metadata": {},
     "output_type": "execute_result"
    },
    {
     "data": {
      "image/png": "[encoded data removed]",
      "text/plain": [
       "<Figure size 432x288 with 1 Axes>"
      ]
     },
     "metadata": {
      "needs_background": "light"
     },
     "output_type": "display_data"
    }
   ],
   "source": [
    "#dist plot\n",
    "sns.distplot(df_bystate.POBTOT)"
   ]
  },
  {
   "cell_type": "code",
   "execution_count": 106,
   "metadata": {},
   "outputs": [
    {
     "data": {
      "image/png": "[encoded data removed]",
      "text/plain": [
       "<Figure size 432x288 with 1 Axes>"
      ]
     },
     "metadata": {
      "needs_background": "light"
     },
     "output_type": "display_data"
    }
   ],
   "source": [
    "#dist plot\n",
    "plt.hist(df_bystate.POBTOT, alpha=.3)\n",
    "sns.rugplot(df_bystate.POBTOT);"
   ]
  },
  {
   "cell_type": "code",
   "execution_count": 105,
   "metadata": {},
   "outputs": [
    {
     "data": {
      "text/plain": [
       "<AxesSubplot:xlabel='POBTOT', ylabel='Density'>"
      ]
     },
     "execution_count": 105,
     "metadata": {},
     "output_type": "execute_result"
    },
    {
     "data": {
      "image/png": "[encoded data removed]",
      "text/plain": [
       "<Figure size 432x288 with 1 Axes>"
      ]
     },
     "metadata": {
      "needs_background": "light"
     },
     "output_type": "display_data"
    }
   ],
   "source": [
    "#kde plot\n",
    "sns.kdeplot(df_bystate.POBTOT)"
   ]
  },
  {
   "cell_type": "code",
   "execution_count": 107,
   "metadata": {},
   "outputs": [
    {
     "name": "stderr",
     "output_type": "stream",
     "text": [
      "/Users/carlosalvarez/opt/anaconda3/lib/python3.8/site-packages/seaborn/_decorators.py:36: FutureWarning: Pass the following variable as a keyword arg: x. From version 0.12, the only valid positional argument will be `data`, and passing other arguments without an explicit keyword will result in an error or misinterpretation.\n",
      "  warnings.warn(\n"
     ]
    },
    {
     "data": {
      "text/plain": [
       "<AxesSubplot:xlabel='POBTOT'>"
      ]
     },
     "execution_count": 107,
     "metadata": {},
     "output_type": "execute_result"
    },
    {
     "data": {
      "image/png": "[encoded data removed]",
      "text/plain": [
       "<Figure size 432x288 with 1 Axes>"
      ]
     },
     "metadata": {
      "needs_background": "light"
     },
     "output_type": "display_data"
    }
   ],
   "source": [
    "sns.boxplot(df_bystate.POBTOT)"
   ]
  },
  {
   "cell_type": "code",
   "execution_count": 108,
   "metadata": {},
   "outputs": [
    {
     "name": "stderr",
     "output_type": "stream",
     "text": [
      "/Users/carlosalvarez/opt/anaconda3/lib/python3.8/site-packages/seaborn/_decorators.py:36: FutureWarning: Pass the following variable as a keyword arg: x. From version 0.12, the only valid positional argument will be `data`, and passing other arguments without an explicit keyword will result in an error or misinterpretation.\n",
      "  warnings.warn(\n"
     ]
    },
    {
     "data": {
      "text/plain": [
       "<AxesSubplot:xlabel='POBTOT'>"
      ]
     },
     "execution_count": 108,
     "metadata": {},
     "output_type": "execute_result"
    },
    {
     "data": {
      "image/png": "[encoded data removed]",
      "text/plain": [
       "<Figure size 432x288 with 1 Axes>"
      ]
     },
     "metadata": {
      "needs_background": "light"
     },
     "output_type": "display_data"
    }
   ],
   "source": [
    "sns.violinplot(df_bystate.POBTOT)"
   ]
  },
  {
   "cell_type": "markdown",
   "metadata": {},
   "source": [
    "#### 4.1.1 by gender"
   ]
  },
  {
   "cell_type": "code",
   "execution_count": 112,
   "metadata": {},
   "outputs": [],
   "source": [
    "\n",
    "df_bystate[\"% TotalPop\"]=df_bystate[\"POBTOT\"]/TotalPopulation\n",
    "df_bystate[\"%total fem\"]=df_bystate[\"POBFEM\"]/TotalPopulation\n",
    "df_bystate[\"%total mas\"]=df_bystate[\"POBMAS\"]/TotalPopulation"
   ]
  },
  {
   "cell_type": "code",
   "execution_count": 115,
   "metadata": {},
   "outputs": [
    {
     "data": {
      "text/html": [
       "<style  type=\"text/css\" >\n",
       "</style><table id=\"T_a0efd6d4_e9b5_11eb_abc0_c4b301c5f59b\" ><thead>    <tr>        <th class=\"blank level0\" ></th>        <th class=\"col_heading level0 col0\" >POBTOT</th>        <th class=\"col_heading level0 col1\" >POBFEM</th>        <th class=\"col_heading level0 col2\" >POBMAS</th>    </tr></thead><tbody>\n",
       "                <tr>\n",
       "                        <th id=\"T_a0efd6d4_e9b5_11eb_abc0_c4b301c5f59blevel0_row0\" class=\"row_heading level0 row0\" >count</th>\n",
       "                        <td id=\"T_a0efd6d4_e9b5_11eb_abc0_c4b301c5f59brow0_col0\" class=\"data row0 col0\" >32.0</td>\n",
       "                        <td id=\"T_a0efd6d4_e9b5_11eb_abc0_c4b301c5f59brow0_col1\" class=\"data row0 col1\" >32.0</td>\n",
       "                        <td id=\"T_a0efd6d4_e9b5_11eb_abc0_c4b301c5f59brow0_col2\" class=\"data row0 col2\" >32.0</td>\n",
       "            </tr>\n",
       "            <tr>\n",
       "                        <th id=\"T_a0efd6d4_e9b5_11eb_abc0_c4b301c5f59blevel0_row1\" class=\"row_heading level0 row1\" >mean</th>\n",
       "                        <td id=\"T_a0efd6d4_e9b5_11eb_abc0_c4b301c5f59brow1_col0\" class=\"data row1 col0\" >3,937,938.25</td>\n",
       "                        <td id=\"T_a0efd6d4_e9b5_11eb_abc0_c4b301c5f59brow1_col1\" class=\"data row1 col1\" >2,011,951.28125</td>\n",
       "                        <td id=\"T_a0efd6d4_e9b5_11eb_abc0_c4b301c5f59brow1_col2\" class=\"data row1 col2\" >1,913,565.75</td>\n",
       "            </tr>\n",
       "            <tr>\n",
       "                        <th id=\"T_a0efd6d4_e9b5_11eb_abc0_c4b301c5f59blevel0_row2\" class=\"row_heading level0 row2\" >std</th>\n",
       "                        <td id=\"T_a0efd6d4_e9b5_11eb_abc0_c4b301c5f59brow2_col0\" class=\"data row2 col0\" >3,278,009.0924825086</td>\n",
       "                        <td id=\"T_a0efd6d4_e9b5_11eb_abc0_c4b301c5f59brow2_col1\" class=\"data row2 col1\" >1,692,057.8235794047</td>\n",
       "                        <td id=\"T_a0efd6d4_e9b5_11eb_abc0_c4b301c5f59brow2_col2\" class=\"data row2 col2\" >1,584,124.6545060778</td>\n",
       "            </tr>\n",
       "            <tr>\n",
       "                        <th id=\"T_a0efd6d4_e9b5_11eb_abc0_c4b301c5f59blevel0_row3\" class=\"row_heading level0 row3\" >min</th>\n",
       "                        <td id=\"T_a0efd6d4_e9b5_11eb_abc0_c4b301c5f59brow3_col0\" class=\"data row3 col0\" >731,391.0</td>\n",
       "                        <td id=\"T_a0efd6d4_e9b5_11eb_abc0_c4b301c5f59brow3_col1\" class=\"data row3 col1\" >369,262.0</td>\n",
       "                        <td id=\"T_a0efd6d4_e9b5_11eb_abc0_c4b301c5f59brow3_col2\" class=\"data row3 col2\" >358,354.0</td>\n",
       "            </tr>\n",
       "            <tr>\n",
       "                        <th id=\"T_a0efd6d4_e9b5_11eb_abc0_c4b301c5f59blevel0_row4\" class=\"row_heading level0 row4\" >25%</th>\n",
       "                        <td id=\"T_a0efd6d4_e9b5_11eb_abc0_c4b301c5f59brow4_col0\" class=\"data row4 col0\" >1,851,651.25</td>\n",
       "                        <td id=\"T_a0efd6d4_e9b5_11eb_abc0_c4b301c5f59brow4_col1\" class=\"data row4 col1\" >921,019.0</td>\n",
       "                        <td id=\"T_a0efd6d4_e9b5_11eb_abc0_c4b301c5f59brow4_col2\" class=\"data row4 col2\" >924,009.0</td>\n",
       "            </tr>\n",
       "            <tr>\n",
       "                        <th id=\"T_a0efd6d4_e9b5_11eb_abc0_c4b301c5f59blevel0_row5\" class=\"row_heading level0 row5\" >50%</th>\n",
       "                        <td id=\"T_a0efd6d4_e9b5_11eb_abc0_c4b301c5f59brow5_col0\" class=\"data row5 col0\" >3,054,892.0</td>\n",
       "                        <td id=\"T_a0efd6d4_e9b5_11eb_abc0_c4b301c5f59brow5_col1\" class=\"data row5 col1\" >1,550,256.0</td>\n",
       "                        <td id=\"T_a0efd6d4_e9b5_11eb_abc0_c4b301c5f59brow5_col2\" class=\"data row5 col2\" >1,479,207.0</td>\n",
       "            </tr>\n",
       "            <tr>\n",
       "                        <th id=\"T_a0efd6d4_e9b5_11eb_abc0_c4b301c5f59blevel0_row6\" class=\"row_heading level0 row6\" >75%</th>\n",
       "                        <td id=\"T_a0efd6d4_e9b5_11eb_abc0_c4b301c5f59brow6_col0\" class=\"data row6 col0\" >4,947,591.5</td>\n",
       "                        <td id=\"T_a0efd6d4_e9b5_11eb_abc0_c4b301c5f59brow6_col1\" class=\"data row6 col1\" >2,531,015.25</td>\n",
       "                        <td id=\"T_a0efd6d4_e9b5_11eb_abc0_c4b301c5f59brow6_col2\" class=\"data row6 col2\" >2,391,181.0</td>\n",
       "            </tr>\n",
       "            <tr>\n",
       "                        <th id=\"T_a0efd6d4_e9b5_11eb_abc0_c4b301c5f59blevel0_row7\" class=\"row_heading level0 row7\" >max</th>\n",
       "                        <td id=\"T_a0efd6d4_e9b5_11eb_abc0_c4b301c5f59brow7_col0\" class=\"data row7 col0\" >16,992,418.0</td>\n",
       "                        <td id=\"T_a0efd6d4_e9b5_11eb_abc0_c4b301c5f59brow7_col1\" class=\"data row7 col1\" >8,740,213.0</td>\n",
       "                        <td id=\"T_a0efd6d4_e9b5_11eb_abc0_c4b301c5f59brow7_col2\" class=\"data row7 col2\" >8,245,429.0</td>\n",
       "            </tr>\n",
       "    </tbody></table>"
      ],
      "text/plain": [
       "<pandas.io.formats.style.Styler at 0x7f9ad64d6bb0>"
      ]
     },
     "execution_count": 115,
     "metadata": {},
     "output_type": "execute_result"
    }
   ],
   "source": [
    "# total population by gender\n",
    "\n",
    "\n",
    "df_bystate_II=df_semifinal.groupby([\"NOM_ENT\"]).sum().reset_index()[[\"NOM_ENT\", \"POBTOT\",\"POBFEM\",\"POBMAS\"]]\n",
    "df_bystate_II=df_bystate_II[[\"NOM_ENT\",'POBTOT',\"POBFEM\",\"POBMAS\"]].sort_values(by=\"POBTOT\",ascending=False)\n",
    "\n",
    "df_bystate_II.describe().style.format({\"POBTOT\": \"{:,}\", \n",
    "                          \"POBFEM\": \"{:,}\", \n",
    "                          \"POBMAS\": \"{:,}\"})\n",
    "\n"
   ]
  },
  {
   "cell_type": "code",
   "execution_count": 114,
   "metadata": {},
   "outputs": [
    {
     "data": {
      "text/html": [
       "<style  type=\"text/css\" >\n",
       "</style><table id=\"T_81100c8a_e9b5_11eb_abc0_c4b301c5f59b\" ><thead>    <tr>        <th class=\"blank level0\" ></th>        <th class=\"col_heading level0 col0\" >NOM_ENT</th>        <th class=\"col_heading level0 col1\" >POBTOT</th>        <th class=\"col_heading level0 col2\" >POBFEM</th>        <th class=\"col_heading level0 col3\" >POBMAS</th>    </tr></thead><tbody>\n",
       "                <tr>\n",
       "                        <th id=\"T_81100c8a_e9b5_11eb_abc0_c4b301c5f59blevel0_row0\" class=\"row_heading level0 row0\" >16</th>\n",
       "                        <td id=\"T_81100c8a_e9b5_11eb_abc0_c4b301c5f59brow0_col0\" class=\"data row0 col0\" >México</td>\n",
       "                        <td id=\"T_81100c8a_e9b5_11eb_abc0_c4b301c5f59brow0_col1\" class=\"data row0 col1\" >16,992,418</td>\n",
       "                        <td id=\"T_81100c8a_e9b5_11eb_abc0_c4b301c5f59brow0_col2\" class=\"data row0 col2\" >8,740,213</td>\n",
       "                        <td id=\"T_81100c8a_e9b5_11eb_abc0_c4b301c5f59brow0_col3\" class=\"data row0 col3\" >8,245,429</td>\n",
       "            </tr>\n",
       "            <tr>\n",
       "                        <th id=\"T_81100c8a_e9b5_11eb_abc0_c4b301c5f59blevel0_row1\" class=\"row_heading level0 row1\" >6</th>\n",
       "                        <td id=\"T_81100c8a_e9b5_11eb_abc0_c4b301c5f59brow1_col0\" class=\"data row1 col0\" >Ciudad de México</td>\n",
       "                        <td id=\"T_81100c8a_e9b5_11eb_abc0_c4b301c5f59brow1_col1\" class=\"data row1 col1\" >9,209,944</td>\n",
       "                        <td id=\"T_81100c8a_e9b5_11eb_abc0_c4b301c5f59brow1_col2\" class=\"data row1 col2\" >4,804,711</td>\n",
       "                        <td id=\"T_81100c8a_e9b5_11eb_abc0_c4b301c5f59brow1_col3\" class=\"data row1 col3\" >4,404,549</td>\n",
       "            </tr>\n",
       "            <tr>\n",
       "                        <th id=\"T_81100c8a_e9b5_11eb_abc0_c4b301c5f59blevel0_row2\" class=\"row_heading level0 row2\" >13</th>\n",
       "                        <td id=\"T_81100c8a_e9b5_11eb_abc0_c4b301c5f59brow2_col0\" class=\"data row2 col0\" >Jalisco</td>\n",
       "                        <td id=\"T_81100c8a_e9b5_11eb_abc0_c4b301c5f59brow2_col1\" class=\"data row2 col1\" >8,348,151</td>\n",
       "                        <td id=\"T_81100c8a_e9b5_11eb_abc0_c4b301c5f59brow2_col2\" class=\"data row2 col2\" >4,240,415</td>\n",
       "                        <td id=\"T_81100c8a_e9b5_11eb_abc0_c4b301c5f59brow2_col3\" class=\"data row2 col3\" >4,084,207</td>\n",
       "            </tr>\n",
       "            <tr>\n",
       "                        <th id=\"T_81100c8a_e9b5_11eb_abc0_c4b301c5f59blevel0_row3\" class=\"row_heading level0 row3\" >29</th>\n",
       "                        <td id=\"T_81100c8a_e9b5_11eb_abc0_c4b301c5f59brow3_col0\" class=\"data row3 col0\" >Veracruz de Ignacio de la Llave</td>\n",
       "                        <td id=\"T_81100c8a_e9b5_11eb_abc0_c4b301c5f59brow3_col1\" class=\"data row3 col1\" >8,062,579</td>\n",
       "                        <td id=\"T_81100c8a_e9b5_11eb_abc0_c4b301c5f59brow3_col2\" class=\"data row3 col2\" >4,176,106</td>\n",
       "                        <td id=\"T_81100c8a_e9b5_11eb_abc0_c4b301c5f59brow3_col3\" class=\"data row3 col3\" >3,851,050</td>\n",
       "            </tr>\n",
       "            <tr>\n",
       "                        <th id=\"T_81100c8a_e9b5_11eb_abc0_c4b301c5f59blevel0_row4\" class=\"row_heading level0 row4\" >20</th>\n",
       "                        <td id=\"T_81100c8a_e9b5_11eb_abc0_c4b301c5f59brow4_col0\" class=\"data row4 col0\" >Puebla</td>\n",
       "                        <td id=\"T_81100c8a_e9b5_11eb_abc0_c4b301c5f59brow4_col1\" class=\"data row4 col1\" >6,583,278</td>\n",
       "                        <td id=\"T_81100c8a_e9b5_11eb_abc0_c4b301c5f59brow4_col2\" class=\"data row4 col2\" >3,420,346</td>\n",
       "                        <td id=\"T_81100c8a_e9b5_11eb_abc0_c4b301c5f59brow4_col3\" class=\"data row4 col3\" >3,156,828</td>\n",
       "            </tr>\n",
       "            <tr>\n",
       "                        <th id=\"T_81100c8a_e9b5_11eb_abc0_c4b301c5f59blevel0_row5\" class=\"row_heading level0 row5\" >10</th>\n",
       "                        <td id=\"T_81100c8a_e9b5_11eb_abc0_c4b301c5f59brow5_col0\" class=\"data row5 col0\" >Guanajuato</td>\n",
       "                        <td id=\"T_81100c8a_e9b5_11eb_abc0_c4b301c5f59brow5_col1\" class=\"data row5 col1\" >6,166,934</td>\n",
       "                        <td id=\"T_81100c8a_e9b5_11eb_abc0_c4b301c5f59brow5_col2\" class=\"data row5 col2\" >3,163,941</td>\n",
       "                        <td id=\"T_81100c8a_e9b5_11eb_abc0_c4b301c5f59brow5_col3\" class=\"data row5 col3\" >2,984,501</td>\n",
       "            </tr>\n",
       "            <tr>\n",
       "                        <th id=\"T_81100c8a_e9b5_11eb_abc0_c4b301c5f59blevel0_row6\" class=\"row_heading level0 row6\" >18</th>\n",
       "                        <td id=\"T_81100c8a_e9b5_11eb_abc0_c4b301c5f59brow6_col0\" class=\"data row6 col0\" >Nuevo León</td>\n",
       "                        <td id=\"T_81100c8a_e9b5_11eb_abc0_c4b301c5f59brow6_col1\" class=\"data row6 col1\" >5,784,442</td>\n",
       "                        <td id=\"T_81100c8a_e9b5_11eb_abc0_c4b301c5f59brow6_col2\" class=\"data row6 col2\" >2,889,480</td>\n",
       "                        <td id=\"T_81100c8a_e9b5_11eb_abc0_c4b301c5f59brow6_col3\" class=\"data row6 col3\" >2,883,723</td>\n",
       "            </tr>\n",
       "            <tr>\n",
       "                        <th id=\"T_81100c8a_e9b5_11eb_abc0_c4b301c5f59blevel0_row7\" class=\"row_heading level0 row7\" >4</th>\n",
       "                        <td id=\"T_81100c8a_e9b5_11eb_abc0_c4b301c5f59brow7_col0\" class=\"data row7 col0\" >Chiapas</td>\n",
       "                        <td id=\"T_81100c8a_e9b5_11eb_abc0_c4b301c5f59brow7_col1\" class=\"data row7 col1\" >5,543,828</td>\n",
       "                        <td id=\"T_81100c8a_e9b5_11eb_abc0_c4b301c5f59brow7_col2\" class=\"data row7 col2\" >2,816,787</td>\n",
       "                        <td id=\"T_81100c8a_e9b5_11eb_abc0_c4b301c5f59brow7_col3\" class=\"data row7 col3\" >2,679,013</td>\n",
       "            </tr>\n",
       "            <tr>\n",
       "                        <th id=\"T_81100c8a_e9b5_11eb_abc0_c4b301c5f59blevel0_row8\" class=\"row_heading level0 row8\" >14</th>\n",
       "                        <td id=\"T_81100c8a_e9b5_11eb_abc0_c4b301c5f59brow8_col0\" class=\"data row8 col0\" >Michoacán de Ocampo</td>\n",
       "                        <td id=\"T_81100c8a_e9b5_11eb_abc0_c4b301c5f59brow8_col1\" class=\"data row8 col1\" >4,748,846</td>\n",
       "                        <td id=\"T_81100c8a_e9b5_11eb_abc0_c4b301c5f59brow8_col2\" class=\"data row8 col2\" >2,435,758</td>\n",
       "                        <td id=\"T_81100c8a_e9b5_11eb_abc0_c4b301c5f59brow8_col3\" class=\"data row8 col3\" >2,295,237</td>\n",
       "            </tr>\n",
       "            <tr>\n",
       "                        <th id=\"T_81100c8a_e9b5_11eb_abc0_c4b301c5f59blevel0_row9\" class=\"row_heading level0 row9\" >19</th>\n",
       "                        <td id=\"T_81100c8a_e9b5_11eb_abc0_c4b301c5f59brow9_col0\" class=\"data row9 col0\" >Oaxaca</td>\n",
       "                        <td id=\"T_81100c8a_e9b5_11eb_abc0_c4b301c5f59brow9_col1\" class=\"data row9 col1\" >4,132,148</td>\n",
       "                        <td id=\"T_81100c8a_e9b5_11eb_abc0_c4b301c5f59brow9_col2\" class=\"data row9 col2\" >2,152,665</td>\n",
       "                        <td id=\"T_81100c8a_e9b5_11eb_abc0_c4b301c5f59brow9_col3\" class=\"data row9 col3\" >1,969,657</td>\n",
       "            </tr>\n",
       "            <tr>\n",
       "                        <th id=\"T_81100c8a_e9b5_11eb_abc0_c4b301c5f59blevel0_row10\" class=\"row_heading level0 row10\" >1</th>\n",
       "                        <td id=\"T_81100c8a_e9b5_11eb_abc0_c4b301c5f59brow10_col0\" class=\"data row10 col0\" >Baja California</td>\n",
       "                        <td id=\"T_81100c8a_e9b5_11eb_abc0_c4b301c5f59brow10_col1\" class=\"data row10 col1\" >3,769,020</td>\n",
       "                        <td id=\"T_81100c8a_e9b5_11eb_abc0_c4b301c5f59brow10_col2\" class=\"data row10 col2\" >1,862,306</td>\n",
       "                        <td id=\"T_81100c8a_e9b5_11eb_abc0_c4b301c5f59brow10_col3\" class=\"data row10 col3\" >1,891,882</td>\n",
       "            </tr>\n",
       "            <tr>\n",
       "                        <th id=\"T_81100c8a_e9b5_11eb_abc0_c4b301c5f59blevel0_row11\" class=\"row_heading level0 row11\" >5</th>\n",
       "                        <td id=\"T_81100c8a_e9b5_11eb_abc0_c4b301c5f59brow11_col0\" class=\"data row11 col0\" >Chihuahua</td>\n",
       "                        <td id=\"T_81100c8a_e9b5_11eb_abc0_c4b301c5f59brow11_col1\" class=\"data row11 col1\" >3,741,869</td>\n",
       "                        <td id=\"T_81100c8a_e9b5_11eb_abc0_c4b301c5f59brow11_col2\" class=\"data row11 col2\" >1,874,993</td>\n",
       "                        <td id=\"T_81100c8a_e9b5_11eb_abc0_c4b301c5f59brow11_col3\" class=\"data row11 col3\" >1,835,042</td>\n",
       "            </tr>\n",
       "            <tr>\n",
       "                        <th id=\"T_81100c8a_e9b5_11eb_abc0_c4b301c5f59blevel0_row12\" class=\"row_heading level0 row12\" >11</th>\n",
       "                        <td id=\"T_81100c8a_e9b5_11eb_abc0_c4b301c5f59brow12_col0\" class=\"data row12 col0\" >Guerrero</td>\n",
       "                        <td id=\"T_81100c8a_e9b5_11eb_abc0_c4b301c5f59brow12_col1\" class=\"data row12 col1\" >3,540,685</td>\n",
       "                        <td id=\"T_81100c8a_e9b5_11eb_abc0_c4b301c5f59brow12_col2\" class=\"data row12 col2\" >1,836,870</td>\n",
       "                        <td id=\"T_81100c8a_e9b5_11eb_abc0_c4b301c5f59brow12_col3\" class=\"data row12 col3\" >1,696,269</td>\n",
       "            </tr>\n",
       "            <tr>\n",
       "                        <th id=\"T_81100c8a_e9b5_11eb_abc0_c4b301c5f59blevel0_row13\" class=\"row_heading level0 row13\" >27</th>\n",
       "                        <td id=\"T_81100c8a_e9b5_11eb_abc0_c4b301c5f59brow13_col0\" class=\"data row13 col0\" >Tamaulipas</td>\n",
       "                        <td id=\"T_81100c8a_e9b5_11eb_abc0_c4b301c5f59brow13_col1\" class=\"data row13 col1\" >3,527,735</td>\n",
       "                        <td id=\"T_81100c8a_e9b5_11eb_abc0_c4b301c5f59brow13_col2\" class=\"data row13 col2\" >1,786,187</td>\n",
       "                        <td id=\"T_81100c8a_e9b5_11eb_abc0_c4b301c5f59brow13_col3\" class=\"data row13 col3\" >1,727,020</td>\n",
       "            </tr>\n",
       "            <tr>\n",
       "                        <th id=\"T_81100c8a_e9b5_11eb_abc0_c4b301c5f59blevel0_row14\" class=\"row_heading level0 row14\" >7</th>\n",
       "                        <td id=\"T_81100c8a_e9b5_11eb_abc0_c4b301c5f59brow14_col0\" class=\"data row14 col0\" >Coahuila de Zaragoza</td>\n",
       "                        <td id=\"T_81100c8a_e9b5_11eb_abc0_c4b301c5f59brow14_col1\" class=\"data row14 col1\" >3,146,771</td>\n",
       "                        <td id=\"T_81100c8a_e9b5_11eb_abc0_c4b301c5f59brow14_col2\" class=\"data row14 col2\" >1,579,299</td>\n",
       "                        <td id=\"T_81100c8a_e9b5_11eb_abc0_c4b301c5f59brow14_col3\" class=\"data row14 col3\" >1,555,931</td>\n",
       "            </tr>\n",
       "            <tr>\n",
       "                        <th id=\"T_81100c8a_e9b5_11eb_abc0_c4b301c5f59blevel0_row15\" class=\"row_heading level0 row15\" >12</th>\n",
       "                        <td id=\"T_81100c8a_e9b5_11eb_abc0_c4b301c5f59brow15_col0\" class=\"data row15 col0\" >Hidalgo</td>\n",
       "                        <td id=\"T_81100c8a_e9b5_11eb_abc0_c4b301c5f59brow15_col1\" class=\"data row15 col1\" >3,082,841</td>\n",
       "                        <td id=\"T_81100c8a_e9b5_11eb_abc0_c4b301c5f59brow15_col2\" class=\"data row15 col2\" >1,600,199</td>\n",
       "                        <td id=\"T_81100c8a_e9b5_11eb_abc0_c4b301c5f59brow15_col3\" class=\"data row15 col3\" >1,479,743</td>\n",
       "            </tr>\n",
       "            <tr>\n",
       "                        <th id=\"T_81100c8a_e9b5_11eb_abc0_c4b301c5f59blevel0_row16\" class=\"row_heading level0 row16\" >24</th>\n",
       "                        <td id=\"T_81100c8a_e9b5_11eb_abc0_c4b301c5f59brow16_col0\" class=\"data row16 col0\" >Sinaloa</td>\n",
       "                        <td id=\"T_81100c8a_e9b5_11eb_abc0_c4b301c5f59brow16_col1\" class=\"data row16 col1\" >3,026,943</td>\n",
       "                        <td id=\"T_81100c8a_e9b5_11eb_abc0_c4b301c5f59brow16_col2\" class=\"data row16 col2\" >1,521,213</td>\n",
       "                        <td id=\"T_81100c8a_e9b5_11eb_abc0_c4b301c5f59brow16_col3\" class=\"data row16 col3\" >1,478,671</td>\n",
       "            </tr>\n",
       "            <tr>\n",
       "                        <th id=\"T_81100c8a_e9b5_11eb_abc0_c4b301c5f59blevel0_row17\" class=\"row_heading level0 row17\" >25</th>\n",
       "                        <td id=\"T_81100c8a_e9b5_11eb_abc0_c4b301c5f59brow17_col0\" class=\"data row17 col0\" >Sonora</td>\n",
       "                        <td id=\"T_81100c8a_e9b5_11eb_abc0_c4b301c5f59brow17_col1\" class=\"data row17 col1\" >2,944,840</td>\n",
       "                        <td id=\"T_81100c8a_e9b5_11eb_abc0_c4b301c5f59brow17_col2\" class=\"data row17 col2\" >1,465,171</td>\n",
       "                        <td id=\"T_81100c8a_e9b5_11eb_abc0_c4b301c5f59brow17_col3\" class=\"data row17 col3\" >1,457,699</td>\n",
       "            </tr>\n",
       "            <tr>\n",
       "                        <th id=\"T_81100c8a_e9b5_11eb_abc0_c4b301c5f59blevel0_row18\" class=\"row_heading level0 row18\" >23</th>\n",
       "                        <td id=\"T_81100c8a_e9b5_11eb_abc0_c4b301c5f59brow18_col0\" class=\"data row18 col0\" >San Luis Potosí</td>\n",
       "                        <td id=\"T_81100c8a_e9b5_11eb_abc0_c4b301c5f59brow18_col1\" class=\"data row18 col1\" >2,822,255</td>\n",
       "                        <td id=\"T_81100c8a_e9b5_11eb_abc0_c4b301c5f59brow18_col2\" class=\"data row18 col2\" >1,445,281</td>\n",
       "                        <td id=\"T_81100c8a_e9b5_11eb_abc0_c4b301c5f59brow18_col3\" class=\"data row18 col3\" >1,366,543</td>\n",
       "            </tr>\n",
       "            <tr>\n",
       "                        <th id=\"T_81100c8a_e9b5_11eb_abc0_c4b301c5f59blevel0_row19\" class=\"row_heading level0 row19\" >26</th>\n",
       "                        <td id=\"T_81100c8a_e9b5_11eb_abc0_c4b301c5f59brow19_col0\" class=\"data row19 col0\" >Tabasco</td>\n",
       "                        <td id=\"T_81100c8a_e9b5_11eb_abc0_c4b301c5f59brow19_col1\" class=\"data row19 col1\" >2,402,598</td>\n",
       "                        <td id=\"T_81100c8a_e9b5_11eb_abc0_c4b301c5f59brow19_col2\" class=\"data row19 col2\" >1,228,061</td>\n",
       "                        <td id=\"T_81100c8a_e9b5_11eb_abc0_c4b301c5f59brow19_col3\" class=\"data row19 col3\" >1,172,682</td>\n",
       "            </tr>\n",
       "            <tr>\n",
       "                        <th id=\"T_81100c8a_e9b5_11eb_abc0_c4b301c5f59blevel0_row20\" class=\"row_heading level0 row20\" >21</th>\n",
       "                        <td id=\"T_81100c8a_e9b5_11eb_abc0_c4b301c5f59brow20_col0\" class=\"data row20 col0\" >Querétaro</td>\n",
       "                        <td id=\"T_81100c8a_e9b5_11eb_abc0_c4b301c5f59brow20_col1\" class=\"data row20 col1\" >2,368,467</td>\n",
       "                        <td id=\"T_81100c8a_e9b5_11eb_abc0_c4b301c5f59brow20_col2\" class=\"data row20 col2\" >1,210,557</td>\n",
       "                        <td id=\"T_81100c8a_e9b5_11eb_abc0_c4b301c5f59brow20_col3\" class=\"data row20 col3\" >1,155,061</td>\n",
       "            </tr>\n",
       "            <tr>\n",
       "                        <th id=\"T_81100c8a_e9b5_11eb_abc0_c4b301c5f59blevel0_row21\" class=\"row_heading level0 row21\" >30</th>\n",
       "                        <td id=\"T_81100c8a_e9b5_11eb_abc0_c4b301c5f59brow21_col0\" class=\"data row21 col0\" >Yucatán</td>\n",
       "                        <td id=\"T_81100c8a_e9b5_11eb_abc0_c4b301c5f59brow21_col1\" class=\"data row21 col1\" >2,320,898</td>\n",
       "                        <td id=\"T_81100c8a_e9b5_11eb_abc0_c4b301c5f59brow21_col2\" class=\"data row21 col2\" >1,178,639</td>\n",
       "                        <td id=\"T_81100c8a_e9b5_11eb_abc0_c4b301c5f59brow21_col3\" class=\"data row21 col3\" >1,137,354</td>\n",
       "            </tr>\n",
       "            <tr>\n",
       "                        <th id=\"T_81100c8a_e9b5_11eb_abc0_c4b301c5f59blevel0_row22\" class=\"row_heading level0 row22\" >15</th>\n",
       "                        <td id=\"T_81100c8a_e9b5_11eb_abc0_c4b301c5f59brow22_col0\" class=\"data row22 col0\" >Morelos</td>\n",
       "                        <td id=\"T_81100c8a_e9b5_11eb_abc0_c4b301c5f59brow22_col1\" class=\"data row22 col1\" >1,971,520</td>\n",
       "                        <td id=\"T_81100c8a_e9b5_11eb_abc0_c4b301c5f59brow22_col2\" class=\"data row22 col2\" >1,019,333</td>\n",
       "                        <td id=\"T_81100c8a_e9b5_11eb_abc0_c4b301c5f59brow22_col3\" class=\"data row22 col3\" >950,202</td>\n",
       "            </tr>\n",
       "            <tr>\n",
       "                        <th id=\"T_81100c8a_e9b5_11eb_abc0_c4b301c5f59blevel0_row23\" class=\"row_heading level0 row23\" >22</th>\n",
       "                        <td id=\"T_81100c8a_e9b5_11eb_abc0_c4b301c5f59brow23_col0\" class=\"data row23 col0\" >Quintana Roo</td>\n",
       "                        <td id=\"T_81100c8a_e9b5_11eb_abc0_c4b301c5f59brow23_col1\" class=\"data row23 col1\" >1,857,985</td>\n",
       "                        <td id=\"T_81100c8a_e9b5_11eb_abc0_c4b301c5f59brow23_col2\" class=\"data row23 col2\" >919,318</td>\n",
       "                        <td id=\"T_81100c8a_e9b5_11eb_abc0_c4b301c5f59brow23_col3\" class=\"data row23 col3\" >933,528</td>\n",
       "            </tr>\n",
       "            <tr>\n",
       "                        <th id=\"T_81100c8a_e9b5_11eb_abc0_c4b301c5f59blevel0_row24\" class=\"row_heading level0 row24\" >9</th>\n",
       "                        <td id=\"T_81100c8a_e9b5_11eb_abc0_c4b301c5f59brow24_col0\" class=\"data row24 col0\" >Durango</td>\n",
       "                        <td id=\"T_81100c8a_e9b5_11eb_abc0_c4b301c5f59brow24_col1\" class=\"data row24 col1\" >1,832,650</td>\n",
       "                        <td id=\"T_81100c8a_e9b5_11eb_abc0_c4b301c5f59brow24_col2\" class=\"data row24 col2\" >921,586</td>\n",
       "                        <td id=\"T_81100c8a_e9b5_11eb_abc0_c4b301c5f59brow24_col3\" class=\"data row24 col3\" >895,452</td>\n",
       "            </tr>\n",
       "            <tr>\n",
       "                        <th id=\"T_81100c8a_e9b5_11eb_abc0_c4b301c5f59blevel0_row25\" class=\"row_heading level0 row25\" >31</th>\n",
       "                        <td id=\"T_81100c8a_e9b5_11eb_abc0_c4b301c5f59brow25_col0\" class=\"data row25 col0\" >Zacatecas</td>\n",
       "                        <td id=\"T_81100c8a_e9b5_11eb_abc0_c4b301c5f59brow25_col1\" class=\"data row25 col1\" >1,622,138</td>\n",
       "                        <td id=\"T_81100c8a_e9b5_11eb_abc0_c4b301c5f59brow25_col2\" class=\"data row25 col2\" >827,274</td>\n",
       "                        <td id=\"T_81100c8a_e9b5_11eb_abc0_c4b301c5f59brow25_col3\" class=\"data row25 col3\" >786,381</td>\n",
       "            </tr>\n",
       "            <tr>\n",
       "                        <th id=\"T_81100c8a_e9b5_11eb_abc0_c4b301c5f59blevel0_row26\" class=\"row_heading level0 row26\" >0</th>\n",
       "                        <td id=\"T_81100c8a_e9b5_11eb_abc0_c4b301c5f59brow26_col0\" class=\"data row26 col0\" >Aguascalientes</td>\n",
       "                        <td id=\"T_81100c8a_e9b5_11eb_abc0_c4b301c5f59brow26_col1\" class=\"data row26 col1\" >1,425,607</td>\n",
       "                        <td id=\"T_81100c8a_e9b5_11eb_abc0_c4b301c5f59brow26_col2\" class=\"data row26 col2\" >726,401</td>\n",
       "                        <td id=\"T_81100c8a_e9b5_11eb_abc0_c4b301c5f59brow26_col3\" class=\"data row26 col3\" >692,488</td>\n",
       "            </tr>\n",
       "            <tr>\n",
       "                        <th id=\"T_81100c8a_e9b5_11eb_abc0_c4b301c5f59blevel0_row27\" class=\"row_heading level0 row27\" >28</th>\n",
       "                        <td id=\"T_81100c8a_e9b5_11eb_abc0_c4b301c5f59brow27_col0\" class=\"data row27 col0\" >Tlaxcala</td>\n",
       "                        <td id=\"T_81100c8a_e9b5_11eb_abc0_c4b301c5f59brow27_col1\" class=\"data row27 col1\" >1,342,977</td>\n",
       "                        <td id=\"T_81100c8a_e9b5_11eb_abc0_c4b301c5f59brow27_col2\" class=\"data row27 col2\" >692,055</td>\n",
       "                        <td id=\"T_81100c8a_e9b5_11eb_abc0_c4b301c5f59brow27_col3\" class=\"data row27 col3\" >648,634</td>\n",
       "            </tr>\n",
       "            <tr>\n",
       "                        <th id=\"T_81100c8a_e9b5_11eb_abc0_c4b301c5f59blevel0_row28\" class=\"row_heading level0 row28\" >17</th>\n",
       "                        <td id=\"T_81100c8a_e9b5_11eb_abc0_c4b301c5f59brow28_col0\" class=\"data row28 col0\" >Nayarit</td>\n",
       "                        <td id=\"T_81100c8a_e9b5_11eb_abc0_c4b301c5f59brow28_col1\" class=\"data row28 col1\" >1,235,456</td>\n",
       "                        <td id=\"T_81100c8a_e9b5_11eb_abc0_c4b301c5f59brow28_col2\" class=\"data row28 col2\" >620,149</td>\n",
       "                        <td id=\"T_81100c8a_e9b5_11eb_abc0_c4b301c5f59brow28_col3\" class=\"data row28 col3\" >607,148</td>\n",
       "            </tr>\n",
       "            <tr>\n",
       "                        <th id=\"T_81100c8a_e9b5_11eb_abc0_c4b301c5f59blevel0_row29\" class=\"row_heading level0 row29\" >3</th>\n",
       "                        <td id=\"T_81100c8a_e9b5_11eb_abc0_c4b301c5f59brow29_col0\" class=\"data row29 col0\" >Campeche</td>\n",
       "                        <td id=\"T_81100c8a_e9b5_11eb_abc0_c4b301c5f59brow29_col1\" class=\"data row29 col1\" >928,363</td>\n",
       "                        <td id=\"T_81100c8a_e9b5_11eb_abc0_c4b301c5f59brow29_col2\" class=\"data row29 col2\" >468,301</td>\n",
       "                        <td id=\"T_81100c8a_e9b5_11eb_abc0_c4b301c5f59brow29_col3\" class=\"data row29 col3\" >452,686</td>\n",
       "            </tr>\n",
       "            <tr>\n",
       "                        <th id=\"T_81100c8a_e9b5_11eb_abc0_c4b301c5f59blevel0_row30\" class=\"row_heading level0 row30\" >2</th>\n",
       "                        <td id=\"T_81100c8a_e9b5_11eb_abc0_c4b301c5f59brow30_col0\" class=\"data row30 col0\" >Baja California Sur</td>\n",
       "                        <td id=\"T_81100c8a_e9b5_11eb_abc0_c4b301c5f59brow30_col1\" class=\"data row30 col1\" >798,447</td>\n",
       "                        <td id=\"T_81100c8a_e9b5_11eb_abc0_c4b301c5f59brow30_col2\" class=\"data row30 col2\" >389,564</td>\n",
       "                        <td id=\"T_81100c8a_e9b5_11eb_abc0_c4b301c5f59brow30_col3\" class=\"data row30 col3\" >401,140</td>\n",
       "            </tr>\n",
       "            <tr>\n",
       "                        <th id=\"T_81100c8a_e9b5_11eb_abc0_c4b301c5f59blevel0_row31\" class=\"row_heading level0 row31\" >8</th>\n",
       "                        <td id=\"T_81100c8a_e9b5_11eb_abc0_c4b301c5f59brow31_col0\" class=\"data row31 col0\" >Colima</td>\n",
       "                        <td id=\"T_81100c8a_e9b5_11eb_abc0_c4b301c5f59brow31_col1\" class=\"data row31 col1\" >731,391</td>\n",
       "                        <td id=\"T_81100c8a_e9b5_11eb_abc0_c4b301c5f59brow31_col2\" class=\"data row31 col2\" >369,262</td>\n",
       "                        <td id=\"T_81100c8a_e9b5_11eb_abc0_c4b301c5f59brow31_col3\" class=\"data row31 col3\" >358,354</td>\n",
       "            </tr>\n",
       "    </tbody></table>"
      ],
      "text/plain": [
       "<pandas.io.formats.style.Styler at 0x7f9a2ea55580>"
      ]
     },
     "execution_count": 114,
     "metadata": {},
     "output_type": "execute_result"
    }
   ],
   "source": [
    "df_bystate_II.style.format({\"POBTOT\": \"{:,}\", \n",
    "                          \"POBFEM\": \"{:,}\", \n",
    "                          \"POBMAS\": \"{:,}\"})"
   ]
  },
  {
   "cell_type": "code",
   "execution_count": 125,
   "metadata": {},
   "outputs": [
    {
     "data": {
      "text/plain": [
       "(1178942.5336980612,\n",
       " 1140503.4738739089,\n",
       " 1531680.4695428,\n",
       " 1469048.2065341577,\n",
       " 2.3169838494421473,\n",
       " 2.327087970115513)"
      ]
     },
     "execution_count": 125,
     "metadata": {},
     "output_type": "execute_result"
    }
   ],
   "source": [
    "hm_pobfem=statistics.harmonic_mean(df_bystate[\"POBFEM\"])\n",
    "hm_pobmas=statistics.harmonic_mean(df_bystate[\"POBMAS\"])\n",
    "gm_pobfem=statistics.geometric_mean(df_bystate[\"POBFEM\"])\n",
    "gm_pobmas=statistics.geometric_mean(df_bystate[\"POBMAS\"])\n",
    "\n",
    "skew_pobfem=scipy.stats.skew(df_bystate[\"POBFEM\"], bias=False)\n",
    "skew_pobmas=scipy.stats.skew(df_bystate[\"POBMAS\"], bias=False)\n",
    "#scipy.stats.mode(df_bystate_II[\"POBTOT\"])\n",
    "#statistics.median(df_bystate_II[\"POBTOT\"])\n",
    "#statistics.variance(df_bystate_II[\"POBTOT\"])\n",
    "hm_pobfem,hm_pobmas,gm_pobfem,gm_pobmas,skew_pobfem,skew_pobmas"
   ]
  },
  {
   "cell_type": "code",
   "execution_count": 126,
   "metadata": {},
   "outputs": [
    {
     "name": "stderr",
     "output_type": "stream",
     "text": [
      "/Users/carlosalvarez/opt/anaconda3/lib/python3.8/site-packages/seaborn/distributions.py:2551: FutureWarning: `distplot` is a deprecated function and will be removed in a future version. Please adapt your code to use either `displot` (a figure-level function with similar flexibility) or `histplot` (an axes-level function for histograms).\n",
      "  warnings.warn(msg, FutureWarning)\n"
     ]
    },
    {
     "data": {
      "text/plain": [
       "<AxesSubplot:xlabel='POBFEM', ylabel='Density'>"
      ]
     },
     "execution_count": 126,
     "metadata": {},
     "output_type": "execute_result"
    },
    {
     "data": {
      "image/png": "[encoded data removed]",
      "text/plain": [
       "<Figure size 432x288 with 1 Axes>"
      ]
     },
     "metadata": {
      "needs_background": "light"
     },
     "output_type": "display_data"
    }
   ],
   "source": [
    "sns.distplot(df_bystate.POBFEM)"
   ]
  },
  {
   "cell_type": "code",
   "execution_count": 127,
   "metadata": {},
   "outputs": [
    {
     "name": "stderr",
     "output_type": "stream",
     "text": [
      "/Users/carlosalvarez/opt/anaconda3/lib/python3.8/site-packages/seaborn/distributions.py:2551: FutureWarning: `distplot` is a deprecated function and will be removed in a future version. Please adapt your code to use either `displot` (a figure-level function with similar flexibility) or `histplot` (an axes-level function for histograms).\n",
      "  warnings.warn(msg, FutureWarning)\n"
     ]
    },
    {
     "data": {
      "text/plain": [
       "<AxesSubplot:xlabel='POBMAS', ylabel='Density'>"
      ]
     },
     "execution_count": 127,
     "metadata": {},
     "output_type": "execute_result"
    },
    {
     "data": {
      "image/png": "[encoded data removed]",
      "text/plain": [
       "<Figure size 432x288 with 1 Axes>"
      ]
     },
     "metadata": {
      "needs_background": "light"
     },
     "output_type": "display_data"
    }
   ],
   "source": [
    "sns.distplot(df_bystate.POBMAS)"
   ]
  },
  {
   "cell_type": "code",
   "execution_count": 128,
   "metadata": {},
   "outputs": [
    {
     "name": "stderr",
     "output_type": "stream",
     "text": [
      "/Users/carlosalvarez/opt/anaconda3/lib/python3.8/site-packages/seaborn/_decorators.py:36: FutureWarning: Pass the following variable as a keyword arg: x. From version 0.12, the only valid positional argument will be `data`, and passing other arguments without an explicit keyword will result in an error or misinterpretation.\n",
      "  warnings.warn(\n"
     ]
    },
    {
     "data": {
      "text/plain": [
       "<AxesSubplot:xlabel='POBMAS'>"
      ]
     },
     "execution_count": 128,
     "metadata": {},
     "output_type": "execute_result"
    },
    {
     "data": {
      "image/png": "[encoded data removed]",
      "text/plain": [
       "<Figure size 432x288 with 1 Axes>"
      ]
     },
     "metadata": {
      "needs_background": "light"
     },
     "output_type": "display_data"
    }
   ],
   "source": [
    "sns.boxplot(df_bystate.POBMAS)"
   ]
  },
  {
   "cell_type": "code",
   "execution_count": 129,
   "metadata": {},
   "outputs": [
    {
     "name": "stderr",
     "output_type": "stream",
     "text": [
      "/Users/carlosalvarez/opt/anaconda3/lib/python3.8/site-packages/seaborn/_decorators.py:36: FutureWarning: Pass the following variable as a keyword arg: x. From version 0.12, the only valid positional argument will be `data`, and passing other arguments without an explicit keyword will result in an error or misinterpretation.\n",
      "  warnings.warn(\n"
     ]
    },
    {
     "data": {
      "text/plain": [
       "<AxesSubplot:xlabel='POBFEM'>"
      ]
     },
     "execution_count": 129,
     "metadata": {},
     "output_type": "execute_result"
    },
    {
     "data": {
      "image/png": "[encoded data removed]",
      "text/plain": [
       "<Figure size 432x288 with 1 Axes>"
      ]
     },
     "metadata": {
      "needs_background": "light"
     },
     "output_type": "display_data"
    }
   ],
   "source": [
    "sns.boxplot(df_bystate.POBFEM)"
   ]
  },
  {
   "cell_type": "markdown",
   "metadata": {},
   "source": [
    "## %  population by gender\n"
   ]
  },
  {
   "cell_type": "code",
   "execution_count": 261,
   "metadata": {},
   "outputs": [],
   "source": [
    "#df_bystate.sort_values(by=[\"%total fem\", \"%total mas\"],ascending=[True, True])"
   ]
  },
  {
   "cell_type": "code",
   "execution_count": 132,
   "metadata": {},
   "outputs": [
    {
     "ename": "KeyError",
     "evalue": "\"['%TOTALPOT', '%TOTALMAS', '%TOTALFEM'] not in index\"",
     "output_type": "error",
     "traceback": [
      "\u001b[0;31m---------------------------------------------------------------------------\u001b[0m",
      "\u001b[0;31mKeyError\u001b[0m                                  Traceback (most recent call last)",
      "\u001b[0;32m<ipython-input-132-fd345cecdb58>\u001b[0m in \u001b[0;36m<module>\u001b[0;34m\u001b[0m\n\u001b[0;32m----> 1\u001b[0;31m \u001b[0mdf_per_state\u001b[0m\u001b[0;34m=\u001b[0m \u001b[0mdf_bystate\u001b[0m\u001b[0;34m[\u001b[0m\u001b[0;34m[\u001b[0m\u001b[0;34m\"NOM_ENT\"\u001b[0m\u001b[0;34m,\u001b[0m\u001b[0;34m\"%TOTALPOT\"\u001b[0m\u001b[0;34m,\u001b[0m\u001b[0;34m\"%TOTALFEM\"\u001b[0m\u001b[0;34m,\u001b[0m\u001b[0;34m\"%TOTALMAS\"\u001b[0m\u001b[0;34m]\u001b[0m\u001b[0;34m]\u001b[0m\u001b[0;34m.\u001b[0m\u001b[0msort_values\u001b[0m\u001b[0;34m(\u001b[0m\u001b[0mby\u001b[0m\u001b[0;34m=\u001b[0m\u001b[0;34m\"% TOTALPOP\"\u001b[0m\u001b[0;34m,\u001b[0m\u001b[0mascending\u001b[0m\u001b[0;34m=\u001b[0m\u001b[0;32mFalse\u001b[0m\u001b[0;34m)\u001b[0m\u001b[0;34m\u001b[0m\u001b[0;34m\u001b[0m\u001b[0m\n\u001b[0m\u001b[1;32m      2\u001b[0m \u001b[0msns\u001b[0m\u001b[0;34m.\u001b[0m\u001b[0mkdeplot\u001b[0m\u001b[0;34m(\u001b[0m\u001b[0mdf_per_state\u001b[0m\u001b[0;34m[\u001b[0m\u001b[0;34m\"%TOTALPOP\"\u001b[0m\u001b[0;34m]\u001b[0m\u001b[0;34m)\u001b[0m\u001b[0;34m\u001b[0m\u001b[0;34m\u001b[0m\u001b[0m\n",
      "\u001b[0;32m~/opt/anaconda3/lib/python3.8/site-packages/pandas/core/frame.py\u001b[0m in \u001b[0;36m__getitem__\u001b[0;34m(self, key)\u001b[0m\n\u001b[1;32m   2906\u001b[0m             \u001b[0;32mif\u001b[0m \u001b[0mis_iterator\u001b[0m\u001b[0;34m(\u001b[0m\u001b[0mkey\u001b[0m\u001b[0;34m)\u001b[0m\u001b[0;34m:\u001b[0m\u001b[0;34m\u001b[0m\u001b[0;34m\u001b[0m\u001b[0m\n\u001b[1;32m   2907\u001b[0m                 \u001b[0mkey\u001b[0m \u001b[0;34m=\u001b[0m \u001b[0mlist\u001b[0m\u001b[0;34m(\u001b[0m\u001b[0mkey\u001b[0m\u001b[0;34m)\u001b[0m\u001b[0;34m\u001b[0m\u001b[0;34m\u001b[0m\u001b[0m\n\u001b[0;32m-> 2908\u001b[0;31m             \u001b[0mindexer\u001b[0m \u001b[0;34m=\u001b[0m \u001b[0mself\u001b[0m\u001b[0;34m.\u001b[0m\u001b[0mloc\u001b[0m\u001b[0;34m.\u001b[0m\u001b[0m_get_listlike_indexer\u001b[0m\u001b[0;34m(\u001b[0m\u001b[0mkey\u001b[0m\u001b[0;34m,\u001b[0m \u001b[0maxis\u001b[0m\u001b[0;34m=\u001b[0m\u001b[0;36m1\u001b[0m\u001b[0;34m,\u001b[0m \u001b[0mraise_missing\u001b[0m\u001b[0;34m=\u001b[0m\u001b[0;32mTrue\u001b[0m\u001b[0;34m)\u001b[0m\u001b[0;34m[\u001b[0m\u001b[0;36m1\u001b[0m\u001b[0;34m]\u001b[0m\u001b[0;34m\u001b[0m\u001b[0;34m\u001b[0m\u001b[0m\n\u001b[0m\u001b[1;32m   2909\u001b[0m \u001b[0;34m\u001b[0m\u001b[0m\n\u001b[1;32m   2910\u001b[0m         \u001b[0;31m# take() does not accept boolean indexers\u001b[0m\u001b[0;34m\u001b[0m\u001b[0;34m\u001b[0m\u001b[0;34m\u001b[0m\u001b[0m\n",
      "\u001b[0;32m~/opt/anaconda3/lib/python3.8/site-packages/pandas/core/indexing.py\u001b[0m in \u001b[0;36m_get_listlike_indexer\u001b[0;34m(self, key, axis, raise_missing)\u001b[0m\n\u001b[1;32m   1252\u001b[0m             \u001b[0mkeyarr\u001b[0m\u001b[0;34m,\u001b[0m \u001b[0mindexer\u001b[0m\u001b[0;34m,\u001b[0m \u001b[0mnew_indexer\u001b[0m \u001b[0;34m=\u001b[0m \u001b[0max\u001b[0m\u001b[0;34m.\u001b[0m\u001b[0m_reindex_non_unique\u001b[0m\u001b[0;34m(\u001b[0m\u001b[0mkeyarr\u001b[0m\u001b[0;34m)\u001b[0m\u001b[0;34m\u001b[0m\u001b[0;34m\u001b[0m\u001b[0m\n\u001b[1;32m   1253\u001b[0m \u001b[0;34m\u001b[0m\u001b[0m\n\u001b[0;32m-> 1254\u001b[0;31m         \u001b[0mself\u001b[0m\u001b[0;34m.\u001b[0m\u001b[0m_validate_read_indexer\u001b[0m\u001b[0;34m(\u001b[0m\u001b[0mkeyarr\u001b[0m\u001b[0;34m,\u001b[0m \u001b[0mindexer\u001b[0m\u001b[0;34m,\u001b[0m \u001b[0maxis\u001b[0m\u001b[0;34m,\u001b[0m \u001b[0mraise_missing\u001b[0m\u001b[0;34m=\u001b[0m\u001b[0mraise_missing\u001b[0m\u001b[0;34m)\u001b[0m\u001b[0;34m\u001b[0m\u001b[0;34m\u001b[0m\u001b[0m\n\u001b[0m\u001b[1;32m   1255\u001b[0m         \u001b[0;32mreturn\u001b[0m \u001b[0mkeyarr\u001b[0m\u001b[0;34m,\u001b[0m \u001b[0mindexer\u001b[0m\u001b[0;34m\u001b[0m\u001b[0;34m\u001b[0m\u001b[0m\n\u001b[1;32m   1256\u001b[0m \u001b[0;34m\u001b[0m\u001b[0m\n",
      "\u001b[0;32m~/opt/anaconda3/lib/python3.8/site-packages/pandas/core/indexing.py\u001b[0m in \u001b[0;36m_validate_read_indexer\u001b[0;34m(self, key, indexer, axis, raise_missing)\u001b[0m\n\u001b[1;32m   1302\u001b[0m             \u001b[0;32mif\u001b[0m \u001b[0mraise_missing\u001b[0m\u001b[0;34m:\u001b[0m\u001b[0;34m\u001b[0m\u001b[0;34m\u001b[0m\u001b[0m\n\u001b[1;32m   1303\u001b[0m                 \u001b[0mnot_found\u001b[0m \u001b[0;34m=\u001b[0m \u001b[0mlist\u001b[0m\u001b[0;34m(\u001b[0m\u001b[0mset\u001b[0m\u001b[0;34m(\u001b[0m\u001b[0mkey\u001b[0m\u001b[0;34m)\u001b[0m \u001b[0;34m-\u001b[0m \u001b[0mset\u001b[0m\u001b[0;34m(\u001b[0m\u001b[0max\u001b[0m\u001b[0;34m)\u001b[0m\u001b[0;34m)\u001b[0m\u001b[0;34m\u001b[0m\u001b[0;34m\u001b[0m\u001b[0m\n\u001b[0;32m-> 1304\u001b[0;31m                 \u001b[0;32mraise\u001b[0m \u001b[0mKeyError\u001b[0m\u001b[0;34m(\u001b[0m\u001b[0;34mf\"{not_found} not in index\"\u001b[0m\u001b[0;34m)\u001b[0m\u001b[0;34m\u001b[0m\u001b[0;34m\u001b[0m\u001b[0m\n\u001b[0m\u001b[1;32m   1305\u001b[0m \u001b[0;34m\u001b[0m\u001b[0m\n\u001b[1;32m   1306\u001b[0m             \u001b[0;31m# we skip the warning on Categorical\u001b[0m\u001b[0;34m\u001b[0m\u001b[0;34m\u001b[0m\u001b[0;34m\u001b[0m\u001b[0m\n",
      "\u001b[0;31mKeyError\u001b[0m: \"['%TOTALPOT', '%TOTALMAS', '%TOTALFEM'] not in index\""
     ]
    }
   ],
   "source": [
    "df_per_state= df_bystate[[\"NOM_ENT\",\"%TOTALPOT\",\"%TOTALFEM\",\"%TOTALMAS\"]].sort_values(by=\"% TOTALPOP\",ascending=False)\n",
    "sns.kdeplot(df_per_state[\"%TOTALPOP\"])"
   ]
  },
  {
   "cell_type": "code",
   "execution_count": 264,
   "metadata": {},
   "outputs": [
    {
     "name": "stderr",
     "output_type": "stream",
     "text": [
      "/Users/carlosalvarez/opt/anaconda3/lib/python3.8/site-packages/seaborn/_decorators.py:36: FutureWarning: Pass the following variable as a keyword arg: x. From version 0.12, the only valid positional argument will be `data`, and passing other arguments without an explicit keyword will result in an error or misinterpretation.\n",
      "  warnings.warn(\n"
     ]
    },
    {
     "data": {
      "text/plain": [
       "<AxesSubplot:xlabel='% TotalPop'>"
      ]
     },
     "execution_count": 264,
     "metadata": {},
     "output_type": "execute_result"
    },
    {
     "data": {
      "image/png": "[encoded data removed]",
      "text/plain": [
       "<Figure size 432x288 with 1 Axes>"
      ]
     },
     "metadata": {
      "needs_background": "light"
     },
     "output_type": "display_data"
    }
   ],
   "source": [
    "sns.boxplot(df_per_state[\"% TotalPop\"])"
   ]
  },
  {
   "cell_type": "code",
   "execution_count": 262,
   "metadata": {},
   "outputs": [
    {
     "data": {
      "text/html": [
       "<div>\n",
       "<style scoped>\n",
       "    .dataframe tbody tr th:only-of-type {\n",
       "        vertical-align: middle;\n",
       "    }\n",
       "\n",
       "    .dataframe tbody tr th {\n",
       "        vertical-align: top;\n",
       "    }\n",
       "\n",
       "    .dataframe thead th {\n",
       "        text-align: right;\n",
       "    }\n",
       "</style>\n",
       "<table border=\"1\" class=\"dataframe\">\n",
       "  <thead>\n",
       "    <tr style=\"text-align: right;\">\n",
       "      <th></th>\n",
       "      <th>NOM_ENT</th>\n",
       "      <th>% TotalPop</th>\n",
       "      <th>%total fem</th>\n",
       "      <th>%total mas</th>\n",
       "    </tr>\n",
       "  </thead>\n",
       "  <tbody>\n",
       "    <tr>\n",
       "      <th>16</th>\n",
       "      <td>México</td>\n",
       "      <td>0.13</td>\n",
       "      <td>0.07</td>\n",
       "      <td>0.07</td>\n",
       "    </tr>\n",
       "    <tr>\n",
       "      <th>6</th>\n",
       "      <td>Ciudad de México</td>\n",
       "      <td>0.07</td>\n",
       "      <td>0.04</td>\n",
       "      <td>0.03</td>\n",
       "    </tr>\n",
       "    <tr>\n",
       "      <th>13</th>\n",
       "      <td>Jalisco</td>\n",
       "      <td>0.07</td>\n",
       "      <td>0.03</td>\n",
       "      <td>0.03</td>\n",
       "    </tr>\n",
       "    <tr>\n",
       "      <th>29</th>\n",
       "      <td>Veracruz de Ignacio de la Llave</td>\n",
       "      <td>0.06</td>\n",
       "      <td>0.03</td>\n",
       "      <td>0.03</td>\n",
       "    </tr>\n",
       "    <tr>\n",
       "      <th>20</th>\n",
       "      <td>Puebla</td>\n",
       "      <td>0.05</td>\n",
       "      <td>0.03</td>\n",
       "      <td>0.03</td>\n",
       "    </tr>\n",
       "    <tr>\n",
       "      <th>10</th>\n",
       "      <td>Guanajuato</td>\n",
       "      <td>0.05</td>\n",
       "      <td>0.03</td>\n",
       "      <td>0.02</td>\n",
       "    </tr>\n",
       "    <tr>\n",
       "      <th>18</th>\n",
       "      <td>Nuevo León</td>\n",
       "      <td>0.05</td>\n",
       "      <td>0.02</td>\n",
       "      <td>0.02</td>\n",
       "    </tr>\n",
       "    <tr>\n",
       "      <th>4</th>\n",
       "      <td>Chiapas</td>\n",
       "      <td>0.04</td>\n",
       "      <td>0.02</td>\n",
       "      <td>0.02</td>\n",
       "    </tr>\n",
       "    <tr>\n",
       "      <th>14</th>\n",
       "      <td>Michoacán de Ocampo</td>\n",
       "      <td>0.04</td>\n",
       "      <td>0.02</td>\n",
       "      <td>0.02</td>\n",
       "    </tr>\n",
       "    <tr>\n",
       "      <th>19</th>\n",
       "      <td>Oaxaca</td>\n",
       "      <td>0.03</td>\n",
       "      <td>0.02</td>\n",
       "      <td>0.02</td>\n",
       "    </tr>\n",
       "    <tr>\n",
       "      <th>1</th>\n",
       "      <td>Baja California</td>\n",
       "      <td>0.03</td>\n",
       "      <td>0.01</td>\n",
       "      <td>0.02</td>\n",
       "    </tr>\n",
       "    <tr>\n",
       "      <th>5</th>\n",
       "      <td>Chihuahua</td>\n",
       "      <td>0.03</td>\n",
       "      <td>0.01</td>\n",
       "      <td>0.01</td>\n",
       "    </tr>\n",
       "    <tr>\n",
       "      <th>11</th>\n",
       "      <td>Guerrero</td>\n",
       "      <td>0.03</td>\n",
       "      <td>0.01</td>\n",
       "      <td>0.01</td>\n",
       "    </tr>\n",
       "    <tr>\n",
       "      <th>27</th>\n",
       "      <td>Tamaulipas</td>\n",
       "      <td>0.03</td>\n",
       "      <td>0.01</td>\n",
       "      <td>0.01</td>\n",
       "    </tr>\n",
       "    <tr>\n",
       "      <th>7</th>\n",
       "      <td>Coahuila de Zaragoza</td>\n",
       "      <td>0.02</td>\n",
       "      <td>0.01</td>\n",
       "      <td>0.01</td>\n",
       "    </tr>\n",
       "    <tr>\n",
       "      <th>12</th>\n",
       "      <td>Hidalgo</td>\n",
       "      <td>0.02</td>\n",
       "      <td>0.01</td>\n",
       "      <td>0.01</td>\n",
       "    </tr>\n",
       "    <tr>\n",
       "      <th>24</th>\n",
       "      <td>Sinaloa</td>\n",
       "      <td>0.02</td>\n",
       "      <td>0.01</td>\n",
       "      <td>0.01</td>\n",
       "    </tr>\n",
       "    <tr>\n",
       "      <th>25</th>\n",
       "      <td>Sonora</td>\n",
       "      <td>0.02</td>\n",
       "      <td>0.01</td>\n",
       "      <td>0.01</td>\n",
       "    </tr>\n",
       "    <tr>\n",
       "      <th>23</th>\n",
       "      <td>San Luis Potosí</td>\n",
       "      <td>0.02</td>\n",
       "      <td>0.01</td>\n",
       "      <td>0.01</td>\n",
       "    </tr>\n",
       "    <tr>\n",
       "      <th>26</th>\n",
       "      <td>Tabasco</td>\n",
       "      <td>0.02</td>\n",
       "      <td>0.01</td>\n",
       "      <td>0.01</td>\n",
       "    </tr>\n",
       "    <tr>\n",
       "      <th>21</th>\n",
       "      <td>Querétaro</td>\n",
       "      <td>0.02</td>\n",
       "      <td>0.01</td>\n",
       "      <td>0.01</td>\n",
       "    </tr>\n",
       "    <tr>\n",
       "      <th>30</th>\n",
       "      <td>Yucatán</td>\n",
       "      <td>0.02</td>\n",
       "      <td>0.01</td>\n",
       "      <td>0.01</td>\n",
       "    </tr>\n",
       "    <tr>\n",
       "      <th>15</th>\n",
       "      <td>Morelos</td>\n",
       "      <td>0.02</td>\n",
       "      <td>0.01</td>\n",
       "      <td>0.01</td>\n",
       "    </tr>\n",
       "    <tr>\n",
       "      <th>22</th>\n",
       "      <td>Quintana Roo</td>\n",
       "      <td>0.01</td>\n",
       "      <td>0.01</td>\n",
       "      <td>0.01</td>\n",
       "    </tr>\n",
       "    <tr>\n",
       "      <th>9</th>\n",
       "      <td>Durango</td>\n",
       "      <td>0.01</td>\n",
       "      <td>0.01</td>\n",
       "      <td>0.01</td>\n",
       "    </tr>\n",
       "    <tr>\n",
       "      <th>31</th>\n",
       "      <td>Zacatecas</td>\n",
       "      <td>0.01</td>\n",
       "      <td>0.01</td>\n",
       "      <td>0.01</td>\n",
       "    </tr>\n",
       "    <tr>\n",
       "      <th>0</th>\n",
       "      <td>Aguascalientes</td>\n",
       "      <td>0.01</td>\n",
       "      <td>0.01</td>\n",
       "      <td>0.01</td>\n",
       "    </tr>\n",
       "    <tr>\n",
       "      <th>28</th>\n",
       "      <td>Tlaxcala</td>\n",
       "      <td>0.01</td>\n",
       "      <td>0.01</td>\n",
       "      <td>0.01</td>\n",
       "    </tr>\n",
       "    <tr>\n",
       "      <th>17</th>\n",
       "      <td>Nayarit</td>\n",
       "      <td>0.01</td>\n",
       "      <td>0.00</td>\n",
       "      <td>0.00</td>\n",
       "    </tr>\n",
       "    <tr>\n",
       "      <th>3</th>\n",
       "      <td>Campeche</td>\n",
       "      <td>0.01</td>\n",
       "      <td>0.00</td>\n",
       "      <td>0.00</td>\n",
       "    </tr>\n",
       "    <tr>\n",
       "      <th>2</th>\n",
       "      <td>Baja California Sur</td>\n",
       "      <td>0.01</td>\n",
       "      <td>0.00</td>\n",
       "      <td>0.00</td>\n",
       "    </tr>\n",
       "    <tr>\n",
       "      <th>8</th>\n",
       "      <td>Colima</td>\n",
       "      <td>0.01</td>\n",
       "      <td>0.00</td>\n",
       "      <td>0.00</td>\n",
       "    </tr>\n",
       "  </tbody>\n",
       "</table>\n",
       "</div>"
      ],
      "text/plain": [
       "                            NOM_ENT  % TotalPop  %total fem  %total mas\n",
       "16                           México        0.13        0.07        0.07\n",
       "6                  Ciudad de México        0.07        0.04        0.03\n",
       "13                          Jalisco        0.07        0.03        0.03\n",
       "29  Veracruz de Ignacio de la Llave        0.06        0.03        0.03\n",
       "20                           Puebla        0.05        0.03        0.03\n",
       "10                       Guanajuato        0.05        0.03        0.02\n",
       "18                       Nuevo León        0.05        0.02        0.02\n",
       "4                           Chiapas        0.04        0.02        0.02\n",
       "14              Michoacán de Ocampo        0.04        0.02        0.02\n",
       "19                           Oaxaca        0.03        0.02        0.02\n",
       "1                   Baja California        0.03        0.01        0.02\n",
       "5                         Chihuahua        0.03        0.01        0.01\n",
       "11                         Guerrero        0.03        0.01        0.01\n",
       "27                       Tamaulipas        0.03        0.01        0.01\n",
       "7              Coahuila de Zaragoza        0.02        0.01        0.01\n",
       "12                          Hidalgo        0.02        0.01        0.01\n",
       "24                          Sinaloa        0.02        0.01        0.01\n",
       "25                           Sonora        0.02        0.01        0.01\n",
       "23                  San Luis Potosí        0.02        0.01        0.01\n",
       "26                          Tabasco        0.02        0.01        0.01\n",
       "21                        Querétaro        0.02        0.01        0.01\n",
       "30                          Yucatán        0.02        0.01        0.01\n",
       "15                          Morelos        0.02        0.01        0.01\n",
       "22                     Quintana Roo        0.01        0.01        0.01\n",
       "9                           Durango        0.01        0.01        0.01\n",
       "31                        Zacatecas        0.01        0.01        0.01\n",
       "0                    Aguascalientes        0.01        0.01        0.01\n",
       "28                         Tlaxcala        0.01        0.01        0.01\n",
       "17                          Nayarit        0.01        0.00        0.00\n",
       "3                          Campeche        0.01        0.00        0.00\n",
       "2               Baja California Sur        0.01        0.00        0.00\n",
       "8                            Colima        0.01        0.00        0.00"
      ]
     },
     "execution_count": 262,
     "metadata": {},
     "output_type": "execute_result"
    }
   ],
   "source": [
    "# %  populaiton by gender\n",
    "df_bystate[[\"NOM_ENT\",\"% TotalPop\",'%total fem',\"%total mas\"]].sort_values(by=\"% TotalPop\",ascending=False)"
   ]
  },
  {
   "cell_type": "code",
   "execution_count": null,
   "metadata": {},
   "outputs": [],
   "source": [
    "# graph !!!!!!"
   ]
  },
  {
   "cell_type": "markdown",
   "metadata": {},
   "source": [
    "### % over region"
   ]
  },
  {
   "cell_type": "code",
   "execution_count": 133,
   "metadata": {},
   "outputs": [],
   "source": [
    "df_bystate[\"%FEM_REGION\"]=df_bystate[\"POBFEM\"]/df_bystate[\"POBTOT\"]\n",
    "df_bystate[\"%MAS_REGION\"]=df_bystate[\"POBMAS\"]/df_bystate[\"POBTOT\"]"
   ]
  },
  {
   "cell_type": "code",
   "execution_count": 135,
   "metadata": {},
   "outputs": [
    {
     "data": {
      "text/html": [
       "<div>\n",
       "<style scoped>\n",
       "    .dataframe tbody tr th:only-of-type {\n",
       "        vertical-align: middle;\n",
       "    }\n",
       "\n",
       "    .dataframe tbody tr th {\n",
       "        vertical-align: top;\n",
       "    }\n",
       "\n",
       "    .dataframe thead th {\n",
       "        text-align: right;\n",
       "    }\n",
       "</style>\n",
       "<table border=\"1\" class=\"dataframe\">\n",
       "  <thead>\n",
       "    <tr style=\"text-align: right;\">\n",
       "      <th></th>\n",
       "      <th>%FEM_REGION</th>\n",
       "      <th>%MAS_REGION</th>\n",
       "    </tr>\n",
       "  </thead>\n",
       "  <tbody>\n",
       "    <tr>\n",
       "      <th>count</th>\n",
       "      <td>32.00</td>\n",
       "      <td>32.00</td>\n",
       "    </tr>\n",
       "    <tr>\n",
       "      <th>mean</th>\n",
       "      <td>0.51</td>\n",
       "      <td>0.49</td>\n",
       "    </tr>\n",
       "    <tr>\n",
       "      <th>std</th>\n",
       "      <td>0.01</td>\n",
       "      <td>0.01</td>\n",
       "    </tr>\n",
       "    <tr>\n",
       "      <th>min</th>\n",
       "      <td>0.49</td>\n",
       "      <td>0.48</td>\n",
       "    </tr>\n",
       "    <tr>\n",
       "      <th>25%</th>\n",
       "      <td>0.50</td>\n",
       "      <td>0.48</td>\n",
       "    </tr>\n",
       "    <tr>\n",
       "      <th>50%</th>\n",
       "      <td>0.51</td>\n",
       "      <td>0.49</td>\n",
       "    </tr>\n",
       "    <tr>\n",
       "      <th>75%</th>\n",
       "      <td>0.51</td>\n",
       "      <td>0.49</td>\n",
       "    </tr>\n",
       "    <tr>\n",
       "      <th>max</th>\n",
       "      <td>0.52</td>\n",
       "      <td>0.50</td>\n",
       "    </tr>\n",
       "  </tbody>\n",
       "</table>\n",
       "</div>"
      ],
      "text/plain": [
       "       %FEM_REGION  %MAS_REGION\n",
       "count        32.00        32.00\n",
       "mean          0.51         0.49\n",
       "std           0.01         0.01\n",
       "min           0.49         0.48\n",
       "25%           0.50         0.48\n",
       "50%           0.51         0.49\n",
       "75%           0.51         0.49\n",
       "max           0.52         0.50"
      ]
     },
     "execution_count": 135,
     "metadata": {},
     "output_type": "execute_result"
    }
   ],
   "source": [
    "df_bystate[[\"%FEM_REGION\",\"%MAS_REGION\"]].describe().style.format({\"POBTOT\": \"{:,}\",\"%MAS_REGION\": \"{:,}\"})"
   ]
  },
  {
   "cell_type": "code",
   "execution_count": 134,
   "metadata": {},
   "outputs": [],
   "source": [
    "# backsolve population from ages 25 a 59\n",
    "df_bystate[\"P_25A59\"]=df_bystate[\"POBTOT\"]-df_bystate[\"P_0A2\"]-df_bystate[\"P_3A5\"]-df_bystate[\"P_6A11\"]-df_bystate[\"P_12A14\"]-df_bystate[\"P_15A17\"]-df_bystate[\"P_18A24\"]-df_bystate[\"P_60YMAS\"]\n"
   ]
  },
  {
   "cell_type": "code",
   "execution_count": 138,
   "metadata": {},
   "outputs": [
    {
     "data": {
      "text/plain": [
       "(0.5082454526642809,\n",
       " 0.48748052428738275,\n",
       " 0.5083150619477409,\n",
       " 0.48752944557132505,\n",
       " -0.38795751987895644,\n",
       " 0.6321080993025988)"
      ]
     },
     "execution_count": 138,
     "metadata": {},
     "output_type": "execute_result"
    }
   ],
   "source": [
    "hm_fem=statistics.harmonic_mean(df_bystate[\"%FEM_REGION\"])\n",
    "hm_mas=statistics.harmonic_mean(df_bystate[\"%MAS_REGION\"])\n",
    "gm_fem=statistics.geometric_mean(df_bystate[\"%FEM_REGION\"])\n",
    "gm_mas=statistics.geometric_mean(df_bystate[\"%MAS_REGION\"])\n",
    "#statistics.median(df_bystate_II[\"POBTOT\"])\n",
    "#statistics.variance(df_bystate_II[\"POBTOT\"])\n",
    "skew_fem=scipy.stats.skew(df_bystate[\"%FEM_REGION\"], bias=False)\n",
    "skew_mas=scipy.stats.skew(df_bystate[\"%MAS_REGION\"], bias=False)\n",
    "#scipy.stats.mode(df_bystate_II[\"POBTOT\"])\n",
    "hm_fem,hm_mas,gm_fem,gm_mas,skew_fem,skew_mas"
   ]
  },
  {
   "cell_type": "code",
   "execution_count": 139,
   "metadata": {},
   "outputs": [
    {
     "data": {
      "text/plain": [
       "<AxesSubplot:ylabel='Density'>"
      ]
     },
     "execution_count": 139,
     "metadata": {},
     "output_type": "execute_result"
    },
    {
     "data": {
      "image/png": "[encoded data removed]",
      "text/plain": [
       "<Figure size 432x288 with 1 Axes>"
      ]
     },
     "metadata": {
      "needs_background": "light"
     },
     "output_type": "display_data"
    }
   ],
   "source": [
    "iris = df_bystate[[\"%FEM_REGION\",\"%MAS_REGION\"]]\n",
    "sns.kdeplot(data=iris)"
   ]
  },
  {
   "cell_type": "code",
   "execution_count": 140,
   "metadata": {},
   "outputs": [
    {
     "data": {
      "text/plain": [
       "<AxesSubplot:ylabel='Density'>"
      ]
     },
     "execution_count": 140,
     "metadata": {},
     "output_type": "execute_result"
    },
    {
     "data": {
      "image/png": "[encoded data removed]",
      "text/plain": [
       "<Figure size 432x288 with 1 Axes>"
      ]
     },
     "metadata": {
      "needs_background": "light"
     },
     "output_type": "display_data"
    }
   ],
   "source": [
    "iris_II= df_bystate[[\"POBTOT\",\"POBFEM\",\"POBMAS\"]]\n",
    "sns.kdeplot(data=iris_II)"
   ]
  },
  {
   "cell_type": "code",
   "execution_count": 141,
   "metadata": {},
   "outputs": [
    {
     "name": "stderr",
     "output_type": "stream",
     "text": [
      "/Users/carlosalvarez/opt/anaconda3/lib/python3.8/site-packages/seaborn/distributions.py:2551: FutureWarning: `distplot` is a deprecated function and will be removed in a future version. Please adapt your code to use either `displot` (a figure-level function with similar flexibility) or `histplot` (an axes-level function for histograms).\n",
      "  warnings.warn(msg, FutureWarning)\n"
     ]
    },
    {
     "data": {
      "text/plain": [
       "<AxesSubplot:xlabel='%FEM_REGION', ylabel='Density'>"
      ]
     },
     "execution_count": 141,
     "metadata": {},
     "output_type": "execute_result"
    },
    {
     "data": {
      "image/png": "[encoded data removed]",
      "text/plain": [
       "<Figure size 432x288 with 1 Axes>"
      ]
     },
     "metadata": {
      "needs_background": "light"
     },
     "output_type": "display_data"
    }
   ],
   "source": [
    "sns.distplot(df_bystate[\"%FEM_REGION\"])"
   ]
  },
  {
   "cell_type": "code",
   "execution_count": 142,
   "metadata": {},
   "outputs": [
    {
     "name": "stderr",
     "output_type": "stream",
     "text": [
      "/Users/carlosalvarez/opt/anaconda3/lib/python3.8/site-packages/seaborn/distributions.py:2551: FutureWarning: `distplot` is a deprecated function and will be removed in a future version. Please adapt your code to use either `displot` (a figure-level function with similar flexibility) or `histplot` (an axes-level function for histograms).\n",
      "  warnings.warn(msg, FutureWarning)\n"
     ]
    },
    {
     "data": {
      "text/plain": [
       "<AxesSubplot:xlabel='%MAS_REGION', ylabel='Density'>"
      ]
     },
     "execution_count": 142,
     "metadata": {},
     "output_type": "execute_result"
    },
    {
     "data": {
      "image/png": "[encoded data removed]",
      "text/plain": [
       "<Figure size 432x288 with 1 Axes>"
      ]
     },
     "metadata": {
      "needs_background": "light"
     },
     "output_type": "display_data"
    }
   ],
   "source": [
    "sns.distplot(df_bystate[\"%MAS_REGION\"])"
   ]
  },
  {
   "cell_type": "code",
   "execution_count": 143,
   "metadata": {},
   "outputs": [
    {
     "name": "stderr",
     "output_type": "stream",
     "text": [
      "/Users/carlosalvarez/opt/anaconda3/lib/python3.8/site-packages/seaborn/_decorators.py:36: FutureWarning: Pass the following variable as a keyword arg: x. From version 0.12, the only valid positional argument will be `data`, and passing other arguments without an explicit keyword will result in an error or misinterpretation.\n",
      "  warnings.warn(\n"
     ]
    },
    {
     "data": {
      "text/plain": [
       "<AxesSubplot:xlabel='%FEM_REGION'>"
      ]
     },
     "execution_count": 143,
     "metadata": {},
     "output_type": "execute_result"
    },
    {
     "data": {
      "image/png": "[encoded data removed]",
      "text/plain": [
       "<Figure size 432x288 with 1 Axes>"
      ]
     },
     "metadata": {
      "needs_background": "light"
     },
     "output_type": "display_data"
    }
   ],
   "source": [
    "sns.boxplot(df_bystate[\"%FEM_REGION\"])"
   ]
  },
  {
   "cell_type": "code",
   "execution_count": 144,
   "metadata": {},
   "outputs": [
    {
     "name": "stderr",
     "output_type": "stream",
     "text": [
      "/Users/carlosalvarez/opt/anaconda3/lib/python3.8/site-packages/seaborn/_decorators.py:36: FutureWarning: Pass the following variable as a keyword arg: x. From version 0.12, the only valid positional argument will be `data`, and passing other arguments without an explicit keyword will result in an error or misinterpretation.\n",
      "  warnings.warn(\n"
     ]
    },
    {
     "data": {
      "text/plain": [
       "<AxesSubplot:xlabel='%MAS_REGION'>"
      ]
     },
     "execution_count": 144,
     "metadata": {},
     "output_type": "execute_result"
    },
    {
     "data": {
      "image/png": "[encoded data removed]",
      "text/plain": [
       "<Figure size 432x288 with 1 Axes>"
      ]
     },
     "metadata": {
      "needs_background": "light"
     },
     "output_type": "display_data"
    }
   ],
   "source": [
    "sns.boxplot(df_bystate[\"%MAS_REGION\"])"
   ]
  },
  {
   "cell_type": "code",
   "execution_count": 136,
   "metadata": {},
   "outputs": [
    {
     "data": {
      "text/html": [
       "<div>\n",
       "<style scoped>\n",
       "    .dataframe tbody tr th:only-of-type {\n",
       "        vertical-align: middle;\n",
       "    }\n",
       "\n",
       "    .dataframe tbody tr th {\n",
       "        vertical-align: top;\n",
       "    }\n",
       "\n",
       "    .dataframe thead th {\n",
       "        text-align: right;\n",
       "    }\n",
       "</style>\n",
       "<table border=\"1\" class=\"dataframe\">\n",
       "  <thead>\n",
       "    <tr style=\"text-align: right;\">\n",
       "      <th></th>\n",
       "      <th>NOM_ENT</th>\n",
       "      <th>%FEM_REGION</th>\n",
       "      <th>%MAS_REGION</th>\n",
       "    </tr>\n",
       "  </thead>\n",
       "  <tbody>\n",
       "    <tr>\n",
       "      <th>6</th>\n",
       "      <td>Ciudad de México</td>\n",
       "      <td>0.52</td>\n",
       "      <td>0.48</td>\n",
       "    </tr>\n",
       "    <tr>\n",
       "      <th>19</th>\n",
       "      <td>Oaxaca</td>\n",
       "      <td>0.52</td>\n",
       "      <td>0.48</td>\n",
       "    </tr>\n",
       "    <tr>\n",
       "      <th>20</th>\n",
       "      <td>Puebla</td>\n",
       "      <td>0.52</td>\n",
       "      <td>0.48</td>\n",
       "    </tr>\n",
       "    <tr>\n",
       "      <th>12</th>\n",
       "      <td>Hidalgo</td>\n",
       "      <td>0.52</td>\n",
       "      <td>0.48</td>\n",
       "    </tr>\n",
       "    <tr>\n",
       "      <th>11</th>\n",
       "      <td>Guerrero</td>\n",
       "      <td>0.52</td>\n",
       "      <td>0.48</td>\n",
       "    </tr>\n",
       "    <tr>\n",
       "      <th>29</th>\n",
       "      <td>Veracruz de Ignacio de la Llave</td>\n",
       "      <td>0.52</td>\n",
       "      <td>0.48</td>\n",
       "    </tr>\n",
       "    <tr>\n",
       "      <th>15</th>\n",
       "      <td>Morelos</td>\n",
       "      <td>0.52</td>\n",
       "      <td>0.48</td>\n",
       "    </tr>\n",
       "    <tr>\n",
       "      <th>28</th>\n",
       "      <td>Tlaxcala</td>\n",
       "      <td>0.52</td>\n",
       "      <td>0.48</td>\n",
       "    </tr>\n",
       "    <tr>\n",
       "      <th>16</th>\n",
       "      <td>México</td>\n",
       "      <td>0.51</td>\n",
       "      <td>0.49</td>\n",
       "    </tr>\n",
       "    <tr>\n",
       "      <th>10</th>\n",
       "      <td>Guanajuato</td>\n",
       "      <td>0.51</td>\n",
       "      <td>0.48</td>\n",
       "    </tr>\n",
       "    <tr>\n",
       "      <th>14</th>\n",
       "      <td>Michoacán de Ocampo</td>\n",
       "      <td>0.51</td>\n",
       "      <td>0.48</td>\n",
       "    </tr>\n",
       "    <tr>\n",
       "      <th>23</th>\n",
       "      <td>San Luis Potosí</td>\n",
       "      <td>0.51</td>\n",
       "      <td>0.48</td>\n",
       "    </tr>\n",
       "    <tr>\n",
       "      <th>26</th>\n",
       "      <td>Tabasco</td>\n",
       "      <td>0.51</td>\n",
       "      <td>0.49</td>\n",
       "    </tr>\n",
       "    <tr>\n",
       "      <th>21</th>\n",
       "      <td>Querétaro</td>\n",
       "      <td>0.51</td>\n",
       "      <td>0.49</td>\n",
       "    </tr>\n",
       "    <tr>\n",
       "      <th>31</th>\n",
       "      <td>Zacatecas</td>\n",
       "      <td>0.51</td>\n",
       "      <td>0.48</td>\n",
       "    </tr>\n",
       "    <tr>\n",
       "      <th>0</th>\n",
       "      <td>Aguascalientes</td>\n",
       "      <td>0.51</td>\n",
       "      <td>0.49</td>\n",
       "    </tr>\n",
       "    <tr>\n",
       "      <th>4</th>\n",
       "      <td>Chiapas</td>\n",
       "      <td>0.51</td>\n",
       "      <td>0.48</td>\n",
       "    </tr>\n",
       "    <tr>\n",
       "      <th>13</th>\n",
       "      <td>Jalisco</td>\n",
       "      <td>0.51</td>\n",
       "      <td>0.49</td>\n",
       "    </tr>\n",
       "    <tr>\n",
       "      <th>30</th>\n",
       "      <td>Yucatán</td>\n",
       "      <td>0.51</td>\n",
       "      <td>0.49</td>\n",
       "    </tr>\n",
       "    <tr>\n",
       "      <th>27</th>\n",
       "      <td>Tamaulipas</td>\n",
       "      <td>0.51</td>\n",
       "      <td>0.49</td>\n",
       "    </tr>\n",
       "    <tr>\n",
       "      <th>8</th>\n",
       "      <td>Colima</td>\n",
       "      <td>0.50</td>\n",
       "      <td>0.49</td>\n",
       "    </tr>\n",
       "    <tr>\n",
       "      <th>3</th>\n",
       "      <td>Campeche</td>\n",
       "      <td>0.50</td>\n",
       "      <td>0.49</td>\n",
       "    </tr>\n",
       "    <tr>\n",
       "      <th>9</th>\n",
       "      <td>Durango</td>\n",
       "      <td>0.50</td>\n",
       "      <td>0.49</td>\n",
       "    </tr>\n",
       "    <tr>\n",
       "      <th>24</th>\n",
       "      <td>Sinaloa</td>\n",
       "      <td>0.50</td>\n",
       "      <td>0.49</td>\n",
       "    </tr>\n",
       "    <tr>\n",
       "      <th>17</th>\n",
       "      <td>Nayarit</td>\n",
       "      <td>0.50</td>\n",
       "      <td>0.49</td>\n",
       "    </tr>\n",
       "    <tr>\n",
       "      <th>7</th>\n",
       "      <td>Coahuila de Zaragoza</td>\n",
       "      <td>0.50</td>\n",
       "      <td>0.49</td>\n",
       "    </tr>\n",
       "    <tr>\n",
       "      <th>5</th>\n",
       "      <td>Chihuahua</td>\n",
       "      <td>0.50</td>\n",
       "      <td>0.49</td>\n",
       "    </tr>\n",
       "    <tr>\n",
       "      <th>18</th>\n",
       "      <td>Nuevo León</td>\n",
       "      <td>0.50</td>\n",
       "      <td>0.50</td>\n",
       "    </tr>\n",
       "    <tr>\n",
       "      <th>25</th>\n",
       "      <td>Sonora</td>\n",
       "      <td>0.50</td>\n",
       "      <td>0.50</td>\n",
       "    </tr>\n",
       "    <tr>\n",
       "      <th>22</th>\n",
       "      <td>Quintana Roo</td>\n",
       "      <td>0.49</td>\n",
       "      <td>0.50</td>\n",
       "    </tr>\n",
       "    <tr>\n",
       "      <th>1</th>\n",
       "      <td>Baja California</td>\n",
       "      <td>0.49</td>\n",
       "      <td>0.50</td>\n",
       "    </tr>\n",
       "    <tr>\n",
       "      <th>2</th>\n",
       "      <td>Baja California Sur</td>\n",
       "      <td>0.49</td>\n",
       "      <td>0.50</td>\n",
       "    </tr>\n",
       "  </tbody>\n",
       "</table>\n",
       "</div>"
      ],
      "text/plain": [
       "                            NOM_ENT  %FEM_REGION  %MAS_REGION\n",
       "6                  Ciudad de México         0.52         0.48\n",
       "19                           Oaxaca         0.52         0.48\n",
       "20                           Puebla         0.52         0.48\n",
       "12                          Hidalgo         0.52         0.48\n",
       "11                         Guerrero         0.52         0.48\n",
       "29  Veracruz de Ignacio de la Llave         0.52         0.48\n",
       "15                          Morelos         0.52         0.48\n",
       "28                         Tlaxcala         0.52         0.48\n",
       "16                           México         0.51         0.49\n",
       "10                       Guanajuato         0.51         0.48\n",
       "14              Michoacán de Ocampo         0.51         0.48\n",
       "23                  San Luis Potosí         0.51         0.48\n",
       "26                          Tabasco         0.51         0.49\n",
       "21                        Querétaro         0.51         0.49\n",
       "31                        Zacatecas         0.51         0.48\n",
       "0                    Aguascalientes         0.51         0.49\n",
       "4                           Chiapas         0.51         0.48\n",
       "13                          Jalisco         0.51         0.49\n",
       "30                          Yucatán         0.51         0.49\n",
       "27                       Tamaulipas         0.51         0.49\n",
       "8                            Colima         0.50         0.49\n",
       "3                          Campeche         0.50         0.49\n",
       "9                           Durango         0.50         0.49\n",
       "24                          Sinaloa         0.50         0.49\n",
       "17                          Nayarit         0.50         0.49\n",
       "7              Coahuila de Zaragoza         0.50         0.49\n",
       "5                         Chihuahua         0.50         0.49\n",
       "18                       Nuevo León         0.50         0.50\n",
       "25                           Sonora         0.50         0.50\n",
       "22                     Quintana Roo         0.49         0.50\n",
       "1                   Baja California         0.49         0.50\n",
       "2               Baja California Sur         0.49         0.50"
      ]
     },
     "execution_count": 136,
     "metadata": {},
     "output_type": "execute_result"
    }
   ],
   "source": [
    "# % population by gender over population\n",
    "df_bystate[[\"NOM_ENT\",\"%FEM_REGION\",\"%MAS_REGION\"]].sort_values(by=\"%FEM_REGION\",ascending=False)"
   ]
  },
  {
   "cell_type": "markdown",
   "metadata": {},
   "source": [
    "## by age  & GENDER"
   ]
  },
  {
   "cell_type": "code",
   "execution_count": 145,
   "metadata": {},
   "outputs": [],
   "source": [
    "df_bystate[\"%NAC_P_0A2\"]=df_bystate[\"P_0A2\"]/TotalPopulation\n",
    "df_bystate[\"%NAC_P_3A5\"]=df_bystate[\"P_3A5\"]/TotalPopulation\n",
    "df_bystate[\"%NAC_P_6A11\"]=df_bystate[\"P_6A11\"]/TotalPopulation\n",
    "df_bystate[\"%NAC_P_12A14\"]=df_bystate[\"P_12A14\"]/TotalPopulation\n",
    "df_bystate[\"%NAC_P_15A17\"]=df_bystate[\"P_15A17\"]/TotalPopulation\n",
    "df_bystate[\"%NAC_P_18A24\"]=df_bystate[\"P_18A24\"]/TotalPopulation\n",
    "df_bystate[\"%NAC_P_25A59\"]=df_bystate[\"P_25A59\"]/TotalPopulation\n",
    "df_bystate[\"%NAC_P_60YMAS\"]=df_bystate[\"P_60YMAS\"]/TotalPopulation"
   ]
  },
  {
   "cell_type": "code",
   "execution_count": 150,
   "metadata": {},
   "outputs": [
    {
     "data": {
      "text/html": [
       "<style  type=\"text/css\" >\n",
       "</style><table id=\"T_d89e8208_e9b8_11eb_abc0_c4b301c5f59b\" ><thead>    <tr>        <th class=\"blank level0\" ></th>        <th class=\"col_heading level0 col0\" >P_0A2</th>        <th class=\"col_heading level0 col1\" >P_3A5</th>        <th class=\"col_heading level0 col2\" >P_6A11</th>        <th class=\"col_heading level0 col3\" >P_12A14</th>        <th class=\"col_heading level0 col4\" >P_15A17</th>        <th class=\"col_heading level0 col5\" >P_18A24</th>        <th class=\"col_heading level0 col6\" >P_60YMAS</th>    </tr></thead><tbody>\n",
       "                <tr>\n",
       "                        <th id=\"T_d89e8208_e9b8_11eb_abc0_c4b301c5f59blevel0_row0\" class=\"row_heading level0 row0\" >count</th>\n",
       "                        <td id=\"T_d89e8208_e9b8_11eb_abc0_c4b301c5f59brow0_col0\" class=\"data row0 col0\" >32.0</td>\n",
       "                        <td id=\"T_d89e8208_e9b8_11eb_abc0_c4b301c5f59brow0_col1\" class=\"data row0 col1\" >32.0</td>\n",
       "                        <td id=\"T_d89e8208_e9b8_11eb_abc0_c4b301c5f59brow0_col2\" class=\"data row0 col2\" >32.0</td>\n",
       "                        <td id=\"T_d89e8208_e9b8_11eb_abc0_c4b301c5f59brow0_col3\" class=\"data row0 col3\" >32.0</td>\n",
       "                        <td id=\"T_d89e8208_e9b8_11eb_abc0_c4b301c5f59brow0_col4\" class=\"data row0 col4\" >32.0</td>\n",
       "                        <td id=\"T_d89e8208_e9b8_11eb_abc0_c4b301c5f59brow0_col5\" class=\"data row0 col5\" >32.0</td>\n",
       "                        <td id=\"T_d89e8208_e9b8_11eb_abc0_c4b301c5f59brow0_col6\" class=\"data row0 col6\" >32.0</td>\n",
       "            </tr>\n",
       "            <tr>\n",
       "                        <th id=\"T_d89e8208_e9b8_11eb_abc0_c4b301c5f59blevel0_row1\" class=\"row_heading level0 row1\" >mean</th>\n",
       "                        <td id=\"T_d89e8208_e9b8_11eb_abc0_c4b301c5f59brow1_col0\" class=\"data row1 col0\" >179,586.34375</td>\n",
       "                        <td id=\"T_d89e8208_e9b8_11eb_abc0_c4b301c5f59brow1_col1\" class=\"data row1 col1\" >201,383.875</td>\n",
       "                        <td id=\"T_d89e8208_e9b8_11eb_abc0_c4b301c5f59brow1_col2\" class=\"data row1 col2\" >404,747.4375</td>\n",
       "                        <td id=\"T_d89e8208_e9b8_11eb_abc0_c4b301c5f59brow1_col3\" class=\"data row1 col3\" >203,899.09375</td>\n",
       "                        <td id=\"T_d89e8208_e9b8_11eb_abc0_c4b301c5f59brow1_col4\" class=\"data row1 col4\" >202,353.53125</td>\n",
       "                        <td id=\"T_d89e8208_e9b8_11eb_abc0_c4b301c5f59brow1_col5\" class=\"data row1 col5\" >459,122.5</td>\n",
       "                        <td id=\"T_d89e8208_e9b8_11eb_abc0_c4b301c5f59brow1_col6\" class=\"data row1 col6\" >471,384.84375</td>\n",
       "            </tr>\n",
       "            <tr>\n",
       "                        <th id=\"T_d89e8208_e9b8_11eb_abc0_c4b301c5f59blevel0_row2\" class=\"row_heading level0 row2\" >std</th>\n",
       "                        <td id=\"T_d89e8208_e9b8_11eb_abc0_c4b301c5f59brow2_col0\" class=\"data row2 col0\" >140,442.5247498201</td>\n",
       "                        <td id=\"T_d89e8208_e9b8_11eb_abc0_c4b301c5f59brow2_col1\" class=\"data row2 col1\" >159,780.01661573892</td>\n",
       "                        <td id=\"T_d89e8208_e9b8_11eb_abc0_c4b301c5f59brow2_col2\" class=\"data row2 col2\" >321,920.12556422484</td>\n",
       "                        <td id=\"T_d89e8208_e9b8_11eb_abc0_c4b301c5f59brow2_col3\" class=\"data row2 col3\" >166,105.0718460786</td>\n",
       "                        <td id=\"T_d89e8208_e9b8_11eb_abc0_c4b301c5f59brow2_col4\" class=\"data row2 col4\" >167,747.14946301392</td>\n",
       "                        <td id=\"T_d89e8208_e9b8_11eb_abc0_c4b301c5f59brow2_col5\" class=\"data row2 col5\" >381,188.2039374996</td>\n",
       "                        <td id=\"T_d89e8208_e9b8_11eb_abc0_c4b301c5f59brow2_col6\" class=\"data row2 col6\" >413,655.9070869683</td>\n",
       "            </tr>\n",
       "            <tr>\n",
       "                        <th id=\"T_d89e8208_e9b8_11eb_abc0_c4b301c5f59blevel0_row3\" class=\"row_heading level0 row3\" >min</th>\n",
       "                        <td id=\"T_d89e8208_e9b8_11eb_abc0_c4b301c5f59brow3_col0\" class=\"data row3 col0\" >29,454.0</td>\n",
       "                        <td id=\"T_d89e8208_e9b8_11eb_abc0_c4b301c5f59brow3_col1\" class=\"data row3 col1\" >34,291.0</td>\n",
       "                        <td id=\"T_d89e8208_e9b8_11eb_abc0_c4b301c5f59brow3_col2\" class=\"data row3 col2\" >72,571.0</td>\n",
       "                        <td id=\"T_d89e8208_e9b8_11eb_abc0_c4b301c5f59brow3_col3\" class=\"data row3 col3\" >35,955.0</td>\n",
       "                        <td id=\"T_d89e8208_e9b8_11eb_abc0_c4b301c5f59brow3_col4\" class=\"data row3 col4\" >36,051.0</td>\n",
       "                        <td id=\"T_d89e8208_e9b8_11eb_abc0_c4b301c5f59brow3_col5\" class=\"data row3 col5\" >83,371.0</td>\n",
       "                        <td id=\"T_d89e8208_e9b8_11eb_abc0_c4b301c5f59brow3_col6\" class=\"data row3 col6\" >73,841.0</td>\n",
       "            </tr>\n",
       "            <tr>\n",
       "                        <th id=\"T_d89e8208_e9b8_11eb_abc0_c4b301c5f59blevel0_row4\" class=\"row_heading level0 row4\" >25%</th>\n",
       "                        <td id=\"T_d89e8208_e9b8_11eb_abc0_c4b301c5f59brow4_col0\" class=\"data row4 col0\" >87,016.0</td>\n",
       "                        <td id=\"T_d89e8208_e9b8_11eb_abc0_c4b301c5f59brow4_col1\" class=\"data row4 col1\" >94,935.25</td>\n",
       "                        <td id=\"T_d89e8208_e9b8_11eb_abc0_c4b301c5f59brow4_col2\" class=\"data row4 col2\" >190,843.5</td>\n",
       "                        <td id=\"T_d89e8208_e9b8_11eb_abc0_c4b301c5f59brow4_col3\" class=\"data row4 col3\" >96,749.0</td>\n",
       "                        <td id=\"T_d89e8208_e9b8_11eb_abc0_c4b301c5f59brow4_col4\" class=\"data row4 col4\" >94,836.25</td>\n",
       "                        <td id=\"T_d89e8208_e9b8_11eb_abc0_c4b301c5f59brow4_col5\" class=\"data row4 col5\" >223,364.5</td>\n",
       "                        <td id=\"T_d89e8208_e9b8_11eb_abc0_c4b301c5f59brow4_col6\" class=\"data row4 col6\" >205,218.5</td>\n",
       "            </tr>\n",
       "            <tr>\n",
       "                        <th id=\"T_d89e8208_e9b8_11eb_abc0_c4b301c5f59blevel0_row5\" class=\"row_heading level0 row5\" >50%</th>\n",
       "                        <td id=\"T_d89e8208_e9b8_11eb_abc0_c4b301c5f59brow5_col0\" class=\"data row5 col0\" >136,244.5</td>\n",
       "                        <td id=\"T_d89e8208_e9b8_11eb_abc0_c4b301c5f59brow5_col1\" class=\"data row5 col1\" >151,858.5</td>\n",
       "                        <td id=\"T_d89e8208_e9b8_11eb_abc0_c4b301c5f59brow5_col2\" class=\"data row5 col2\" >314,439.0</td>\n",
       "                        <td id=\"T_d89e8208_e9b8_11eb_abc0_c4b301c5f59brow5_col3\" class=\"data row5 col3\" >157,296.5</td>\n",
       "                        <td id=\"T_d89e8208_e9b8_11eb_abc0_c4b301c5f59brow5_col4\" class=\"data row5 col4\" >156,349.5</td>\n",
       "                        <td id=\"T_d89e8208_e9b8_11eb_abc0_c4b301c5f59brow5_col5\" class=\"data row5 col5\" >352,882.0</td>\n",
       "                        <td id=\"T_d89e8208_e9b8_11eb_abc0_c4b301c5f59brow5_col6\" class=\"data row5 col6\" >368,068.0</td>\n",
       "            </tr>\n",
       "            <tr>\n",
       "                        <th id=\"T_d89e8208_e9b8_11eb_abc0_c4b301c5f59blevel0_row6\" class=\"row_heading level0 row6\" >75%</th>\n",
       "                        <td id=\"T_d89e8208_e9b8_11eb_abc0_c4b301c5f59brow6_col0\" class=\"data row6 col0\" >252,695.0</td>\n",
       "                        <td id=\"T_d89e8208_e9b8_11eb_abc0_c4b301c5f59brow6_col1\" class=\"data row6 col1\" >272,793.25</td>\n",
       "                        <td id=\"T_d89e8208_e9b8_11eb_abc0_c4b301c5f59brow6_col2\" class=\"data row6 col2\" >532,533.75</td>\n",
       "                        <td id=\"T_d89e8208_e9b8_11eb_abc0_c4b301c5f59brow6_col3\" class=\"data row6 col3\" >257,488.5</td>\n",
       "                        <td id=\"T_d89e8208_e9b8_11eb_abc0_c4b301c5f59brow6_col4\" class=\"data row6 col4\" >252,367.25</td>\n",
       "                        <td id=\"T_d89e8208_e9b8_11eb_abc0_c4b301c5f59brow6_col5\" class=\"data row6 col5\" >577,995.5</td>\n",
       "                        <td id=\"T_d89e8208_e9b8_11eb_abc0_c4b301c5f59brow6_col6\" class=\"data row6 col6\" >561,306.0</td>\n",
       "            </tr>\n",
       "            <tr>\n",
       "                        <th id=\"T_d89e8208_e9b8_11eb_abc0_c4b301c5f59blevel0_row7\" class=\"row_heading level0 row7\" >max</th>\n",
       "                        <td id=\"T_d89e8208_e9b8_11eb_abc0_c4b301c5f59brow7_col0\" class=\"data row7 col0\" >724,070.0</td>\n",
       "                        <td id=\"T_d89e8208_e9b8_11eb_abc0_c4b301c5f59brow7_col1\" class=\"data row7 col1\" >834,553.0</td>\n",
       "                        <td id=\"T_d89e8208_e9b8_11eb_abc0_c4b301c5f59brow7_col2\" class=\"data row7 col2\" >1,682,477.0</td>\n",
       "                        <td id=\"T_d89e8208_e9b8_11eb_abc0_c4b301c5f59brow7_col3\" class=\"data row7 col3\" >880,651.0</td>\n",
       "                        <td id=\"T_d89e8208_e9b8_11eb_abc0_c4b301c5f59brow7_col4\" class=\"data row7 col4\" >887,125.0</td>\n",
       "                        <td id=\"T_d89e8208_e9b8_11eb_abc0_c4b301c5f59brow7_col5\" class=\"data row7 col5\" >2,003,868.0</td>\n",
       "                        <td id=\"T_d89e8208_e9b8_11eb_abc0_c4b301c5f59brow7_col6\" class=\"data row7 col6\" >1,919,048.0</td>\n",
       "            </tr>\n",
       "    </tbody></table>"
      ],
      "text/plain": [
       "<pandas.io.formats.style.Styler at 0x7f9ad6622730>"
      ]
     },
     "execution_count": 150,
     "metadata": {},
     "output_type": "execute_result"
    }
   ],
   "source": [
    "df_bystate[['P_0A2','P_3A5','P_6A11','P_12A14','P_15A17','P_18A24','P_60YMAS']].describe().style.format(\n",
    "    {\"P_0A2\": \"{:,}\", \"P_3A5\": \"{:,}\",\"P_6A11\": \"{:,}\", \"P_12A14\": \"{:,}\",\"P_15A17\": \"{:,}\", \"P_18A24\": \"{:,}\", \n",
    "                          \"P_60YMAS\": \"{:,}\"})"
   ]
  },
  {
   "cell_type": "code",
   "execution_count": null,
   "metadata": {},
   "outputs": [],
   "source": [
    "# HAY QUE HACER ESTE CON BASE INEGI POR ESTADO"
   ]
  },
  {
   "cell_type": "code",
   "execution_count": 146,
   "metadata": {},
   "outputs": [
    {
     "data": {
      "text/plain": [
       "<AxesSubplot:ylabel='Density'>"
      ]
     },
     "execution_count": 146,
     "metadata": {},
     "output_type": "execute_result"
    },
    {
     "data": {
      "image/png": "[encoded data removed]",
      "text/plain": [
       "<Figure size 432x288 with 1 Axes>"
      ]
     },
     "metadata": {
      "needs_background": "light"
     },
     "output_type": "display_data"
    }
   ],
   "source": [
    "iris_III=df_bystate[['%NAC_P_0A2','%NAC_P_3A5','%NAC_P_6A11','%NAC_P_12A14','%NAC_P_15A17','%NAC_P_18A24','%NAC_P_60YMAS']]\n",
    "\n",
    "sns.kdeplot(data=iris_III)"
   ]
  },
  {
   "cell_type": "code",
   "execution_count": 147,
   "metadata": {},
   "outputs": [
    {
     "data": {
      "text/plain": [
       "<AxesSubplot:ylabel='Density'>"
      ]
     },
     "execution_count": 147,
     "metadata": {},
     "output_type": "execute_result"
    },
    {
     "data": {
      "image/png": "[encoded data removed]",
      "text/plain": [
       "<Figure size 432x288 with 1 Axes>"
      ]
     },
     "metadata": {
      "needs_background": "light"
     },
     "output_type": "display_data"
    }
   ],
   "source": [
    "iris_IV=df_bystate[['P_0A2','P_3A5','P_6A11','P_12A14','P_15A17','P_18A24','P_60YMAS']]\n",
    "sns.kdeplot(data=iris_IV)"
   ]
  },
  {
   "cell_type": "code",
   "execution_count": 148,
   "metadata": {},
   "outputs": [
    {
     "data": {
      "text/plain": [
       "<AxesSubplot:ylabel='Density'>"
      ]
     },
     "execution_count": 148,
     "metadata": {},
     "output_type": "execute_result"
    },
    {
     "data": {
      "image/png": "[encoded data removed]",
      "text/plain": [
       "<Figure size 432x288 with 1 Axes>"
      ]
     },
     "metadata": {
      "needs_background": "light"
     },
     "output_type": "display_data"
    }
   ],
   "source": [
    "iris_V=df_bystate[['%NAC_P_0A2','%NAC_P_3A5','%NAC_P_6A11','%NAC_P_12A14']]\n",
    "\n",
    "sns.kdeplot(data=iris_V)"
   ]
  },
  {
   "cell_type": "code",
   "execution_count": 304,
   "metadata": {},
   "outputs": [
    {
     "data": {
      "text/html": [
       "<div>\n",
       "<style scoped>\n",
       "    .dataframe tbody tr th:only-of-type {\n",
       "        vertical-align: middle;\n",
       "    }\n",
       "\n",
       "    .dataframe tbody tr th {\n",
       "        vertical-align: top;\n",
       "    }\n",
       "\n",
       "    .dataframe thead th {\n",
       "        text-align: right;\n",
       "    }\n",
       "</style>\n",
       "<table border=\"1\" class=\"dataframe\">\n",
       "  <thead>\n",
       "    <tr style=\"text-align: right;\">\n",
       "      <th></th>\n",
       "      <th>0</th>\n",
       "      <th>1</th>\n",
       "      <th>2</th>\n",
       "      <th>3</th>\n",
       "      <th>4</th>\n",
       "      <th>5</th>\n",
       "      <th>6</th>\n",
       "      <th>7</th>\n",
       "      <th>8</th>\n",
       "      <th>9</th>\n",
       "      <th>...</th>\n",
       "      <th>22</th>\n",
       "      <th>23</th>\n",
       "      <th>24</th>\n",
       "      <th>25</th>\n",
       "      <th>26</th>\n",
       "      <th>27</th>\n",
       "      <th>28</th>\n",
       "      <th>29</th>\n",
       "      <th>30</th>\n",
       "      <th>31</th>\n",
       "    </tr>\n",
       "  </thead>\n",
       "  <tbody>\n",
       "    <tr>\n",
       "      <th>NOM_ENT</th>\n",
       "      <td>Aguascalientes</td>\n",
       "      <td>Baja California</td>\n",
       "      <td>Baja California Sur</td>\n",
       "      <td>Campeche</td>\n",
       "      <td>Chiapas</td>\n",
       "      <td>Chihuahua</td>\n",
       "      <td>Ciudad de México</td>\n",
       "      <td>Coahuila de Zaragoza</td>\n",
       "      <td>Colima</td>\n",
       "      <td>Durango</td>\n",
       "      <td>...</td>\n",
       "      <td>Quintana Roo</td>\n",
       "      <td>San Luis Potosí</td>\n",
       "      <td>Sinaloa</td>\n",
       "      <td>Sonora</td>\n",
       "      <td>Tabasco</td>\n",
       "      <td>Tamaulipas</td>\n",
       "      <td>Tlaxcala</td>\n",
       "      <td>Veracruz de Ignacio de la Llave</td>\n",
       "      <td>Yucatán</td>\n",
       "      <td>Zacatecas</td>\n",
       "    </tr>\n",
       "    <tr>\n",
       "      <th>POBTOT</th>\n",
       "      <td>1425607</td>\n",
       "      <td>3769020</td>\n",
       "      <td>798447</td>\n",
       "      <td>928363</td>\n",
       "      <td>5543828</td>\n",
       "      <td>3741869</td>\n",
       "      <td>9209944</td>\n",
       "      <td>3146771</td>\n",
       "      <td>731391</td>\n",
       "      <td>1832650</td>\n",
       "      <td>...</td>\n",
       "      <td>1857985</td>\n",
       "      <td>2822255</td>\n",
       "      <td>3026943</td>\n",
       "      <td>2944840</td>\n",
       "      <td>2402598</td>\n",
       "      <td>3527735</td>\n",
       "      <td>1342977</td>\n",
       "      <td>8062579</td>\n",
       "      <td>2320898</td>\n",
       "      <td>1622138</td>\n",
       "    </tr>\n",
       "    <tr>\n",
       "      <th>P_0A2</th>\n",
       "      <td>71580</td>\n",
       "      <td>149408</td>\n",
       "      <td>35706</td>\n",
       "      <td>45116</td>\n",
       "      <td>331499</td>\n",
       "      <td>162384</td>\n",
       "      <td>267126</td>\n",
       "      <td>159979</td>\n",
       "      <td>29454</td>\n",
       "      <td>95029</td>\n",
       "      <td>...</td>\n",
       "      <td>84202</td>\n",
       "      <td>132259</td>\n",
       "      <td>137835</td>\n",
       "      <td>123617</td>\n",
       "      <td>118233</td>\n",
       "      <td>154476</td>\n",
       "      <td>63852</td>\n",
       "      <td>341268</td>\n",
       "      <td>100946</td>\n",
       "      <td>87954</td>\n",
       "    </tr>\n",
       "    <tr>\n",
       "      <th>P_3A5</th>\n",
       "      <td>78551</td>\n",
       "      <td>174712</td>\n",
       "      <td>39622</td>\n",
       "      <td>49720</td>\n",
       "      <td>360654</td>\n",
       "      <td>190018</td>\n",
       "      <td>324908</td>\n",
       "      <td>177277</td>\n",
       "      <td>34291</td>\n",
       "      <td>107087</td>\n",
       "      <td>...</td>\n",
       "      <td>94961</td>\n",
       "      <td>147338</td>\n",
       "      <td>144501</td>\n",
       "      <td>142451</td>\n",
       "      <td>133167</td>\n",
       "      <td>175300</td>\n",
       "      <td>70390</td>\n",
       "      <td>391215</td>\n",
       "      <td>112939</td>\n",
       "      <td>94858</td>\n",
       "    </tr>\n",
       "    <tr>\n",
       "      <th>P_6A11</th>\n",
       "      <td>156102</td>\n",
       "      <td>364772</td>\n",
       "      <td>80998</td>\n",
       "      <td>97375</td>\n",
       "      <td>725191</td>\n",
       "      <td>382937</td>\n",
       "      <td>692654</td>\n",
       "      <td>326429</td>\n",
       "      <td>72571</td>\n",
       "      <td>208107</td>\n",
       "      <td>...</td>\n",
       "      <td>186633</td>\n",
       "      <td>292631</td>\n",
       "      <td>302449</td>\n",
       "      <td>298569</td>\n",
       "      <td>269021</td>\n",
       "      <td>358148</td>\n",
       "      <td>141224</td>\n",
       "      <td>811111</td>\n",
       "      <td>223159</td>\n",
       "      <td>184480</td>\n",
       "    </tr>\n",
       "    <tr>\n",
       "      <th>P_12A14</th>\n",
       "      <td>77524</td>\n",
       "      <td>186552</td>\n",
       "      <td>39502</td>\n",
       "      <td>47033</td>\n",
       "      <td>339541</td>\n",
       "      <td>199230</td>\n",
       "      <td>367917</td>\n",
       "      <td>158747</td>\n",
       "      <td>35955</td>\n",
       "      <td>99792</td>\n",
       "      <td>...</td>\n",
       "      <td>90677</td>\n",
       "      <td>152097</td>\n",
       "      <td>155333</td>\n",
       "      <td>155846</td>\n",
       "      <td>132718</td>\n",
       "      <td>181230</td>\n",
       "      <td>71912</td>\n",
       "      <td>409886</td>\n",
       "      <td>113238</td>\n",
       "      <td>89309</td>\n",
       "    </tr>\n",
       "    <tr>\n",
       "      <th>P_15A17</th>\n",
       "      <td>77810</td>\n",
       "      <td>183014</td>\n",
       "      <td>39347</td>\n",
       "      <td>45435</td>\n",
       "      <td>320933</td>\n",
       "      <td>193738</td>\n",
       "      <td>380774</td>\n",
       "      <td>158188</td>\n",
       "      <td>36051</td>\n",
       "      <td>97734</td>\n",
       "      <td>...</td>\n",
       "      <td>86143</td>\n",
       "      <td>153028</td>\n",
       "      <td>154511</td>\n",
       "      <td>151627</td>\n",
       "      <td>127791</td>\n",
       "      <td>174878</td>\n",
       "      <td>73101</td>\n",
       "      <td>416429</td>\n",
       "      <td>115473</td>\n",
       "      <td>85480</td>\n",
       "    </tr>\n",
       "    <tr>\n",
       "      <th>P_18A24</th>\n",
       "      <td>179970</td>\n",
       "      <td>470531</td>\n",
       "      <td>91944</td>\n",
       "      <td>105193</td>\n",
       "      <td>662378</td>\n",
       "      <td>441740</td>\n",
       "      <td>984116</td>\n",
       "      <td>373769</td>\n",
       "      <td>83371</td>\n",
       "      <td>216568</td>\n",
       "      <td>...</td>\n",
       "      <td>225630</td>\n",
       "      <td>331406</td>\n",
       "      <td>358220</td>\n",
       "      <td>347544</td>\n",
       "      <td>269146</td>\n",
       "      <td>402441</td>\n",
       "      <td>161681</td>\n",
       "      <td>860458</td>\n",
       "      <td>279697</td>\n",
       "      <td>184633</td>\n",
       "    </tr>\n",
       "    <tr>\n",
       "      <th>P_25A59</th>\n",
       "      <td>639423</td>\n",
       "      <td>1863293</td>\n",
       "      <td>397487</td>\n",
       "      <td>436967</td>\n",
       "      <td>2301695</td>\n",
       "      <td>1756435</td>\n",
       "      <td>4700915</td>\n",
       "      <td>1445733</td>\n",
       "      <td>348687</td>\n",
       "      <td>800795</td>\n",
       "      <td>...</td>\n",
       "      <td>959493</td>\n",
       "      <td>1254098</td>\n",
       "      <td>1382855</td>\n",
       "      <td>1370378</td>\n",
       "      <td>1095274</td>\n",
       "      <td>1658114</td>\n",
       "      <td>615333</td>\n",
       "      <td>3679881</td>\n",
       "      <td>1087452</td>\n",
       "      <td>697164</td>\n",
       "    </tr>\n",
       "    <tr>\n",
       "      <th>P_60YMAS</th>\n",
       "      <td>144647</td>\n",
       "      <td>376738</td>\n",
       "      <td>73841</td>\n",
       "      <td>101524</td>\n",
       "      <td>501937</td>\n",
       "      <td>415387</td>\n",
       "      <td>1491534</td>\n",
       "      <td>346649</td>\n",
       "      <td>91011</td>\n",
       "      <td>207538</td>\n",
       "      <td>...</td>\n",
       "      <td>130246</td>\n",
       "      <td>359398</td>\n",
       "      <td>391239</td>\n",
       "      <td>354808</td>\n",
       "      <td>257248</td>\n",
       "      <td>423148</td>\n",
       "      <td>145484</td>\n",
       "      <td>1152331</td>\n",
       "      <td>287994</td>\n",
       "      <td>198260</td>\n",
       "    </tr>\n",
       "  </tbody>\n",
       "</table>\n",
       "<p>10 rows × 32 columns</p>\n",
       "</div>"
      ],
      "text/plain": [
       "                      0                1                    2         3   \\\n",
       "NOM_ENT   Aguascalientes  Baja California  Baja California Sur  Campeche   \n",
       "POBTOT           1425607          3769020               798447    928363   \n",
       "P_0A2              71580           149408                35706     45116   \n",
       "P_3A5              78551           174712                39622     49720   \n",
       "P_6A11            156102           364772                80998     97375   \n",
       "P_12A14            77524           186552                39502     47033   \n",
       "P_15A17            77810           183014                39347     45435   \n",
       "P_18A24           179970           470531                91944    105193   \n",
       "P_25A59           639423          1863293               397487    436967   \n",
       "P_60YMAS          144647           376738                73841    101524   \n",
       "\n",
       "               4          5                 6                     7       8   \\\n",
       "NOM_ENT   Chiapas  Chihuahua  Ciudad de México  Coahuila de Zaragoza  Colima   \n",
       "POBTOT    5543828    3741869           9209944               3146771  731391   \n",
       "P_0A2      331499     162384            267126                159979   29454   \n",
       "P_3A5      360654     190018            324908                177277   34291   \n",
       "P_6A11     725191     382937            692654                326429   72571   \n",
       "P_12A14    339541     199230            367917                158747   35955   \n",
       "P_15A17    320933     193738            380774                158188   36051   \n",
       "P_18A24    662378     441740            984116                373769   83371   \n",
       "P_25A59   2301695    1756435           4700915               1445733  348687   \n",
       "P_60YMAS   501937     415387           1491534                346649   91011   \n",
       "\n",
       "               9   ...            22               23       24       25  \\\n",
       "NOM_ENT   Durango  ...  Quintana Roo  San Luis Potosí  Sinaloa   Sonora   \n",
       "POBTOT    1832650  ...       1857985          2822255  3026943  2944840   \n",
       "P_0A2       95029  ...         84202           132259   137835   123617   \n",
       "P_3A5      107087  ...         94961           147338   144501   142451   \n",
       "P_6A11     208107  ...        186633           292631   302449   298569   \n",
       "P_12A14     99792  ...         90677           152097   155333   155846   \n",
       "P_15A17     97734  ...         86143           153028   154511   151627   \n",
       "P_18A24    216568  ...        225630           331406   358220   347544   \n",
       "P_25A59    800795  ...        959493          1254098  1382855  1370378   \n",
       "P_60YMAS   207538  ...        130246           359398   391239   354808   \n",
       "\n",
       "               26          27        28                               29  \\\n",
       "NOM_ENT   Tabasco  Tamaulipas  Tlaxcala  Veracruz de Ignacio de la Llave   \n",
       "POBTOT    2402598     3527735   1342977                          8062579   \n",
       "P_0A2      118233      154476     63852                           341268   \n",
       "P_3A5      133167      175300     70390                           391215   \n",
       "P_6A11     269021      358148    141224                           811111   \n",
       "P_12A14    132718      181230     71912                           409886   \n",
       "P_15A17    127791      174878     73101                           416429   \n",
       "P_18A24    269146      402441    161681                           860458   \n",
       "P_25A59   1095274     1658114    615333                          3679881   \n",
       "P_60YMAS   257248      423148    145484                          1152331   \n",
       "\n",
       "               30         31  \n",
       "NOM_ENT   Yucatán  Zacatecas  \n",
       "POBTOT    2320898    1622138  \n",
       "P_0A2      100946      87954  \n",
       "P_3A5      112939      94858  \n",
       "P_6A11     223159     184480  \n",
       "P_12A14    113238      89309  \n",
       "P_15A17    115473      85480  \n",
       "P_18A24    279697     184633  \n",
       "P_25A59   1087452     697164  \n",
       "P_60YMAS   287994     198260  \n",
       "\n",
       "[10 rows x 32 columns]"
      ]
     },
     "execution_count": 304,
     "metadata": {},
     "output_type": "execute_result"
    }
   ],
   "source": [
    "df_bystate[[\"NOM_ENT\",\"POBTOT\",'P_0A2','P_3A5','P_6A11','P_12A14','P_15A17','P_18A24',\"P_25A59\",'P_60YMAS']].transpose()"
   ]
  },
  {
   "cell_type": "code",
   "execution_count": 151,
   "metadata": {},
   "outputs": [],
   "source": [
    "#df_bystate[[\"NOM_ENT\",'%NAC_P_0A2','%NAC_P_3A5','%NAC_P_6A11','%NAC_P_12A14','%NAC_P_15A17','%NAC_P_18A24',\"%NAC_P_25A59\",'%NAC_P_60YMAS']].transpose()\n",
    "#pd.options.display.float_format = \"{:,.5f}\".format\n",
    "#df_bystate[[\"NOM_ENT\",'%NAC_P_0A2','%NAC_P_3A5','%NAC_P_6A11','%NAC_P_12A14','%NAC_P_15A17','%NAC_P_18A24',\"%NAC_P_25A59\",'%NAC_P_60YMAS']]\n"
   ]
  },
  {
   "cell_type": "code",
   "execution_count": 152,
   "metadata": {},
   "outputs": [],
   "source": [
    "df_bystate[\"%REG_P_0A2\"]=df_bystate[\"P_0A2\"]/df_bystate[\"POBTOT\"]\n",
    "df_bystate[\"%REG_P_3A5\"]=df_bystate[\"P_3A5\"]/df_bystate[\"POBTOT\"]\n",
    "df_bystate[\"%REG_P_6A11\"]=df_bystate[\"P_6A11\"]/df_bystate[\"POBTOT\"]\n",
    "df_bystate[\"%REG_P_12A14\"]=df_bystate[\"P_12A14\"]/df_bystate[\"POBTOT\"]\n",
    "df_bystate[\"%REG_P_15A17\"]=df_bystate[\"P_15A17\"]/df_bystate[\"POBTOT\"]\n",
    "df_bystate[\"%REG_P_18A24\"]=df_bystate[\"P_18A24\"]/df_bystate[\"POBTOT\"]\n",
    "df_bystate[\"%REG_P_25A59\"]=df_bystate[\"P_25A59\"]/df_bystate[\"POBTOT\"]\n",
    "df_bystate[\"%REG_P_60YMAS\"]=df_bystate[\"P_60YMAS\"]/df_bystate[\"POBTOT\"]"
   ]
  },
  {
   "cell_type": "code",
   "execution_count": 153,
   "metadata": {},
   "outputs": [],
   "source": [
    "#df_bystate[[\"NOM_ENT\",'%REG_P_0A2','%REG_P_3A5','%REG_P_6A11','%REG_P_12A14','%REG_P_15A17','%REG_P_18A24',\"%REG_P_25A59\",'%REG_P_60YMAS']]"
   ]
  },
  {
   "cell_type": "code",
   "execution_count": 126,
   "metadata": {},
   "outputs": [],
   "source": [
    "df_bystate[\"P_25A59_F\"]=df_bystate[\"POBFEM\"]-df_bystate[\"P_0A2_F\"]-df_bystate[\"P_3A5_F\"]-df_bystate[\"P_6A11_F\"]-df_bystate[\"P_12A14_F\"]-df_bystate[\"P_15A17_F\"]-df_bystate[\"P_18A24_F\"]-df_bystate[\"P_60YMAS_F\"]\n",
    "df_bystate[\"P_25A59_M\"]=df_bystate[\"POBMAS\"]-df_bystate[\"P_0A2_M\"]-df_bystate[\"P_3A5_M\"]-df_bystate[\"P_6A11_M\"]-df_bystate[\"P_12A14_M\"]-df_bystate[\"P_15A17_M\"]-df_bystate[\"P_18A24_M\"]-df_bystate[\"P_60YMAS_M\"]\n",
    "#df_bystate[[\"NOM_ENT\",\"P_25A59_F\",\"P_25A59_M\"]]"
   ]
  },
  {
   "cell_type": "markdown",
   "metadata": {},
   "source": [
    "## RESIDENTES"
   ]
  },
  {
   "cell_type": "code",
   "execution_count": 130,
   "metadata": {},
   "outputs": [],
   "source": [
    "# residents\n",
    "#df_bystate[[\"NOM_ENT\",\"PNACENT\",\"PNACENT_F\",\"PNACENT_M\"]]"
   ]
  },
  {
   "cell_type": "code",
   "execution_count": null,
   "metadata": {},
   "outputs": [],
   "source": []
  },
  {
   "cell_type": "code",
   "execution_count": 138,
   "metadata": {},
   "outputs": [],
   "source": [
    "df_bystate[\"%_PNACENT\"]=df_bystate[\"PNACENT\"]/df_bystate[\"POBTOT\"]\n",
    "df_bystate[\"%_PNACENT_F\"]=df_bystate[\"PNACENT_F\"]/df_bystate[\"POBFEM\"]\n",
    "df_bystate[\"%_PNACENT_M\"]=df_bystate[\"PNACENT_M\"]/df_bystate[\"POBMAS\"]\n",
    "#df_bystate[[\"NOM_ENT\",\"%_PNACENT\",\"%_PNACENT_F\",\"%_PNACENT_M\"]]"
   ]
  },
  {
   "cell_type": "code",
   "execution_count": null,
   "metadata": {},
   "outputs": [],
   "source": []
  },
  {
   "cell_type": "markdown",
   "metadata": {},
   "source": [
    "# 4.3 by municipality"
   ]
  },
  {
   "cell_type": "code",
   "execution_count": 142,
   "metadata": {},
   "outputs": [
    {
     "data": {
      "text/html": [
       "<div>\n",
       "<style scoped>\n",
       "    .dataframe tbody tr th:only-of-type {\n",
       "        vertical-align: middle;\n",
       "    }\n",
       "\n",
       "    .dataframe tbody tr th {\n",
       "        vertical-align: top;\n",
       "    }\n",
       "\n",
       "    .dataframe thead th {\n",
       "        text-align: right;\n",
       "    }\n",
       "</style>\n",
       "<table border=\"1\" class=\"dataframe\">\n",
       "  <thead>\n",
       "    <tr style=\"text-align: right;\">\n",
       "      <th></th>\n",
       "      <th>NOM_ENT_MUN</th>\n",
       "      <th>ENTIDAD</th>\n",
       "      <th>MUN</th>\n",
       "      <th>LOC</th>\n",
       "      <th>POBTOT</th>\n",
       "      <th>POBFEM</th>\n",
       "      <th>POBMAS</th>\n",
       "      <th>P_0A2</th>\n",
       "      <th>P_0A2_F</th>\n",
       "      <th>P_0A2_M</th>\n",
       "      <th>...</th>\n",
       "      <th>VPH_CEL</th>\n",
       "      <th>VPH_INTER</th>\n",
       "      <th>VPH_STVP</th>\n",
       "      <th>VPH_SPMVPI</th>\n",
       "      <th>VPH_CVJ</th>\n",
       "      <th>VPH_SINRTV</th>\n",
       "      <th>VPH_SINLTC</th>\n",
       "      <th>VPH_SINCINT</th>\n",
       "      <th>VPH_SINTIC</th>\n",
       "      <th>TAMLOC</th>\n",
       "    </tr>\n",
       "  </thead>\n",
       "  <tbody>\n",
       "    <tr>\n",
       "      <th>0</th>\n",
       "      <td>Aguascalientes , Aguascalientes</td>\n",
       "      <td>565</td>\n",
       "      <td>565</td>\n",
       "      <td>825183</td>\n",
       "      <td>948990</td>\n",
       "      <td>486138</td>\n",
       "      <td>460305</td>\n",
       "      <td>44297</td>\n",
       "      <td>21854</td>\n",
       "      <td>22443</td>\n",
       "      <td>...</td>\n",
       "      <td>251390</td>\n",
       "      <td>178518</td>\n",
       "      <td>130206</td>\n",
       "      <td>80923</td>\n",
       "      <td>56106</td>\n",
       "      <td>3287</td>\n",
       "      <td>7275</td>\n",
       "      <td>74004</td>\n",
       "      <td>725</td>\n",
       "      <td>704</td>\n",
       "    </tr>\n",
       "    <tr>\n",
       "      <th>1</th>\n",
       "      <td>Aguascalientes , Asientos</td>\n",
       "      <td>172</td>\n",
       "      <td>344</td>\n",
       "      <td>28197</td>\n",
       "      <td>51536</td>\n",
       "      <td>26097</td>\n",
       "      <td>25079</td>\n",
       "      <td>3154</td>\n",
       "      <td>1630</td>\n",
       "      <td>1524</td>\n",
       "      <td>...</td>\n",
       "      <td>10592</td>\n",
       "      <td>4494</td>\n",
       "      <td>3848</td>\n",
       "      <td>590</td>\n",
       "      <td>551</td>\n",
       "      <td>371</td>\n",
       "      <td>1439</td>\n",
       "      <td>7152</td>\n",
       "      <td>176</td>\n",
       "      <td>268</td>\n",
       "    </tr>\n",
       "    <tr>\n",
       "      <th>2</th>\n",
       "      <td>Aguascalientes , Calvillo</td>\n",
       "      <td>166</td>\n",
       "      <td>498</td>\n",
       "      <td>33805</td>\n",
       "      <td>58250</td>\n",
       "      <td>29584</td>\n",
       "      <td>28430</td>\n",
       "      <td>3146</td>\n",
       "      <td>1576</td>\n",
       "      <td>1570</td>\n",
       "      <td>...</td>\n",
       "      <td>13602</td>\n",
       "      <td>6537</td>\n",
       "      <td>4736</td>\n",
       "      <td>1380</td>\n",
       "      <td>1350</td>\n",
       "      <td>436</td>\n",
       "      <td>895</td>\n",
       "      <td>8006</td>\n",
       "      <td>134</td>\n",
       "      <td>236</td>\n",
       "    </tr>\n",
       "    <tr>\n",
       "      <th>3</th>\n",
       "      <td>Aguascalientes , Cosío</td>\n",
       "      <td>64</td>\n",
       "      <td>256</td>\n",
       "      <td>5033</td>\n",
       "      <td>17000</td>\n",
       "      <td>8626</td>\n",
       "      <td>8187</td>\n",
       "      <td>1023</td>\n",
       "      <td>535</td>\n",
       "      <td>488</td>\n",
       "      <td>...</td>\n",
       "      <td>3380</td>\n",
       "      <td>1725</td>\n",
       "      <td>1650</td>\n",
       "      <td>221</td>\n",
       "      <td>190</td>\n",
       "      <td>136</td>\n",
       "      <td>408</td>\n",
       "      <td>1883</td>\n",
       "      <td>49</td>\n",
       "      <td>91</td>\n",
       "    </tr>\n",
       "    <tr>\n",
       "      <th>4</th>\n",
       "      <td>Aguascalientes , El Llano</td>\n",
       "      <td>167</td>\n",
       "      <td>1670</td>\n",
       "      <td>22211</td>\n",
       "      <td>20853</td>\n",
       "      <td>10227</td>\n",
       "      <td>9773</td>\n",
       "      <td>1245</td>\n",
       "      <td>615</td>\n",
       "      <td>630</td>\n",
       "      <td>...</td>\n",
       "      <td>4378</td>\n",
       "      <td>1306</td>\n",
       "      <td>981</td>\n",
       "      <td>242</td>\n",
       "      <td>209</td>\n",
       "      <td>154</td>\n",
       "      <td>629</td>\n",
       "      <td>3450</td>\n",
       "      <td>84</td>\n",
       "      <td>202</td>\n",
       "    </tr>\n",
       "  </tbody>\n",
       "</table>\n",
       "<p>5 rows × 164 columns</p>\n",
       "</div>"
      ],
      "text/plain": [
       "                       NOM_ENT_MUN  ENTIDAD   MUN     LOC  POBTOT  POBFEM  \\\n",
       "0  Aguascalientes , Aguascalientes      565   565  825183  948990  486138   \n",
       "1        Aguascalientes , Asientos      172   344   28197   51536   26097   \n",
       "2        Aguascalientes , Calvillo      166   498   33805   58250   29584   \n",
       "3           Aguascalientes , Cosío       64   256    5033   17000    8626   \n",
       "4        Aguascalientes , El Llano      167  1670   22211   20853   10227   \n",
       "\n",
       "   POBMAS  P_0A2  P_0A2_F  P_0A2_M  ...  VPH_CEL  VPH_INTER  VPH_STVP  \\\n",
       "0  460305  44297    21854    22443  ...   251390     178518    130206   \n",
       "1   25079   3154     1630     1524  ...    10592       4494      3848   \n",
       "2   28430   3146     1576     1570  ...    13602       6537      4736   \n",
       "3    8187   1023      535      488  ...     3380       1725      1650   \n",
       "4    9773   1245      615      630  ...     4378       1306       981   \n",
       "\n",
       "   VPH_SPMVPI  VPH_CVJ  VPH_SINRTV  VPH_SINLTC  VPH_SINCINT  VPH_SINTIC  \\\n",
       "0       80923    56106        3287        7275        74004         725   \n",
       "1         590      551         371        1439         7152         176   \n",
       "2        1380     1350         436         895         8006         134   \n",
       "3         221      190         136         408         1883          49   \n",
       "4         242      209         154         629         3450          84   \n",
       "\n",
       "   TAMLOC  \n",
       "0     704  \n",
       "1     268  \n",
       "2     236  \n",
       "3      91  \n",
       "4     202  \n",
       "\n",
       "[5 rows x 164 columns]"
      ]
     },
     "execution_count": 142,
     "metadata": {},
     "output_type": "execute_result"
    }
   ],
   "source": [
    "df_bymun= df_semifinal.groupby('NOM_ENT_MUN',as_index=False).sum()\n",
    "df_bymun.head()"
   ]
  },
  {
   "cell_type": "code",
   "execution_count": 177,
   "metadata": {},
   "outputs": [],
   "source": [
    "des=df_bymun.describe()\n",
    "des.to_csv(\"des.csv\")"
   ]
  },
  {
   "cell_type": "code",
   "execution_count": 150,
   "metadata": {},
   "outputs": [],
   "source": [
    "#df_bymun.to_csv('municipios.csv')"
   ]
  },
  {
   "cell_type": "code",
   "execution_count": 151,
   "metadata": {},
   "outputs": [],
   "source": [
    "# ### 4.1.1 by gender\n",
    "df_bymun[\"% TotalPop\"]=df_bymun[\"POBTOT\"]/TotalPopulation\n",
    "df_bymun[\"%total fem\"]=df_bymun[\"POBFEM\"]/TotalPopulation\n",
    "df_bymun[\"%total mas\"]=df_bymun[\"POBMAS\"]/TotalPopulation"
   ]
  },
  {
   "cell_type": "code",
   "execution_count": 152,
   "metadata": {},
   "outputs": [],
   "source": [
    "df_bymun_summary=df_bymun[[\"NOM_ENT_MUN\",'POBTOT',\"POBFEM\",\"POBMAS\"]]\n",
    "df_bymun_per=df_bymun[[\"NOM_ENT_MUN\",\"% TotalPop\",'%total fem',\"%total mas\"]]\n",
    "#df_bymun_summary.to_csv(\"df_bymun_summary.csv\")\n",
    "#df_bymun_per.to_csv(\"df_bymun_per.csv\")"
   ]
  },
  {
   "cell_type": "code",
   "execution_count": 153,
   "metadata": {},
   "outputs": [],
   "source": [
    "df_bymun[\"%FEM_REGION\"]=df_bymun[\"POBFEM\"]/df_bymun[\"POBTOT\"]\n",
    "df_bymun[\"%MAS_REGION\"]=df_bymun[\"POBMAS\"]/df_bymun[\"POBTOT\"]"
   ]
  },
  {
   "cell_type": "code",
   "execution_count": 155,
   "metadata": {},
   "outputs": [],
   "source": [
    "df_bymun_reg=df_bymun[[\"NOM_ENT_MUN\",\"%FEM_REGION\",\"%MAS_REGION\"]]\n",
    "#df_bymun_reg.to_csv(\"df_bymun_reg.csv\")"
   ]
  },
  {
   "cell_type": "code",
   "execution_count": 157,
   "metadata": {},
   "outputs": [],
   "source": [
    "# backsolve population from ages 25 a 59\n",
    "df_bymun[\"P_25A59\"]=df_bymun[\"POBTOT\"]-df_bymun[\"P_0A2\"]-df_bymun[\"P_3A5\"]-df_bymun[\"P_6A11\"]-df_bymun[\"P_12A14\"]-df_bymun[\"P_15A17\"]-df_bymun[\"P_18A24\"]-df_bymun[\"P_60YMAS\"]\n"
   ]
  },
  {
   "cell_type": "code",
   "execution_count": 158,
   "metadata": {},
   "outputs": [],
   "source": [
    "df_bymun_age=df_bymun[[\"NOM_ENT_MUN\",\"POBTOT\",'P_0A2','P_3A5','P_6A11','P_12A14','P_15A17','P_18A24',\"P_25A59\",'P_60YMAS']]\n",
    "df_bymun_age.to_csv(\"df_bymun_age.csv\")"
   ]
  },
  {
   "cell_type": "code",
   "execution_count": 159,
   "metadata": {},
   "outputs": [],
   "source": [
    "df_bymun[\"%NAC_P_0A2\"]=df_bymun[\"P_0A2\"]/TotalPopulation\n",
    "df_bymun[\"%NAC_P_3A5\"]=df_bymun[\"P_3A5\"]/TotalPopulation\n",
    "df_bymun[\"%NAC_P_6A11\"]=df_bymun[\"P_6A11\"]/TotalPopulation\n",
    "df_bymun[\"%NAC_P_12A14\"]=df_bymun[\"P_12A14\"]/TotalPopulation\n",
    "df_bymun[\"%NAC_P_15A17\"]=df_bymun[\"P_15A17\"]/TotalPopulation\n",
    "df_bymun[\"%NAC_P_18A24\"]=df_bymun[\"P_18A24\"]/TotalPopulation\n",
    "df_bymun[\"%NAC_P_25A59\"]=df_bymun[\"P_25A59\"]/TotalPopulation\n",
    "df_bymun[\"%NAC_P_60YMAS\"]=df_bymun[\"P_60YMAS\"]/TotalPopulation"
   ]
  },
  {
   "cell_type": "code",
   "execution_count": 161,
   "metadata": {},
   "outputs": [],
   "source": [
    "df_bymun_byageper=df_bymun[[\"NOM_ENT_MUN\",'%NAC_P_0A2','%NAC_P_3A5','%NAC_P_6A11','%NAC_P_12A14','%NAC_P_15A17','%NAC_P_18A24',\"%NAC_P_25A59\",'%NAC_P_60YMAS']]\n",
    "#df_bymun_byageper.to_csv(\"df_bymun_byageper.csv\")"
   ]
  },
  {
   "cell_type": "code",
   "execution_count": 162,
   "metadata": {},
   "outputs": [],
   "source": [
    "df_bymun[\"%REG_P_0A2\"]=df_bymun[\"P_0A2\"]/df_bymun[\"POBTOT\"]\n",
    "df_bymun[\"%REG_P_3A5\"]=df_bymun[\"P_3A5\"]/df_bymun[\"POBTOT\"]\n",
    "df_bymun[\"%REG_P_6A11\"]=df_bymun[\"P_6A11\"]/df_bymun[\"POBTOT\"]\n",
    "df_bymun[\"%REG_P_12A14\"]=df_bymun[\"P_12A14\"]/df_bymun[\"POBTOT\"]\n",
    "df_bymun[\"%REG_P_15A17\"]=df_bymun[\"P_15A17\"]/df_bymun[\"POBTOT\"]\n",
    "df_bymun[\"%REG_P_18A24\"]=df_bymun[\"P_18A24\"]/df_bymun[\"POBTOT\"]\n",
    "df_bymun[\"%REG_P_25A59\"]=df_bymun[\"P_25A59\"]/df_bymun[\"POBTOT\"]\n",
    "df_bymun[\"%REG_P_60YMAS\"]=df_bymun[\"P_60YMAS\"]/df_bymun[\"POBTOT\"]"
   ]
  },
  {
   "cell_type": "code",
   "execution_count": 163,
   "metadata": {},
   "outputs": [],
   "source": [
    "df_bymun_byagereg=df_bymun[[\"NOM_ENT_MUN\",'%REG_P_0A2','%REG_P_3A5','%REG_P_6A11','%REG_P_12A14','%REG_P_15A17','%REG_P_18A24',\"%REG_P_25A59\",'%REG_P_60YMAS']]\n",
    "df_bymun_byagereg.to_csv(\"df_bymun_byagereg.csv\")"
   ]
  },
  {
   "cell_type": "code",
   "execution_count": 165,
   "metadata": {},
   "outputs": [],
   "source": [
    "df_bymun[\"P_25A59_F\"]=df_bymun[\"POBFEM\"]-df_bymun[\"P_0A2_F\"]-df_bymun[\"P_3A5_F\"]-df_bymun[\"P_6A11_F\"]-df_bymun[\"P_12A14_F\"]-df_bymun[\"P_15A17_F\"]-df_bymun[\"P_18A24_F\"]-df_bymun[\"P_60YMAS_F\"]\n",
    "df_bymun[\"P_25A59_M\"]=df_bymun[\"POBMAS\"]-df_bymun[\"P_0A2_M\"]-df_bymun[\"P_3A5_M\"]-df_bymun[\"P_6A11_M\"]-df_bymun[\"P_12A14_M\"]-df_bymun[\"P_15A17_M\"]-df_bymun[\"P_18A24_M\"]-df_bymun[\"P_60YMAS_M\"]\n",
    "#df_bymun[[\"NOM_ENT_MUN\",\"P_25A59_F\",\"P_25A59_M\"]]"
   ]
  },
  {
   "cell_type": "code",
   "execution_count": 170,
   "metadata": {},
   "outputs": [],
   "source": [
    "#Femenina\n",
    "df_bymun_age_fem=df_bymun[['NOM_ENT_MUN','P_0A2_F','P_3A5_F','P_6A11_F','P_12A14_F','P_15A17_F','P_18A24_F','P_25A59_F','P_60YMAS_F']]\n",
    "#df_bymun_age_fem.to_csv(\"df_bymun_age_fem.csv\")"
   ]
  },
  {
   "cell_type": "code",
   "execution_count": 171,
   "metadata": {},
   "outputs": [],
   "source": [
    "#Masculina\n",
    "df_bymun_age_mas=df_bymun[['NOM_ENT_MUN','P_0A2_M','P_3A5_M','P_6A11_M','P_12A14_M','P_15A17_M','P_18A24_M','P_25A59_M','P_60YMAS_M']]\n",
    "#df_bymun_age_mas.to_csv(\"df_bymun_age_mas.csv\")"
   ]
  },
  {
   "cell_type": "code",
   "execution_count": null,
   "metadata": {},
   "outputs": [],
   "source": [
    "# checar el error en p25 a 59\n",
    "# dif  tabla fem - tabla mas\n",
    "# 1 % de segmento de edad / totpob\n",
    "# mismo pero fem\n",
    "#mismo pero mas\n",
    "#piramide interactiva. (5 años, 10 años)"
   ]
  },
  {
   "cell_type": "code",
   "execution_count": 173,
   "metadata": {},
   "outputs": [],
   "source": [
    "#by resident\n",
    "df_by_mun_resident=df_bymun[[\"NOM_ENT_MUN\",\"PNACENT\",\"PNACENT_F\",\"PNACENT_M\"]]\n",
    "df_by_mun_resident.to_csv(\"df_by_mun_resident.csv\")"
   ]
  },
  {
   "cell_type": "code",
   "execution_count": 186,
   "metadata": {},
   "outputs": [],
   "source": [
    "df_bymun[\"%_PNACENT\"]=df_bymun[\"PNACENT\"]/df_bymun[\"POBTOT\"]\n",
    "df_bymun[\"%_PNACENT_F\"]=df_bymun[\"PNACENT_F\"]/df_bymun[\"POBFEM\"]\n",
    "df_bymun[\"%_PNACENT_M\"]=df_bymun[\"PNACENT_M\"]/df_bymun[\"POBMAS\"]\n",
    "df_by_mun_resident_per=df_bymun[[\"NOM_ENT_MUN\",\"%_PNACENT\",\"%_PNACENT_F\",\"%_PNACENT_M\"]]\n",
    "#df_by_mun_resident_per.to_csv(\"df_by_mun_resident_per.csv\")"
   ]
  },
  {
   "cell_type": "code",
   "execution_count": 179,
   "metadata": {},
   "outputs": [
    {
     "name": "stderr",
     "output_type": "stream",
     "text": [
      "/Users/carlosalvarez/opt/anaconda3/lib/python3.8/site-packages/seaborn/distributions.py:2551: FutureWarning: `distplot` is a deprecated function and will be removed in a future version. Please adapt your code to use either `displot` (a figure-level function with similar flexibility) or `histplot` (an axes-level function for histograms).\n",
      "  warnings.warn(msg, FutureWarning)\n"
     ]
    },
    {
     "data": {
      "text/plain": [
       "<AxesSubplot:xlabel='POBTOT', ylabel='Density'>"
      ]
     },
     "execution_count": 179,
     "metadata": {},
     "output_type": "execute_result"
    },
    {
     "data": {
      "image/png": "[encoded data removed]",
      "text/plain": [
       "<Figure size 432x288 with 1 Axes>"
      ]
     },
     "metadata": {},
     "output_type": "display_data"
    }
   ],
   "source": [
    "sns.distplot(df_bymun.POBTOT)"
   ]
  },
  {
   "cell_type": "code",
   "execution_count": 180,
   "metadata": {},
   "outputs": [
    {
     "data": {
      "text/plain": [
       "<AxesSubplot:xlabel='POBTOT', ylabel='Density'>"
      ]
     },
     "execution_count": 180,
     "metadata": {},
     "output_type": "execute_result"
    },
    {
     "data": {
      "image/png": "[encoded data removed]",
      "text/plain": [
       "<Figure size 432x288 with 1 Axes>"
      ]
     },
     "metadata": {},
     "output_type": "display_data"
    }
   ],
   "source": [
    "sns.kdeplot(df_bymun.POBTOT)"
   ]
  },
  {
   "cell_type": "code",
   "execution_count": 182,
   "metadata": {},
   "outputs": [
    {
     "data": {
      "text/plain": [
       "(array([2.342e+03, 5.400e+01, 3.000e+01, 1.600e+01, 1.000e+01, 6.000e+00,\n",
       "        1.000e+00, 3.000e+00, 3.000e+00, 2.000e+00]),\n",
       " array([8.1000000e+01, 1.9232520e+05, 3.8456940e+05, 5.7681360e+05,\n",
       "        7.6905780e+05, 9.6130200e+05, 1.1535462e+06, 1.3457904e+06,\n",
       "        1.5380346e+06, 1.7302788e+06, 1.9225230e+06]),\n",
       " <BarContainer object of 10 artists>)"
      ]
     },
     "execution_count": 182,
     "metadata": {},
     "output_type": "execute_result"
    },
    {
     "data": {
      "image/png": "[encoded data removed]",
      "text/plain": [
       "<Figure size 432x288 with 1 Axes>"
      ]
     },
     "metadata": {},
     "output_type": "display_data"
    }
   ],
   "source": [
    "plt.hist(df_bymun.POBTOT, alpha=.3)\n"
   ]
  },
  {
   "cell_type": "code",
   "execution_count": 184,
   "metadata": {},
   "outputs": [
    {
     "name": "stderr",
     "output_type": "stream",
     "text": [
      "/Users/carlosalvarez/opt/anaconda3/lib/python3.8/site-packages/seaborn/_decorators.py:36: FutureWarning: Pass the following variable as a keyword arg: x. From version 0.12, the only valid positional argument will be `data`, and passing other arguments without an explicit keyword will result in an error or misinterpretation.\n",
      "  warnings.warn(\n"
     ]
    },
    {
     "data": {
      "text/plain": [
       "<AxesSubplot:xlabel='POBTOT'>"
      ]
     },
     "execution_count": 184,
     "metadata": {},
     "output_type": "execute_result"
    },
    {
     "data": {
      "image/png": "[encoded data removed]",
      "text/plain": [
       "<Figure size 432x288 with 1 Axes>"
      ]
     },
     "metadata": {},
     "output_type": "display_data"
    }
   ],
   "source": [
    "sns.boxplot(df_bymun.POBTOT)\n",
    "\n"
   ]
  },
  {
   "cell_type": "code",
   "execution_count": 185,
   "metadata": {},
   "outputs": [
    {
     "name": "stderr",
     "output_type": "stream",
     "text": [
      "/Users/carlosalvarez/opt/anaconda3/lib/python3.8/site-packages/seaborn/_decorators.py:36: FutureWarning: Pass the following variable as a keyword arg: x. From version 0.12, the only valid positional argument will be `data`, and passing other arguments without an explicit keyword will result in an error or misinterpretation.\n",
      "  warnings.warn(\n"
     ]
    },
    {
     "data": {
      "text/plain": [
       "<AxesSubplot:xlabel='POBTOT'>"
      ]
     },
     "execution_count": 185,
     "metadata": {},
     "output_type": "execute_result"
    },
    {
     "data": {
      "image/png": "[encoded data removed]",
      "text/plain": [
       "<Figure size 432x288 with 1 Axes>"
      ]
     },
     "metadata": {},
     "output_type": "display_data"
    }
   ],
   "source": [
    "sns.violinplot(df_bymun.POBTOT)"
   ]
  },
  {
   "cell_type": "code",
   "execution_count": null,
   "metadata": {},
   "outputs": [],
   "source": [
    "df_by_mun_resident_per"
   ]
  },
  {
   "cell_type": "code",
   "execution_count": null,
   "metadata": {},
   "outputs": [],
   "source": []
  }
 ],
 "metadata": {
  "kernelspec": {
   "display_name": "Python 3",
   "language": "python",
   "name": "python3"
  },
  "language_info": {
   "codemirror_mode": {
    "name": "ipython",
    "version": 3
   },
   "file_extension": ".py",
   "mimetype": "text/x-python",
   "name": "python",
   "nbconvert_exporter": "python",
   "pygments_lexer": "ipython3",
   "version": "3.8.5"
  }
 },
 "nbformat": 4,
 "nbformat_minor": 4
}
